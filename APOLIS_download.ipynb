{
 "cells": [
  {
   "cell_type": "markdown",
   "id": "8078ae04-0afd-4576-89d9-9207d738b280",
   "metadata": {},
   "source": [
    "# Introduction\n",
    "\n",
    "Example script for downloading SPARTACUS data.\n",
    "\n",
    "**Website only allows for 6 months to 1 year's worth of data to be downloaded at a time, depending on the size of the lat-lon box.**"
   ]
  },
  {
   "cell_type": "markdown",
   "id": "b3d7faaa-bcc1-43be-a3c5-c96efc35fee8",
   "metadata": {},
   "source": [
    "# Setup"
   ]
  },
  {
   "cell_type": "markdown",
   "id": "109eb99d-dc3f-4dcb-885f-fde6edc3adc1",
   "metadata": {},
   "source": [
    "## Modules"
   ]
  },
  {
   "cell_type": "code",
   "execution_count": 1,
   "id": "3ca8ae8c-bdc5-451c-82d6-97afc777dc58",
   "metadata": {},
   "outputs": [],
   "source": [
    "import datetime\n",
    "from pathlib import Path\n",
    "\n",
    "from ZAMGdatahub import data_download, query, utils"
   ]
  },
  {
   "cell_type": "code",
   "execution_count": 2,
   "id": "d89e764e-10ee-4a84-9ae4-81a98c82b15e",
   "metadata": {},
   "outputs": [
    {
     "data": {
      "text/plain": [
       "{'title': 'APOLIS DATASET (shorttime)',\n",
       " 'parameters': [{'name': 'DIR_hori_daysum_kWh',\n",
       "   'long_name': 'daily sum of direct radiation on the horizontal surface',\n",
       "   'desc': 'daily sum of direct radiation on the horizontal surface (0 UTC - 0 UTC)',\n",
       "   'unit': 'kW h m-2'},\n",
       "  {'name': 'DIR_real_daysum_kWh',\n",
       "   'long_name': 'daily sum of direct radiation on the real surface',\n",
       "   'desc': 'daily sum of direct radiation on the real surface (0 UTC - 0 UTC)',\n",
       "   'unit': 'kW h m-2'},\n",
       "  {'name': 'GLO_hori_daysum_kWh',\n",
       "   'long_name': 'daily sum of global radiation on the horizontal surface',\n",
       "   'desc': 'daily sum of global radiation on the horizontal surface (0 UTC - 0 UTC)',\n",
       "   'unit': 'kW h m-2'},\n",
       "  {'name': 'GLO_real_daysum_kWh',\n",
       "   'long_name': 'daily sum of global radiation on the real surface',\n",
       "   'desc': 'daily sum of global radiation on the real surface (0 UTC - 0 UTC)',\n",
       "   'unit': 'kW h m-2'},\n",
       "  {'name': 'HIM_daysum_kWh',\n",
       "   'long_name': 'daily sum of diffuse radiation',\n",
       "   'desc': 'daily sum of diffuse radiation (0 UTC - 0 UTC)',\n",
       "   'unit': 'kW h m-2'},\n",
       "  {'name': 'SSD_sum',\n",
       "   'long_name': 'daily sum of sunshine duration',\n",
       "   'desc': 'daily sum of sunshine duration (0 UTC - 0 UTC)',\n",
       "   'unit': 'h'}],\n",
       " 'frequency': '1D',\n",
       " 'type': 'grid',\n",
       " 'mode': 'historical',\n",
       " 'response_formats': ['geojson', 'netcdf'],\n",
       " 'start_time': '2006-01-01T00:00:00+00:00',\n",
       " 'end_time': '2022-05-30T00:00:00+00:00',\n",
       " 'bbox': [46.082310440896855,\n",
       "  9.212353182968545,\n",
       "  49.2983866998879,\n",
       "  17.452604362307536],\n",
       " 'spatial_resolution_m': 100}"
      ]
     },
     "execution_count": 2,
     "metadata": {},
     "output_type": "execute_result"
    }
   ],
   "source": [
    "query.DatasetType.APOLIS.getMetadata()"
   ]
  },
  {
   "cell_type": "markdown",
   "id": "fec3f4ac-c94e-462f-9190-17c371613f65",
   "metadata": {},
   "source": [
    "## Global variables"
   ]
  },
  {
   "cell_type": "code",
   "execution_count": 12,
   "id": "a31001cd-6695-476c-a642-fa7526452dac",
   "metadata": {},
   "outputs": [
    {
     "data": {
      "text/plain": [
       "'2022-05-31T17:18'"
      ]
     },
     "execution_count": 12,
     "metadata": {},
     "output_type": "execute_result"
    }
   ],
   "source": [
    "ODIR = \"/home/skalevag/Documents/NRC_P8_water_energy_and_sediment/data/radiation/grids/APOLIS\"\n",
    "\n",
    "ODIR = Path(ODIR)\n",
    "\n",
    "if not ODIR.is_dir():\n",
    "    ODIR.mkdir(parents=True)\n",
    "\n",
    "# variable\n",
    "params = ['DIR_hori_daysum_kWh',\"GLO_hori_daysum_kWh\"] \n",
    "\n",
    "maxDays = 10\n",
    "\n",
    "overwrite = False\n",
    "overwriteMerge = False\n",
    "verbose = True\n",
    "\n",
    "datetimeformat = \"%Y-%m-%dT%H:%M\"\n",
    "start = \"2006-01-01T00:00\"\n",
    "end = datetime.datetime.now().strftime(datetimeformat)"
   ]
  },
  {
   "cell_type": "code",
   "execution_count": 4,
   "id": "ac3751d1-2c00-4523-b3f9-6b5320080928",
   "metadata": {},
   "outputs": [
    {
     "name": "stdout",
     "output_type": "stream",
     "text": [
      "LOCATION: oetztal\n",
      "COORDINATES: latitude: 46.6 ... 47.3 ; longitude 10.5 ... 11.4\n",
      "\n",
      "LOCATION: tirol\n",
      "COORDINATES: latitude: 46.77 ... 47.71 ; longitude 9.53 ... 13.51\n",
      "\n",
      "LOCATION: obergurgl\n",
      "COORDINATES: latitude: 46.8703 ; longitude 11.0269\n",
      "\n",
      "DatasetType.APOLIS\n"
     ]
    }
   ],
   "source": [
    "# gridbox for Ötztal area\n",
    "gridbox_oetz = query.LatLonBox(\n",
    "    label=\"oetztal\", lat_min=46.6, lat_max=47.3, lon_min=10.5, lon_max=11.4\n",
    ")\n",
    "print(gridbox_oetz)\n",
    "print()\n",
    "\n",
    "# gridbox for all Tirol\n",
    "gridbox_tirol = query.LatLonBox(\n",
    "    label=\"tirol\", lat_min=46.77, lat_max=47.71, lon_min=9.53, lon_max=13.51\n",
    ")\n",
    "print(gridbox_tirol)\n",
    "print()\n",
    "\n",
    "# point location\n",
    "loc_obergurgl = query.LatLonLocation(\"obergurgl\", 46.8703, 11.0269)\n",
    "print(loc_obergurgl)\n",
    "print()\n",
    "\n",
    "# dataset type\n",
    "dataset = query.DatasetType.APOLIS\n",
    "print(dataset)"
   ]
  },
  {
   "cell_type": "markdown",
   "id": "4a0556e1-be25-4ff9-9c77-f1699a9e109e",
   "metadata": {},
   "source": [
    "## Make query"
   ]
  },
  {
   "cell_type": "code",
   "execution_count": 5,
   "id": "ae5e2f3e-36ee-4ea3-8143-dfee990c7391",
   "metadata": {},
   "outputs": [
    {
     "name": "stdout",
     "output_type": "stream",
     "text": [
      "ZAMGdatahubQuery for download of APOLIS with parameters DIR_hori_daysum_kWh,GLO_hori_daysum_kWh. \n",
      "params: ['DIR_hori_daysum_kWh', 'GLO_hori_daysum_kWh']\n",
      "dataset: DatasetType.APOLIS\n",
      "location_label: oetztal\n",
      "output_filename_head: apolis_short-v1-1d-100m\n",
      "output_format: netcdf\n",
      "lat_min: 46.6\n",
      "lat_max: 47.3\n",
      "lon_min: 10.5\n",
      "lon_max: 11.4\n"
     ]
    }
   ],
   "source": [
    "myQuery = query.RasterQuery(dataset, params, gridbox=gridbox_oetz)\n",
    "\n",
    "print(myQuery)"
   ]
  },
  {
   "cell_type": "markdown",
   "id": "a435c452-2cb1-49c8-b609-fd1257fbccfa",
   "metadata": {},
   "source": [
    "## Save/Load query to/from file"
   ]
  },
  {
   "cell_type": "code",
   "execution_count": 6,
   "id": "2e838567-d617-4b9e-a4c7-9cd84a53b87c",
   "metadata": {},
   "outputs": [
    {
     "name": "stdout",
     "output_type": "stream",
     "text": [
      "Query saved to \"./APOLIS_query_oetztal.txt\"\n"
     ]
    }
   ],
   "source": [
    "myQuery.saveQuery()"
   ]
  },
  {
   "cell_type": "code",
   "execution_count": 7,
   "id": "b8c4b6f8-ebaf-4b5a-a926-5ce7a932f44e",
   "metadata": {},
   "outputs": [
    {
     "name": "stdout",
     "output_type": "stream",
     "text": [
      "ZAMGdatahubQuery for download of APOLIS with parameters DIR_hori_daysum_kWh,GLO_hori_daysum_kWh. \n",
      "params: ['DIR_hori_daysum_kWh', 'GLO_hori_daysum_kWh']\n",
      "dataset: DatasetType.APOLIS\n",
      "location_label: oetztal\n",
      "output_filename_head: apolis_short-v1-1d-100m\n",
      "output_format: netcdf\n",
      "lat_min: 46.6\n",
      "lat_max: 47.3\n",
      "lon_min: 10.5\n",
      "lon_max: 11.4\n"
     ]
    }
   ],
   "source": [
    "print(query.loadQuery(\"./APOLIS_query_oetztal.txt\"))"
   ]
  },
  {
   "cell_type": "markdown",
   "id": "233f91c0-1420-488b-8832-68a23c020ff0",
   "metadata": {},
   "source": [
    "# Download gridbox"
   ]
  },
  {
   "cell_type": "code",
   "execution_count": 16,
   "id": "69fbb109-6e73-4d04-8fbb-9fdb3887545e",
   "metadata": {},
   "outputs": [
    {
     "name": "stdout",
     "output_type": "stream",
     "text": [
      "Starting download of apolis_short-v1-1d-100m_DIR_hori_daysum_kWh,GLO_hori_daysum_kWh_oetztal_20060101T0000-20060106T0000.nc\n",
      "apolis_short-v1-1d-100m_DIR_hori_daysum_kWh,GLO_hori_daysum_kWh_oetztal_20060101T0000-20060106T0000.nc was downloaded.\n",
      "Starting download of apolis_short-v1-1d-100m_DIR_hori_daysum_kWh,GLO_hori_daysum_kWh_oetztal_20060106T0000-20060111T0000.nc\n",
      "apolis_short-v1-1d-100m_DIR_hori_daysum_kWh,GLO_hori_daysum_kWh_oetztal_20060106T0000-20060111T0000.nc was downloaded.\n",
      "Starting download of apolis_short-v1-1d-100m_DIR_hori_daysum_kWh,GLO_hori_daysum_kWh_oetztal_20060111T0000-20060116T0000.nc\n",
      "apolis_short-v1-1d-100m_DIR_hori_daysum_kWh,GLO_hori_daysum_kWh_oetztal_20060111T0000-20060116T0000.nc was downloaded.\n",
      "Starting download of apolis_short-v1-1d-100m_DIR_hori_daysum_kWh,GLO_hori_daysum_kWh_oetztal_20060116T0000-20060121T0000.nc\n",
      "apolis_short-v1-1d-100m_DIR_hori_daysum_kWh,GLO_hori_daysum_kWh_oetztal_20060116T0000-20060121T0000.nc was downloaded.\n",
      "Starting download of apolis_short-v1-1d-100m_DIR_hori_daysum_kWh,GLO_hori_daysum_kWh_oetztal_20060121T0000-20060126T0000.nc\n",
      "apolis_short-v1-1d-100m_DIR_hori_daysum_kWh,GLO_hori_daysum_kWh_oetztal_20060121T0000-20060126T0000.nc was downloaded.\n",
      "Starting download of apolis_short-v1-1d-100m_DIR_hori_daysum_kWh,GLO_hori_daysum_kWh_oetztal_20060126T0000-20060131T0000.nc\n",
      "apolis_short-v1-1d-100m_DIR_hori_daysum_kWh,GLO_hori_daysum_kWh_oetztal_20060126T0000-20060131T0000.nc was downloaded.\n",
      "Starting download of apolis_short-v1-1d-100m_DIR_hori_daysum_kWh,GLO_hori_daysum_kWh_oetztal_20060131T0000-20060205T0000.nc\n",
      "apolis_short-v1-1d-100m_DIR_hori_daysum_kWh,GLO_hori_daysum_kWh_oetztal_20060131T0000-20060205T0000.nc was downloaded.\n",
      "Starting download of apolis_short-v1-1d-100m_DIR_hori_daysum_kWh,GLO_hori_daysum_kWh_oetztal_20060205T0000-20060210T0000.nc\n",
      "apolis_short-v1-1d-100m_DIR_hori_daysum_kWh,GLO_hori_daysum_kWh_oetztal_20060205T0000-20060210T0000.nc was downloaded.\n",
      "Starting download of apolis_short-v1-1d-100m_DIR_hori_daysum_kWh,GLO_hori_daysum_kWh_oetztal_20060210T0000-20060215T0000.nc\n",
      "apolis_short-v1-1d-100m_DIR_hori_daysum_kWh,GLO_hori_daysum_kWh_oetztal_20060210T0000-20060215T0000.nc was downloaded.\n",
      "Starting download of apolis_short-v1-1d-100m_DIR_hori_daysum_kWh,GLO_hori_daysum_kWh_oetztal_20060215T0000-20060220T0000.nc\n",
      "apolis_short-v1-1d-100m_DIR_hori_daysum_kWh,GLO_hori_daysum_kWh_oetztal_20060215T0000-20060220T0000.nc was downloaded.\n",
      "Starting download of apolis_short-v1-1d-100m_DIR_hori_daysum_kWh,GLO_hori_daysum_kWh_oetztal_20060220T0000-20060225T0000.nc\n",
      "apolis_short-v1-1d-100m_DIR_hori_daysum_kWh,GLO_hori_daysum_kWh_oetztal_20060220T0000-20060225T0000.nc was downloaded.\n",
      "Starting download of apolis_short-v1-1d-100m_DIR_hori_daysum_kWh,GLO_hori_daysum_kWh_oetztal_20060225T0000-20060302T0000.nc\n",
      "apolis_short-v1-1d-100m_DIR_hori_daysum_kWh,GLO_hori_daysum_kWh_oetztal_20060225T0000-20060302T0000.nc was downloaded.\n",
      "Starting download of apolis_short-v1-1d-100m_DIR_hori_daysum_kWh,GLO_hori_daysum_kWh_oetztal_20060302T0000-20060307T0000.nc\n",
      "apolis_short-v1-1d-100m_DIR_hori_daysum_kWh,GLO_hori_daysum_kWh_oetztal_20060302T0000-20060307T0000.nc was downloaded.\n",
      "Starting download of apolis_short-v1-1d-100m_DIR_hori_daysum_kWh,GLO_hori_daysum_kWh_oetztal_20060307T0000-20060312T0000.nc\n",
      "apolis_short-v1-1d-100m_DIR_hori_daysum_kWh,GLO_hori_daysum_kWh_oetztal_20060307T0000-20060312T0000.nc was downloaded.\n",
      "Starting download of apolis_short-v1-1d-100m_DIR_hori_daysum_kWh,GLO_hori_daysum_kWh_oetztal_20060312T0000-20060317T0000.nc\n",
      "apolis_short-v1-1d-100m_DIR_hori_daysum_kWh,GLO_hori_daysum_kWh_oetztal_20060312T0000-20060317T0000.nc was downloaded.\n",
      "Starting download of apolis_short-v1-1d-100m_DIR_hori_daysum_kWh,GLO_hori_daysum_kWh_oetztal_20060317T0000-20060322T0000.nc\n",
      "apolis_short-v1-1d-100m_DIR_hori_daysum_kWh,GLO_hori_daysum_kWh_oetztal_20060317T0000-20060322T0000.nc was downloaded.\n",
      "Starting download of apolis_short-v1-1d-100m_DIR_hori_daysum_kWh,GLO_hori_daysum_kWh_oetztal_20060322T0000-20060327T0000.nc\n",
      "apolis_short-v1-1d-100m_DIR_hori_daysum_kWh,GLO_hori_daysum_kWh_oetztal_20060322T0000-20060327T0000.nc was downloaded.\n",
      "Starting download of apolis_short-v1-1d-100m_DIR_hori_daysum_kWh,GLO_hori_daysum_kWh_oetztal_20060327T0000-20060401T0000.nc\n",
      "apolis_short-v1-1d-100m_DIR_hori_daysum_kWh,GLO_hori_daysum_kWh_oetztal_20060327T0000-20060401T0000.nc was downloaded.\n",
      "Starting download of apolis_short-v1-1d-100m_DIR_hori_daysum_kWh,GLO_hori_daysum_kWh_oetztal_20060401T0000-20060406T0000.nc\n",
      "apolis_short-v1-1d-100m_DIR_hori_daysum_kWh,GLO_hori_daysum_kWh_oetztal_20060401T0000-20060406T0000.nc was downloaded.\n",
      "Starting download of apolis_short-v1-1d-100m_DIR_hori_daysum_kWh,GLO_hori_daysum_kWh_oetztal_20060406T0000-20060411T0000.nc\n",
      "apolis_short-v1-1d-100m_DIR_hori_daysum_kWh,GLO_hori_daysum_kWh_oetztal_20060406T0000-20060411T0000.nc was downloaded.\n",
      "Starting download of apolis_short-v1-1d-100m_DIR_hori_daysum_kWh,GLO_hori_daysum_kWh_oetztal_20060411T0000-20060416T0000.nc\n",
      "apolis_short-v1-1d-100m_DIR_hori_daysum_kWh,GLO_hori_daysum_kWh_oetztal_20060411T0000-20060416T0000.nc was downloaded.\n",
      "Starting download of apolis_short-v1-1d-100m_DIR_hori_daysum_kWh,GLO_hori_daysum_kWh_oetztal_20060416T0000-20060421T0000.nc\n",
      "apolis_short-v1-1d-100m_DIR_hori_daysum_kWh,GLO_hori_daysum_kWh_oetztal_20060416T0000-20060421T0000.nc was downloaded.\n",
      "Starting download of apolis_short-v1-1d-100m_DIR_hori_daysum_kWh,GLO_hori_daysum_kWh_oetztal_20060421T0000-20060426T0000.nc\n",
      "apolis_short-v1-1d-100m_DIR_hori_daysum_kWh,GLO_hori_daysum_kWh_oetztal_20060421T0000-20060426T0000.nc was downloaded.\n",
      "Starting download of apolis_short-v1-1d-100m_DIR_hori_daysum_kWh,GLO_hori_daysum_kWh_oetztal_20060426T0000-20060501T0000.nc\n",
      "apolis_short-v1-1d-100m_DIR_hori_daysum_kWh,GLO_hori_daysum_kWh_oetztal_20060426T0000-20060501T0000.nc was downloaded.\n",
      "Starting download of apolis_short-v1-1d-100m_DIR_hori_daysum_kWh,GLO_hori_daysum_kWh_oetztal_20060501T0000-20060506T0000.nc\n",
      "apolis_short-v1-1d-100m_DIR_hori_daysum_kWh,GLO_hori_daysum_kWh_oetztal_20060501T0000-20060506T0000.nc was downloaded.\n",
      "Starting download of apolis_short-v1-1d-100m_DIR_hori_daysum_kWh,GLO_hori_daysum_kWh_oetztal_20060506T0000-20060511T0000.nc\n",
      "apolis_short-v1-1d-100m_DIR_hori_daysum_kWh,GLO_hori_daysum_kWh_oetztal_20060506T0000-20060511T0000.nc was downloaded.\n",
      "Starting download of apolis_short-v1-1d-100m_DIR_hori_daysum_kWh,GLO_hori_daysum_kWh_oetztal_20060511T0000-20060516T0000.nc\n",
      "apolis_short-v1-1d-100m_DIR_hori_daysum_kWh,GLO_hori_daysum_kWh_oetztal_20060511T0000-20060516T0000.nc was downloaded.\n",
      "Starting download of apolis_short-v1-1d-100m_DIR_hori_daysum_kWh,GLO_hori_daysum_kWh_oetztal_20060516T0000-20060521T0000.nc\n",
      "apolis_short-v1-1d-100m_DIR_hori_daysum_kWh,GLO_hori_daysum_kWh_oetztal_20060516T0000-20060521T0000.nc was downloaded.\n",
      "Starting download of apolis_short-v1-1d-100m_DIR_hori_daysum_kWh,GLO_hori_daysum_kWh_oetztal_20060521T0000-20060526T0000.nc\n",
      "apolis_short-v1-1d-100m_DIR_hori_daysum_kWh,GLO_hori_daysum_kWh_oetztal_20060521T0000-20060526T0000.nc was downloaded.\n",
      "Starting download of apolis_short-v1-1d-100m_DIR_hori_daysum_kWh,GLO_hori_daysum_kWh_oetztal_20060526T0000-20060531T0000.nc\n",
      "apolis_short-v1-1d-100m_DIR_hori_daysum_kWh,GLO_hori_daysum_kWh_oetztal_20060526T0000-20060531T0000.nc was downloaded.\n",
      "Starting download of apolis_short-v1-1d-100m_DIR_hori_daysum_kWh,GLO_hori_daysum_kWh_oetztal_20060531T0000-20060605T0000.nc\n",
      "apolis_short-v1-1d-100m_DIR_hori_daysum_kWh,GLO_hori_daysum_kWh_oetztal_20060531T0000-20060605T0000.nc was downloaded.\n",
      "Starting download of apolis_short-v1-1d-100m_DIR_hori_daysum_kWh,GLO_hori_daysum_kWh_oetztal_20060605T0000-20060610T0000.nc\n",
      "apolis_short-v1-1d-100m_DIR_hori_daysum_kWh,GLO_hori_daysum_kWh_oetztal_20060605T0000-20060610T0000.nc was downloaded.\n",
      "Starting download of apolis_short-v1-1d-100m_DIR_hori_daysum_kWh,GLO_hori_daysum_kWh_oetztal_20060610T0000-20060615T0000.nc\n",
      "apolis_short-v1-1d-100m_DIR_hori_daysum_kWh,GLO_hori_daysum_kWh_oetztal_20060610T0000-20060615T0000.nc was downloaded.\n",
      "Starting download of apolis_short-v1-1d-100m_DIR_hori_daysum_kWh,GLO_hori_daysum_kWh_oetztal_20060615T0000-20060620T0000.nc\n",
      "apolis_short-v1-1d-100m_DIR_hori_daysum_kWh,GLO_hori_daysum_kWh_oetztal_20060615T0000-20060620T0000.nc was downloaded.\n",
      "Starting download of apolis_short-v1-1d-100m_DIR_hori_daysum_kWh,GLO_hori_daysum_kWh_oetztal_20060620T0000-20060625T0000.nc\n",
      "apolis_short-v1-1d-100m_DIR_hori_daysum_kWh,GLO_hori_daysum_kWh_oetztal_20060620T0000-20060625T0000.nc was downloaded.\n",
      "Starting download of apolis_short-v1-1d-100m_DIR_hori_daysum_kWh,GLO_hori_daysum_kWh_oetztal_20060625T0000-20060630T0000.nc\n",
      "apolis_short-v1-1d-100m_DIR_hori_daysum_kWh,GLO_hori_daysum_kWh_oetztal_20060625T0000-20060630T0000.nc was downloaded.\n",
      "Starting download of apolis_short-v1-1d-100m_DIR_hori_daysum_kWh,GLO_hori_daysum_kWh_oetztal_20060630T0000-20060705T0000.nc\n",
      "apolis_short-v1-1d-100m_DIR_hori_daysum_kWh,GLO_hori_daysum_kWh_oetztal_20060630T0000-20060705T0000.nc was downloaded.\n",
      "Starting download of apolis_short-v1-1d-100m_DIR_hori_daysum_kWh,GLO_hori_daysum_kWh_oetztal_20060705T0000-20060710T0000.nc\n",
      "apolis_short-v1-1d-100m_DIR_hori_daysum_kWh,GLO_hori_daysum_kWh_oetztal_20060705T0000-20060710T0000.nc was downloaded.\n",
      "Starting download of apolis_short-v1-1d-100m_DIR_hori_daysum_kWh,GLO_hori_daysum_kWh_oetztal_20060710T0000-20060715T0000.nc\n",
      "apolis_short-v1-1d-100m_DIR_hori_daysum_kWh,GLO_hori_daysum_kWh_oetztal_20060710T0000-20060715T0000.nc was downloaded.\n",
      "Starting download of apolis_short-v1-1d-100m_DIR_hori_daysum_kWh,GLO_hori_daysum_kWh_oetztal_20060715T0000-20060720T0000.nc\n",
      "apolis_short-v1-1d-100m_DIR_hori_daysum_kWh,GLO_hori_daysum_kWh_oetztal_20060715T0000-20060720T0000.nc was downloaded.\n",
      "Starting download of apolis_short-v1-1d-100m_DIR_hori_daysum_kWh,GLO_hori_daysum_kWh_oetztal_20060720T0000-20060725T0000.nc\n",
      "apolis_short-v1-1d-100m_DIR_hori_daysum_kWh,GLO_hori_daysum_kWh_oetztal_20060720T0000-20060725T0000.nc was downloaded.\n",
      "Starting download of apolis_short-v1-1d-100m_DIR_hori_daysum_kWh,GLO_hori_daysum_kWh_oetztal_20060725T0000-20060730T0000.nc\n",
      "apolis_short-v1-1d-100m_DIR_hori_daysum_kWh,GLO_hori_daysum_kWh_oetztal_20060725T0000-20060730T0000.nc was downloaded.\n",
      "Starting download of apolis_short-v1-1d-100m_DIR_hori_daysum_kWh,GLO_hori_daysum_kWh_oetztal_20060730T0000-20060804T0000.nc\n",
      "apolis_short-v1-1d-100m_DIR_hori_daysum_kWh,GLO_hori_daysum_kWh_oetztal_20060730T0000-20060804T0000.nc was downloaded.\n",
      "Starting download of apolis_short-v1-1d-100m_DIR_hori_daysum_kWh,GLO_hori_daysum_kWh_oetztal_20060804T0000-20060809T0000.nc\n",
      "apolis_short-v1-1d-100m_DIR_hori_daysum_kWh,GLO_hori_daysum_kWh_oetztal_20060804T0000-20060809T0000.nc was downloaded.\n",
      "Starting download of apolis_short-v1-1d-100m_DIR_hori_daysum_kWh,GLO_hori_daysum_kWh_oetztal_20060809T0000-20060814T0000.nc\n",
      "apolis_short-v1-1d-100m_DIR_hori_daysum_kWh,GLO_hori_daysum_kWh_oetztal_20060809T0000-20060814T0000.nc was downloaded.\n",
      "Starting download of apolis_short-v1-1d-100m_DIR_hori_daysum_kWh,GLO_hori_daysum_kWh_oetztal_20060814T0000-20060819T0000.nc\n",
      "apolis_short-v1-1d-100m_DIR_hori_daysum_kWh,GLO_hori_daysum_kWh_oetztal_20060814T0000-20060819T0000.nc was downloaded.\n",
      "Starting download of apolis_short-v1-1d-100m_DIR_hori_daysum_kWh,GLO_hori_daysum_kWh_oetztal_20060819T0000-20060824T0000.nc\n",
      "apolis_short-v1-1d-100m_DIR_hori_daysum_kWh,GLO_hori_daysum_kWh_oetztal_20060819T0000-20060824T0000.nc was downloaded.\n",
      "Starting download of apolis_short-v1-1d-100m_DIR_hori_daysum_kWh,GLO_hori_daysum_kWh_oetztal_20060824T0000-20060829T0000.nc\n",
      "apolis_short-v1-1d-100m_DIR_hori_daysum_kWh,GLO_hori_daysum_kWh_oetztal_20060824T0000-20060829T0000.nc was downloaded.\n",
      "Starting download of apolis_short-v1-1d-100m_DIR_hori_daysum_kWh,GLO_hori_daysum_kWh_oetztal_20060829T0000-20060903T0000.nc\n",
      "apolis_short-v1-1d-100m_DIR_hori_daysum_kWh,GLO_hori_daysum_kWh_oetztal_20060829T0000-20060903T0000.nc was downloaded.\n",
      "Starting download of apolis_short-v1-1d-100m_DIR_hori_daysum_kWh,GLO_hori_daysum_kWh_oetztal_20060903T0000-20060908T0000.nc\n",
      "apolis_short-v1-1d-100m_DIR_hori_daysum_kWh,GLO_hori_daysum_kWh_oetztal_20060903T0000-20060908T0000.nc was downloaded.\n",
      "Starting download of apolis_short-v1-1d-100m_DIR_hori_daysum_kWh,GLO_hori_daysum_kWh_oetztal_20060908T0000-20060913T0000.nc\n",
      "apolis_short-v1-1d-100m_DIR_hori_daysum_kWh,GLO_hori_daysum_kWh_oetztal_20060908T0000-20060913T0000.nc was downloaded.\n",
      "Starting download of apolis_short-v1-1d-100m_DIR_hori_daysum_kWh,GLO_hori_daysum_kWh_oetztal_20060913T0000-20060918T0000.nc\n",
      "apolis_short-v1-1d-100m_DIR_hori_daysum_kWh,GLO_hori_daysum_kWh_oetztal_20060913T0000-20060918T0000.nc was downloaded.\n",
      "Starting download of apolis_short-v1-1d-100m_DIR_hori_daysum_kWh,GLO_hori_daysum_kWh_oetztal_20060918T0000-20060923T0000.nc\n",
      "apolis_short-v1-1d-100m_DIR_hori_daysum_kWh,GLO_hori_daysum_kWh_oetztal_20060918T0000-20060923T0000.nc was downloaded.\n",
      "Starting download of apolis_short-v1-1d-100m_DIR_hori_daysum_kWh,GLO_hori_daysum_kWh_oetztal_20060923T0000-20060928T0000.nc\n",
      "apolis_short-v1-1d-100m_DIR_hori_daysum_kWh,GLO_hori_daysum_kWh_oetztal_20060923T0000-20060928T0000.nc was downloaded.\n",
      "Starting download of apolis_short-v1-1d-100m_DIR_hori_daysum_kWh,GLO_hori_daysum_kWh_oetztal_20060928T0000-20061003T0000.nc\n",
      "apolis_short-v1-1d-100m_DIR_hori_daysum_kWh,GLO_hori_daysum_kWh_oetztal_20060928T0000-20061003T0000.nc was downloaded.\n",
      "Starting download of apolis_short-v1-1d-100m_DIR_hori_daysum_kWh,GLO_hori_daysum_kWh_oetztal_20061003T0000-20061008T0000.nc\n",
      "apolis_short-v1-1d-100m_DIR_hori_daysum_kWh,GLO_hori_daysum_kWh_oetztal_20061003T0000-20061008T0000.nc was downloaded.\n",
      "Starting download of apolis_short-v1-1d-100m_DIR_hori_daysum_kWh,GLO_hori_daysum_kWh_oetztal_20061008T0000-20061013T0000.nc\n",
      "apolis_short-v1-1d-100m_DIR_hori_daysum_kWh,GLO_hori_daysum_kWh_oetztal_20061008T0000-20061013T0000.nc was downloaded.\n",
      "Starting download of apolis_short-v1-1d-100m_DIR_hori_daysum_kWh,GLO_hori_daysum_kWh_oetztal_20061013T0000-20061018T0000.nc\n",
      "apolis_short-v1-1d-100m_DIR_hori_daysum_kWh,GLO_hori_daysum_kWh_oetztal_20061013T0000-20061018T0000.nc was downloaded.\n",
      "Starting download of apolis_short-v1-1d-100m_DIR_hori_daysum_kWh,GLO_hori_daysum_kWh_oetztal_20061018T0000-20061023T0000.nc\n",
      "apolis_short-v1-1d-100m_DIR_hori_daysum_kWh,GLO_hori_daysum_kWh_oetztal_20061018T0000-20061023T0000.nc was downloaded.\n",
      "Starting download of apolis_short-v1-1d-100m_DIR_hori_daysum_kWh,GLO_hori_daysum_kWh_oetztal_20061023T0000-20061028T0000.nc\n",
      "apolis_short-v1-1d-100m_DIR_hori_daysum_kWh,GLO_hori_daysum_kWh_oetztal_20061023T0000-20061028T0000.nc was downloaded.\n",
      "Starting download of apolis_short-v1-1d-100m_DIR_hori_daysum_kWh,GLO_hori_daysum_kWh_oetztal_20061028T0000-20061102T0000.nc\n",
      "apolis_short-v1-1d-100m_DIR_hori_daysum_kWh,GLO_hori_daysum_kWh_oetztal_20061028T0000-20061102T0000.nc was downloaded.\n",
      "Starting download of apolis_short-v1-1d-100m_DIR_hori_daysum_kWh,GLO_hori_daysum_kWh_oetztal_20061102T0000-20061107T0000.nc\n",
      "apolis_short-v1-1d-100m_DIR_hori_daysum_kWh,GLO_hori_daysum_kWh_oetztal_20061102T0000-20061107T0000.nc was downloaded.\n",
      "Starting download of apolis_short-v1-1d-100m_DIR_hori_daysum_kWh,GLO_hori_daysum_kWh_oetztal_20061107T0000-20061112T0000.nc\n",
      "apolis_short-v1-1d-100m_DIR_hori_daysum_kWh,GLO_hori_daysum_kWh_oetztal_20061107T0000-20061112T0000.nc was downloaded.\n",
      "Starting download of apolis_short-v1-1d-100m_DIR_hori_daysum_kWh,GLO_hori_daysum_kWh_oetztal_20061112T0000-20061117T0000.nc\n",
      "apolis_short-v1-1d-100m_DIR_hori_daysum_kWh,GLO_hori_daysum_kWh_oetztal_20061112T0000-20061117T0000.nc was downloaded.\n",
      "Starting download of apolis_short-v1-1d-100m_DIR_hori_daysum_kWh,GLO_hori_daysum_kWh_oetztal_20061117T0000-20061122T0000.nc\n",
      "apolis_short-v1-1d-100m_DIR_hori_daysum_kWh,GLO_hori_daysum_kWh_oetztal_20061117T0000-20061122T0000.nc was downloaded.\n",
      "Starting download of apolis_short-v1-1d-100m_DIR_hori_daysum_kWh,GLO_hori_daysum_kWh_oetztal_20061122T0000-20061127T0000.nc\n",
      "apolis_short-v1-1d-100m_DIR_hori_daysum_kWh,GLO_hori_daysum_kWh_oetztal_20061122T0000-20061127T0000.nc was downloaded.\n",
      "Starting download of apolis_short-v1-1d-100m_DIR_hori_daysum_kWh,GLO_hori_daysum_kWh_oetztal_20061127T0000-20061202T0000.nc\n",
      "apolis_short-v1-1d-100m_DIR_hori_daysum_kWh,GLO_hori_daysum_kWh_oetztal_20061127T0000-20061202T0000.nc was downloaded.\n",
      "Starting download of apolis_short-v1-1d-100m_DIR_hori_daysum_kWh,GLO_hori_daysum_kWh_oetztal_20061202T0000-20061207T0000.nc\n",
      "apolis_short-v1-1d-100m_DIR_hori_daysum_kWh,GLO_hori_daysum_kWh_oetztal_20061202T0000-20061207T0000.nc was downloaded.\n",
      "Starting download of apolis_short-v1-1d-100m_DIR_hori_daysum_kWh,GLO_hori_daysum_kWh_oetztal_20061207T0000-20061212T0000.nc\n",
      "apolis_short-v1-1d-100m_DIR_hori_daysum_kWh,GLO_hori_daysum_kWh_oetztal_20061207T0000-20061212T0000.nc was downloaded.\n",
      "Starting download of apolis_short-v1-1d-100m_DIR_hori_daysum_kWh,GLO_hori_daysum_kWh_oetztal_20061212T0000-20061217T0000.nc\n",
      "apolis_short-v1-1d-100m_DIR_hori_daysum_kWh,GLO_hori_daysum_kWh_oetztal_20061212T0000-20061217T0000.nc was downloaded.\n",
      "Starting download of apolis_short-v1-1d-100m_DIR_hori_daysum_kWh,GLO_hori_daysum_kWh_oetztal_20061217T0000-20061222T0000.nc\n",
      "apolis_short-v1-1d-100m_DIR_hori_daysum_kWh,GLO_hori_daysum_kWh_oetztal_20061217T0000-20061222T0000.nc was downloaded.\n",
      "Starting download of apolis_short-v1-1d-100m_DIR_hori_daysum_kWh,GLO_hori_daysum_kWh_oetztal_20061222T0000-20061227T0000.nc\n",
      "apolis_short-v1-1d-100m_DIR_hori_daysum_kWh,GLO_hori_daysum_kWh_oetztal_20061222T0000-20061227T0000.nc was downloaded.\n",
      "Starting download of apolis_short-v1-1d-100m_DIR_hori_daysum_kWh,GLO_hori_daysum_kWh_oetztal_20061227T0000-20070101T0000.nc\n",
      "apolis_short-v1-1d-100m_DIR_hori_daysum_kWh,GLO_hori_daysum_kWh_oetztal_20061227T0000-20070101T0000.nc was downloaded.\n",
      "Starting download of apolis_short-v1-1d-100m_DIR_hori_daysum_kWh,GLO_hori_daysum_kWh_oetztal_20070101T0000-20070106T0000.nc\n",
      "apolis_short-v1-1d-100m_DIR_hori_daysum_kWh,GLO_hori_daysum_kWh_oetztal_20070101T0000-20070106T0000.nc was downloaded.\n",
      "Starting download of apolis_short-v1-1d-100m_DIR_hori_daysum_kWh,GLO_hori_daysum_kWh_oetztal_20070106T0000-20070111T0000.nc\n",
      "apolis_short-v1-1d-100m_DIR_hori_daysum_kWh,GLO_hori_daysum_kWh_oetztal_20070106T0000-20070111T0000.nc was downloaded.\n",
      "Starting download of apolis_short-v1-1d-100m_DIR_hori_daysum_kWh,GLO_hori_daysum_kWh_oetztal_20070111T0000-20070116T0000.nc\n",
      "apolis_short-v1-1d-100m_DIR_hori_daysum_kWh,GLO_hori_daysum_kWh_oetztal_20070111T0000-20070116T0000.nc was downloaded.\n",
      "Starting download of apolis_short-v1-1d-100m_DIR_hori_daysum_kWh,GLO_hori_daysum_kWh_oetztal_20070116T0000-20070121T0000.nc\n",
      "apolis_short-v1-1d-100m_DIR_hori_daysum_kWh,GLO_hori_daysum_kWh_oetztal_20070116T0000-20070121T0000.nc was downloaded.\n",
      "Starting download of apolis_short-v1-1d-100m_DIR_hori_daysum_kWh,GLO_hori_daysum_kWh_oetztal_20070121T0000-20070126T0000.nc\n",
      "apolis_short-v1-1d-100m_DIR_hori_daysum_kWh,GLO_hori_daysum_kWh_oetztal_20070121T0000-20070126T0000.nc was downloaded.\n",
      "Starting download of apolis_short-v1-1d-100m_DIR_hori_daysum_kWh,GLO_hori_daysum_kWh_oetztal_20070126T0000-20070131T0000.nc\n",
      "apolis_short-v1-1d-100m_DIR_hori_daysum_kWh,GLO_hori_daysum_kWh_oetztal_20070126T0000-20070131T0000.nc was downloaded.\n",
      "Starting download of apolis_short-v1-1d-100m_DIR_hori_daysum_kWh,GLO_hori_daysum_kWh_oetztal_20070131T0000-20070205T0000.nc\n",
      "apolis_short-v1-1d-100m_DIR_hori_daysum_kWh,GLO_hori_daysum_kWh_oetztal_20070131T0000-20070205T0000.nc was downloaded.\n",
      "Starting download of apolis_short-v1-1d-100m_DIR_hori_daysum_kWh,GLO_hori_daysum_kWh_oetztal_20070205T0000-20070210T0000.nc\n",
      "apolis_short-v1-1d-100m_DIR_hori_daysum_kWh,GLO_hori_daysum_kWh_oetztal_20070205T0000-20070210T0000.nc was downloaded.\n",
      "Starting download of apolis_short-v1-1d-100m_DIR_hori_daysum_kWh,GLO_hori_daysum_kWh_oetztal_20070210T0000-20070215T0000.nc\n",
      "apolis_short-v1-1d-100m_DIR_hori_daysum_kWh,GLO_hori_daysum_kWh_oetztal_20070210T0000-20070215T0000.nc was downloaded.\n",
      "Starting download of apolis_short-v1-1d-100m_DIR_hori_daysum_kWh,GLO_hori_daysum_kWh_oetztal_20070215T0000-20070220T0000.nc\n",
      "apolis_short-v1-1d-100m_DIR_hori_daysum_kWh,GLO_hori_daysum_kWh_oetztal_20070215T0000-20070220T0000.nc was downloaded.\n",
      "Starting download of apolis_short-v1-1d-100m_DIR_hori_daysum_kWh,GLO_hori_daysum_kWh_oetztal_20070220T0000-20070225T0000.nc\n"
     ]
    },
    {
     "ename": "KeyboardInterrupt",
     "evalue": "",
     "output_type": "error",
     "traceback": [
      "\u001b[0;31m---------------------------------------------------------------------------\u001b[0m",
      "\u001b[0;31mKeyboardInterrupt\u001b[0m                         Traceback (most recent call last)",
      "Input \u001b[0;32mIn [16]\u001b[0m, in \u001b[0;36m<cell line: 3>\u001b[0;34m()\u001b[0m\n\u001b[1;32m      2\u001b[0m slices \u001b[38;5;241m=\u001b[39m utils\u001b[38;5;241m.\u001b[39mmakeDailyTimeSlices(start,end,maxDays\u001b[38;5;241m=\u001b[39m\u001b[38;5;241m5\u001b[39m,datetimeformat\u001b[38;5;241m=\u001b[39mdatetimeformat)\n\u001b[1;32m      3\u001b[0m \u001b[38;5;28;01mfor\u001b[39;00m start, end \u001b[38;5;129;01min\u001b[39;00m slices:\n\u001b[0;32m----> 4\u001b[0m     \u001b[43mdata_download\u001b[49m\u001b[38;5;241;43m.\u001b[39;49m\u001b[43mdownloadData\u001b[49m\u001b[43m(\u001b[49m\n\u001b[1;32m      5\u001b[0m \u001b[43m        \u001b[49m\u001b[43mmyQuery\u001b[49m\u001b[43m,\u001b[49m\u001b[43m \u001b[49m\u001b[43mstart\u001b[49m\u001b[43m,\u001b[49m\u001b[43m \u001b[49m\u001b[43mend\u001b[49m\u001b[43m,\u001b[49m\u001b[43m \u001b[49m\u001b[43mODIR\u001b[49m\u001b[43m,\u001b[49m\u001b[43m \u001b[49m\u001b[43moverwrite\u001b[49m\u001b[38;5;241;43m=\u001b[39;49m\u001b[43moverwrite\u001b[49m\u001b[43m,\u001b[49m\u001b[43m \u001b[49m\u001b[43mverbose\u001b[49m\u001b[38;5;241;43m=\u001b[39;49m\u001b[43mverbose\u001b[49m\n\u001b[1;32m      6\u001b[0m \u001b[43m    \u001b[49m\u001b[43m)\u001b[49m\n",
      "File \u001b[0;32m~/Documents/NRC_P8_water_energy_and_sediment/projects/ZAMG_data_hub_download/ZAMGdatahub/data_download.py:156\u001b[0m, in \u001b[0;36mdownloadData\u001b[0;34m(ZAMGquery, start, end, ODIR, overwrite, verbose, parallelProcess)\u001b[0m\n\u001b[1;32m    154\u001b[0m \u001b[38;5;28;01melse\u001b[39;00m:\n\u001b[1;32m    155\u001b[0m     \u001b[38;5;28;01mfor\u001b[39;00m outfile,url \u001b[38;5;129;01min\u001b[39;00m \u001b[38;5;28mzip\u001b[39m(outfiles,urls):\n\u001b[0;32m--> 156\u001b[0m         \u001b[43mrequestData\u001b[49m\u001b[43m(\u001b[49m\u001b[43murl\u001b[49m\u001b[43m,\u001b[49m\u001b[43moutfile\u001b[49m\u001b[43m,\u001b[49m\u001b[43moverwrite\u001b[49m\u001b[38;5;241;43m=\u001b[39;49m\u001b[43moverwrite\u001b[49m\u001b[43m,\u001b[49m\u001b[43mverbose\u001b[49m\u001b[38;5;241;43m=\u001b[39;49m\u001b[43mverbose\u001b[49m\u001b[43m)\u001b[49m\n\u001b[1;32m    158\u001b[0m \u001b[38;5;28;01mreturn\u001b[39;00m outfiles\n",
      "File \u001b[0;32m~/Documents/NRC_P8_water_energy_and_sediment/projects/ZAMG_data_hub_download/ZAMGdatahub/data_download.py:81\u001b[0m, in \u001b[0;36mrequestData\u001b[0;34m(url, outfile, overwrite, verbose, max_retries)\u001b[0m\n\u001b[1;32m     79\u001b[0m \u001b[38;5;28;01mif\u001b[39;00m overwrite \u001b[38;5;129;01mor\u001b[39;00m \u001b[38;5;129;01mnot\u001b[39;00m outfile\u001b[38;5;241m.\u001b[39mis_file():\n\u001b[1;32m     80\u001b[0m     \u001b[38;5;28mprint\u001b[39m(\u001b[38;5;124m\"\u001b[39m\u001b[38;5;124mStarting download of\u001b[39m\u001b[38;5;124m\"\u001b[39m,outfile\u001b[38;5;241m.\u001b[39mname)\n\u001b[0;32m---> 81\u001b[0m     r \u001b[38;5;241m=\u001b[39m \u001b[43mrequests\u001b[49m\u001b[38;5;241;43m.\u001b[39;49m\u001b[43mget\u001b[49m\u001b[43m(\u001b[49m\u001b[43murl\u001b[49m\u001b[43m)\u001b[49m\n\u001b[1;32m     82\u001b[0m     \u001b[38;5;28;01mif\u001b[39;00m \u001b[38;5;28mstr\u001b[39m(r) \u001b[38;5;241m==\u001b[39m \u001b[38;5;124m\"\u001b[39m\u001b[38;5;124m<Response [400]>\u001b[39m\u001b[38;5;124m\"\u001b[39m:\n\u001b[1;32m     83\u001b[0m         \u001b[38;5;28;01mraise\u001b[39;00m requests\u001b[38;5;241m.\u001b[39mHTTPError(\u001b[38;5;124mf\u001b[39m\u001b[38;5;124m\"\u001b[39m\u001b[38;5;132;01m{\u001b[39;00mr\u001b[38;5;132;01m}\u001b[39;00m\u001b[38;5;124m: Bad request! Click link for more info: \u001b[39m\u001b[38;5;132;01m{\u001b[39;00murl\u001b[38;5;132;01m}\u001b[39;00m\u001b[38;5;124m\"\u001b[39m)\n",
      "File \u001b[0;32m~/anaconda3/lib/python3.8/site-packages/requests/api.py:75\u001b[0m, in \u001b[0;36mget\u001b[0;34m(url, params, **kwargs)\u001b[0m\n\u001b[1;32m     64\u001b[0m \u001b[38;5;28;01mdef\u001b[39;00m \u001b[38;5;21mget\u001b[39m(url, params\u001b[38;5;241m=\u001b[39m\u001b[38;5;28;01mNone\u001b[39;00m, \u001b[38;5;241m*\u001b[39m\u001b[38;5;241m*\u001b[39mkwargs):\n\u001b[1;32m     65\u001b[0m     \u001b[38;5;124mr\u001b[39m\u001b[38;5;124;03m\"\"\"Sends a GET request.\u001b[39;00m\n\u001b[1;32m     66\u001b[0m \n\u001b[1;32m     67\u001b[0m \u001b[38;5;124;03m    :param url: URL for the new :class:`Request` object.\u001b[39;00m\n\u001b[0;32m   (...)\u001b[0m\n\u001b[1;32m     72\u001b[0m \u001b[38;5;124;03m    :rtype: requests.Response\u001b[39;00m\n\u001b[1;32m     73\u001b[0m \u001b[38;5;124;03m    \"\"\"\u001b[39;00m\n\u001b[0;32m---> 75\u001b[0m     \u001b[38;5;28;01mreturn\u001b[39;00m \u001b[43mrequest\u001b[49m\u001b[43m(\u001b[49m\u001b[38;5;124;43m'\u001b[39;49m\u001b[38;5;124;43mget\u001b[39;49m\u001b[38;5;124;43m'\u001b[39;49m\u001b[43m,\u001b[49m\u001b[43m \u001b[49m\u001b[43murl\u001b[49m\u001b[43m,\u001b[49m\u001b[43m \u001b[49m\u001b[43mparams\u001b[49m\u001b[38;5;241;43m=\u001b[39;49m\u001b[43mparams\u001b[49m\u001b[43m,\u001b[49m\u001b[43m \u001b[49m\u001b[38;5;241;43m*\u001b[39;49m\u001b[38;5;241;43m*\u001b[39;49m\u001b[43mkwargs\u001b[49m\u001b[43m)\u001b[49m\n",
      "File \u001b[0;32m~/anaconda3/lib/python3.8/site-packages/requests/api.py:61\u001b[0m, in \u001b[0;36mrequest\u001b[0;34m(method, url, **kwargs)\u001b[0m\n\u001b[1;32m     57\u001b[0m \u001b[38;5;66;03m# By using the 'with' statement we are sure the session is closed, thus we\u001b[39;00m\n\u001b[1;32m     58\u001b[0m \u001b[38;5;66;03m# avoid leaving sockets open which can trigger a ResourceWarning in some\u001b[39;00m\n\u001b[1;32m     59\u001b[0m \u001b[38;5;66;03m# cases, and look like a memory leak in others.\u001b[39;00m\n\u001b[1;32m     60\u001b[0m \u001b[38;5;28;01mwith\u001b[39;00m sessions\u001b[38;5;241m.\u001b[39mSession() \u001b[38;5;28;01mas\u001b[39;00m session:\n\u001b[0;32m---> 61\u001b[0m     \u001b[38;5;28;01mreturn\u001b[39;00m \u001b[43msession\u001b[49m\u001b[38;5;241;43m.\u001b[39;49m\u001b[43mrequest\u001b[49m\u001b[43m(\u001b[49m\u001b[43mmethod\u001b[49m\u001b[38;5;241;43m=\u001b[39;49m\u001b[43mmethod\u001b[49m\u001b[43m,\u001b[49m\u001b[43m \u001b[49m\u001b[43murl\u001b[49m\u001b[38;5;241;43m=\u001b[39;49m\u001b[43murl\u001b[49m\u001b[43m,\u001b[49m\u001b[43m \u001b[49m\u001b[38;5;241;43m*\u001b[39;49m\u001b[38;5;241;43m*\u001b[39;49m\u001b[43mkwargs\u001b[49m\u001b[43m)\u001b[49m\n",
      "File \u001b[0;32m~/anaconda3/lib/python3.8/site-packages/requests/sessions.py:529\u001b[0m, in \u001b[0;36mSession.request\u001b[0;34m(self, method, url, params, data, headers, cookies, files, auth, timeout, allow_redirects, proxies, hooks, stream, verify, cert, json)\u001b[0m\n\u001b[1;32m    524\u001b[0m send_kwargs \u001b[38;5;241m=\u001b[39m {\n\u001b[1;32m    525\u001b[0m     \u001b[38;5;124m'\u001b[39m\u001b[38;5;124mtimeout\u001b[39m\u001b[38;5;124m'\u001b[39m: timeout,\n\u001b[1;32m    526\u001b[0m     \u001b[38;5;124m'\u001b[39m\u001b[38;5;124mallow_redirects\u001b[39m\u001b[38;5;124m'\u001b[39m: allow_redirects,\n\u001b[1;32m    527\u001b[0m }\n\u001b[1;32m    528\u001b[0m send_kwargs\u001b[38;5;241m.\u001b[39mupdate(settings)\n\u001b[0;32m--> 529\u001b[0m resp \u001b[38;5;241m=\u001b[39m \u001b[38;5;28;43mself\u001b[39;49m\u001b[38;5;241;43m.\u001b[39;49m\u001b[43msend\u001b[49m\u001b[43m(\u001b[49m\u001b[43mprep\u001b[49m\u001b[43m,\u001b[49m\u001b[43m \u001b[49m\u001b[38;5;241;43m*\u001b[39;49m\u001b[38;5;241;43m*\u001b[39;49m\u001b[43msend_kwargs\u001b[49m\u001b[43m)\u001b[49m\n\u001b[1;32m    531\u001b[0m \u001b[38;5;28;01mreturn\u001b[39;00m resp\n",
      "File \u001b[0;32m~/anaconda3/lib/python3.8/site-packages/requests/sessions.py:645\u001b[0m, in \u001b[0;36mSession.send\u001b[0;34m(self, request, **kwargs)\u001b[0m\n\u001b[1;32m    642\u001b[0m start \u001b[38;5;241m=\u001b[39m preferred_clock()\n\u001b[1;32m    644\u001b[0m \u001b[38;5;66;03m# Send the request\u001b[39;00m\n\u001b[0;32m--> 645\u001b[0m r \u001b[38;5;241m=\u001b[39m \u001b[43madapter\u001b[49m\u001b[38;5;241;43m.\u001b[39;49m\u001b[43msend\u001b[49m\u001b[43m(\u001b[49m\u001b[43mrequest\u001b[49m\u001b[43m,\u001b[49m\u001b[43m \u001b[49m\u001b[38;5;241;43m*\u001b[39;49m\u001b[38;5;241;43m*\u001b[39;49m\u001b[43mkwargs\u001b[49m\u001b[43m)\u001b[49m\n\u001b[1;32m    647\u001b[0m \u001b[38;5;66;03m# Total elapsed time of the request (approximately)\u001b[39;00m\n\u001b[1;32m    648\u001b[0m elapsed \u001b[38;5;241m=\u001b[39m preferred_clock() \u001b[38;5;241m-\u001b[39m start\n",
      "File \u001b[0;32m~/anaconda3/lib/python3.8/site-packages/requests/adapters.py:440\u001b[0m, in \u001b[0;36mHTTPAdapter.send\u001b[0;34m(self, request, stream, timeout, verify, cert, proxies)\u001b[0m\n\u001b[1;32m    438\u001b[0m \u001b[38;5;28;01mtry\u001b[39;00m:\n\u001b[1;32m    439\u001b[0m     \u001b[38;5;28;01mif\u001b[39;00m \u001b[38;5;129;01mnot\u001b[39;00m chunked:\n\u001b[0;32m--> 440\u001b[0m         resp \u001b[38;5;241m=\u001b[39m \u001b[43mconn\u001b[49m\u001b[38;5;241;43m.\u001b[39;49m\u001b[43murlopen\u001b[49m\u001b[43m(\u001b[49m\n\u001b[1;32m    441\u001b[0m \u001b[43m            \u001b[49m\u001b[43mmethod\u001b[49m\u001b[38;5;241;43m=\u001b[39;49m\u001b[43mrequest\u001b[49m\u001b[38;5;241;43m.\u001b[39;49m\u001b[43mmethod\u001b[49m\u001b[43m,\u001b[49m\n\u001b[1;32m    442\u001b[0m \u001b[43m            \u001b[49m\u001b[43murl\u001b[49m\u001b[38;5;241;43m=\u001b[39;49m\u001b[43murl\u001b[49m\u001b[43m,\u001b[49m\n\u001b[1;32m    443\u001b[0m \u001b[43m            \u001b[49m\u001b[43mbody\u001b[49m\u001b[38;5;241;43m=\u001b[39;49m\u001b[43mrequest\u001b[49m\u001b[38;5;241;43m.\u001b[39;49m\u001b[43mbody\u001b[49m\u001b[43m,\u001b[49m\n\u001b[1;32m    444\u001b[0m \u001b[43m            \u001b[49m\u001b[43mheaders\u001b[49m\u001b[38;5;241;43m=\u001b[39;49m\u001b[43mrequest\u001b[49m\u001b[38;5;241;43m.\u001b[39;49m\u001b[43mheaders\u001b[49m\u001b[43m,\u001b[49m\n\u001b[1;32m    445\u001b[0m \u001b[43m            \u001b[49m\u001b[43mredirect\u001b[49m\u001b[38;5;241;43m=\u001b[39;49m\u001b[38;5;28;43;01mFalse\u001b[39;49;00m\u001b[43m,\u001b[49m\n\u001b[1;32m    446\u001b[0m \u001b[43m            \u001b[49m\u001b[43massert_same_host\u001b[49m\u001b[38;5;241;43m=\u001b[39;49m\u001b[38;5;28;43;01mFalse\u001b[39;49;00m\u001b[43m,\u001b[49m\n\u001b[1;32m    447\u001b[0m \u001b[43m            \u001b[49m\u001b[43mpreload_content\u001b[49m\u001b[38;5;241;43m=\u001b[39;49m\u001b[38;5;28;43;01mFalse\u001b[39;49;00m\u001b[43m,\u001b[49m\n\u001b[1;32m    448\u001b[0m \u001b[43m            \u001b[49m\u001b[43mdecode_content\u001b[49m\u001b[38;5;241;43m=\u001b[39;49m\u001b[38;5;28;43;01mFalse\u001b[39;49;00m\u001b[43m,\u001b[49m\n\u001b[1;32m    449\u001b[0m \u001b[43m            \u001b[49m\u001b[43mretries\u001b[49m\u001b[38;5;241;43m=\u001b[39;49m\u001b[38;5;28;43mself\u001b[39;49m\u001b[38;5;241;43m.\u001b[39;49m\u001b[43mmax_retries\u001b[49m\u001b[43m,\u001b[49m\n\u001b[1;32m    450\u001b[0m \u001b[43m            \u001b[49m\u001b[43mtimeout\u001b[49m\u001b[38;5;241;43m=\u001b[39;49m\u001b[43mtimeout\u001b[49m\n\u001b[1;32m    451\u001b[0m \u001b[43m        \u001b[49m\u001b[43m)\u001b[49m\n\u001b[1;32m    453\u001b[0m     \u001b[38;5;66;03m# Send the request.\u001b[39;00m\n\u001b[1;32m    454\u001b[0m     \u001b[38;5;28;01melse\u001b[39;00m:\n\u001b[1;32m    455\u001b[0m         \u001b[38;5;28;01mif\u001b[39;00m \u001b[38;5;28mhasattr\u001b[39m(conn, \u001b[38;5;124m'\u001b[39m\u001b[38;5;124mproxy_pool\u001b[39m\u001b[38;5;124m'\u001b[39m):\n",
      "File \u001b[0;32m~/anaconda3/lib/python3.8/site-packages/urllib3/connectionpool.py:703\u001b[0m, in \u001b[0;36mHTTPConnectionPool.urlopen\u001b[0;34m(self, method, url, body, headers, retries, redirect, assert_same_host, timeout, pool_timeout, release_conn, chunked, body_pos, **response_kw)\u001b[0m\n\u001b[1;32m    700\u001b[0m     \u001b[38;5;28mself\u001b[39m\u001b[38;5;241m.\u001b[39m_prepare_proxy(conn)\n\u001b[1;32m    702\u001b[0m \u001b[38;5;66;03m# Make the request on the httplib connection object.\u001b[39;00m\n\u001b[0;32m--> 703\u001b[0m httplib_response \u001b[38;5;241m=\u001b[39m \u001b[38;5;28;43mself\u001b[39;49m\u001b[38;5;241;43m.\u001b[39;49m\u001b[43m_make_request\u001b[49m\u001b[43m(\u001b[49m\n\u001b[1;32m    704\u001b[0m \u001b[43m    \u001b[49m\u001b[43mconn\u001b[49m\u001b[43m,\u001b[49m\n\u001b[1;32m    705\u001b[0m \u001b[43m    \u001b[49m\u001b[43mmethod\u001b[49m\u001b[43m,\u001b[49m\n\u001b[1;32m    706\u001b[0m \u001b[43m    \u001b[49m\u001b[43murl\u001b[49m\u001b[43m,\u001b[49m\n\u001b[1;32m    707\u001b[0m \u001b[43m    \u001b[49m\u001b[43mtimeout\u001b[49m\u001b[38;5;241;43m=\u001b[39;49m\u001b[43mtimeout_obj\u001b[49m\u001b[43m,\u001b[49m\n\u001b[1;32m    708\u001b[0m \u001b[43m    \u001b[49m\u001b[43mbody\u001b[49m\u001b[38;5;241;43m=\u001b[39;49m\u001b[43mbody\u001b[49m\u001b[43m,\u001b[49m\n\u001b[1;32m    709\u001b[0m \u001b[43m    \u001b[49m\u001b[43mheaders\u001b[49m\u001b[38;5;241;43m=\u001b[39;49m\u001b[43mheaders\u001b[49m\u001b[43m,\u001b[49m\n\u001b[1;32m    710\u001b[0m \u001b[43m    \u001b[49m\u001b[43mchunked\u001b[49m\u001b[38;5;241;43m=\u001b[39;49m\u001b[43mchunked\u001b[49m\u001b[43m,\u001b[49m\n\u001b[1;32m    711\u001b[0m \u001b[43m\u001b[49m\u001b[43m)\u001b[49m\n\u001b[1;32m    713\u001b[0m \u001b[38;5;66;03m# If we're going to release the connection in ``finally:``, then\u001b[39;00m\n\u001b[1;32m    714\u001b[0m \u001b[38;5;66;03m# the response doesn't need to know about the connection. Otherwise\u001b[39;00m\n\u001b[1;32m    715\u001b[0m \u001b[38;5;66;03m# it will also try to release it and we'll have a double-release\u001b[39;00m\n\u001b[1;32m    716\u001b[0m \u001b[38;5;66;03m# mess.\u001b[39;00m\n\u001b[1;32m    717\u001b[0m response_conn \u001b[38;5;241m=\u001b[39m conn \u001b[38;5;28;01mif\u001b[39;00m \u001b[38;5;129;01mnot\u001b[39;00m release_conn \u001b[38;5;28;01melse\u001b[39;00m \u001b[38;5;28;01mNone\u001b[39;00m\n",
      "File \u001b[0;32m~/anaconda3/lib/python3.8/site-packages/urllib3/connectionpool.py:449\u001b[0m, in \u001b[0;36mHTTPConnectionPool._make_request\u001b[0;34m(self, conn, method, url, timeout, chunked, **httplib_request_kw)\u001b[0m\n\u001b[1;32m    444\u001b[0m             httplib_response \u001b[38;5;241m=\u001b[39m conn\u001b[38;5;241m.\u001b[39mgetresponse()\n\u001b[1;32m    445\u001b[0m         \u001b[38;5;28;01mexcept\u001b[39;00m \u001b[38;5;167;01mBaseException\u001b[39;00m \u001b[38;5;28;01mas\u001b[39;00m e:\n\u001b[1;32m    446\u001b[0m             \u001b[38;5;66;03m# Remove the TypeError from the exception chain in\u001b[39;00m\n\u001b[1;32m    447\u001b[0m             \u001b[38;5;66;03m# Python 3 (including for exceptions like SystemExit).\u001b[39;00m\n\u001b[1;32m    448\u001b[0m             \u001b[38;5;66;03m# Otherwise it looks like a bug in the code.\u001b[39;00m\n\u001b[0;32m--> 449\u001b[0m             \u001b[43msix\u001b[49m\u001b[38;5;241;43m.\u001b[39;49m\u001b[43mraise_from\u001b[49m\u001b[43m(\u001b[49m\u001b[43me\u001b[49m\u001b[43m,\u001b[49m\u001b[43m \u001b[49m\u001b[38;5;28;43;01mNone\u001b[39;49;00m\u001b[43m)\u001b[49m\n\u001b[1;32m    450\u001b[0m \u001b[38;5;28;01mexcept\u001b[39;00m (SocketTimeout, BaseSSLError, SocketError) \u001b[38;5;28;01mas\u001b[39;00m e:\n\u001b[1;32m    451\u001b[0m     \u001b[38;5;28mself\u001b[39m\u001b[38;5;241m.\u001b[39m_raise_timeout(err\u001b[38;5;241m=\u001b[39me, url\u001b[38;5;241m=\u001b[39murl, timeout_value\u001b[38;5;241m=\u001b[39mread_timeout)\n",
      "File \u001b[0;32m<string>:3\u001b[0m, in \u001b[0;36mraise_from\u001b[0;34m(value, from_value)\u001b[0m\n",
      "File \u001b[0;32m~/anaconda3/lib/python3.8/site-packages/urllib3/connectionpool.py:444\u001b[0m, in \u001b[0;36mHTTPConnectionPool._make_request\u001b[0;34m(self, conn, method, url, timeout, chunked, **httplib_request_kw)\u001b[0m\n\u001b[1;32m    441\u001b[0m \u001b[38;5;28;01mexcept\u001b[39;00m \u001b[38;5;167;01mTypeError\u001b[39;00m:\n\u001b[1;32m    442\u001b[0m     \u001b[38;5;66;03m# Python 3\u001b[39;00m\n\u001b[1;32m    443\u001b[0m     \u001b[38;5;28;01mtry\u001b[39;00m:\n\u001b[0;32m--> 444\u001b[0m         httplib_response \u001b[38;5;241m=\u001b[39m \u001b[43mconn\u001b[49m\u001b[38;5;241;43m.\u001b[39;49m\u001b[43mgetresponse\u001b[49m\u001b[43m(\u001b[49m\u001b[43m)\u001b[49m\n\u001b[1;32m    445\u001b[0m     \u001b[38;5;28;01mexcept\u001b[39;00m \u001b[38;5;167;01mBaseException\u001b[39;00m \u001b[38;5;28;01mas\u001b[39;00m e:\n\u001b[1;32m    446\u001b[0m         \u001b[38;5;66;03m# Remove the TypeError from the exception chain in\u001b[39;00m\n\u001b[1;32m    447\u001b[0m         \u001b[38;5;66;03m# Python 3 (including for exceptions like SystemExit).\u001b[39;00m\n\u001b[1;32m    448\u001b[0m         \u001b[38;5;66;03m# Otherwise it looks like a bug in the code.\u001b[39;00m\n\u001b[1;32m    449\u001b[0m         six\u001b[38;5;241m.\u001b[39mraise_from(e, \u001b[38;5;28;01mNone\u001b[39;00m)\n",
      "File \u001b[0;32m~/anaconda3/lib/python3.8/http/client.py:1348\u001b[0m, in \u001b[0;36mHTTPConnection.getresponse\u001b[0;34m(self)\u001b[0m\n\u001b[1;32m   1346\u001b[0m \u001b[38;5;28;01mtry\u001b[39;00m:\n\u001b[1;32m   1347\u001b[0m     \u001b[38;5;28;01mtry\u001b[39;00m:\n\u001b[0;32m-> 1348\u001b[0m         \u001b[43mresponse\u001b[49m\u001b[38;5;241;43m.\u001b[39;49m\u001b[43mbegin\u001b[49m\u001b[43m(\u001b[49m\u001b[43m)\u001b[49m\n\u001b[1;32m   1349\u001b[0m     \u001b[38;5;28;01mexcept\u001b[39;00m \u001b[38;5;167;01mConnectionError\u001b[39;00m:\n\u001b[1;32m   1350\u001b[0m         \u001b[38;5;28mself\u001b[39m\u001b[38;5;241m.\u001b[39mclose()\n",
      "File \u001b[0;32m~/anaconda3/lib/python3.8/http/client.py:316\u001b[0m, in \u001b[0;36mHTTPResponse.begin\u001b[0;34m(self)\u001b[0m\n\u001b[1;32m    314\u001b[0m \u001b[38;5;66;03m# read until we get a non-100 response\u001b[39;00m\n\u001b[1;32m    315\u001b[0m \u001b[38;5;28;01mwhile\u001b[39;00m \u001b[38;5;28;01mTrue\u001b[39;00m:\n\u001b[0;32m--> 316\u001b[0m     version, status, reason \u001b[38;5;241m=\u001b[39m \u001b[38;5;28;43mself\u001b[39;49m\u001b[38;5;241;43m.\u001b[39;49m\u001b[43m_read_status\u001b[49m\u001b[43m(\u001b[49m\u001b[43m)\u001b[49m\n\u001b[1;32m    317\u001b[0m     \u001b[38;5;28;01mif\u001b[39;00m status \u001b[38;5;241m!=\u001b[39m CONTINUE:\n\u001b[1;32m    318\u001b[0m         \u001b[38;5;28;01mbreak\u001b[39;00m\n",
      "File \u001b[0;32m~/anaconda3/lib/python3.8/http/client.py:277\u001b[0m, in \u001b[0;36mHTTPResponse._read_status\u001b[0;34m(self)\u001b[0m\n\u001b[1;32m    276\u001b[0m \u001b[38;5;28;01mdef\u001b[39;00m \u001b[38;5;21m_read_status\u001b[39m(\u001b[38;5;28mself\u001b[39m):\n\u001b[0;32m--> 277\u001b[0m     line \u001b[38;5;241m=\u001b[39m \u001b[38;5;28mstr\u001b[39m(\u001b[38;5;28;43mself\u001b[39;49m\u001b[38;5;241;43m.\u001b[39;49m\u001b[43mfp\u001b[49m\u001b[38;5;241;43m.\u001b[39;49m\u001b[43mreadline\u001b[49m\u001b[43m(\u001b[49m\u001b[43m_MAXLINE\u001b[49m\u001b[43m \u001b[49m\u001b[38;5;241;43m+\u001b[39;49m\u001b[43m \u001b[49m\u001b[38;5;241;43m1\u001b[39;49m\u001b[43m)\u001b[49m, \u001b[38;5;124m\"\u001b[39m\u001b[38;5;124miso-8859-1\u001b[39m\u001b[38;5;124m\"\u001b[39m)\n\u001b[1;32m    278\u001b[0m     \u001b[38;5;28;01mif\u001b[39;00m \u001b[38;5;28mlen\u001b[39m(line) \u001b[38;5;241m>\u001b[39m _MAXLINE:\n\u001b[1;32m    279\u001b[0m         \u001b[38;5;28;01mraise\u001b[39;00m LineTooLong(\u001b[38;5;124m\"\u001b[39m\u001b[38;5;124mstatus line\u001b[39m\u001b[38;5;124m\"\u001b[39m)\n",
      "File \u001b[0;32m~/anaconda3/lib/python3.8/socket.py:669\u001b[0m, in \u001b[0;36mSocketIO.readinto\u001b[0;34m(self, b)\u001b[0m\n\u001b[1;32m    667\u001b[0m \u001b[38;5;28;01mwhile\u001b[39;00m \u001b[38;5;28;01mTrue\u001b[39;00m:\n\u001b[1;32m    668\u001b[0m     \u001b[38;5;28;01mtry\u001b[39;00m:\n\u001b[0;32m--> 669\u001b[0m         \u001b[38;5;28;01mreturn\u001b[39;00m \u001b[38;5;28;43mself\u001b[39;49m\u001b[38;5;241;43m.\u001b[39;49m\u001b[43m_sock\u001b[49m\u001b[38;5;241;43m.\u001b[39;49m\u001b[43mrecv_into\u001b[49m\u001b[43m(\u001b[49m\u001b[43mb\u001b[49m\u001b[43m)\u001b[49m\n\u001b[1;32m    670\u001b[0m     \u001b[38;5;28;01mexcept\u001b[39;00m timeout:\n\u001b[1;32m    671\u001b[0m         \u001b[38;5;28mself\u001b[39m\u001b[38;5;241m.\u001b[39m_timeout_occurred \u001b[38;5;241m=\u001b[39m \u001b[38;5;28;01mTrue\u001b[39;00m\n",
      "File \u001b[0;32m~/anaconda3/lib/python3.8/ssl.py:1241\u001b[0m, in \u001b[0;36mSSLSocket.recv_into\u001b[0;34m(self, buffer, nbytes, flags)\u001b[0m\n\u001b[1;32m   1237\u001b[0m     \u001b[38;5;28;01mif\u001b[39;00m flags \u001b[38;5;241m!=\u001b[39m \u001b[38;5;241m0\u001b[39m:\n\u001b[1;32m   1238\u001b[0m         \u001b[38;5;28;01mraise\u001b[39;00m \u001b[38;5;167;01mValueError\u001b[39;00m(\n\u001b[1;32m   1239\u001b[0m           \u001b[38;5;124m\"\u001b[39m\u001b[38;5;124mnon-zero flags not allowed in calls to recv_into() on \u001b[39m\u001b[38;5;132;01m%s\u001b[39;00m\u001b[38;5;124m\"\u001b[39m \u001b[38;5;241m%\u001b[39m\n\u001b[1;32m   1240\u001b[0m           \u001b[38;5;28mself\u001b[39m\u001b[38;5;241m.\u001b[39m\u001b[38;5;18m__class__\u001b[39m)\n\u001b[0;32m-> 1241\u001b[0m     \u001b[38;5;28;01mreturn\u001b[39;00m \u001b[38;5;28;43mself\u001b[39;49m\u001b[38;5;241;43m.\u001b[39;49m\u001b[43mread\u001b[49m\u001b[43m(\u001b[49m\u001b[43mnbytes\u001b[49m\u001b[43m,\u001b[49m\u001b[43m \u001b[49m\u001b[43mbuffer\u001b[49m\u001b[43m)\u001b[49m\n\u001b[1;32m   1242\u001b[0m \u001b[38;5;28;01melse\u001b[39;00m:\n\u001b[1;32m   1243\u001b[0m     \u001b[38;5;28;01mreturn\u001b[39;00m \u001b[38;5;28msuper\u001b[39m()\u001b[38;5;241m.\u001b[39mrecv_into(buffer, nbytes, flags)\n",
      "File \u001b[0;32m~/anaconda3/lib/python3.8/ssl.py:1099\u001b[0m, in \u001b[0;36mSSLSocket.read\u001b[0;34m(self, len, buffer)\u001b[0m\n\u001b[1;32m   1097\u001b[0m \u001b[38;5;28;01mtry\u001b[39;00m:\n\u001b[1;32m   1098\u001b[0m     \u001b[38;5;28;01mif\u001b[39;00m buffer \u001b[38;5;129;01mis\u001b[39;00m \u001b[38;5;129;01mnot\u001b[39;00m \u001b[38;5;28;01mNone\u001b[39;00m:\n\u001b[0;32m-> 1099\u001b[0m         \u001b[38;5;28;01mreturn\u001b[39;00m \u001b[38;5;28;43mself\u001b[39;49m\u001b[38;5;241;43m.\u001b[39;49m\u001b[43m_sslobj\u001b[49m\u001b[38;5;241;43m.\u001b[39;49m\u001b[43mread\u001b[49m\u001b[43m(\u001b[49m\u001b[38;5;28;43mlen\u001b[39;49m\u001b[43m,\u001b[49m\u001b[43m \u001b[49m\u001b[43mbuffer\u001b[49m\u001b[43m)\u001b[49m\n\u001b[1;32m   1100\u001b[0m     \u001b[38;5;28;01melse\u001b[39;00m:\n\u001b[1;32m   1101\u001b[0m         \u001b[38;5;28;01mreturn\u001b[39;00m \u001b[38;5;28mself\u001b[39m\u001b[38;5;241m.\u001b[39m_sslobj\u001b[38;5;241m.\u001b[39mread(\u001b[38;5;28mlen\u001b[39m)\n",
      "\u001b[0;31mKeyboardInterrupt\u001b[0m: "
     ]
    }
   ],
   "source": [
    "# get all in a year\n",
    "slices = utils.makeDailyTimeSlices(start,end,maxDays=5,datetimeformat=datetimeformat)\n",
    "for start, end in slices:\n",
    "    data_download.downloadData(\n",
    "        myQuery, start, end, ODIR, overwrite=overwrite, verbose=verbose\n",
    "    )"
   ]
  }
 ],
 "metadata": {
  "kernelspec": {
   "display_name": "Python 3 (ipykernel)",
   "language": "python",
   "name": "python3"
  },
  "language_info": {
   "codemirror_mode": {
    "name": "ipython",
    "version": 3
   },
   "file_extension": ".py",
   "mimetype": "text/x-python",
   "name": "python",
   "nbconvert_exporter": "python",
   "pygments_lexer": "ipython3",
   "version": "3.8.12"
  }
 },
 "nbformat": 4,
 "nbformat_minor": 5
}
