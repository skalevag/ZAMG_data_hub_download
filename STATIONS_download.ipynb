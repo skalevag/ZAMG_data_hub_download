{
 "cells": [
  {
   "cell_type": "markdown",
   "id": "8078ae04-0afd-4576-89d9-9207d738b280",
   "metadata": {
    "tags": []
   },
   "source": [
    "# Introduction\n",
    "\n",
    "Example script for downloading station data."
   ]
  },
  {
   "cell_type": "markdown",
   "id": "788da03f-b460-456c-9493-cdf26d72d092",
   "metadata": {},
   "source": [
    "https://dataset.api.hub.zamg.ac.at/v1/station/historical/klima-v1-10min?parameters=DD&parameters=DDX&parameters=DDX_FLAG&parameters=DD_FLAG&parameters=FF&parameters=FFAM&parameters=FFAM_FLAG&parameters=FFX&parameters=FFX_FLAG&parameters=FF_FLAG&parameters=GSX&parameters=GSX_FLAG&parameters=HSR&parameters=HSR_FLAG&parameters=HSX&parameters=HSX_FLAG&parameters=P&parameters=P0&parameters=P0_FLAG&parameters=P_FLAG&parameters=QFLAG&parameters=RF&parameters=RF_FLAG&parameters=RR&parameters=RRM&parameters=RRM_FLAG&parameters=RR_FLAG&parameters=SH&parameters=SH_FLAG&parameters=SO&parameters=SO_FLAG&parameters=TB1&parameters=TB1_FLAG&parameters=TB2&parameters=TB2_FLAG&parameters=TB3&parameters=TB3_FLAG&parameters=TL&parameters=TLMAX&parameters=TLMAX_FLAG&parameters=TLMIN&parameters=TLMIN_FLAG&parameters=TL_FLAG&parameters=TP&parameters=TP_FLAG&parameters=TS&parameters=TSMAX&parameters=TSMAX_FLAG&parameters=TSMIN&parameters=TSMIN_FLAG&parameters=TS_FLAG&parameters=ZEITX&parameters=ZEITX_FLAG&start=1992-05-20T00%3A00%3A00&end=2022-05-21T23%3A59%3A59&station_ids=905&output_format=csv&filename=ZEHNMIN+Datensatz_19920520_20220521"
   ]
  },
  {
   "cell_type": "markdown",
   "id": "5e6bac1a-7d5e-48d1-b324-64ccea39e40f",
   "metadata": {},
   "source": [
    "**TODOs:**\n",
    "\n",
    "- create some kind of overview dict or table for the parameters\n",
    "- use station IDs (download station table and use for selection? or just tell user to look up herself)"
   ]
  },
  {
   "cell_type": "markdown",
   "id": "b3d7faaa-bcc1-43be-a3c5-c96efc35fee8",
   "metadata": {},
   "source": [
    "# Setup"
   ]
  },
  {
   "cell_type": "markdown",
   "id": "109eb99d-dc3f-4dcb-885f-fde6edc3adc1",
   "metadata": {},
   "source": [
    "## Modules"
   ]
  },
  {
   "cell_type": "code",
   "execution_count": 1,
   "id": "3ca8ae8c-bdc5-451c-82d6-97afc777dc58",
   "metadata": {},
   "outputs": [],
   "source": [
    "import datetime as dt\n",
    "from pathlib import Path\n",
    "\n",
    "import ipywidgets as widgets\n",
    "import numpy as np\n",
    "import pandas as pd\n",
    "from IPython.display import display\n",
    "\n",
    "from ZAMGdatahub import data_download, metadata, query, utils"
   ]
  },
  {
   "cell_type": "markdown",
   "id": "fec3f4ac-c94e-462f-9190-17c371613f65",
   "metadata": {},
   "source": [
    "## Global variables"
   ]
  },
  {
   "cell_type": "code",
   "execution_count": 2,
   "id": "a31001cd-6695-476c-a642-fa7526452dac",
   "metadata": {},
   "outputs": [],
   "source": [
    "# set output directory\n",
    "# ODIR = \"/home/skalevag/Documents/NRC_P8_water_energy_and_sediment/data/meteo_stations/\"\n",
    "# ODIR = Path(ODIR)\n",
    "ODIR = \".\"\n",
    "ODIR = Path(ODIR).resolve()\n",
    "ODIR = ODIR.joinpath(\"test_downloads\")\n",
    "\n",
    "if not ODIR.is_dir():\n",
    "    ODIR.mkdir(parents=True)\n",
    "\n",
    "# variable\n",
    "params = [\n",
    "    \"RR\",\n",
    "    \"TL\",\n",
    "    \"TB1\",\n",
    "    \"TB2\",\n",
    "    \"TB3\",\n",
    "]  # precipitation, air temperature and ground temperature\n",
    "\n",
    "params = [\"TB1\"]  # only soil temperature for testing\n",
    "\n",
    "var_convert = pd.read_csv(\"data/ZEHNMIN_convert.csv\", index_col=0)[\"var_id\"].to_dict()\n",
    "\n",
    "maxMonths = 12\n",
    "\n",
    "overwrite = False\n",
    "overwriteMerge = False\n",
    "verbose = True\n",
    "\n",
    "datetimeformat = \"%Y-%m-%d\"\n",
    "start = \"1992-08-01\"  # inclusive\n",
    "end = dt.datetime.now().strftime(datetimeformat)"
   ]
  },
  {
   "cell_type": "code",
   "execution_count": 3,
   "id": "de58e010-4827-409a-894c-fddb1d7ebbee",
   "metadata": {},
   "outputs": [
    {
     "data": {
      "text/html": [
       "<div>\n",
       "<style scoped>\n",
       "    .dataframe tbody tr th:only-of-type {\n",
       "        vertical-align: middle;\n",
       "    }\n",
       "\n",
       "    .dataframe tbody tr th {\n",
       "        vertical-align: top;\n",
       "    }\n",
       "\n",
       "    .dataframe thead th {\n",
       "        text-align: right;\n",
       "    }\n",
       "</style>\n",
       "<table border=\"1\" class=\"dataframe\">\n",
       "  <thead>\n",
       "    <tr style=\"text-align: right;\">\n",
       "      <th></th>\n",
       "      <th>Kurzbeschreibung</th>\n",
       "      <th>Beschreibung</th>\n",
       "      <th>Einheit</th>\n",
       "    </tr>\n",
       "  </thead>\n",
       "  <tbody>\n",
       "    <tr>\n",
       "      <th>TB1</th>\n",
       "      <td>Erdbodentemperatur in 10cm Tiefe</td>\n",
       "      <td>Erdbodentemperatur in 10cm Tiefe, Basiswert zu...</td>\n",
       "      <td>°C</td>\n",
       "    </tr>\n",
       "  </tbody>\n",
       "</table>\n",
       "</div>"
      ],
      "text/plain": [
       "                     Kurzbeschreibung  \\\n",
       "TB1  Erdbodentemperatur in 10cm Tiefe   \n",
       "\n",
       "                                          Beschreibung Einheit  \n",
       "TB1  Erdbodentemperatur in 10cm Tiefe, Basiswert zu...      °C  "
      ]
     },
     "execution_count": 3,
     "metadata": {},
     "output_type": "execute_result"
    }
   ],
   "source": [
    "parameter_meta = pd.read_csv(\n",
    "    Path(\"data\").joinpath(\"ZEHNMIN_Parameter-Metadaten.csv\"), index_col=0\n",
    ")\n",
    "parameter_meta.loc[params]"
   ]
  },
  {
   "cell_type": "code",
   "execution_count": 4,
   "id": "ac3751d1-2c00-4523-b3f9-6b5320080928",
   "metadata": {},
   "outputs": [
    {
     "name": "stdout",
     "output_type": "stream",
     "text": [
      "DatasetType.STATION_10min\n"
     ]
    }
   ],
   "source": [
    "# dataset type\n",
    "dataset = query.DatasetType.STATION_10min\n",
    "print(dataset)"
   ]
  },
  {
   "cell_type": "code",
   "execution_count": 5,
   "id": "4f757d74-2fb2-4c3e-ab78-e75622002815",
   "metadata": {},
   "outputs": [
    {
     "data": {
      "text/html": [
       "<div>\n",
       "<style scoped>\n",
       "    .dataframe tbody tr th:only-of-type {\n",
       "        vertical-align: middle;\n",
       "    }\n",
       "\n",
       "    .dataframe tbody tr th {\n",
       "        vertical-align: top;\n",
       "    }\n",
       "\n",
       "    .dataframe thead th {\n",
       "        text-align: right;\n",
       "    }\n",
       "</style>\n",
       "<table border=\"1\" class=\"dataframe\">\n",
       "  <thead>\n",
       "    <tr style=\"text-align: right;\">\n",
       "      <th></th>\n",
       "      <th>Kurzbeschreibung</th>\n",
       "      <th>Beschreibung</th>\n",
       "      <th>Einheit</th>\n",
       "    </tr>\n",
       "  </thead>\n",
       "  <tbody>\n",
       "    <tr>\n",
       "      <th>TB1</th>\n",
       "      <td>Erdbodentemperatur in 10cm Tiefe</td>\n",
       "      <td>Erdbodentemperatur in 10cm Tiefe, Basiswert zu...</td>\n",
       "      <td>°C</td>\n",
       "    </tr>\n",
       "    <tr>\n",
       "      <th>TB1_FLAG</th>\n",
       "      <td>Qualitätsflag der Erdbodentemperatur in 10 cm</td>\n",
       "      <td>Qualitätsflag für die Erdbodentemperatur in 10...</td>\n",
       "      <td>code</td>\n",
       "    </tr>\n",
       "    <tr>\n",
       "      <th>QFLAG</th>\n",
       "      <td>Qualitätsflag</td>\n",
       "      <td>Qualitätsflag={&lt;3: Rohdaten, 3: geprüfte Daten}</td>\n",
       "      <td>Code</td>\n",
       "    </tr>\n",
       "  </tbody>\n",
       "</table>\n",
       "</div>"
      ],
      "text/plain": [
       "                                       Kurzbeschreibung  \\\n",
       "TB1                    Erdbodentemperatur in 10cm Tiefe   \n",
       "TB1_FLAG  Qualitätsflag der Erdbodentemperatur in 10 cm   \n",
       "QFLAG                                     Qualitätsflag   \n",
       "\n",
       "                                               Beschreibung Einheit  \n",
       "TB1       Erdbodentemperatur in 10cm Tiefe, Basiswert zu...      °C  \n",
       "TB1_FLAG  Qualitätsflag für die Erdbodentemperatur in 10...    code  \n",
       "QFLAG       Qualitätsflag={<3: Rohdaten, 3: geprüfte Daten}    Code  "
      ]
     },
     "execution_count": 5,
     "metadata": {},
     "output_type": "execute_result"
    }
   ],
   "source": [
    "def getParameterWithFlags(params, parameter_meta):\n",
    "    params_extra = []\n",
    "    for key in params:\n",
    "        params_extra = params_extra + [\n",
    "            par for par in parameter_meta.index if par[: len(key)] == key\n",
    "        ]\n",
    "\n",
    "    params_extra.append(\"QFLAG\")\n",
    "    return params_extra\n",
    "\n",
    "\n",
    "params_extra = getParameterWithFlags(params, parameter_meta)\n",
    "parameter_meta.loc[params_extra]"
   ]
  },
  {
   "cell_type": "code",
   "execution_count": 6,
   "id": "bf1e2fbf-7aa8-40f6-884e-1f6948b14617",
   "metadata": {},
   "outputs": [
    {
     "data": {
      "application/vnd.jupyter.widget-view+json": {
       "model_id": "24bf91c5341f4258bb42611eedc6c0e8",
       "version_major": 2,
       "version_minor": 0
      },
      "text/plain": [
       "Dropdown(options=('wind direction', 'wind speed', 'global radiation', 'diffuse radiation', 'air pressure', 're…"
      ]
     },
     "metadata": {},
     "output_type": "display_data"
    }
   ],
   "source": [
    "dropdown_variable = widgets.Dropdown(options=list(var_convert.keys()))\n",
    "variable = widgets.Output()\n",
    "\n",
    "\n",
    "def dropdown_variable_eventhandler(change):\n",
    "    variable.clear_output()\n",
    "    sel = getParameterWithFlags([var_convert[change.new]], parameter_meta)\n",
    "    display(parameter_meta.loc[sel])\n",
    "\n",
    "\n",
    "dropdown_variable.observe(dropdown_variable_eventhandler, names=\"value\")\n",
    "\n",
    "display(dropdown_variable)"
   ]
  },
  {
   "cell_type": "code",
   "execution_count": 7,
   "id": "9a559a36-da1c-4cdb-8587-8877e1cca755",
   "metadata": {},
   "outputs": [
    {
     "data": {
      "text/plain": [
       "'wind direction'"
      ]
     },
     "execution_count": 7,
     "metadata": {},
     "output_type": "execute_result"
    }
   ],
   "source": [
    "dropdown_variable.value"
   ]
  },
  {
   "cell_type": "markdown",
   "id": "4a0556e1-be25-4ff9-9c77-f1699a9e109e",
   "metadata": {},
   "source": [
    "## Make query"
   ]
  },
  {
   "cell_type": "code",
   "execution_count": 8,
   "id": "959871ee-0f22-4a3a-8a72-2648f2b9cee6",
   "metadata": {},
   "outputs": [
    {
     "name": "stdout",
     "output_type": "stream",
     "text": [
      "LOCATION: oetztal\n",
      "COORDINATES: latitude: 46.6 ... 47.3 ; longitude 10.5 ... 11.4\n",
      "\n",
      "LOCATION: tirol\n",
      "COORDINATES: latitude: 46.77 ... 47.71 ; longitude 9.53 ... 13.51\n",
      "\n"
     ]
    }
   ],
   "source": [
    "gridbox_oetz = query.LatLonBox(\n",
    "    label=\"oetztal\", lat_min=46.6, lat_max=47.3, lon_min=10.5, lon_max=11.4\n",
    ")\n",
    "print(gridbox_oetz)\n",
    "print()\n",
    "\n",
    "# gridbox for all Tirol\n",
    "gridbox_tirol = query.LatLonBox(\n",
    "    label=\"tirol\", lat_min=46.77, lat_max=47.71, lon_min=9.53, lon_max=13.51\n",
    ")\n",
    "print(gridbox_tirol)\n",
    "print()"
   ]
  },
  {
   "cell_type": "code",
   "execution_count": 9,
   "id": "616de636-93e0-4a3f-b468-f202e5817a93",
   "metadata": {},
   "outputs": [],
   "source": [
    "stations_meta = pd.read_csv(Path(\"data\").joinpath(\"ZEHNMIN_Stations-Metadaten.csv\"))\n",
    "# find stations within gridbox\n",
    "def stationsInGridbox(stations_meta, gridbox: query.LatLonBox):\n",
    "    # find stations in right longitude range\n",
    "    lon_mask = np.logical_and(\n",
    "        stations_meta[\"Länge [°E]\"].values < gridbox.lon_max,\n",
    "        stations_meta[\"Länge [°E]\"].values > gridbox.lon_min,\n",
    "    )\n",
    "    # find stations in right latitude range\n",
    "    lat_mask = np.logical_and(\n",
    "        stations_meta[\"Breite [°N]\"].values < gridbox.lat_max,\n",
    "        stations_meta[\"Breite [°N]\"].values > gridbox.lat_min,\n",
    "    )\n",
    "    # combine the masks\n",
    "    mask = np.logical_and(lat_mask, lon_mask)\n",
    "    return stations_meta[mask]"
   ]
  },
  {
   "cell_type": "code",
   "execution_count": 10,
   "id": "8b5642b3-2c07-41f9-b406-c8e8c68afc13",
   "metadata": {},
   "outputs": [
    {
     "data": {
      "text/html": [
       "<div>\n",
       "<style scoped>\n",
       "    .dataframe tbody tr th:only-of-type {\n",
       "        vertical-align: middle;\n",
       "    }\n",
       "\n",
       "    .dataframe tbody tr th {\n",
       "        vertical-align: top;\n",
       "    }\n",
       "\n",
       "    .dataframe thead th {\n",
       "        text-align: right;\n",
       "    }\n",
       "</style>\n",
       "<table border=\"1\" class=\"dataframe\">\n",
       "  <thead>\n",
       "    <tr style=\"text-align: right;\">\n",
       "      <th></th>\n",
       "      <th>id</th>\n",
       "      <th>Synopstationsnummer</th>\n",
       "      <th>Stationsname</th>\n",
       "      <th>Länge [°E]</th>\n",
       "      <th>Breite [°N]</th>\n",
       "      <th>Höhe [m]</th>\n",
       "      <th>Startdatum</th>\n",
       "      <th>Enddatum</th>\n",
       "      <th>Bundesland</th>\n",
       "      <th>Sonnenschein</th>\n",
       "      <th>Globalstrahlung</th>\n",
       "    </tr>\n",
       "  </thead>\n",
       "  <tbody>\n",
       "    <tr>\n",
       "      <th>101</th>\n",
       "      <td>11803</td>\n",
       "      <td>11320</td>\n",
       "      <td>INNSBRUCK-UNIV.</td>\n",
       "      <td>11.384167</td>\n",
       "      <td>47.259998</td>\n",
       "      <td>578.0</td>\n",
       "      <td>2009-07-14</td>\n",
       "      <td>2100-12-31</td>\n",
       "      <td>TIR</td>\n",
       "      <td>ja</td>\n",
       "      <td>ja</td>\n",
       "    </tr>\n",
       "    <tr>\n",
       "      <th>102</th>\n",
       "      <td>11804</td>\n",
       "      <td>11120</td>\n",
       "      <td>INNSBRUCK-FLUGPLATZ</td>\n",
       "      <td>11.356667</td>\n",
       "      <td>47.259998</td>\n",
       "      <td>578.0</td>\n",
       "      <td>1992-11-24</td>\n",
       "      <td>2100-12-31</td>\n",
       "      <td>TIR</td>\n",
       "      <td>ja</td>\n",
       "      <td>ja</td>\n",
       "    </tr>\n",
       "    <tr>\n",
       "      <th>116</th>\n",
       "      <td>14631</td>\n",
       "      <td>11117</td>\n",
       "      <td>UMHAUSEN</td>\n",
       "      <td>10.928889</td>\n",
       "      <td>47.139168</td>\n",
       "      <td>1035.0</td>\n",
       "      <td>2003-06-01</td>\n",
       "      <td>2100-12-31</td>\n",
       "      <td>TIR</td>\n",
       "      <td>nein</td>\n",
       "      <td>ja</td>\n",
       "    </tr>\n",
       "    <tr>\n",
       "      <th>138</th>\n",
       "      <td>17301</td>\n",
       "      <td>11127</td>\n",
       "      <td>OBERGURGL</td>\n",
       "      <td>11.024445</td>\n",
       "      <td>46.866943</td>\n",
       "      <td>1941.0</td>\n",
       "      <td>1999-01-04</td>\n",
       "      <td>2100-12-31</td>\n",
       "      <td>TIR</td>\n",
       "      <td>ja</td>\n",
       "      <td>ja</td>\n",
       "    </tr>\n",
       "    <tr>\n",
       "      <th>139</th>\n",
       "      <td>17315</td>\n",
       "      <td>11316</td>\n",
       "      <td>PITZTALER GLETSCHER</td>\n",
       "      <td>10.879167</td>\n",
       "      <td>46.926945</td>\n",
       "      <td>2863.9</td>\n",
       "      <td>1993-12-09</td>\n",
       "      <td>2100-12-31</td>\n",
       "      <td>TIR</td>\n",
       "      <td>ja</td>\n",
       "      <td>ja</td>\n",
       "    </tr>\n",
       "    <tr>\n",
       "      <th>140</th>\n",
       "      <td>17320</td>\n",
       "      <td>11318</td>\n",
       "      <td>BRUNNENKOGEL</td>\n",
       "      <td>10.861667</td>\n",
       "      <td>46.912777</td>\n",
       "      <td>3437.0</td>\n",
       "      <td>2002-01-28</td>\n",
       "      <td>2100-12-31</td>\n",
       "      <td>TIR</td>\n",
       "      <td>nein</td>\n",
       "      <td>nein</td>\n",
       "    </tr>\n",
       "    <tr>\n",
       "      <th>231</th>\n",
       "      <td>14701</td>\n",
       "      <td>11324</td>\n",
       "      <td>NEUSTIFT/MILDERS</td>\n",
       "      <td>11.291945</td>\n",
       "      <td>47.102779</td>\n",
       "      <td>1007.0</td>\n",
       "      <td>2004-11-04</td>\n",
       "      <td>2100-12-31</td>\n",
       "      <td>TIR</td>\n",
       "      <td>nein</td>\n",
       "      <td>ja</td>\n",
       "    </tr>\n",
       "    <tr>\n",
       "      <th>232</th>\n",
       "      <td>14622</td>\n",
       "      <td>11317</td>\n",
       "      <td>ST.LEONHARD/PITZTAL</td>\n",
       "      <td>10.865556</td>\n",
       "      <td>47.027222</td>\n",
       "      <td>1454.4</td>\n",
       "      <td>2007-11-27</td>\n",
       "      <td>2100-12-31</td>\n",
       "      <td>TIR</td>\n",
       "      <td>nein</td>\n",
       "      <td>ja</td>\n",
       "    </tr>\n",
       "    <tr>\n",
       "      <th>233</th>\n",
       "      <td>14603</td>\n",
       "      <td>11309</td>\n",
       "      <td>HAIMING</td>\n",
       "      <td>10.889444</td>\n",
       "      <td>47.259724</td>\n",
       "      <td>659.0</td>\n",
       "      <td>2007-08-20</td>\n",
       "      <td>2100-12-31</td>\n",
       "      <td>TIR</td>\n",
       "      <td>ja</td>\n",
       "      <td>ja</td>\n",
       "    </tr>\n",
       "    <tr>\n",
       "      <th>234</th>\n",
       "      <td>14513</td>\n",
       "      <td>11115</td>\n",
       "      <td>IMST</td>\n",
       "      <td>10.742222</td>\n",
       "      <td>47.236946</td>\n",
       "      <td>773.0</td>\n",
       "      <td>2007-08-20</td>\n",
       "      <td>2100-12-31</td>\n",
       "      <td>TIR</td>\n",
       "      <td>ja</td>\n",
       "      <td>ja</td>\n",
       "    </tr>\n",
       "    <tr>\n",
       "      <th>235</th>\n",
       "      <td>14403</td>\n",
       "      <td>11112</td>\n",
       "      <td>LANDECK</td>\n",
       "      <td>10.563611</td>\n",
       "      <td>47.140278</td>\n",
       "      <td>796.0</td>\n",
       "      <td>1993-12-23</td>\n",
       "      <td>2100-12-31</td>\n",
       "      <td>TIR</td>\n",
       "      <td>ja</td>\n",
       "      <td>ja</td>\n",
       "    </tr>\n",
       "  </tbody>\n",
       "</table>\n",
       "</div>"
      ],
      "text/plain": [
       "        id  Synopstationsnummer         Stationsname  Länge [°E]  Breite [°N]  \\\n",
       "101  11803                11320      INNSBRUCK-UNIV.   11.384167    47.259998   \n",
       "102  11804                11120  INNSBRUCK-FLUGPLATZ   11.356667    47.259998   \n",
       "116  14631                11117             UMHAUSEN   10.928889    47.139168   \n",
       "138  17301                11127            OBERGURGL   11.024445    46.866943   \n",
       "139  17315                11316  PITZTALER GLETSCHER   10.879167    46.926945   \n",
       "140  17320                11318         BRUNNENKOGEL   10.861667    46.912777   \n",
       "231  14701                11324     NEUSTIFT/MILDERS   11.291945    47.102779   \n",
       "232  14622                11317  ST.LEONHARD/PITZTAL   10.865556    47.027222   \n",
       "233  14603                11309              HAIMING   10.889444    47.259724   \n",
       "234  14513                11115                 IMST   10.742222    47.236946   \n",
       "235  14403                11112              LANDECK   10.563611    47.140278   \n",
       "\n",
       "     Höhe [m]  Startdatum    Enddatum Bundesland Sonnenschein Globalstrahlung  \n",
       "101     578.0  2009-07-14  2100-12-31        TIR           ja              ja  \n",
       "102     578.0  1992-11-24  2100-12-31        TIR           ja              ja  \n",
       "116    1035.0  2003-06-01  2100-12-31        TIR         nein              ja  \n",
       "138    1941.0  1999-01-04  2100-12-31        TIR           ja              ja  \n",
       "139    2863.9  1993-12-09  2100-12-31        TIR           ja              ja  \n",
       "140    3437.0  2002-01-28  2100-12-31        TIR         nein            nein  \n",
       "231    1007.0  2004-11-04  2100-12-31        TIR         nein              ja  \n",
       "232    1454.4  2007-11-27  2100-12-31        TIR         nein              ja  \n",
       "233     659.0  2007-08-20  2100-12-31        TIR           ja              ja  \n",
       "234     773.0  2007-08-20  2100-12-31        TIR           ja              ja  \n",
       "235     796.0  1993-12-23  2100-12-31        TIR           ja              ja  "
      ]
     },
     "execution_count": 10,
     "metadata": {},
     "output_type": "execute_result"
    }
   ],
   "source": [
    "stations_oetz = stationsInGridbox(stations_meta, gridbox_oetz)\n",
    "station_ids = stations_oetz.id.values\n",
    "station_names = stations_oetz.Stationsname.to_list()\n",
    "station_starts = stations_oetz.Startdatum.to_list()\n",
    "stations_oetz"
   ]
  },
  {
   "cell_type": "code",
   "execution_count": 11,
   "id": "ae5e2f3e-36ee-4ea3-8143-dfee990c7391",
   "metadata": {},
   "outputs": [
    {
     "name": "stdout",
     "output_type": "stream",
     "text": [
      "stationQuery for download of STATION_10min. \n",
      "params: ['TB1', 'QFLAG']\n",
      "dataset: DatasetType.STATION_10min\n",
      "station_ids: ['11803', '11804', '14631', '17301', '17315', '17320', '14701', '14622', '14603', '14513', '14403']\n",
      "station_names: ['INNSBRUCK-UNIV.', 'INNSBRUCK-FLUGPLATZ', 'UMHAUSEN', 'OBERGURGL', 'PITZTALER GLETSCHER', 'BRUNNENKOGEL', 'NEUSTIFT/MILDERS', 'ST.LEONHARD/PITZTAL', 'HAIMING', 'IMST', 'LANDECK']\n",
      "station_starts: ['2009-07-14', '1992-11-24', '2003-06-01', '1999-01-04', '1993-12-09', '2002-01-28', '2004-11-04', '2007-11-27', '2007-08-20', '2007-08-20', '1993-12-23']\n",
      "output_format: csv\n",
      "location_label: station-selection\n",
      "output_filename_head: station-10min\n"
     ]
    }
   ],
   "source": [
    "myQuery = query.stationQuery(\n",
    "    dataset, params, station_ids, station_names, station_starts\n",
    ")\n",
    "\n",
    "print(myQuery)"
   ]
  },
  {
   "cell_type": "markdown",
   "id": "a435c452-2cb1-49c8-b609-fd1257fbccfa",
   "metadata": {},
   "source": [
    "## Save/Load query to/from file"
   ]
  },
  {
   "cell_type": "code",
   "execution_count": 12,
   "id": "2e838567-d617-4b9e-a4c7-9cd84a53b87c",
   "metadata": {},
   "outputs": [
    {
     "name": "stdout",
     "output_type": "stream",
     "text": [
      "Query saved to \"./STATION_10min_query_station-selection.txt\"\n"
     ]
    }
   ],
   "source": [
    "myQuery.saveQuery()"
   ]
  },
  {
   "cell_type": "code",
   "execution_count": 13,
   "id": "b8c4b6f8-ebaf-4b5a-a926-5ce7a932f44e",
   "metadata": {},
   "outputs": [
    {
     "name": "stdout",
     "output_type": "stream",
     "text": [
      "stationQuery for download of STATION_10min. \n",
      "params: ['TB1', 'QFLAG', 'QFLAG']\n",
      "dataset: DatasetType.STATION_10min\n",
      "station_ids: ['11803', '11804', '14631', '17301', '17315', '17320', '14701', '14622', '14603', '14513', '14403']\n",
      "station_names: ['INNSBRUCK-UNIV.', 'INNSBRUCK-FLUGPLATZ', 'UMHAUSEN', 'OBERGURGL', 'PITZTALER GLETSCHER', 'BRUNNENKOGEL', 'NEUSTIFT/MILDERS', 'ST.LEONHARD/PITZTAL', 'HAIMING', 'IMST', 'LANDECK']\n",
      "station_starts: ['2009-07-14', '1992-11-24', '2003-06-01', '1999-01-04', '1993-12-09', '2002-01-28', '2004-11-04', '2007-11-27', '2007-08-20', '2007-08-20', '1993-12-23']\n",
      "output_format: csv\n",
      "location_label: station-selection\n",
      "output_filename_head: station-10min\n"
     ]
    }
   ],
   "source": [
    "print(query.loadQuery(\"./STATION_10min_query_station-selection.txt\"))"
   ]
  },
  {
   "cell_type": "markdown",
   "id": "233f91c0-1420-488b-8832-68a23c020ff0",
   "metadata": {
    "tags": []
   },
   "source": [
    "# Download"
   ]
  },
  {
   "cell_type": "code",
   "execution_count": 14,
   "id": "67d137c5-9fba-4985-a90e-41d3de005985",
   "metadata": {},
   "outputs": [
    {
     "data": {
      "text/plain": [
       "['https://dataset.api.hub.zamg.ac.at/v1/station/historical/klima-v1-10min?parameters=TB1&parameters=QFLAG&start=2009-07-14&end=2022-05-25&station_ids=11803&output_format=csv&filename=dummy',\n",
       " 'https://dataset.api.hub.zamg.ac.at/v1/station/historical/klima-v1-10min?parameters=TB1&parameters=QFLAG&start=1992-11-24&end=2022-05-25&station_ids=11804&output_format=csv&filename=dummy',\n",
       " 'https://dataset.api.hub.zamg.ac.at/v1/station/historical/klima-v1-10min?parameters=TB1&parameters=QFLAG&start=2003-06-01&end=2022-05-25&station_ids=14631&output_format=csv&filename=dummy',\n",
       " 'https://dataset.api.hub.zamg.ac.at/v1/station/historical/klima-v1-10min?parameters=TB1&parameters=QFLAG&start=1999-01-04&end=2022-05-25&station_ids=17301&output_format=csv&filename=dummy',\n",
       " 'https://dataset.api.hub.zamg.ac.at/v1/station/historical/klima-v1-10min?parameters=TB1&parameters=QFLAG&start=1993-12-09&end=2022-05-25&station_ids=17315&output_format=csv&filename=dummy',\n",
       " 'https://dataset.api.hub.zamg.ac.at/v1/station/historical/klima-v1-10min?parameters=TB1&parameters=QFLAG&start=2002-01-28&end=2022-05-25&station_ids=17320&output_format=csv&filename=dummy',\n",
       " 'https://dataset.api.hub.zamg.ac.at/v1/station/historical/klima-v1-10min?parameters=TB1&parameters=QFLAG&start=2004-11-04&end=2022-05-25&station_ids=14701&output_format=csv&filename=dummy',\n",
       " 'https://dataset.api.hub.zamg.ac.at/v1/station/historical/klima-v1-10min?parameters=TB1&parameters=QFLAG&start=2007-11-27&end=2022-05-25&station_ids=14622&output_format=csv&filename=dummy',\n",
       " 'https://dataset.api.hub.zamg.ac.at/v1/station/historical/klima-v1-10min?parameters=TB1&parameters=QFLAG&start=2007-08-20&end=2022-05-25&station_ids=14603&output_format=csv&filename=dummy',\n",
       " 'https://dataset.api.hub.zamg.ac.at/v1/station/historical/klima-v1-10min?parameters=TB1&parameters=QFLAG&start=2007-08-20&end=2022-05-25&station_ids=14513&output_format=csv&filename=dummy',\n",
       " 'https://dataset.api.hub.zamg.ac.at/v1/station/historical/klima-v1-10min?parameters=TB1&parameters=QFLAG&start=1993-12-23&end=2022-05-25&station_ids=14403&output_format=csv&filename=dummy']"
      ]
     },
     "execution_count": 14,
     "metadata": {},
     "output_type": "execute_result"
    }
   ],
   "source": [
    "data_download.makeURL(myQuery, start, end)"
   ]
  },
  {
   "cell_type": "code",
   "execution_count": null,
   "id": "135db2eb-03c4-4be3-94f7-c477a6788c4c",
   "metadata": {},
   "outputs": [
    {
     "name": "stdout",
     "output_type": "stream",
     "text": [
      "Starting download of 11803_INNSBRUCK-UNIV._station-10min_TB1,QFLAG_20090714-20220525.csv\n",
      "11803_INNSBRUCK-UNIV._station-10min_TB1,QFLAG_20090714-20220525.csv was downloaded.\n",
      "Starting download of 11804_INNSBRUCK-FLUGPLATZ_station-10min_TB1,QFLAG_19921124-20220525.csv\n",
      "HTTP Error 504: Gateway Time-out\n",
      "Trying again...\n"
     ]
    },
    {
     "name": "stderr",
     "output_type": "stream",
     "text": [
      "Process ForkPoolWorker-1:\n",
      "Process ForkPoolWorker-3:\n",
      "Process ForkPoolWorker-7:\n",
      "Process ForkPoolWorker-10:\n",
      "Process ForkPoolWorker-9:\n",
      "Process ForkPoolWorker-4:\n",
      "Process ForkPoolWorker-6:\n",
      "Process ForkPoolWorker-8:\n",
      "Process ForkPoolWorker-12:\n",
      "Process ForkPoolWorker-5:\n",
      "Process ForkPoolWorker-11:\n"
     ]
    },
    {
     "name": "stdout",
     "output_type": "stream",
     "text": [
      "Failed to download 11804_INNSBRUCK-FLUGPLATZ_station-10min_TB1,QFLAG_19921124-20220525.csv\n",
      "Try requesting less data, e.g. fewer parameters or smaller time periods."
     ]
    },
    {
     "name": "stderr",
     "output_type": "stream",
     "text": [
      "Traceback (most recent call last):\n",
      "Traceback (most recent call last):\n",
      "Traceback (most recent call last):\n",
      "Traceback (most recent call last):\n",
      "Traceback (most recent call last):\n",
      "  File \"/home/skalevag/anaconda3/lib/python3.8/multiprocessing/process.py\", line 315, in _bootstrap\n",
      "    self.run()\n",
      "Traceback (most recent call last):\n",
      "  File \"/home/skalevag/anaconda3/lib/python3.8/multiprocessing/process.py\", line 315, in _bootstrap\n",
      "    self.run()\n",
      "Traceback (most recent call last):\n",
      "  File \"/home/skalevag/anaconda3/lib/python3.8/multiprocessing/process.py\", line 315, in _bootstrap\n",
      "    self.run()\n"
     ]
    },
    {
     "name": "stdout",
     "output_type": "stream",
     "text": [
      "\n"
     ]
    },
    {
     "name": "stderr",
     "output_type": "stream",
     "text": [
      "  File \"/home/skalevag/anaconda3/lib/python3.8/multiprocessing/process.py\", line 108, in run\n",
      "    self._target(*self._args, **self._kwargs)\n",
      "  File \"/home/skalevag/anaconda3/lib/python3.8/multiprocessing/process.py\", line 315, in _bootstrap\n",
      "    self.run()\n",
      "  File \"/home/skalevag/anaconda3/lib/python3.8/multiprocessing/process.py\", line 315, in _bootstrap\n",
      "    self.run()\n",
      "  File \"/home/skalevag/anaconda3/lib/python3.8/multiprocessing/process.py\", line 108, in run\n",
      "    self._target(*self._args, **self._kwargs)\n",
      "  File \"/home/skalevag/anaconda3/lib/python3.8/multiprocessing/process.py\", line 315, in _bootstrap\n",
      "    self.run()\n",
      "  File \"/home/skalevag/anaconda3/lib/python3.8/multiprocessing/process.py\", line 108, in run\n",
      "    self._target(*self._args, **self._kwargs)\n",
      "Process ForkPoolWorker-2:\n",
      "  File \"/home/skalevag/anaconda3/lib/python3.8/multiprocessing/pool.py\", line 114, in worker\n",
      "    task = get()\n",
      "Traceback (most recent call last):\n",
      "  File \"/home/skalevag/anaconda3/lib/python3.8/multiprocessing/process.py\", line 108, in run\n",
      "    self._target(*self._args, **self._kwargs)\n",
      "  File \"/home/skalevag/anaconda3/lib/python3.8/multiprocessing/pool.py\", line 114, in worker\n",
      "    task = get()\n",
      "  File \"/home/skalevag/anaconda3/lib/python3.8/multiprocessing/process.py\", line 108, in run\n",
      "    self._target(*self._args, **self._kwargs)\n",
      "  File \"/home/skalevag/anaconda3/lib/python3.8/multiprocessing/process.py\", line 108, in run\n",
      "    self._target(*self._args, **self._kwargs)\n",
      "Traceback (most recent call last):\n",
      "  File \"/home/skalevag/anaconda3/lib/python3.8/multiprocessing/queues.py\", line 355, in get\n",
      "    with self._rlock:\n",
      "  File \"/home/skalevag/anaconda3/lib/python3.8/multiprocessing/pool.py\", line 114, in worker\n",
      "    task = get()\n"
     ]
    }
   ],
   "source": [
    "data_download.downloadData(\n",
    "    myQuery, start, end, ODIR, overwrite=overwrite, verbose=verbose, parallel=True\n",
    ")"
   ]
  },
  {
   "cell_type": "code",
   "execution_count": null,
   "id": "ecb070fd-5c5d-4af0-b340-84490db6e102",
   "metadata": {},
   "outputs": [],
   "source": []
  },
  {
   "cell_type": "code",
   "execution_count": null,
   "id": "1b21f23e-bf10-4b8c-a52a-043e762cd67b",
   "metadata": {},
   "outputs": [],
   "source": []
  }
 ],
 "metadata": {
  "kernelspec": {
   "display_name": "Python 3 (ipykernel)",
   "language": "python",
   "name": "python3"
  },
  "language_info": {
   "codemirror_mode": {
    "name": "ipython",
    "version": 3
   },
   "file_extension": ".py",
   "mimetype": "text/x-python",
   "name": "python",
   "nbconvert_exporter": "python",
   "pygments_lexer": "ipython3",
   "version": "3.8.12"
  }
 },
 "nbformat": 4,
 "nbformat_minor": 5
}
