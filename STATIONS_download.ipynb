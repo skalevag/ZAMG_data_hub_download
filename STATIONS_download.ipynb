{
 "cells": [
  {
   "cell_type": "markdown",
   "id": "8078ae04-0afd-4576-89d9-9207d738b280",
   "metadata": {
    "tags": []
   },
   "source": [
    "# Introduction\n",
    "\n",
    "Example script for downloading SPARTACUS data.\n",
    "\n",
    "**Website only allows for 6 months to 1 year's worth of data to be downloaded at a time, depending on the size of the lat-lon box.**"
   ]
  },
  {
   "cell_type": "markdown",
   "id": "788da03f-b460-456c-9493-cdf26d72d092",
   "metadata": {},
   "source": [
    "https://dataset.api.hub.zamg.ac.at/v1/station/historical/klima-v1-10min?parameters=DD&parameters=DDX&parameters=DDX_FLAG&parameters=DD_FLAG&parameters=FF&parameters=FFAM&parameters=FFAM_FLAG&parameters=FFX&parameters=FFX_FLAG&parameters=FF_FLAG&parameters=GSX&parameters=GSX_FLAG&parameters=HSR&parameters=HSR_FLAG&parameters=HSX&parameters=HSX_FLAG&parameters=P&parameters=P0&parameters=P0_FLAG&parameters=P_FLAG&parameters=QFLAG&parameters=RF&parameters=RF_FLAG&parameters=RR&parameters=RRM&parameters=RRM_FLAG&parameters=RR_FLAG&parameters=SH&parameters=SH_FLAG&parameters=SO&parameters=SO_FLAG&parameters=TB1&parameters=TB1_FLAG&parameters=TB2&parameters=TB2_FLAG&parameters=TB3&parameters=TB3_FLAG&parameters=TL&parameters=TLMAX&parameters=TLMAX_FLAG&parameters=TLMIN&parameters=TLMIN_FLAG&parameters=TL_FLAG&parameters=TP&parameters=TP_FLAG&parameters=TS&parameters=TSMAX&parameters=TSMAX_FLAG&parameters=TSMIN&parameters=TSMIN_FLAG&parameters=TS_FLAG&parameters=ZEITX&parameters=ZEITX_FLAG&start=1992-05-20T00%3A00%3A00&end=2022-05-21T23%3A59%3A59&station_ids=905&output_format=csv&filename=ZEHNMIN+Datensatz_19920520_20220521"
   ]
  },
  {
   "cell_type": "markdown",
   "id": "5e6bac1a-7d5e-48d1-b324-64ccea39e40f",
   "metadata": {},
   "source": [
    "**TODOs:**\n",
    "\n",
    "- edit query class init?\n",
    "- create some kind of overview dict or table for the parameters\n",
    "- use station IDs (download station table and use for selection? or just tell user to look up herself)"
   ]
  },
  {
   "cell_type": "markdown",
   "id": "b3d7faaa-bcc1-43be-a3c5-c96efc35fee8",
   "metadata": {},
   "source": [
    "# Setup"
   ]
  },
  {
   "cell_type": "markdown",
   "id": "109eb99d-dc3f-4dcb-885f-fde6edc3adc1",
   "metadata": {},
   "source": [
    "## Modules"
   ]
  },
  {
   "cell_type": "code",
   "execution_count": 1,
   "id": "3ca8ae8c-bdc5-451c-82d6-97afc777dc58",
   "metadata": {},
   "outputs": [],
   "source": [
    "import datetime as dt\n",
    "from pathlib import Path\n",
    "\n",
    "import ipywidgets as widgets\n",
    "import numpy as np\n",
    "import pandas as pd\n",
    "from IPython.display import display\n",
    "\n",
    "from ZAMGdatahub import data_download, query, utils"
   ]
  },
  {
   "cell_type": "markdown",
   "id": "fec3f4ac-c94e-462f-9190-17c371613f65",
   "metadata": {},
   "source": [
    "## Global variables"
   ]
  },
  {
   "cell_type": "code",
   "execution_count": 2,
   "id": "a31001cd-6695-476c-a642-fa7526452dac",
   "metadata": {},
   "outputs": [],
   "source": [
    "# set output directory\n",
    "ODIR = \"/home/skalevag/Documents/NRC_P8_water_energy_and_sediment/data/meteo_stations/\"\n",
    "ODIR = Path(ODIR)\n",
    "\n",
    "if not ODIR.is_dir():\n",
    "    ODIR.mkdir(parents=True)\n",
    "\n",
    "# variable\n",
    "params = [\n",
    "    \"RR\",\n",
    "    \"TL\",\n",
    "    \"TB1\",\n",
    "    \"TB2\",\n",
    "    \"TB3\",\n",
    "]  # precipitation, air temperature and ground temperature\n",
    "\n",
    "params = [\"TB1\"]  # only soil temperature for testing\n",
    "\n",
    "maxMonths = 12\n",
    "\n",
    "overwrite = False\n",
    "overwriteMerge = False\n",
    "verbose = True\n",
    "\n",
    "datetimeformat = \"%Y-%m-%d %H:%M\"\n",
    "start = \"1992-08-01 00:00\"  # inclusive\n",
    "end = dt.datetime.now().strftime(datetimeformat)"
   ]
  },
  {
   "cell_type": "code",
   "execution_count": 3,
   "id": "ac3751d1-2c00-4523-b3f9-6b5320080928",
   "metadata": {},
   "outputs": [
    {
     "name": "stdout",
     "output_type": "stream",
     "text": [
      "DatasetType.STATION_10min\n"
     ]
    }
   ],
   "source": [
    "# dataset type\n",
    "dataset = query.DatasetType.STATION_10min\n",
    "print(dataset)"
   ]
  },
  {
   "cell_type": "code",
   "execution_count": 4,
   "id": "c0d9fe96-e815-4738-90a9-84ce2de40ad2",
   "metadata": {},
   "outputs": [
    {
     "data": {
      "text/plain": [
       "{'wind direction': 'DD',\n",
       " 'wind speed': 'FF',\n",
       " 'global radiation': 'GS',\n",
       " 'diffuse radiation': 'HS',\n",
       " 'air pressure': 'P',\n",
       " 'relative humidity': 'RF',\n",
       " 'precipitation': 'RR',\n",
       " 'snow depth': 'SH',\n",
       " 'sunshine duration': 'SO',\n",
       " 'soil temperature': 'TB',\n",
       " 'air temperature 2m': 'TL',\n",
       " 'dew point': 'TP',\n",
       " 'air temperature 5cm': 'TS',\n",
       " 'timestamp of maximum wind speed': 'ZEIT',\n",
       " 'quality flag': 'QFLAG'}"
      ]
     },
     "execution_count": 4,
     "metadata": {},
     "output_type": "execute_result"
    }
   ],
   "source": [
    "# get the parameter heads\n",
    "param_heads = [\n",
    "    \"DD\",\n",
    "    \"FF\",\n",
    "    \"GS\",\n",
    "    \"HS\",\n",
    "    \"P\",\n",
    "    \"RF\",\n",
    "    \"RR\",\n",
    "    \"SH\",\n",
    "    \"SO\",\n",
    "    \"TB\",\n",
    "    \"TL\",\n",
    "    \"TP\",\n",
    "    \"TS\",\n",
    "    \"ZEIT\",\n",
    "]\n",
    "\n",
    "param_heads_eng = [\n",
    "    \"wind direction\",\n",
    "    \"wind speed\",\n",
    "    \"global radiation\",\n",
    "    \"diffuse radiation\",\n",
    "    \"air pressure\",\n",
    "    \"relative humidity\",\n",
    "    \"precipitation\",\n",
    "    \"snow depth\",\n",
    "    \"sunshine duration\",\n",
    "    \"soil temperature\",\n",
    "    \"air temperature 2m\",\n",
    "    \"dew point\",\n",
    "    \"air temperature 5cm\",\n",
    "    \"timestamp of maximum wind speed\",\n",
    "]\n",
    "# append quality flag parameter which should always be included\n",
    "param_heads.append(\"QFLAG\")\n",
    "param_heads_eng.append(\"quality flag\")\n",
    "var_convert = dict(zip(param_heads_eng, param_heads))\n",
    "var_convert"
   ]
  },
  {
   "cell_type": "code",
   "execution_count": 5,
   "id": "de58e010-4827-409a-894c-fddb1d7ebbee",
   "metadata": {},
   "outputs": [
    {
     "data": {
      "text/html": [
       "<div>\n",
       "<style scoped>\n",
       "    .dataframe tbody tr th:only-of-type {\n",
       "        vertical-align: middle;\n",
       "    }\n",
       "\n",
       "    .dataframe tbody tr th {\n",
       "        vertical-align: top;\n",
       "    }\n",
       "\n",
       "    .dataframe thead th {\n",
       "        text-align: right;\n",
       "    }\n",
       "</style>\n",
       "<table border=\"1\" class=\"dataframe\">\n",
       "  <thead>\n",
       "    <tr style=\"text-align: right;\">\n",
       "      <th></th>\n",
       "      <th>Kurzbeschreibung</th>\n",
       "      <th>Beschreibung</th>\n",
       "      <th>Einheit</th>\n",
       "    </tr>\n",
       "  </thead>\n",
       "  <tbody>\n",
       "    <tr>\n",
       "      <th>TB1</th>\n",
       "      <td>Erdbodentemperatur in 10cm Tiefe</td>\n",
       "      <td>Erdbodentemperatur in 10cm Tiefe, Basiswert zu...</td>\n",
       "      <td>°C</td>\n",
       "    </tr>\n",
       "  </tbody>\n",
       "</table>\n",
       "</div>"
      ],
      "text/plain": [
       "                     Kurzbeschreibung  \\\n",
       "TB1  Erdbodentemperatur in 10cm Tiefe   \n",
       "\n",
       "                                          Beschreibung Einheit  \n",
       "TB1  Erdbodentemperatur in 10cm Tiefe, Basiswert zu...      °C  "
      ]
     },
     "execution_count": 5,
     "metadata": {},
     "output_type": "execute_result"
    }
   ],
   "source": [
    "stations_meta = pd.read_csv(\"ZEHNMIN Stations-Metadaten.csv\")\n",
    "parameter_meta = pd.read_csv(\"ZEHNMIN Parameter-Metadaten.csv\", index_col=0)\n",
    "parameter_meta.loc[params]"
   ]
  },
  {
   "cell_type": "code",
   "execution_count": 6,
   "id": "4f757d74-2fb2-4c3e-ab78-e75622002815",
   "metadata": {},
   "outputs": [
    {
     "data": {
      "text/html": [
       "<div>\n",
       "<style scoped>\n",
       "    .dataframe tbody tr th:only-of-type {\n",
       "        vertical-align: middle;\n",
       "    }\n",
       "\n",
       "    .dataframe tbody tr th {\n",
       "        vertical-align: top;\n",
       "    }\n",
       "\n",
       "    .dataframe thead th {\n",
       "        text-align: right;\n",
       "    }\n",
       "</style>\n",
       "<table border=\"1\" class=\"dataframe\">\n",
       "  <thead>\n",
       "    <tr style=\"text-align: right;\">\n",
       "      <th></th>\n",
       "      <th>Kurzbeschreibung</th>\n",
       "      <th>Beschreibung</th>\n",
       "      <th>Einheit</th>\n",
       "    </tr>\n",
       "  </thead>\n",
       "  <tbody>\n",
       "    <tr>\n",
       "      <th>TB1</th>\n",
       "      <td>Erdbodentemperatur in 10cm Tiefe</td>\n",
       "      <td>Erdbodentemperatur in 10cm Tiefe, Basiswert zu...</td>\n",
       "      <td>°C</td>\n",
       "    </tr>\n",
       "    <tr>\n",
       "      <th>TB1_FLAG</th>\n",
       "      <td>Qualitätsflag der Erdbodentemperatur in 10 cm</td>\n",
       "      <td>Qualitätsflag für die Erdbodentemperatur in 10...</td>\n",
       "      <td>code</td>\n",
       "    </tr>\n",
       "  </tbody>\n",
       "</table>\n",
       "</div>"
      ],
      "text/plain": [
       "                                       Kurzbeschreibung  \\\n",
       "TB1                    Erdbodentemperatur in 10cm Tiefe   \n",
       "TB1_FLAG  Qualitätsflag der Erdbodentemperatur in 10 cm   \n",
       "\n",
       "                                               Beschreibung Einheit  \n",
       "TB1       Erdbodentemperatur in 10cm Tiefe, Basiswert zu...      °C  \n",
       "TB1_FLAG  Qualitätsflag für die Erdbodentemperatur in 10...    code  "
      ]
     },
     "execution_count": 6,
     "metadata": {},
     "output_type": "execute_result"
    }
   ],
   "source": [
    "def getParameterWithFlags(params, parameter_meta):\n",
    "    params_extra = []\n",
    "    for key in params:\n",
    "        params_extra = params_extra + [\n",
    "            par for par in parameter_meta.index if par[: len(key)] == key\n",
    "        ]\n",
    "    return params_extra\n",
    "\n",
    "\n",
    "params_extra = getParameterWithFlags(params, parameter_meta)\n",
    "parameter_meta.loc[params_extra]"
   ]
  },
  {
   "cell_type": "code",
   "execution_count": 7,
   "id": "bf1e2fbf-7aa8-40f6-884e-1f6948b14617",
   "metadata": {},
   "outputs": [
    {
     "data": {
      "application/vnd.jupyter.widget-view+json": {
       "model_id": "eabe4445505549a6aa72f3058757247a",
       "version_major": 2,
       "version_minor": 0
      },
      "text/plain": [
       "Dropdown(options=('wind direction', 'wind speed', 'global radiation', 'diffuse radiation', 'air pressure', 're…"
      ]
     },
     "metadata": {},
     "output_type": "display_data"
    }
   ],
   "source": [
    "dropdown_variable = widgets.Dropdown(options=param_heads_eng)\n",
    "variable = widgets.Output()\n",
    "\n",
    "\n",
    "def dropdown_variable_eventhandler(change):\n",
    "    variable.clear_output()\n",
    "    sel = getParameterWithFlags([var_convert[change.new]], parameter_meta)\n",
    "    display(parameter_meta.loc[sel])\n",
    "\n",
    "\n",
    "dropdown_variable.observe(dropdown_variable_eventhandler, names=\"value\")\n",
    "\n",
    "display(dropdown_variable)"
   ]
  },
  {
   "cell_type": "code",
   "execution_count": 8,
   "id": "9a559a36-da1c-4cdb-8587-8877e1cca755",
   "metadata": {},
   "outputs": [
    {
     "data": {
      "text/plain": [
       "'wind direction'"
      ]
     },
     "execution_count": 8,
     "metadata": {},
     "output_type": "execute_result"
    }
   ],
   "source": [
    "dropdown_variable.value"
   ]
  },
  {
   "cell_type": "markdown",
   "id": "4a0556e1-be25-4ff9-9c77-f1699a9e109e",
   "metadata": {},
   "source": [
    "## Make query"
   ]
  },
  {
   "cell_type": "code",
   "execution_count": 9,
   "id": "959871ee-0f22-4a3a-8a72-2648f2b9cee6",
   "metadata": {},
   "outputs": [
    {
     "name": "stdout",
     "output_type": "stream",
     "text": [
      "LOCATION: oetztal\n",
      "COORDINATES: latitude: 46.6 ... 47.3 ; longitude 10.5 ... 11.4\n",
      "\n",
      "LOCATION: tirol\n",
      "COORDINATES: latitude: 46.77 ... 47.71 ; longitude 9.53 ... 13.51\n",
      "\n"
     ]
    }
   ],
   "source": [
    "gridbox_oetz = query.LatLonBox(\n",
    "    label=\"oetztal\", lat_min=46.6, lat_max=47.3, lon_min=10.5, lon_max=11.4\n",
    ")\n",
    "print(gridbox_oetz)\n",
    "print()\n",
    "\n",
    "# gridbox for all Tirol\n",
    "gridbox_tirol = query.LatLonBox(\n",
    "    label=\"tirol\", lat_min=46.77, lat_max=47.71, lon_min=9.53, lon_max=13.51\n",
    ")\n",
    "print(gridbox_tirol)\n",
    "print()"
   ]
  },
  {
   "cell_type": "code",
   "execution_count": 10,
   "id": "616de636-93e0-4a3f-b468-f202e5817a93",
   "metadata": {},
   "outputs": [],
   "source": [
    "# find stations within gridbox\n",
    "def stationsInGridbox(stations_meta, gridbox: query.LatLonBox):\n",
    "    # find stations in right longitude range\n",
    "    lon_mask = np.logical_and(\n",
    "        stations_meta[\"Länge [°E]\"].values < gridbox.lon_max,\n",
    "        stations_meta[\"Länge [°E]\"].values > gridbox.lon_min,\n",
    "    )\n",
    "    # find stations in right latitude range\n",
    "    lat_mask = np.logical_and(\n",
    "        stations_meta[\"Breite [°N]\"].values < gridbox.lat_max,\n",
    "        stations_meta[\"Breite [°N]\"].values > gridbox.lat_min,\n",
    "    )\n",
    "    # combine the masks\n",
    "    mask = np.logical_and(lat_mask, lon_mask)\n",
    "    return stations_meta[mask]"
   ]
  },
  {
   "cell_type": "code",
   "execution_count": 11,
   "id": "8b5642b3-2c07-41f9-b406-c8e8c68afc13",
   "metadata": {},
   "outputs": [
    {
     "data": {
      "text/html": [
       "<div>\n",
       "<style scoped>\n",
       "    .dataframe tbody tr th:only-of-type {\n",
       "        vertical-align: middle;\n",
       "    }\n",
       "\n",
       "    .dataframe tbody tr th {\n",
       "        vertical-align: top;\n",
       "    }\n",
       "\n",
       "    .dataframe thead th {\n",
       "        text-align: right;\n",
       "    }\n",
       "</style>\n",
       "<table border=\"1\" class=\"dataframe\">\n",
       "  <thead>\n",
       "    <tr style=\"text-align: right;\">\n",
       "      <th></th>\n",
       "      <th>id</th>\n",
       "      <th>Synopstationsnummer</th>\n",
       "      <th>Stationsname</th>\n",
       "      <th>Länge [°E]</th>\n",
       "      <th>Breite [°N]</th>\n",
       "      <th>Höhe [m]</th>\n",
       "      <th>Startdatum</th>\n",
       "      <th>Enddatum</th>\n",
       "      <th>Bundesland</th>\n",
       "      <th>Sonnenschein</th>\n",
       "      <th>Globalstrahlung</th>\n",
       "    </tr>\n",
       "  </thead>\n",
       "  <tbody>\n",
       "    <tr>\n",
       "      <th>101</th>\n",
       "      <td>11803</td>\n",
       "      <td>11320</td>\n",
       "      <td>INNSBRUCK-UNIV.</td>\n",
       "      <td>11.384167</td>\n",
       "      <td>47.259998</td>\n",
       "      <td>578.0</td>\n",
       "      <td>2009-07-14</td>\n",
       "      <td>2100-12-31</td>\n",
       "      <td>TIR</td>\n",
       "      <td>ja</td>\n",
       "      <td>ja</td>\n",
       "    </tr>\n",
       "    <tr>\n",
       "      <th>102</th>\n",
       "      <td>11804</td>\n",
       "      <td>11120</td>\n",
       "      <td>INNSBRUCK-FLUGPLATZ</td>\n",
       "      <td>11.356667</td>\n",
       "      <td>47.259998</td>\n",
       "      <td>578.0</td>\n",
       "      <td>1992-11-24</td>\n",
       "      <td>2100-12-31</td>\n",
       "      <td>TIR</td>\n",
       "      <td>ja</td>\n",
       "      <td>ja</td>\n",
       "    </tr>\n",
       "    <tr>\n",
       "      <th>116</th>\n",
       "      <td>14631</td>\n",
       "      <td>11117</td>\n",
       "      <td>UMHAUSEN</td>\n",
       "      <td>10.928889</td>\n",
       "      <td>47.139168</td>\n",
       "      <td>1035.0</td>\n",
       "      <td>2003-06-01</td>\n",
       "      <td>2100-12-31</td>\n",
       "      <td>TIR</td>\n",
       "      <td>nein</td>\n",
       "      <td>ja</td>\n",
       "    </tr>\n",
       "    <tr>\n",
       "      <th>138</th>\n",
       "      <td>17301</td>\n",
       "      <td>11127</td>\n",
       "      <td>OBERGURGL</td>\n",
       "      <td>11.024445</td>\n",
       "      <td>46.866943</td>\n",
       "      <td>1941.0</td>\n",
       "      <td>1999-01-04</td>\n",
       "      <td>2100-12-31</td>\n",
       "      <td>TIR</td>\n",
       "      <td>ja</td>\n",
       "      <td>ja</td>\n",
       "    </tr>\n",
       "    <tr>\n",
       "      <th>139</th>\n",
       "      <td>17315</td>\n",
       "      <td>11316</td>\n",
       "      <td>PITZTALER GLETSCHER</td>\n",
       "      <td>10.879167</td>\n",
       "      <td>46.926945</td>\n",
       "      <td>2863.9</td>\n",
       "      <td>1993-12-09</td>\n",
       "      <td>2100-12-31</td>\n",
       "      <td>TIR</td>\n",
       "      <td>ja</td>\n",
       "      <td>ja</td>\n",
       "    </tr>\n",
       "    <tr>\n",
       "      <th>140</th>\n",
       "      <td>17320</td>\n",
       "      <td>11318</td>\n",
       "      <td>BRUNNENKOGEL</td>\n",
       "      <td>10.861667</td>\n",
       "      <td>46.912777</td>\n",
       "      <td>3437.0</td>\n",
       "      <td>2002-01-28</td>\n",
       "      <td>2100-12-31</td>\n",
       "      <td>TIR</td>\n",
       "      <td>nein</td>\n",
       "      <td>nein</td>\n",
       "    </tr>\n",
       "    <tr>\n",
       "      <th>231</th>\n",
       "      <td>14701</td>\n",
       "      <td>11324</td>\n",
       "      <td>NEUSTIFT/MILDERS</td>\n",
       "      <td>11.291945</td>\n",
       "      <td>47.102779</td>\n",
       "      <td>1007.0</td>\n",
       "      <td>2004-11-04</td>\n",
       "      <td>2100-12-31</td>\n",
       "      <td>TIR</td>\n",
       "      <td>nein</td>\n",
       "      <td>ja</td>\n",
       "    </tr>\n",
       "    <tr>\n",
       "      <th>232</th>\n",
       "      <td>14622</td>\n",
       "      <td>11317</td>\n",
       "      <td>ST.LEONHARD/PITZTAL</td>\n",
       "      <td>10.865556</td>\n",
       "      <td>47.027222</td>\n",
       "      <td>1454.4</td>\n",
       "      <td>2007-11-27</td>\n",
       "      <td>2100-12-31</td>\n",
       "      <td>TIR</td>\n",
       "      <td>nein</td>\n",
       "      <td>ja</td>\n",
       "    </tr>\n",
       "    <tr>\n",
       "      <th>233</th>\n",
       "      <td>14603</td>\n",
       "      <td>11309</td>\n",
       "      <td>HAIMING</td>\n",
       "      <td>10.889444</td>\n",
       "      <td>47.259724</td>\n",
       "      <td>659.0</td>\n",
       "      <td>2007-08-20</td>\n",
       "      <td>2100-12-31</td>\n",
       "      <td>TIR</td>\n",
       "      <td>ja</td>\n",
       "      <td>ja</td>\n",
       "    </tr>\n",
       "    <tr>\n",
       "      <th>234</th>\n",
       "      <td>14513</td>\n",
       "      <td>11115</td>\n",
       "      <td>IMST</td>\n",
       "      <td>10.742222</td>\n",
       "      <td>47.236946</td>\n",
       "      <td>773.0</td>\n",
       "      <td>2007-08-20</td>\n",
       "      <td>2100-12-31</td>\n",
       "      <td>TIR</td>\n",
       "      <td>ja</td>\n",
       "      <td>ja</td>\n",
       "    </tr>\n",
       "    <tr>\n",
       "      <th>235</th>\n",
       "      <td>14403</td>\n",
       "      <td>11112</td>\n",
       "      <td>LANDECK</td>\n",
       "      <td>10.563611</td>\n",
       "      <td>47.140278</td>\n",
       "      <td>796.0</td>\n",
       "      <td>1993-12-23</td>\n",
       "      <td>2100-12-31</td>\n",
       "      <td>TIR</td>\n",
       "      <td>ja</td>\n",
       "      <td>ja</td>\n",
       "    </tr>\n",
       "  </tbody>\n",
       "</table>\n",
       "</div>"
      ],
      "text/plain": [
       "        id  Synopstationsnummer         Stationsname  Länge [°E]  Breite [°N]  \\\n",
       "101  11803                11320      INNSBRUCK-UNIV.   11.384167    47.259998   \n",
       "102  11804                11120  INNSBRUCK-FLUGPLATZ   11.356667    47.259998   \n",
       "116  14631                11117             UMHAUSEN   10.928889    47.139168   \n",
       "138  17301                11127            OBERGURGL   11.024445    46.866943   \n",
       "139  17315                11316  PITZTALER GLETSCHER   10.879167    46.926945   \n",
       "140  17320                11318         BRUNNENKOGEL   10.861667    46.912777   \n",
       "231  14701                11324     NEUSTIFT/MILDERS   11.291945    47.102779   \n",
       "232  14622                11317  ST.LEONHARD/PITZTAL   10.865556    47.027222   \n",
       "233  14603                11309              HAIMING   10.889444    47.259724   \n",
       "234  14513                11115                 IMST   10.742222    47.236946   \n",
       "235  14403                11112              LANDECK   10.563611    47.140278   \n",
       "\n",
       "     Höhe [m]  Startdatum    Enddatum Bundesland Sonnenschein Globalstrahlung  \n",
       "101     578.0  2009-07-14  2100-12-31        TIR           ja              ja  \n",
       "102     578.0  1992-11-24  2100-12-31        TIR           ja              ja  \n",
       "116    1035.0  2003-06-01  2100-12-31        TIR         nein              ja  \n",
       "138    1941.0  1999-01-04  2100-12-31        TIR           ja              ja  \n",
       "139    2863.9  1993-12-09  2100-12-31        TIR           ja              ja  \n",
       "140    3437.0  2002-01-28  2100-12-31        TIR         nein            nein  \n",
       "231    1007.0  2004-11-04  2100-12-31        TIR         nein              ja  \n",
       "232    1454.4  2007-11-27  2100-12-31        TIR         nein              ja  \n",
       "233     659.0  2007-08-20  2100-12-31        TIR           ja              ja  \n",
       "234     773.0  2007-08-20  2100-12-31        TIR           ja              ja  \n",
       "235     796.0  1993-12-23  2100-12-31        TIR           ja              ja  "
      ]
     },
     "execution_count": 11,
     "metadata": {},
     "output_type": "execute_result"
    }
   ],
   "source": [
    "stations_oetz = stationsInGridbox(stations_meta, gridbox_oetz)\n",
    "station_ids = stations_oetz.id.values\n",
    "stations_oetz"
   ]
  },
  {
   "cell_type": "code",
   "execution_count": 12,
   "id": "ae5e2f3e-36ee-4ea3-8143-dfee990c7391",
   "metadata": {},
   "outputs": [
    {
     "name": "stdout",
     "output_type": "stream",
     "text": [
      "stationQuery for download of STATION_10min. \n",
      "params: ['TB1']\n",
      "dataset: DatasetType.STATION_10min\n",
      "station_ids: ['11803', '11804', '14631', '17301', '17315', '17320', '14701', '14622', '14603', '14513', '14403']\n",
      "output_format: csv\n",
      "location_label: station-selection\n",
      "output_filename_head: station-10min\n"
     ]
    }
   ],
   "source": [
    "myQuery = query.stationQuery(dataset, params, station_ids)\n",
    "\n",
    "print(myQuery)"
   ]
  },
  {
   "cell_type": "markdown",
   "id": "a435c452-2cb1-49c8-b609-fd1257fbccfa",
   "metadata": {},
   "source": [
    "## Save/Load query to/from file"
   ]
  },
  {
   "cell_type": "code",
   "execution_count": 13,
   "id": "2e838567-d617-4b9e-a4c7-9cd84a53b87c",
   "metadata": {},
   "outputs": [
    {
     "name": "stdout",
     "output_type": "stream",
     "text": [
      "Query saved to \"./STATION_10min_query_station-selection.txt\"\n"
     ]
    }
   ],
   "source": [
    "myQuery.saveQuery()"
   ]
  },
  {
   "cell_type": "code",
   "execution_count": 14,
   "id": "b8c4b6f8-ebaf-4b5a-a926-5ce7a932f44e",
   "metadata": {},
   "outputs": [
    {
     "name": "stdout",
     "output_type": "stream",
     "text": [
      "stationQuery for download of STATION_10min. \n",
      "params: ['TB1']\n",
      "dataset: DatasetType.STATION_10min\n",
      "station_ids: ['11803', '11804', '14631', '17301', '17315', '17320', '14701', '14622', '14603', '14513', '14403']\n",
      "output_format: csv\n",
      "location_label: station-selection\n",
      "output_filename_head: station-10min\n"
     ]
    }
   ],
   "source": [
    "print(query.loadQuery(\"./STATION_10min_query_station-selection.txt\"))"
   ]
  },
  {
   "cell_type": "markdown",
   "id": "233f91c0-1420-488b-8832-68a23c020ff0",
   "metadata": {},
   "source": [
    "# Download"
   ]
  },
  {
   "cell_type": "code",
   "execution_count": 15,
   "id": "67d137c5-9fba-4985-a90e-41d3de005985",
   "metadata": {},
   "outputs": [
    {
     "data": {
      "text/plain": [
       "['https://dataset.api.hub.zamg.ac.at/v1/station/historical/klima-v1-10min?parameters=TB1&start=1992-08-01T00:00&end=2022-05-24T20:36&station_ids=11803&output_format=csv&filename=dummy',\n",
       " 'https://dataset.api.hub.zamg.ac.at/v1/station/historical/klima-v1-10min?parameters=TB1&start=1992-08-01T00:00&end=2022-05-24T20:36&station_ids=11804&output_format=csv&filename=dummy',\n",
       " 'https://dataset.api.hub.zamg.ac.at/v1/station/historical/klima-v1-10min?parameters=TB1&start=1992-08-01T00:00&end=2022-05-24T20:36&station_ids=14631&output_format=csv&filename=dummy',\n",
       " 'https://dataset.api.hub.zamg.ac.at/v1/station/historical/klima-v1-10min?parameters=TB1&start=1992-08-01T00:00&end=2022-05-24T20:36&station_ids=17301&output_format=csv&filename=dummy',\n",
       " 'https://dataset.api.hub.zamg.ac.at/v1/station/historical/klima-v1-10min?parameters=TB1&start=1992-08-01T00:00&end=2022-05-24T20:36&station_ids=17315&output_format=csv&filename=dummy',\n",
       " 'https://dataset.api.hub.zamg.ac.at/v1/station/historical/klima-v1-10min?parameters=TB1&start=1992-08-01T00:00&end=2022-05-24T20:36&station_ids=17320&output_format=csv&filename=dummy',\n",
       " 'https://dataset.api.hub.zamg.ac.at/v1/station/historical/klima-v1-10min?parameters=TB1&start=1992-08-01T00:00&end=2022-05-24T20:36&station_ids=14701&output_format=csv&filename=dummy',\n",
       " 'https://dataset.api.hub.zamg.ac.at/v1/station/historical/klima-v1-10min?parameters=TB1&start=1992-08-01T00:00&end=2022-05-24T20:36&station_ids=14622&output_format=csv&filename=dummy',\n",
       " 'https://dataset.api.hub.zamg.ac.at/v1/station/historical/klima-v1-10min?parameters=TB1&start=1992-08-01T00:00&end=2022-05-24T20:36&station_ids=14603&output_format=csv&filename=dummy',\n",
       " 'https://dataset.api.hub.zamg.ac.at/v1/station/historical/klima-v1-10min?parameters=TB1&start=1992-08-01T00:00&end=2022-05-24T20:36&station_ids=14513&output_format=csv&filename=dummy',\n",
       " 'https://dataset.api.hub.zamg.ac.at/v1/station/historical/klima-v1-10min?parameters=TB1&start=1992-08-01T00:00&end=2022-05-24T20:36&station_ids=14403&output_format=csv&filename=dummy']"
      ]
     },
     "execution_count": 15,
     "metadata": {},
     "output_type": "execute_result"
    }
   ],
   "source": [
    "data_download.makeURL(myQuery, start, end)"
   ]
  },
  {
   "cell_type": "code",
   "execution_count": 16,
   "id": "135db2eb-03c4-4be3-94f7-c477a6788c4c",
   "metadata": {},
   "outputs": [
    {
     "name": "stdout",
     "output_type": "stream",
     "text": [
      "11803_station-10min_TB1_199208010000-202205242036.csv was downloaded.\n"
     ]
    },
    {
     "ename": "KeyboardInterrupt",
     "evalue": "",
     "output_type": "error",
     "traceback": [
      "\u001b[0;31m---------------------------------------------------------------------------\u001b[0m",
      "\u001b[0;31mKeyboardInterrupt\u001b[0m                         Traceback (most recent call last)",
      "Input \u001b[0;32mIn [16]\u001b[0m, in \u001b[0;36m<cell line: 1>\u001b[0;34m()\u001b[0m\n\u001b[0;32m----> 1\u001b[0m \u001b[43mdata_download\u001b[49m\u001b[38;5;241;43m.\u001b[39;49m\u001b[43mdownloadData\u001b[49m\u001b[43m(\u001b[49m\n\u001b[1;32m      2\u001b[0m \u001b[43m    \u001b[49m\u001b[43mmyQuery\u001b[49m\u001b[43m,\u001b[49m\u001b[43m \u001b[49m\u001b[43mstart\u001b[49m\u001b[43m,\u001b[49m\u001b[43m \u001b[49m\u001b[43mend\u001b[49m\u001b[43m,\u001b[49m\u001b[43m \u001b[49m\u001b[43mODIR\u001b[49m\u001b[43m,\u001b[49m\u001b[43m \u001b[49m\u001b[43moverwrite\u001b[49m\u001b[38;5;241;43m=\u001b[39;49m\u001b[43moverwrite\u001b[49m\u001b[43m,\u001b[49m\u001b[43m \u001b[49m\u001b[43mverbose\u001b[49m\u001b[38;5;241;43m=\u001b[39;49m\u001b[43mverbose\u001b[49m\n\u001b[1;32m      3\u001b[0m \u001b[43m)\u001b[49m\n",
      "File \u001b[0;32m~/Documents/NRC_P8_water_energy_and_sediment/projects/ZAMG_data_hub_download/ZAMGdatahub/data_download.py:76\u001b[0m, in \u001b[0;36mdownloadData\u001b[0;34m(ZAMGquery, start, end, ODIR, overwrite, verbose)\u001b[0m\n\u001b[1;32m     73\u001b[0m     \u001b[38;5;28;01mif\u001b[39;00m \u001b[38;5;28mstr\u001b[39m(r) \u001b[38;5;241m==\u001b[39m \u001b[38;5;124m\"\u001b[39m\u001b[38;5;124m<Response [400]>\u001b[39m\u001b[38;5;124m\"\u001b[39m:\n\u001b[1;32m     74\u001b[0m         \u001b[38;5;66;03m#print(url)\u001b[39;00m\n\u001b[1;32m     75\u001b[0m         \u001b[38;5;28;01mraise\u001b[39;00m requests\u001b[38;5;241m.\u001b[39mHTTPError(\u001b[38;5;124mf\u001b[39m\u001b[38;5;124m\"\u001b[39m\u001b[38;5;132;01m{\u001b[39;00mr\u001b[38;5;132;01m}\u001b[39;00m\u001b[38;5;124m: Bad request! Click link for more info: \u001b[39m\u001b[38;5;132;01m{\u001b[39;00murl\u001b[38;5;132;01m}\u001b[39;00m\u001b[38;5;124m\"\u001b[39m)\n\u001b[0;32m---> 76\u001b[0m     ff,html \u001b[38;5;241m=\u001b[39m \u001b[43murllib\u001b[49m\u001b[38;5;241;43m.\u001b[39;49m\u001b[43mrequest\u001b[49m\u001b[38;5;241;43m.\u001b[39;49m\u001b[43murlretrieve\u001b[49m\u001b[43m(\u001b[49m\u001b[43murl\u001b[49m\u001b[43m,\u001b[49m\u001b[43m \u001b[49m\u001b[43moutfile\u001b[49m\u001b[43m)\u001b[49m\n\u001b[1;32m     77\u001b[0m     \u001b[38;5;28;01mif\u001b[39;00m verbose: \u001b[38;5;28mprint\u001b[39m(filename, \u001b[38;5;124m\"\u001b[39m\u001b[38;5;124mwas downloaded.\u001b[39m\u001b[38;5;124m\"\u001b[39m)\n\u001b[1;32m     78\u001b[0m \u001b[38;5;28;01melse\u001b[39;00m:\n",
      "File \u001b[0;32m~/anaconda3/lib/python3.8/urllib/request.py:247\u001b[0m, in \u001b[0;36murlretrieve\u001b[0;34m(url, filename, reporthook, data)\u001b[0m\n\u001b[1;32m    230\u001b[0m \u001b[38;5;124;03m\"\"\"\u001b[39;00m\n\u001b[1;32m    231\u001b[0m \u001b[38;5;124;03mRetrieve a URL into a temporary location on disk.\u001b[39;00m\n\u001b[1;32m    232\u001b[0m \n\u001b[0;32m   (...)\u001b[0m\n\u001b[1;32m    243\u001b[0m \u001b[38;5;124;03mdata file as well as the resulting HTTPMessage object.\u001b[39;00m\n\u001b[1;32m    244\u001b[0m \u001b[38;5;124;03m\"\"\"\u001b[39;00m\n\u001b[1;32m    245\u001b[0m url_type, path \u001b[38;5;241m=\u001b[39m _splittype(url)\n\u001b[0;32m--> 247\u001b[0m \u001b[38;5;28;01mwith\u001b[39;00m contextlib\u001b[38;5;241m.\u001b[39mclosing(\u001b[43murlopen\u001b[49m\u001b[43m(\u001b[49m\u001b[43murl\u001b[49m\u001b[43m,\u001b[49m\u001b[43m \u001b[49m\u001b[43mdata\u001b[49m\u001b[43m)\u001b[49m) \u001b[38;5;28;01mas\u001b[39;00m fp:\n\u001b[1;32m    248\u001b[0m     headers \u001b[38;5;241m=\u001b[39m fp\u001b[38;5;241m.\u001b[39minfo()\n\u001b[1;32m    250\u001b[0m     \u001b[38;5;66;03m# Just return the local path and the \"headers\" for file://\u001b[39;00m\n\u001b[1;32m    251\u001b[0m     \u001b[38;5;66;03m# URLs. No sense in performing a copy unless requested.\u001b[39;00m\n",
      "File \u001b[0;32m~/anaconda3/lib/python3.8/urllib/request.py:222\u001b[0m, in \u001b[0;36murlopen\u001b[0;34m(url, data, timeout, cafile, capath, cadefault, context)\u001b[0m\n\u001b[1;32m    220\u001b[0m \u001b[38;5;28;01melse\u001b[39;00m:\n\u001b[1;32m    221\u001b[0m     opener \u001b[38;5;241m=\u001b[39m _opener\n\u001b[0;32m--> 222\u001b[0m \u001b[38;5;28;01mreturn\u001b[39;00m \u001b[43mopener\u001b[49m\u001b[38;5;241;43m.\u001b[39;49m\u001b[43mopen\u001b[49m\u001b[43m(\u001b[49m\u001b[43murl\u001b[49m\u001b[43m,\u001b[49m\u001b[43m \u001b[49m\u001b[43mdata\u001b[49m\u001b[43m,\u001b[49m\u001b[43m \u001b[49m\u001b[43mtimeout\u001b[49m\u001b[43m)\u001b[49m\n",
      "File \u001b[0;32m~/anaconda3/lib/python3.8/urllib/request.py:525\u001b[0m, in \u001b[0;36mOpenerDirector.open\u001b[0;34m(self, fullurl, data, timeout)\u001b[0m\n\u001b[1;32m    522\u001b[0m     req \u001b[38;5;241m=\u001b[39m meth(req)\n\u001b[1;32m    524\u001b[0m sys\u001b[38;5;241m.\u001b[39maudit(\u001b[38;5;124m'\u001b[39m\u001b[38;5;124murllib.Request\u001b[39m\u001b[38;5;124m'\u001b[39m, req\u001b[38;5;241m.\u001b[39mfull_url, req\u001b[38;5;241m.\u001b[39mdata, req\u001b[38;5;241m.\u001b[39mheaders, req\u001b[38;5;241m.\u001b[39mget_method())\n\u001b[0;32m--> 525\u001b[0m response \u001b[38;5;241m=\u001b[39m \u001b[38;5;28;43mself\u001b[39;49m\u001b[38;5;241;43m.\u001b[39;49m\u001b[43m_open\u001b[49m\u001b[43m(\u001b[49m\u001b[43mreq\u001b[49m\u001b[43m,\u001b[49m\u001b[43m \u001b[49m\u001b[43mdata\u001b[49m\u001b[43m)\u001b[49m\n\u001b[1;32m    527\u001b[0m \u001b[38;5;66;03m# post-process response\u001b[39;00m\n\u001b[1;32m    528\u001b[0m meth_name \u001b[38;5;241m=\u001b[39m protocol\u001b[38;5;241m+\u001b[39m\u001b[38;5;124m\"\u001b[39m\u001b[38;5;124m_response\u001b[39m\u001b[38;5;124m\"\u001b[39m\n",
      "File \u001b[0;32m~/anaconda3/lib/python3.8/urllib/request.py:542\u001b[0m, in \u001b[0;36mOpenerDirector._open\u001b[0;34m(self, req, data)\u001b[0m\n\u001b[1;32m    539\u001b[0m     \u001b[38;5;28;01mreturn\u001b[39;00m result\n\u001b[1;32m    541\u001b[0m protocol \u001b[38;5;241m=\u001b[39m req\u001b[38;5;241m.\u001b[39mtype\n\u001b[0;32m--> 542\u001b[0m result \u001b[38;5;241m=\u001b[39m \u001b[38;5;28;43mself\u001b[39;49m\u001b[38;5;241;43m.\u001b[39;49m\u001b[43m_call_chain\u001b[49m\u001b[43m(\u001b[49m\u001b[38;5;28;43mself\u001b[39;49m\u001b[38;5;241;43m.\u001b[39;49m\u001b[43mhandle_open\u001b[49m\u001b[43m,\u001b[49m\u001b[43m \u001b[49m\u001b[43mprotocol\u001b[49m\u001b[43m,\u001b[49m\u001b[43m \u001b[49m\u001b[43mprotocol\u001b[49m\u001b[43m \u001b[49m\u001b[38;5;241;43m+\u001b[39;49m\n\u001b[1;32m    543\u001b[0m \u001b[43m                          \u001b[49m\u001b[38;5;124;43m'\u001b[39;49m\u001b[38;5;124;43m_open\u001b[39;49m\u001b[38;5;124;43m'\u001b[39;49m\u001b[43m,\u001b[49m\u001b[43m \u001b[49m\u001b[43mreq\u001b[49m\u001b[43m)\u001b[49m\n\u001b[1;32m    544\u001b[0m \u001b[38;5;28;01mif\u001b[39;00m result:\n\u001b[1;32m    545\u001b[0m     \u001b[38;5;28;01mreturn\u001b[39;00m result\n",
      "File \u001b[0;32m~/anaconda3/lib/python3.8/urllib/request.py:502\u001b[0m, in \u001b[0;36mOpenerDirector._call_chain\u001b[0;34m(self, chain, kind, meth_name, *args)\u001b[0m\n\u001b[1;32m    500\u001b[0m \u001b[38;5;28;01mfor\u001b[39;00m handler \u001b[38;5;129;01min\u001b[39;00m handlers:\n\u001b[1;32m    501\u001b[0m     func \u001b[38;5;241m=\u001b[39m \u001b[38;5;28mgetattr\u001b[39m(handler, meth_name)\n\u001b[0;32m--> 502\u001b[0m     result \u001b[38;5;241m=\u001b[39m \u001b[43mfunc\u001b[49m\u001b[43m(\u001b[49m\u001b[38;5;241;43m*\u001b[39;49m\u001b[43margs\u001b[49m\u001b[43m)\u001b[49m\n\u001b[1;32m    503\u001b[0m     \u001b[38;5;28;01mif\u001b[39;00m result \u001b[38;5;129;01mis\u001b[39;00m \u001b[38;5;129;01mnot\u001b[39;00m \u001b[38;5;28;01mNone\u001b[39;00m:\n\u001b[1;32m    504\u001b[0m         \u001b[38;5;28;01mreturn\u001b[39;00m result\n",
      "File \u001b[0;32m~/anaconda3/lib/python3.8/urllib/request.py:1397\u001b[0m, in \u001b[0;36mHTTPSHandler.https_open\u001b[0;34m(self, req)\u001b[0m\n\u001b[1;32m   1396\u001b[0m \u001b[38;5;28;01mdef\u001b[39;00m \u001b[38;5;21mhttps_open\u001b[39m(\u001b[38;5;28mself\u001b[39m, req):\n\u001b[0;32m-> 1397\u001b[0m     \u001b[38;5;28;01mreturn\u001b[39;00m \u001b[38;5;28;43mself\u001b[39;49m\u001b[38;5;241;43m.\u001b[39;49m\u001b[43mdo_open\u001b[49m\u001b[43m(\u001b[49m\u001b[43mhttp\u001b[49m\u001b[38;5;241;43m.\u001b[39;49m\u001b[43mclient\u001b[49m\u001b[38;5;241;43m.\u001b[39;49m\u001b[43mHTTPSConnection\u001b[49m\u001b[43m,\u001b[49m\u001b[43m \u001b[49m\u001b[43mreq\u001b[49m\u001b[43m,\u001b[49m\n\u001b[1;32m   1398\u001b[0m \u001b[43m        \u001b[49m\u001b[43mcontext\u001b[49m\u001b[38;5;241;43m=\u001b[39;49m\u001b[38;5;28;43mself\u001b[39;49m\u001b[38;5;241;43m.\u001b[39;49m\u001b[43m_context\u001b[49m\u001b[43m,\u001b[49m\u001b[43m \u001b[49m\u001b[43mcheck_hostname\u001b[49m\u001b[38;5;241;43m=\u001b[39;49m\u001b[38;5;28;43mself\u001b[39;49m\u001b[38;5;241;43m.\u001b[39;49m\u001b[43m_check_hostname\u001b[49m\u001b[43m)\u001b[49m\n",
      "File \u001b[0;32m~/anaconda3/lib/python3.8/urllib/request.py:1358\u001b[0m, in \u001b[0;36mAbstractHTTPHandler.do_open\u001b[0;34m(self, http_class, req, **http_conn_args)\u001b[0m\n\u001b[1;32m   1356\u001b[0m     \u001b[38;5;28;01mexcept\u001b[39;00m \u001b[38;5;167;01mOSError\u001b[39;00m \u001b[38;5;28;01mas\u001b[39;00m err: \u001b[38;5;66;03m# timeout error\u001b[39;00m\n\u001b[1;32m   1357\u001b[0m         \u001b[38;5;28;01mraise\u001b[39;00m URLError(err)\n\u001b[0;32m-> 1358\u001b[0m     r \u001b[38;5;241m=\u001b[39m \u001b[43mh\u001b[49m\u001b[38;5;241;43m.\u001b[39;49m\u001b[43mgetresponse\u001b[49m\u001b[43m(\u001b[49m\u001b[43m)\u001b[49m\n\u001b[1;32m   1359\u001b[0m \u001b[38;5;28;01mexcept\u001b[39;00m:\n\u001b[1;32m   1360\u001b[0m     h\u001b[38;5;241m.\u001b[39mclose()\n",
      "File \u001b[0;32m~/anaconda3/lib/python3.8/http/client.py:1348\u001b[0m, in \u001b[0;36mHTTPConnection.getresponse\u001b[0;34m(self)\u001b[0m\n\u001b[1;32m   1346\u001b[0m \u001b[38;5;28;01mtry\u001b[39;00m:\n\u001b[1;32m   1347\u001b[0m     \u001b[38;5;28;01mtry\u001b[39;00m:\n\u001b[0;32m-> 1348\u001b[0m         \u001b[43mresponse\u001b[49m\u001b[38;5;241;43m.\u001b[39;49m\u001b[43mbegin\u001b[49m\u001b[43m(\u001b[49m\u001b[43m)\u001b[49m\n\u001b[1;32m   1349\u001b[0m     \u001b[38;5;28;01mexcept\u001b[39;00m \u001b[38;5;167;01mConnectionError\u001b[39;00m:\n\u001b[1;32m   1350\u001b[0m         \u001b[38;5;28mself\u001b[39m\u001b[38;5;241m.\u001b[39mclose()\n",
      "File \u001b[0;32m~/anaconda3/lib/python3.8/http/client.py:316\u001b[0m, in \u001b[0;36mHTTPResponse.begin\u001b[0;34m(self)\u001b[0m\n\u001b[1;32m    314\u001b[0m \u001b[38;5;66;03m# read until we get a non-100 response\u001b[39;00m\n\u001b[1;32m    315\u001b[0m \u001b[38;5;28;01mwhile\u001b[39;00m \u001b[38;5;28;01mTrue\u001b[39;00m:\n\u001b[0;32m--> 316\u001b[0m     version, status, reason \u001b[38;5;241m=\u001b[39m \u001b[38;5;28;43mself\u001b[39;49m\u001b[38;5;241;43m.\u001b[39;49m\u001b[43m_read_status\u001b[49m\u001b[43m(\u001b[49m\u001b[43m)\u001b[49m\n\u001b[1;32m    317\u001b[0m     \u001b[38;5;28;01mif\u001b[39;00m status \u001b[38;5;241m!=\u001b[39m CONTINUE:\n\u001b[1;32m    318\u001b[0m         \u001b[38;5;28;01mbreak\u001b[39;00m\n",
      "File \u001b[0;32m~/anaconda3/lib/python3.8/http/client.py:277\u001b[0m, in \u001b[0;36mHTTPResponse._read_status\u001b[0;34m(self)\u001b[0m\n\u001b[1;32m    276\u001b[0m \u001b[38;5;28;01mdef\u001b[39;00m \u001b[38;5;21m_read_status\u001b[39m(\u001b[38;5;28mself\u001b[39m):\n\u001b[0;32m--> 277\u001b[0m     line \u001b[38;5;241m=\u001b[39m \u001b[38;5;28mstr\u001b[39m(\u001b[38;5;28;43mself\u001b[39;49m\u001b[38;5;241;43m.\u001b[39;49m\u001b[43mfp\u001b[49m\u001b[38;5;241;43m.\u001b[39;49m\u001b[43mreadline\u001b[49m\u001b[43m(\u001b[49m\u001b[43m_MAXLINE\u001b[49m\u001b[43m \u001b[49m\u001b[38;5;241;43m+\u001b[39;49m\u001b[43m \u001b[49m\u001b[38;5;241;43m1\u001b[39;49m\u001b[43m)\u001b[49m, \u001b[38;5;124m\"\u001b[39m\u001b[38;5;124miso-8859-1\u001b[39m\u001b[38;5;124m\"\u001b[39m)\n\u001b[1;32m    278\u001b[0m     \u001b[38;5;28;01mif\u001b[39;00m \u001b[38;5;28mlen\u001b[39m(line) \u001b[38;5;241m>\u001b[39m _MAXLINE:\n\u001b[1;32m    279\u001b[0m         \u001b[38;5;28;01mraise\u001b[39;00m LineTooLong(\u001b[38;5;124m\"\u001b[39m\u001b[38;5;124mstatus line\u001b[39m\u001b[38;5;124m\"\u001b[39m)\n",
      "File \u001b[0;32m~/anaconda3/lib/python3.8/socket.py:669\u001b[0m, in \u001b[0;36mSocketIO.readinto\u001b[0;34m(self, b)\u001b[0m\n\u001b[1;32m    667\u001b[0m \u001b[38;5;28;01mwhile\u001b[39;00m \u001b[38;5;28;01mTrue\u001b[39;00m:\n\u001b[1;32m    668\u001b[0m     \u001b[38;5;28;01mtry\u001b[39;00m:\n\u001b[0;32m--> 669\u001b[0m         \u001b[38;5;28;01mreturn\u001b[39;00m \u001b[38;5;28;43mself\u001b[39;49m\u001b[38;5;241;43m.\u001b[39;49m\u001b[43m_sock\u001b[49m\u001b[38;5;241;43m.\u001b[39;49m\u001b[43mrecv_into\u001b[49m\u001b[43m(\u001b[49m\u001b[43mb\u001b[49m\u001b[43m)\u001b[49m\n\u001b[1;32m    670\u001b[0m     \u001b[38;5;28;01mexcept\u001b[39;00m timeout:\n\u001b[1;32m    671\u001b[0m         \u001b[38;5;28mself\u001b[39m\u001b[38;5;241m.\u001b[39m_timeout_occurred \u001b[38;5;241m=\u001b[39m \u001b[38;5;28;01mTrue\u001b[39;00m\n",
      "File \u001b[0;32m~/anaconda3/lib/python3.8/ssl.py:1241\u001b[0m, in \u001b[0;36mSSLSocket.recv_into\u001b[0;34m(self, buffer, nbytes, flags)\u001b[0m\n\u001b[1;32m   1237\u001b[0m     \u001b[38;5;28;01mif\u001b[39;00m flags \u001b[38;5;241m!=\u001b[39m \u001b[38;5;241m0\u001b[39m:\n\u001b[1;32m   1238\u001b[0m         \u001b[38;5;28;01mraise\u001b[39;00m \u001b[38;5;167;01mValueError\u001b[39;00m(\n\u001b[1;32m   1239\u001b[0m           \u001b[38;5;124m\"\u001b[39m\u001b[38;5;124mnon-zero flags not allowed in calls to recv_into() on \u001b[39m\u001b[38;5;132;01m%s\u001b[39;00m\u001b[38;5;124m\"\u001b[39m \u001b[38;5;241m%\u001b[39m\n\u001b[1;32m   1240\u001b[0m           \u001b[38;5;28mself\u001b[39m\u001b[38;5;241m.\u001b[39m\u001b[38;5;18m__class__\u001b[39m)\n\u001b[0;32m-> 1241\u001b[0m     \u001b[38;5;28;01mreturn\u001b[39;00m \u001b[38;5;28;43mself\u001b[39;49m\u001b[38;5;241;43m.\u001b[39;49m\u001b[43mread\u001b[49m\u001b[43m(\u001b[49m\u001b[43mnbytes\u001b[49m\u001b[43m,\u001b[49m\u001b[43m \u001b[49m\u001b[43mbuffer\u001b[49m\u001b[43m)\u001b[49m\n\u001b[1;32m   1242\u001b[0m \u001b[38;5;28;01melse\u001b[39;00m:\n\u001b[1;32m   1243\u001b[0m     \u001b[38;5;28;01mreturn\u001b[39;00m \u001b[38;5;28msuper\u001b[39m()\u001b[38;5;241m.\u001b[39mrecv_into(buffer, nbytes, flags)\n",
      "File \u001b[0;32m~/anaconda3/lib/python3.8/ssl.py:1099\u001b[0m, in \u001b[0;36mSSLSocket.read\u001b[0;34m(self, len, buffer)\u001b[0m\n\u001b[1;32m   1097\u001b[0m \u001b[38;5;28;01mtry\u001b[39;00m:\n\u001b[1;32m   1098\u001b[0m     \u001b[38;5;28;01mif\u001b[39;00m buffer \u001b[38;5;129;01mis\u001b[39;00m \u001b[38;5;129;01mnot\u001b[39;00m \u001b[38;5;28;01mNone\u001b[39;00m:\n\u001b[0;32m-> 1099\u001b[0m         \u001b[38;5;28;01mreturn\u001b[39;00m \u001b[38;5;28;43mself\u001b[39;49m\u001b[38;5;241;43m.\u001b[39;49m\u001b[43m_sslobj\u001b[49m\u001b[38;5;241;43m.\u001b[39;49m\u001b[43mread\u001b[49m\u001b[43m(\u001b[49m\u001b[38;5;28;43mlen\u001b[39;49m\u001b[43m,\u001b[49m\u001b[43m \u001b[49m\u001b[43mbuffer\u001b[49m\u001b[43m)\u001b[49m\n\u001b[1;32m   1100\u001b[0m     \u001b[38;5;28;01melse\u001b[39;00m:\n\u001b[1;32m   1101\u001b[0m         \u001b[38;5;28;01mreturn\u001b[39;00m \u001b[38;5;28mself\u001b[39m\u001b[38;5;241m.\u001b[39m_sslobj\u001b[38;5;241m.\u001b[39mread(\u001b[38;5;28mlen\u001b[39m)\n",
      "\u001b[0;31mKeyboardInterrupt\u001b[0m: "
     ]
    }
   ],
   "source": [
    "data_download.downloadData(\n",
    "    myQuery, start, end, ODIR, overwrite=overwrite, verbose=verbose\n",
    ")"
   ]
  },
  {
   "cell_type": "code",
   "execution_count": null,
   "id": "ecb070fd-5c5d-4af0-b340-84490db6e102",
   "metadata": {},
   "outputs": [],
   "source": []
  }
 ],
 "metadata": {
  "kernelspec": {
   "display_name": "Python 3 (ipykernel)",
   "language": "python",
   "name": "python3"
  },
  "language_info": {
   "codemirror_mode": {
    "name": "ipython",
    "version": 3
   },
   "file_extension": ".py",
   "mimetype": "text/x-python",
   "name": "python",
   "nbconvert_exporter": "python",
   "pygments_lexer": "ipython3",
   "version": "3.8.12"
  }
 },
 "nbformat": 4,
 "nbformat_minor": 5
}
