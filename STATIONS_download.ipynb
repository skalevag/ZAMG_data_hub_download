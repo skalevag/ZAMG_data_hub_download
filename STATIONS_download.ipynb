{
 "cells": [
  {
   "cell_type": "markdown",
   "id": "8078ae04-0afd-4576-89d9-9207d738b280",
   "metadata": {
    "tags": []
   },
   "source": [
    "# Introduction\n",
    "\n",
    "Example script for downloading SPARTACUS data.\n",
    "\n",
    "**Website only allows for 6 months to 1 year's worth of data to be downloaded at a time, depending on the size of the lat-lon box.**"
   ]
  },
  {
   "cell_type": "markdown",
   "id": "788da03f-b460-456c-9493-cdf26d72d092",
   "metadata": {},
   "source": [
    "https://dataset.api.hub.zamg.ac.at/v1/station/historical/klima-v1-10min?parameters=DD&parameters=DDX&parameters=DDX_FLAG&parameters=DD_FLAG&parameters=FF&parameters=FFAM&parameters=FFAM_FLAG&parameters=FFX&parameters=FFX_FLAG&parameters=FF_FLAG&parameters=GSX&parameters=GSX_FLAG&parameters=HSR&parameters=HSR_FLAG&parameters=HSX&parameters=HSX_FLAG&parameters=P&parameters=P0&parameters=P0_FLAG&parameters=P_FLAG&parameters=QFLAG&parameters=RF&parameters=RF_FLAG&parameters=RR&parameters=RRM&parameters=RRM_FLAG&parameters=RR_FLAG&parameters=SH&parameters=SH_FLAG&parameters=SO&parameters=SO_FLAG&parameters=TB1&parameters=TB1_FLAG&parameters=TB2&parameters=TB2_FLAG&parameters=TB3&parameters=TB3_FLAG&parameters=TL&parameters=TLMAX&parameters=TLMAX_FLAG&parameters=TLMIN&parameters=TLMIN_FLAG&parameters=TL_FLAG&parameters=TP&parameters=TP_FLAG&parameters=TS&parameters=TSMAX&parameters=TSMAX_FLAG&parameters=TSMIN&parameters=TSMIN_FLAG&parameters=TS_FLAG&parameters=ZEITX&parameters=ZEITX_FLAG&start=1992-05-20T00%3A00%3A00&end=2022-05-21T23%3A59%3A59&station_ids=905&output_format=csv&filename=ZEHNMIN+Datensatz_19920520_20220521"
   ]
  },
  {
   "cell_type": "markdown",
   "id": "5e6bac1a-7d5e-48d1-b324-64ccea39e40f",
   "metadata": {},
   "source": [
    "**TODOs:**\n",
    "\n",
    "- edit query class init?\n",
    "- create some kind of overview dict or table for the parameters\n",
    "- use station IDs (download station table and use for selection? or just tell user to look up herself)"
   ]
  },
  {
   "cell_type": "markdown",
   "id": "b3d7faaa-bcc1-43be-a3c5-c96efc35fee8",
   "metadata": {},
   "source": [
    "# Setup"
   ]
  },
  {
   "cell_type": "markdown",
   "id": "109eb99d-dc3f-4dcb-885f-fde6edc3adc1",
   "metadata": {},
   "source": [
    "## Modules"
   ]
  },
  {
   "cell_type": "code",
   "execution_count": 1,
   "id": "3ca8ae8c-bdc5-451c-82d6-97afc777dc58",
   "metadata": {},
   "outputs": [],
   "source": [
    "import datetime\n",
    "from pathlib import Path\n",
    "\n",
    "from ZAMGdatahub import data_download, query, utils"
   ]
  },
  {
   "cell_type": "markdown",
   "id": "fec3f4ac-c94e-462f-9190-17c371613f65",
   "metadata": {},
   "source": [
    "## Global variables"
   ]
  },
  {
   "cell_type": "code",
   "execution_count": 2,
   "id": "a31001cd-6695-476c-a642-fa7526452dac",
   "metadata": {},
   "outputs": [],
   "source": [
    "# set output directory\n",
    "ODIR = \"/home/skalevag/Documents/NRC_P8_water_energy_and_sediment/data/\"\n",
    "ODIR = Path(ODIR)\n",
    "\n",
    "if not ODIR.is_dir():\n",
    "    ODIR.mkdir(parents=True)\n",
    "\n",
    "# variable\n",
    "# TODO\n",
    "\n",
    "maxMonths = 12\n",
    "\n",
    "overwrite = False\n",
    "overwriteMerge = False\n",
    "verbose = True\n",
    "\n",
    "startYear = 1961  # inclusive\n",
    "endYear = 2021  # inclusive\n",
    "\n",
    "datetimeformat = \"%Y-%m-%d %H:%M\""
   ]
  },
  {
   "cell_type": "code",
   "execution_count": 3,
   "id": "ac3751d1-2c00-4523-b3f9-6b5320080928",
   "metadata": {},
   "outputs": [
    {
     "name": "stdout",
     "output_type": "stream",
     "text": [
      "LOCATION: oetztal\n",
      "COORDINATES: latitude: 46.6 ... 47.3 ; longitude 10.5 ... 11.4\n",
      "\n",
      "LOCATION: tirol\n",
      "COORDINATES: latitude: 46.77 ... 47.71 ; longitude 9.53 ... 13.51\n",
      "\n",
      "LOCATION: obergurgl\n",
      "COORDINATES: latitude: 46.8703 ; longitude 11.0269\n",
      "\n",
      "DatasetType.SPARTACUS\n"
     ]
    }
   ],
   "source": [
    "# dataset type\n",
    "dataset = query.DatasetType.SPARTACUS\n",
    "print(dataset)"
   ]
  },
  {
   "cell_type": "markdown",
   "id": "4a0556e1-be25-4ff9-9c77-f1699a9e109e",
   "metadata": {},
   "source": [
    "## Make query"
   ]
  },
  {
   "cell_type": "code",
   "execution_count": 4,
   "id": "ae5e2f3e-36ee-4ea3-8143-dfee990c7391",
   "metadata": {},
   "outputs": [
    {
     "name": "stdout",
     "output_type": "stream",
     "text": [
      "ZAMGdatahubQuery for download of SPARTACUS with parameters Tn. \n",
      "params: ['Tn']\n",
      "dataset: DatasetType.SPARTACUS\n",
      "location_label: oetztal\n",
      "output_filename_head: spartacus-daily\n",
      "output_format: netcdf\n",
      "lat_min: 46.6\n",
      "lat_max: 47.3\n",
      "lon_min: 10.5\n",
      "lon_max: 11.4\n"
     ]
    }
   ],
   "source": [
    "myQuery = query.ZAMGdatahubQuery(dataset, params, gridbox=gridbox_oetz)\n",
    "\n",
    "print(myQuery)"
   ]
  },
  {
   "cell_type": "markdown",
   "id": "a435c452-2cb1-49c8-b609-fd1257fbccfa",
   "metadata": {},
   "source": [
    "## Save/Load query to/from file"
   ]
  },
  {
   "cell_type": "code",
   "execution_count": 5,
   "id": "2e838567-d617-4b9e-a4c7-9cd84a53b87c",
   "metadata": {},
   "outputs": [
    {
     "name": "stdout",
     "output_type": "stream",
     "text": [
      "Query saved to \"./SPARTACUS_query_oetztal.txt\"\n"
     ]
    }
   ],
   "source": [
    "myQuery.saveQuery()"
   ]
  },
  {
   "cell_type": "code",
   "execution_count": 6,
   "id": "b8c4b6f8-ebaf-4b5a-a926-5ce7a932f44e",
   "metadata": {},
   "outputs": [
    {
     "name": "stdout",
     "output_type": "stream",
     "text": [
      "ZAMGdatahubQuery for download of SPARTACUS with parameters Tn. \n",
      "params: ['Tn']\n",
      "dataset: DatasetType.SPARTACUS\n",
      "location_label: oetztal\n",
      "output_filename_head: spartacus-daily\n",
      "output_format: netcdf\n",
      "lat_min: 46.6\n",
      "lat_max: 47.3\n",
      "lon_min: 10.5\n",
      "lon_max: 11.4\n"
     ]
    }
   ],
   "source": [
    "print(query.loadQuery(\"./SPARTACUS_query_oetztal.txt\"))"
   ]
  },
  {
   "cell_type": "markdown",
   "id": "233f91c0-1420-488b-8832-68a23c020ff0",
   "metadata": {},
   "source": [
    "# Download"
   ]
  },
  {
   "cell_type": "code",
   "execution_count": null,
   "id": "67d137c5-9fba-4985-a90e-41d3de005985",
   "metadata": {},
   "outputs": [],
   "source": []
  }
 ],
 "metadata": {
  "kernelspec": {
   "display_name": "Python 3 (ipykernel)",
   "language": "python",
   "name": "python3"
  },
  "language_info": {
   "codemirror_mode": {
    "name": "ipython",
    "version": 3
   },
   "file_extension": ".py",
   "mimetype": "text/x-python",
   "name": "python",
   "nbconvert_exporter": "python",
   "pygments_lexer": "ipython3",
   "version": "3.8.12"
  }
 },
 "nbformat": 4,
 "nbformat_minor": 5
}
