{
 "cells": [
  {
   "cell_type": "markdown",
   "id": "8078ae04-0afd-4576-89d9-9207d738b280",
   "metadata": {
    "tags": []
   },
   "source": [
    "# Introduction\n",
    "\n",
    "Example script for downloading station data."
   ]
  },
  {
   "cell_type": "markdown",
   "id": "788da03f-b460-456c-9493-cdf26d72d092",
   "metadata": {},
   "source": [
    "https://dataset.api.hub.zamg.ac.at/v1/station/historical/klima-v1-10min?parameters=DD&parameters=DDX&parameters=DDX_FLAG&parameters=DD_FLAG&parameters=FF&parameters=FFAM&parameters=FFAM_FLAG&parameters=FFX&parameters=FFX_FLAG&parameters=FF_FLAG&parameters=GSX&parameters=GSX_FLAG&parameters=HSR&parameters=HSR_FLAG&parameters=HSX&parameters=HSX_FLAG&parameters=P&parameters=P0&parameters=P0_FLAG&parameters=P_FLAG&parameters=QFLAG&parameters=RF&parameters=RF_FLAG&parameters=RR&parameters=RRM&parameters=RRM_FLAG&parameters=RR_FLAG&parameters=SH&parameters=SH_FLAG&parameters=SO&parameters=SO_FLAG&parameters=TB1&parameters=TB1_FLAG&parameters=TB2&parameters=TB2_FLAG&parameters=TB3&parameters=TB3_FLAG&parameters=TL&parameters=TLMAX&parameters=TLMAX_FLAG&parameters=TLMIN&parameters=TLMIN_FLAG&parameters=TL_FLAG&parameters=TP&parameters=TP_FLAG&parameters=TS&parameters=TSMAX&parameters=TSMAX_FLAG&parameters=TSMIN&parameters=TSMIN_FLAG&parameters=TS_FLAG&parameters=ZEITX&parameters=ZEITX_FLAG&start=1992-05-20T00%3A00%3A00&end=2022-05-21T23%3A59%3A59&station_ids=905&output_format=csv&filename=ZEHNMIN+Datensatz_19920520_20220521"
   ]
  },
  {
   "cell_type": "markdown",
   "id": "5e6bac1a-7d5e-48d1-b324-64ccea39e40f",
   "metadata": {},
   "source": [
    "**TODOs:**\n",
    "\n",
    "- create some kind of overview dict or table for the parameters\n",
    "- use station IDs (download station table and use for selection? or just tell user to look up herself)"
   ]
  },
  {
   "cell_type": "markdown",
   "id": "b3d7faaa-bcc1-43be-a3c5-c96efc35fee8",
   "metadata": {},
   "source": [
    "# Setup"
   ]
  },
  {
   "cell_type": "markdown",
   "id": "109eb99d-dc3f-4dcb-885f-fde6edc3adc1",
   "metadata": {},
   "source": [
    "## Modules"
   ]
  },
  {
   "cell_type": "code",
   "execution_count": 1,
   "id": "3ca8ae8c-bdc5-451c-82d6-97afc777dc58",
   "metadata": {},
   "outputs": [],
   "source": [
    "import datetime as dt\n",
    "from pathlib import Path\n",
    "\n",
    "import ipywidgets as widgets\n",
    "import numpy as np\n",
    "import pandas as pd\n",
    "from IPython.display import display\n",
    "\n",
    "from ZAMGdatahub import data_download, metadata, query, utils"
   ]
  },
  {
   "cell_type": "markdown",
   "id": "fec3f4ac-c94e-462f-9190-17c371613f65",
   "metadata": {},
   "source": [
    "## Global variables"
   ]
  },
  {
   "cell_type": "code",
   "execution_count": 2,
   "id": "a31001cd-6695-476c-a642-fa7526452dac",
   "metadata": {},
   "outputs": [],
   "source": [
    "# set output directory\n",
    "# ODIR = \"/home/skalevag/Documents/NRC_P8_water_energy_and_sediment/data/meteo_stations/\"\n",
    "# ODIR = Path(ODIR)\n",
    "ODIR = \".\"\n",
    "ODIR = Path(ODIR).resolve()\n",
    "ODIR = ODIR.joinpath(\"test_downloads\")\n",
    "\n",
    "if not ODIR.is_dir():\n",
    "    ODIR.mkdir(parents=True)\n",
    "\n",
    "# variable\n",
    "params = [\n",
    "    \"RR\",\n",
    "    \"SH\",\n",
    "    \"TL\",\n",
    "    \"TS\",\n",
    "    \"TB1\",\n",
    "    \"TB2\",\n",
    "    \"TB3\",\n",
    "    \"GS\",\n",
    "    \"HS\",\n",
    "]  \n",
    "\n",
    "\n",
    "var_convert = pd.read_csv(\"data/ZEHNMIN_convert.csv\", index_col=0)[\"var_id\"].to_dict()\n",
    "parameter_meta = pd.read_csv(\n",
    "    Path(\"data\").joinpath(\"ZEHNMIN_Parameter-Metadaten.csv\"), index_col=0\n",
    ")\n",
    "stations_meta = pd.read_csv(Path(\"data\").joinpath(\"ZEHNMIN_Stations-Metadaten.csv\"))\n",
    "\n",
    "datetimeformat = \"%Y-%m-%d %H:%M\"\n",
    "start = dt.datetime(1992,8,1).strftime(datetimeformat)  # inclusive\n",
    "end = dt.datetime.now().strftime(datetimeformat)\n",
    "\n",
    "overwrite = False\n",
    "verbose = True"
   ]
  },
  {
   "cell_type": "markdown",
   "id": "77f3e6dd-7938-4a8b-b939-61cc78dc203c",
   "metadata": {},
   "source": [
    "### Test widget for selecting variables"
   ]
  },
  {
   "cell_type": "code",
   "execution_count": 3,
   "id": "bf1e2fbf-7aa8-40f6-884e-1f6948b14617",
   "metadata": {},
   "outputs": [
    {
     "data": {
      "application/vnd.jupyter.widget-view+json": {
       "model_id": "5a9e5ed47c8b4f7abf58bda89383b439",
       "version_major": 2,
       "version_minor": 0
      },
      "text/plain": [
       "Dropdown(options=('wind direction', 'wind speed', 'global radiation', 'diffuse radiation', 'air pressure', 're…"
      ]
     },
     "metadata": {},
     "output_type": "display_data"
    }
   ],
   "source": [
    "dropdown_variable = widgets.Dropdown(options=list(var_convert.keys()))\n",
    "variable = widgets.Output()\n",
    "\n",
    "\n",
    "def dropdown_variable_eventhandler(change):\n",
    "    variable.clear_output()\n",
    "    sel = getParameterWithFlags([var_convert[change.new]], parameter_meta)\n",
    "    display(parameter_meta.loc[sel])\n",
    "\n",
    "\n",
    "dropdown_variable.observe(dropdown_variable_eventhandler, names=\"value\")\n",
    "\n",
    "display(dropdown_variable)"
   ]
  },
  {
   "cell_type": "code",
   "execution_count": 4,
   "id": "9a559a36-da1c-4cdb-8587-8877e1cca755",
   "metadata": {},
   "outputs": [
    {
     "data": {
      "text/plain": [
       "'wind direction'"
      ]
     },
     "execution_count": 4,
     "metadata": {},
     "output_type": "execute_result"
    }
   ],
   "source": [
    "dropdown_variable.value"
   ]
  },
  {
   "cell_type": "markdown",
   "id": "5cfd3707-05b6-42cc-87a5-c583457294ae",
   "metadata": {},
   "source": [
    "# Functions"
   ]
  },
  {
   "cell_type": "code",
   "execution_count": 5,
   "id": "4f757d74-2fb2-4c3e-ab78-e75622002815",
   "metadata": {},
   "outputs": [],
   "source": [
    "def getParameterWithFlags(params, parameter_meta):\n",
    "    params_extra = []\n",
    "    for key in params:\n",
    "        params_extra = params_extra + [\n",
    "            par for par in parameter_meta.index if par[: len(key)] == key\n",
    "        ]\n",
    "\n",
    "    return params_extra\n",
    "\n",
    "\n",
    "def stationsInGridbox(stations_meta, gridbox: query.LatLonBox):\n",
    "    # find stations in right longitude range\n",
    "    lon_mask = np.logical_and(\n",
    "        stations_meta[\"Länge [°E]\"].values < gridbox.lon_max,\n",
    "        stations_meta[\"Länge [°E]\"].values > gridbox.lon_min,\n",
    "    )\n",
    "    # find stations in right latitude range\n",
    "    lat_mask = np.logical_and(\n",
    "        stations_meta[\"Breite [°N]\"].values < gridbox.lat_max,\n",
    "        stations_meta[\"Breite [°N]\"].values > gridbox.lat_min,\n",
    "    )\n",
    "    # combine the masks\n",
    "    mask = np.logical_and(lat_mask, lon_mask)\n",
    "    return stations_meta[mask]"
   ]
  },
  {
   "cell_type": "markdown",
   "id": "4a0556e1-be25-4ff9-9c77-f1699a9e109e",
   "metadata": {},
   "source": [
    "# Make query"
   ]
  },
  {
   "cell_type": "markdown",
   "id": "d5baca8f-633b-438f-b4df-79c879ea5120",
   "metadata": {},
   "source": [
    "## Dataset"
   ]
  },
  {
   "cell_type": "code",
   "execution_count": 6,
   "id": "ac3751d1-2c00-4523-b3f9-6b5320080928",
   "metadata": {},
   "outputs": [
    {
     "name": "stdout",
     "output_type": "stream",
     "text": [
      "DatasetType.STATION_10min\n"
     ]
    }
   ],
   "source": [
    "# dataset type\n",
    "dataset = query.DatasetType.STATION_10min\n",
    "print(dataset)"
   ]
  },
  {
   "cell_type": "markdown",
   "id": "e26befe6-a2c9-45d6-bd7d-f2d7db57a472",
   "metadata": {},
   "source": [
    "## Select parameters"
   ]
  },
  {
   "cell_type": "code",
   "execution_count": 7,
   "id": "e1fb5243-8e3a-4a61-a163-b62b2ada85a0",
   "metadata": {},
   "outputs": [
    {
     "data": {
      "text/html": [
       "<div>\n",
       "<style scoped>\n",
       "    .dataframe tbody tr th:only-of-type {\n",
       "        vertical-align: middle;\n",
       "    }\n",
       "\n",
       "    .dataframe tbody tr th {\n",
       "        vertical-align: top;\n",
       "    }\n",
       "\n",
       "    .dataframe thead th {\n",
       "        text-align: right;\n",
       "    }\n",
       "</style>\n",
       "<table border=\"1\" class=\"dataframe\">\n",
       "  <thead>\n",
       "    <tr style=\"text-align: right;\">\n",
       "      <th></th>\n",
       "      <th>Kurzbeschreibung</th>\n",
       "      <th>Beschreibung</th>\n",
       "      <th>Einheit</th>\n",
       "    </tr>\n",
       "  </thead>\n",
       "  <tbody>\n",
       "    <tr>\n",
       "      <th>RR</th>\n",
       "      <td>Niederschlag</td>\n",
       "      <td>10 Minuten Summe des Niederschlags, Summe der ...</td>\n",
       "      <td>mm</td>\n",
       "    </tr>\n",
       "    <tr>\n",
       "      <th>RRM</th>\n",
       "      <td>Niederschlagsmelder</td>\n",
       "      <td>10 Minuten Summe des Regenmelders, Summe der B...</td>\n",
       "      <td>min</td>\n",
       "    </tr>\n",
       "    <tr>\n",
       "      <th>RRM_FLAG</th>\n",
       "      <td>Qualitätsflag der 10 Minuten Summe des Regenme...</td>\n",
       "      <td>Qualitätsflag für die 10 Minuten Summe des Reg...</td>\n",
       "      <td>code</td>\n",
       "    </tr>\n",
       "    <tr>\n",
       "      <th>RR_FLAG</th>\n",
       "      <td>Qualitätsflag der 10 Minuten Summe des Nieders...</td>\n",
       "      <td>Qualitätsflag für die 10 Minuten Summe des Nie...</td>\n",
       "      <td>code</td>\n",
       "    </tr>\n",
       "    <tr>\n",
       "      <th>SH</th>\n",
       "      <td>Gesamtschneehöhe aus Schneepegelmessung</td>\n",
       "      <td>Gesamtschneehöhe aus Schneepegelmessung, arith...</td>\n",
       "      <td>cm</td>\n",
       "    </tr>\n",
       "    <tr>\n",
       "      <th>SH_FLAG</th>\n",
       "      <td>Qualitätsflag der Gesamtschneehöhe</td>\n",
       "      <td>Qualitätsflag für die Gesamtschneehöhe - Quali...</td>\n",
       "      <td>code</td>\n",
       "    </tr>\n",
       "    <tr>\n",
       "      <th>TL</th>\n",
       "      <td>Lufttemperatur in 2m</td>\n",
       "      <td>Lufttemperatur in 2m Höhe, Basiswert zur Minute10</td>\n",
       "      <td>°C</td>\n",
       "    </tr>\n",
       "    <tr>\n",
       "      <th>TLMAX</th>\n",
       "      <td>Lufttemperaturmaximum in 2m</td>\n",
       "      <td>Maximum der Lufttemperatur in 2m Höhe, Maximum...</td>\n",
       "      <td>°C</td>\n",
       "    </tr>\n",
       "    <tr>\n",
       "      <th>TLMAX_FLAG</th>\n",
       "      <td>Qualitätsflag des Lufttemperaturmaximums in 2m</td>\n",
       "      <td>Qualitätsflag für das Maximum der Lufttemperat...</td>\n",
       "      <td>code</td>\n",
       "    </tr>\n",
       "    <tr>\n",
       "      <th>TLMIN</th>\n",
       "      <td>Lufttemperaturminimum in 2m</td>\n",
       "      <td>Minimum der Lufttemperatur in 2m Höhe, Minimum...</td>\n",
       "      <td>°C</td>\n",
       "    </tr>\n",
       "    <tr>\n",
       "      <th>TLMIN_FLAG</th>\n",
       "      <td>Qualitätsflag des Lufttemperaturminimums in 2m</td>\n",
       "      <td>Qualitätsflag für das Minimum der Lufttemperat...</td>\n",
       "      <td>code</td>\n",
       "    </tr>\n",
       "    <tr>\n",
       "      <th>TL_FLAG</th>\n",
       "      <td>Qualitätsflag der Lufttemperatur in 2m</td>\n",
       "      <td>Qualitätsflag für die Lufttemperatur in 2m Höh...</td>\n",
       "      <td>code</td>\n",
       "    </tr>\n",
       "    <tr>\n",
       "      <th>TS</th>\n",
       "      <td>Lufttemperatur in 5cm</td>\n",
       "      <td>Lufttemperatur in 5cm Höhe über Boden, Basiswe...</td>\n",
       "      <td>°C</td>\n",
       "    </tr>\n",
       "    <tr>\n",
       "      <th>TSMAX</th>\n",
       "      <td>Lufttemperaturmaximum in 5cm</td>\n",
       "      <td>Maximum der Lufttemperatur in 5cm Höhe über Bo...</td>\n",
       "      <td>°C</td>\n",
       "    </tr>\n",
       "    <tr>\n",
       "      <th>TSMAX_FLAG</th>\n",
       "      <td>Qualitätsflag des Lufttemperaturmaximums in 5cm</td>\n",
       "      <td>Qualitätsflag für das Maximum der Lufttemperat...</td>\n",
       "      <td>code</td>\n",
       "    </tr>\n",
       "    <tr>\n",
       "      <th>TSMIN</th>\n",
       "      <td>Lufttemperaturminimum in 5cm</td>\n",
       "      <td>Minimum der Lufttemperatur in 5cm Höhe über Bo...</td>\n",
       "      <td>°C</td>\n",
       "    </tr>\n",
       "    <tr>\n",
       "      <th>TSMIN_FLAG</th>\n",
       "      <td>Qualitätsflag des Lufttemperaturminimums in 5cm</td>\n",
       "      <td>Qualitätsflag für das Minimum der Lufttemperat...</td>\n",
       "      <td>code</td>\n",
       "    </tr>\n",
       "    <tr>\n",
       "      <th>TS_FLAG</th>\n",
       "      <td>Qualitätsflag der Lufttemperatur in 5cm</td>\n",
       "      <td>Qualitätsflag für die Lufttemperatur in 5cm Hö...</td>\n",
       "      <td>code</td>\n",
       "    </tr>\n",
       "    <tr>\n",
       "      <th>TB1</th>\n",
       "      <td>Erdbodentemperatur in 10cm Tiefe</td>\n",
       "      <td>Erdbodentemperatur in 10cm Tiefe, Basiswert zu...</td>\n",
       "      <td>°C</td>\n",
       "    </tr>\n",
       "    <tr>\n",
       "      <th>TB1_FLAG</th>\n",
       "      <td>Qualitätsflag der Erdbodentemperatur in 10 cm</td>\n",
       "      <td>Qualitätsflag für die Erdbodentemperatur in 10...</td>\n",
       "      <td>code</td>\n",
       "    </tr>\n",
       "    <tr>\n",
       "      <th>TB2</th>\n",
       "      <td>Erdbodentemperatur in 20cm Tiefe</td>\n",
       "      <td>Erdbodentemperatur in 20cm Tiefe, Basiswert zu...</td>\n",
       "      <td>°C</td>\n",
       "    </tr>\n",
       "    <tr>\n",
       "      <th>TB2_FLAG</th>\n",
       "      <td>Qualitätsflag der Erdbodentemperatur in 20 cm</td>\n",
       "      <td>Qualitätsflag für die Erdbodentemperatur in 20...</td>\n",
       "      <td>code</td>\n",
       "    </tr>\n",
       "    <tr>\n",
       "      <th>TB3</th>\n",
       "      <td>Erdbodentemperatur in 50cm Tiefe</td>\n",
       "      <td>Erdbodentemperatur in 50cm Tiefe, Basiswert zu...</td>\n",
       "      <td>°C</td>\n",
       "    </tr>\n",
       "    <tr>\n",
       "      <th>TB3_FLAG</th>\n",
       "      <td>Qualitätsflag der Erdbodentemperatur in 50 cm</td>\n",
       "      <td>Qualitätsflag für die Erdbodentemperatur in 50...</td>\n",
       "      <td>code</td>\n",
       "    </tr>\n",
       "    <tr>\n",
       "      <th>GSX</th>\n",
       "      <td>Globalstrahlung</td>\n",
       "      <td>Globalstrahlung, arithmetisches Mittel über 10...</td>\n",
       "      <td>W/m²</td>\n",
       "    </tr>\n",
       "    <tr>\n",
       "      <th>GSX_FLAG</th>\n",
       "      <td>Qualitätsflag der Globalstrahlung</td>\n",
       "      <td>Qualitätsflag für die Globalstrahlung - Qualit...</td>\n",
       "      <td>code</td>\n",
       "    </tr>\n",
       "    <tr>\n",
       "      <th>HSR</th>\n",
       "      <td>Himmelsstrahlung/Diffusstrahlung in mV</td>\n",
       "      <td>Diffusstrahlung [1/10 mV], arithmetisches Mitt...</td>\n",
       "      <td>mV</td>\n",
       "    </tr>\n",
       "    <tr>\n",
       "      <th>HSR_FLAG</th>\n",
       "      <td>Qualitätsflag der Diffusstrahlung in mV</td>\n",
       "      <td>Qualitätsflag für die Diffusstrahlung in mV - ...</td>\n",
       "      <td>code</td>\n",
       "    </tr>\n",
       "    <tr>\n",
       "      <th>HSX</th>\n",
       "      <td>Himmelsstrahlung/Diffusstrahlung in W/m²</td>\n",
       "      <td>Diffusstrahlung [W/m²], arithmetisches Mittel ...</td>\n",
       "      <td>W/m²</td>\n",
       "    </tr>\n",
       "    <tr>\n",
       "      <th>HSX_FLAG</th>\n",
       "      <td>Qualitätsflag der Diffusstrahlung in W/m²</td>\n",
       "      <td>Qualitätsflag für die Diffusstrahlung in W/m² ...</td>\n",
       "      <td>code</td>\n",
       "    </tr>\n",
       "  </tbody>\n",
       "</table>\n",
       "</div>"
      ],
      "text/plain": [
       "                                             Kurzbeschreibung  \\\n",
       "RR                                               Niederschlag   \n",
       "RRM                                       Niederschlagsmelder   \n",
       "RRM_FLAG    Qualitätsflag der 10 Minuten Summe des Regenme...   \n",
       "RR_FLAG     Qualitätsflag der 10 Minuten Summe des Nieders...   \n",
       "SH                    Gesamtschneehöhe aus Schneepegelmessung   \n",
       "SH_FLAG                    Qualitätsflag der Gesamtschneehöhe   \n",
       "TL                                       Lufttemperatur in 2m   \n",
       "TLMAX                             Lufttemperaturmaximum in 2m   \n",
       "TLMAX_FLAG     Qualitätsflag des Lufttemperaturmaximums in 2m   \n",
       "TLMIN                             Lufttemperaturminimum in 2m   \n",
       "TLMIN_FLAG     Qualitätsflag des Lufttemperaturminimums in 2m   \n",
       "TL_FLAG                Qualitätsflag der Lufttemperatur in 2m   \n",
       "TS                                      Lufttemperatur in 5cm   \n",
       "TSMAX                            Lufttemperaturmaximum in 5cm   \n",
       "TSMAX_FLAG    Qualitätsflag des Lufttemperaturmaximums in 5cm   \n",
       "TSMIN                            Lufttemperaturminimum in 5cm   \n",
       "TSMIN_FLAG    Qualitätsflag des Lufttemperaturminimums in 5cm   \n",
       "TS_FLAG               Qualitätsflag der Lufttemperatur in 5cm   \n",
       "TB1                          Erdbodentemperatur in 10cm Tiefe   \n",
       "TB1_FLAG        Qualitätsflag der Erdbodentemperatur in 10 cm   \n",
       "TB2                          Erdbodentemperatur in 20cm Tiefe   \n",
       "TB2_FLAG        Qualitätsflag der Erdbodentemperatur in 20 cm   \n",
       "TB3                          Erdbodentemperatur in 50cm Tiefe   \n",
       "TB3_FLAG        Qualitätsflag der Erdbodentemperatur in 50 cm   \n",
       "GSX                                           Globalstrahlung   \n",
       "GSX_FLAG                    Qualitätsflag der Globalstrahlung   \n",
       "HSR                    Himmelsstrahlung/Diffusstrahlung in mV   \n",
       "HSR_FLAG              Qualitätsflag der Diffusstrahlung in mV   \n",
       "HSX                  Himmelsstrahlung/Diffusstrahlung in W/m²   \n",
       "HSX_FLAG            Qualitätsflag der Diffusstrahlung in W/m²   \n",
       "\n",
       "                                                 Beschreibung Einheit  \n",
       "RR          10 Minuten Summe des Niederschlags, Summe der ...      mm  \n",
       "RRM         10 Minuten Summe des Regenmelders, Summe der B...     min  \n",
       "RRM_FLAG    Qualitätsflag für die 10 Minuten Summe des Reg...    code  \n",
       "RR_FLAG     Qualitätsflag für die 10 Minuten Summe des Nie...    code  \n",
       "SH          Gesamtschneehöhe aus Schneepegelmessung, arith...      cm  \n",
       "SH_FLAG     Qualitätsflag für die Gesamtschneehöhe - Quali...    code  \n",
       "TL          Lufttemperatur in 2m Höhe, Basiswert zur Minute10      °C  \n",
       "TLMAX       Maximum der Lufttemperatur in 2m Höhe, Maximum...      °C  \n",
       "TLMAX_FLAG  Qualitätsflag für das Maximum der Lufttemperat...    code  \n",
       "TLMIN       Minimum der Lufttemperatur in 2m Höhe, Minimum...      °C  \n",
       "TLMIN_FLAG  Qualitätsflag für das Minimum der Lufttemperat...    code  \n",
       "TL_FLAG     Qualitätsflag für die Lufttemperatur in 2m Höh...    code  \n",
       "TS          Lufttemperatur in 5cm Höhe über Boden, Basiswe...      °C  \n",
       "TSMAX       Maximum der Lufttemperatur in 5cm Höhe über Bo...      °C  \n",
       "TSMAX_FLAG  Qualitätsflag für das Maximum der Lufttemperat...    code  \n",
       "TSMIN       Minimum der Lufttemperatur in 5cm Höhe über Bo...      °C  \n",
       "TSMIN_FLAG  Qualitätsflag für das Minimum der Lufttemperat...    code  \n",
       "TS_FLAG     Qualitätsflag für die Lufttemperatur in 5cm Hö...    code  \n",
       "TB1         Erdbodentemperatur in 10cm Tiefe, Basiswert zu...      °C  \n",
       "TB1_FLAG    Qualitätsflag für die Erdbodentemperatur in 10...    code  \n",
       "TB2         Erdbodentemperatur in 20cm Tiefe, Basiswert zu...      °C  \n",
       "TB2_FLAG    Qualitätsflag für die Erdbodentemperatur in 20...    code  \n",
       "TB3         Erdbodentemperatur in 50cm Tiefe, Basiswert zu...      °C  \n",
       "TB3_FLAG    Qualitätsflag für die Erdbodentemperatur in 50...    code  \n",
       "GSX         Globalstrahlung, arithmetisches Mittel über 10...    W/m²  \n",
       "GSX_FLAG    Qualitätsflag für die Globalstrahlung - Qualit...    code  \n",
       "HSR         Diffusstrahlung [1/10 mV], arithmetisches Mitt...      mV  \n",
       "HSR_FLAG    Qualitätsflag für die Diffusstrahlung in mV - ...    code  \n",
       "HSX         Diffusstrahlung [W/m²], arithmetisches Mittel ...    W/m²  \n",
       "HSX_FLAG    Qualitätsflag für die Diffusstrahlung in W/m² ...    code  "
      ]
     },
     "execution_count": 7,
     "metadata": {},
     "output_type": "execute_result"
    }
   ],
   "source": [
    "params_extra = getParameterWithFlags(params, parameter_meta)\n",
    "parameter_meta.loc[params_extra]"
   ]
  },
  {
   "cell_type": "markdown",
   "id": "ebf1767c-fce9-430a-a264-a9845d1a76ac",
   "metadata": {},
   "source": [
    "## Selecting stations"
   ]
  },
  {
   "cell_type": "code",
   "execution_count": 8,
   "id": "959871ee-0f22-4a3a-8a72-2648f2b9cee6",
   "metadata": {},
   "outputs": [
    {
     "name": "stdout",
     "output_type": "stream",
     "text": [
      "LOCATION: oetztal\n",
      "COORDINATES: latitude: 46.6 ... 47.3 ; longitude 10.5 ... 11.4\n",
      "\n",
      "LOCATION: tirol\n",
      "COORDINATES: latitude: 46.77 ... 47.71 ; longitude 9.53 ... 13.51\n",
      "\n"
     ]
    }
   ],
   "source": [
    "gridbox_oetz = query.LatLonBox(\n",
    "    label=\"oetztal\", lat_min=46.6, lat_max=47.3, lon_min=10.5, lon_max=11.4\n",
    ")\n",
    "print(gridbox_oetz)\n",
    "print()\n",
    "\n",
    "# gridbox for all Tirol\n",
    "gridbox_tirol = query.LatLonBox(\n",
    "    label=\"tirol\", lat_min=46.77, lat_max=47.71, lon_min=9.53, lon_max=13.51\n",
    ")\n",
    "print(gridbox_tirol)\n",
    "print()"
   ]
  },
  {
   "cell_type": "code",
   "execution_count": 9,
   "id": "8b5642b3-2c07-41f9-b406-c8e8c68afc13",
   "metadata": {},
   "outputs": [
    {
     "data": {
      "text/html": [
       "<div>\n",
       "<style scoped>\n",
       "    .dataframe tbody tr th:only-of-type {\n",
       "        vertical-align: middle;\n",
       "    }\n",
       "\n",
       "    .dataframe tbody tr th {\n",
       "        vertical-align: top;\n",
       "    }\n",
       "\n",
       "    .dataframe thead th {\n",
       "        text-align: right;\n",
       "    }\n",
       "</style>\n",
       "<table border=\"1\" class=\"dataframe\">\n",
       "  <thead>\n",
       "    <tr style=\"text-align: right;\">\n",
       "      <th></th>\n",
       "      <th>id</th>\n",
       "      <th>Synopstationsnummer</th>\n",
       "      <th>Stationsname</th>\n",
       "      <th>Länge [°E]</th>\n",
       "      <th>Breite [°N]</th>\n",
       "      <th>Höhe [m]</th>\n",
       "      <th>Startdatum</th>\n",
       "      <th>Enddatum</th>\n",
       "      <th>Bundesland</th>\n",
       "      <th>Sonnenschein</th>\n",
       "      <th>Globalstrahlung</th>\n",
       "    </tr>\n",
       "  </thead>\n",
       "  <tbody>\n",
       "    <tr>\n",
       "      <th>101</th>\n",
       "      <td>11803</td>\n",
       "      <td>11320</td>\n",
       "      <td>INNSBRUCK-UNIV.</td>\n",
       "      <td>11.384167</td>\n",
       "      <td>47.259998</td>\n",
       "      <td>578.0</td>\n",
       "      <td>2009-07-14</td>\n",
       "      <td>2100-12-31</td>\n",
       "      <td>TIR</td>\n",
       "      <td>ja</td>\n",
       "      <td>ja</td>\n",
       "    </tr>\n",
       "    <tr>\n",
       "      <th>102</th>\n",
       "      <td>11804</td>\n",
       "      <td>11120</td>\n",
       "      <td>INNSBRUCK-FLUGPLATZ</td>\n",
       "      <td>11.356667</td>\n",
       "      <td>47.259998</td>\n",
       "      <td>578.0</td>\n",
       "      <td>1992-11-24</td>\n",
       "      <td>2100-12-31</td>\n",
       "      <td>TIR</td>\n",
       "      <td>ja</td>\n",
       "      <td>ja</td>\n",
       "    </tr>\n",
       "    <tr>\n",
       "      <th>116</th>\n",
       "      <td>14631</td>\n",
       "      <td>11117</td>\n",
       "      <td>UMHAUSEN</td>\n",
       "      <td>10.928889</td>\n",
       "      <td>47.139168</td>\n",
       "      <td>1035.0</td>\n",
       "      <td>2003-06-01</td>\n",
       "      <td>2100-12-31</td>\n",
       "      <td>TIR</td>\n",
       "      <td>nein</td>\n",
       "      <td>ja</td>\n",
       "    </tr>\n",
       "    <tr>\n",
       "      <th>138</th>\n",
       "      <td>17301</td>\n",
       "      <td>11127</td>\n",
       "      <td>OBERGURGL</td>\n",
       "      <td>11.024445</td>\n",
       "      <td>46.866943</td>\n",
       "      <td>1941.0</td>\n",
       "      <td>1999-01-04</td>\n",
       "      <td>2100-12-31</td>\n",
       "      <td>TIR</td>\n",
       "      <td>ja</td>\n",
       "      <td>ja</td>\n",
       "    </tr>\n",
       "    <tr>\n",
       "      <th>139</th>\n",
       "      <td>17315</td>\n",
       "      <td>11316</td>\n",
       "      <td>PITZTALER GLETSCHER</td>\n",
       "      <td>10.879167</td>\n",
       "      <td>46.926945</td>\n",
       "      <td>2863.9</td>\n",
       "      <td>1993-12-09</td>\n",
       "      <td>2100-12-31</td>\n",
       "      <td>TIR</td>\n",
       "      <td>ja</td>\n",
       "      <td>ja</td>\n",
       "    </tr>\n",
       "    <tr>\n",
       "      <th>140</th>\n",
       "      <td>17320</td>\n",
       "      <td>11318</td>\n",
       "      <td>BRUNNENKOGEL</td>\n",
       "      <td>10.861667</td>\n",
       "      <td>46.912777</td>\n",
       "      <td>3437.0</td>\n",
       "      <td>2002-01-28</td>\n",
       "      <td>2100-12-31</td>\n",
       "      <td>TIR</td>\n",
       "      <td>nein</td>\n",
       "      <td>nein</td>\n",
       "    </tr>\n",
       "    <tr>\n",
       "      <th>231</th>\n",
       "      <td>14701</td>\n",
       "      <td>11324</td>\n",
       "      <td>NEUSTIFT/MILDERS</td>\n",
       "      <td>11.291945</td>\n",
       "      <td>47.102779</td>\n",
       "      <td>1007.0</td>\n",
       "      <td>2004-11-04</td>\n",
       "      <td>2100-12-31</td>\n",
       "      <td>TIR</td>\n",
       "      <td>nein</td>\n",
       "      <td>ja</td>\n",
       "    </tr>\n",
       "    <tr>\n",
       "      <th>232</th>\n",
       "      <td>14622</td>\n",
       "      <td>11317</td>\n",
       "      <td>ST.LEONHARD/PITZTAL</td>\n",
       "      <td>10.865556</td>\n",
       "      <td>47.027222</td>\n",
       "      <td>1454.4</td>\n",
       "      <td>2007-11-27</td>\n",
       "      <td>2100-12-31</td>\n",
       "      <td>TIR</td>\n",
       "      <td>nein</td>\n",
       "      <td>ja</td>\n",
       "    </tr>\n",
       "    <tr>\n",
       "      <th>233</th>\n",
       "      <td>14603</td>\n",
       "      <td>11309</td>\n",
       "      <td>HAIMING</td>\n",
       "      <td>10.889444</td>\n",
       "      <td>47.259724</td>\n",
       "      <td>659.0</td>\n",
       "      <td>2007-08-20</td>\n",
       "      <td>2100-12-31</td>\n",
       "      <td>TIR</td>\n",
       "      <td>ja</td>\n",
       "      <td>ja</td>\n",
       "    </tr>\n",
       "    <tr>\n",
       "      <th>234</th>\n",
       "      <td>14513</td>\n",
       "      <td>11115</td>\n",
       "      <td>IMST</td>\n",
       "      <td>10.742222</td>\n",
       "      <td>47.236946</td>\n",
       "      <td>773.0</td>\n",
       "      <td>2007-08-20</td>\n",
       "      <td>2100-12-31</td>\n",
       "      <td>TIR</td>\n",
       "      <td>ja</td>\n",
       "      <td>ja</td>\n",
       "    </tr>\n",
       "    <tr>\n",
       "      <th>235</th>\n",
       "      <td>14403</td>\n",
       "      <td>11112</td>\n",
       "      <td>LANDECK</td>\n",
       "      <td>10.563611</td>\n",
       "      <td>47.140278</td>\n",
       "      <td>796.0</td>\n",
       "      <td>1993-12-23</td>\n",
       "      <td>2100-12-31</td>\n",
       "      <td>TIR</td>\n",
       "      <td>ja</td>\n",
       "      <td>ja</td>\n",
       "    </tr>\n",
       "  </tbody>\n",
       "</table>\n",
       "</div>"
      ],
      "text/plain": [
       "        id  Synopstationsnummer         Stationsname  Länge [°E]  Breite [°N]  \\\n",
       "101  11803                11320      INNSBRUCK-UNIV.   11.384167    47.259998   \n",
       "102  11804                11120  INNSBRUCK-FLUGPLATZ   11.356667    47.259998   \n",
       "116  14631                11117             UMHAUSEN   10.928889    47.139168   \n",
       "138  17301                11127            OBERGURGL   11.024445    46.866943   \n",
       "139  17315                11316  PITZTALER GLETSCHER   10.879167    46.926945   \n",
       "140  17320                11318         BRUNNENKOGEL   10.861667    46.912777   \n",
       "231  14701                11324     NEUSTIFT/MILDERS   11.291945    47.102779   \n",
       "232  14622                11317  ST.LEONHARD/PITZTAL   10.865556    47.027222   \n",
       "233  14603                11309              HAIMING   10.889444    47.259724   \n",
       "234  14513                11115                 IMST   10.742222    47.236946   \n",
       "235  14403                11112              LANDECK   10.563611    47.140278   \n",
       "\n",
       "     Höhe [m]  Startdatum    Enddatum Bundesland Sonnenschein Globalstrahlung  \n",
       "101     578.0  2009-07-14  2100-12-31        TIR           ja              ja  \n",
       "102     578.0  1992-11-24  2100-12-31        TIR           ja              ja  \n",
       "116    1035.0  2003-06-01  2100-12-31        TIR         nein              ja  \n",
       "138    1941.0  1999-01-04  2100-12-31        TIR           ja              ja  \n",
       "139    2863.9  1993-12-09  2100-12-31        TIR           ja              ja  \n",
       "140    3437.0  2002-01-28  2100-12-31        TIR         nein            nein  \n",
       "231    1007.0  2004-11-04  2100-12-31        TIR         nein              ja  \n",
       "232    1454.4  2007-11-27  2100-12-31        TIR         nein              ja  \n",
       "233     659.0  2007-08-20  2100-12-31        TIR           ja              ja  \n",
       "234     773.0  2007-08-20  2100-12-31        TIR           ja              ja  \n",
       "235     796.0  1993-12-23  2100-12-31        TIR           ja              ja  "
      ]
     },
     "execution_count": 9,
     "metadata": {},
     "output_type": "execute_result"
    }
   ],
   "source": [
    "# find stations within gridbox\n",
    "stations_oetz = stationsInGridbox(stations_meta, gridbox_oetz)\n",
    "station_ids = stations_oetz.id.values\n",
    "station_names = stations_oetz.Stationsname.to_list()\n",
    "station_starts = stations_oetz.Startdatum.to_list()\n",
    "stations_oetz"
   ]
  },
  {
   "cell_type": "markdown",
   "id": "ec560e95-fb79-42dd-a214-dd893d2e1c3b",
   "metadata": {},
   "source": [
    "## Make the query"
   ]
  },
  {
   "cell_type": "code",
   "execution_count": 10,
   "id": "ae5e2f3e-36ee-4ea3-8143-dfee990c7391",
   "metadata": {},
   "outputs": [
    {
     "name": "stdout",
     "output_type": "stream",
     "text": [
      "stationQuery for download of STATION_10min. \n",
      "params: ['RR', 'RRM', 'RRM_FLAG', 'RR_FLAG', 'SH', 'SH_FLAG', 'TL', 'TLMAX', 'TLMAX_FLAG', 'TLMIN', 'TLMIN_FLAG', 'TL_FLAG', 'TS', 'TSMAX', 'TSMAX_FLAG', 'TSMIN', 'TSMIN_FLAG', 'TS_FLAG', 'TB1', 'TB1_FLAG', 'TB2', 'TB2_FLAG', 'TB3', 'TB3_FLAG', 'GSX', 'GSX_FLAG', 'HSR', 'HSR_FLAG', 'HSX', 'HSX_FLAG', 'QFLAG']\n",
      "dataset: DatasetType.STATION_10min\n",
      "station_ids: ['11803', '11804', '14631', '17301', '17315', '17320', '14701', '14622', '14603', '14513', '14403']\n",
      "station_names: ['INNSBRUCK-UNIV.', 'INNSBRUCK-FLUGPLATZ', 'UMHAUSEN', 'OBERGURGL', 'PITZTALER GLETSCHER', 'BRUNNENKOGEL', 'NEUSTIFT/MILDERS', 'ST.LEONHARD/PITZTAL', 'HAIMING', 'IMST', 'LANDECK']\n",
      "station_longnames: ['11803_INNSBRUCK-UNIV.', '11804_INNSBRUCK-FLUGPLATZ', '14631_UMHAUSEN', '17301_OBERGURGL', '17315_PITZTALER-GLETSCHER', '17320_BRUNNENKOGEL', '14701_NEUSTIFT-MILDERS', '14622_ST.LEONHARD-PITZTAL', '14603_HAIMING', '14513_IMST', '14403_LANDECK']\n",
      "station_starts: ['2009-07-14', '1992-11-24', '2003-06-01', '1999-01-04', '1993-12-09', '2002-01-28', '2004-11-04', '2007-11-27', '2007-08-20', '2007-08-20', '1993-12-23']\n",
      "output_format: csv\n",
      "annualSlices: True\n",
      "location_label: station-selection\n",
      "output_filename_head: station-10min\n"
     ]
    }
   ],
   "source": [
    "myQuery = query.StationQuery(\n",
    "    dataset, params_extra, station_ids, station_names, station_starts\n",
    ")\n",
    "\n",
    "print(myQuery)"
   ]
  },
  {
   "cell_type": "markdown",
   "id": "a435c452-2cb1-49c8-b609-fd1257fbccfa",
   "metadata": {},
   "source": [
    "## Save/Load query to/from file"
   ]
  },
  {
   "cell_type": "code",
   "execution_count": 11,
   "id": "2e838567-d617-4b9e-a4c7-9cd84a53b87c",
   "metadata": {},
   "outputs": [
    {
     "name": "stdout",
     "output_type": "stream",
     "text": [
      "Query saved to \"./STATION_10min_query_station-selection.txt\"\n"
     ]
    }
   ],
   "source": [
    "myQuery.saveQuery()"
   ]
  },
  {
   "cell_type": "code",
   "execution_count": 12,
   "id": "b8c4b6f8-ebaf-4b5a-a926-5ce7a932f44e",
   "metadata": {},
   "outputs": [
    {
     "name": "stdout",
     "output_type": "stream",
     "text": [
      "stationQuery for download of STATION_10min. \n",
      "params: ['RR', 'RRM', 'RRM_FLAG', 'RR_FLAG', 'SH', 'SH_FLAG', 'TL', 'TLMAX', 'TLMAX_FLAG', 'TLMIN', 'TLMIN_FLAG', 'TL_FLAG', 'TS', 'TSMAX', 'TSMAX_FLAG', 'TSMIN', 'TSMIN_FLAG', 'TS_FLAG', 'TB1', 'TB1_FLAG', 'TB2', 'TB2_FLAG', 'TB3', 'TB3_FLAG', 'GSX', 'GSX_FLAG', 'HSR', 'HSR_FLAG', 'HSX', 'HSX_FLAG', 'QFLAG', 'QFLAG']\n",
      "dataset: DatasetType.STATION_10min\n",
      "station_ids: ['11803', '11804', '14631', '17301', '17315', '17320', '14701', '14622', '14603', '14513', '14403']\n",
      "station_names: ['INNSBRUCK-UNIV.', 'INNSBRUCK-FLUGPLATZ', 'UMHAUSEN', 'OBERGURGL', 'PITZTALER GLETSCHER', 'BRUNNENKOGEL', 'NEUSTIFT/MILDERS', 'ST.LEONHARD/PITZTAL', 'HAIMING', 'IMST', 'LANDECK']\n",
      "station_longnames: ['11803_INNSBRUCK-UNIV.', '11804_INNSBRUCK-FLUGPLATZ', '14631_UMHAUSEN', '17301_OBERGURGL', '17315_PITZTALER-GLETSCHER', '17320_BRUNNENKOGEL', '14701_NEUSTIFT-MILDERS', '14622_ST.LEONHARD-PITZTAL', '14603_HAIMING', '14513_IMST', '14403_LANDECK']\n",
      "station_starts: ['2009-07-14', '1992-11-24', '2003-06-01', '1999-01-04', '1993-12-09', '2002-01-28', '2004-11-04', '2007-11-27', '2007-08-20', '2007-08-20', '1993-12-23']\n",
      "output_format: csv\n",
      "annualSlices: True\n",
      "location_label: station-selection\n",
      "output_filename_head: station-10min\n"
     ]
    }
   ],
   "source": [
    "importedQuery = query.loadQuery(\"./STATION_10min_query_station-selection.txt\")\n",
    "print(importedQuery)"
   ]
  },
  {
   "cell_type": "markdown",
   "id": "233f91c0-1420-488b-8832-68a23c020ff0",
   "metadata": {
    "tags": []
   },
   "source": [
    "# Download"
   ]
  },
  {
   "cell_type": "code",
   "execution_count": 13,
   "id": "67d137c5-9fba-4985-a90e-41d3de005985",
   "metadata": {},
   "outputs": [],
   "source": [
    "if not len(utils.makeStationFilenames(start,end,myQuery)) == len(data_download.makeURL(myQuery, start, end)):\n",
    "    raise Exception(\"Something went wrong when splitting station data requests into slices. No garantee that filenames and file contents match!\")"
   ]
  },
  {
   "cell_type": "code",
   "execution_count": 14,
   "id": "135db2eb-03c4-4be3-94f7-c477a6788c4c",
   "metadata": {},
   "outputs": [
    {
     "name": "stdout",
     "output_type": "stream",
     "text": [
      "Parallelising with 5 cores.\n"
     ]
    },
    {
     "name": "stderr",
     "output_type": "stream",
     "text": [
      "Process SpawnPoolWorker-5:\n",
      "Process SpawnPoolWorker-1:\n",
      "Process SpawnPoolWorker-4:\n",
      "Process SpawnPoolWorker-2:\n",
      "Process SpawnPoolWorker-3:\n"
     ]
    },
    {
     "ename": "KeyboardInterrupt",
     "evalue": "",
     "output_type": "error",
     "traceback": [
      "\u001b[0;31m---------------------------------------------------------------------------\u001b[0m",
      "\u001b[0;31mKeyboardInterrupt\u001b[0m                         Traceback (most recent call last)",
      "Input \u001b[0;32mIn [14]\u001b[0m, in \u001b[0;36m<cell line: 1>\u001b[0;34m()\u001b[0m\n\u001b[0;32m----> 1\u001b[0m \u001b[43mdata_download\u001b[49m\u001b[38;5;241;43m.\u001b[39;49m\u001b[43mdownloadData\u001b[49m\u001b[43m(\u001b[49m\n\u001b[1;32m      2\u001b[0m \u001b[43m    \u001b[49m\u001b[43mmyQuery\u001b[49m\u001b[43m,\u001b[49m\u001b[43m \u001b[49m\u001b[43mstart\u001b[49m\u001b[43m,\u001b[49m\u001b[43m \u001b[49m\u001b[43mend\u001b[49m\u001b[43m,\u001b[49m\u001b[43m \u001b[49m\u001b[43mODIR\u001b[49m\u001b[43m,\u001b[49m\u001b[43m \u001b[49m\u001b[43moverwrite\u001b[49m\u001b[38;5;241;43m=\u001b[39;49m\u001b[43moverwrite\u001b[49m\u001b[43m,\u001b[49m\u001b[43m \u001b[49m\u001b[43mverbose\u001b[49m\u001b[38;5;241;43m=\u001b[39;49m\u001b[43mverbose\u001b[49m\u001b[43m,\u001b[49m\u001b[43m \u001b[49m\u001b[43mparallelProcess\u001b[49m\u001b[38;5;241;43m=\u001b[39;49m\u001b[38;5;28;43;01mTrue\u001b[39;49;00m\n\u001b[1;32m      3\u001b[0m \u001b[43m)\u001b[49m\n",
      "File \u001b[0;32m~/python/zamg_data_hub_download/ZAMGdatahub/data_download.py:134\u001b[0m, in \u001b[0;36mdownloadData\u001b[0;34m(ZAMGquery, start, end, ODIR, overwrite, verbose, parallelProcess)\u001b[0m\n\u001b[1;32m    132\u001b[0m     \u001b[38;5;66;03m# apply parallel processing\u001b[39;00m\n\u001b[1;32m    133\u001b[0m     \u001b[38;5;28;01mwith\u001b[39;00m mp\u001b[38;5;241m.\u001b[39mPool(cores) \u001b[38;5;28;01mas\u001b[39;00m pool:\n\u001b[0;32m--> 134\u001b[0m         \u001b[43mpool\u001b[49m\u001b[38;5;241;43m.\u001b[39;49m\u001b[43mstarmap\u001b[49m\u001b[43m(\u001b[49m\u001b[43mrequestData\u001b[49m\u001b[43m,\u001b[49m\u001b[43m \u001b[49m\u001b[38;5;28;43mzip\u001b[39;49m\u001b[43m(\u001b[49m\u001b[43murls\u001b[49m\u001b[43m,\u001b[49m\u001b[43moutfiles\u001b[49m\u001b[43m,\u001b[49m\u001b[43mrepeat\u001b[49m\u001b[43m(\u001b[49m\u001b[43moverwrite\u001b[49m\u001b[43m)\u001b[49m\u001b[43m,\u001b[49m\u001b[43mrepeat\u001b[49m\u001b[43m(\u001b[49m\u001b[43mverbose\u001b[49m\u001b[43m)\u001b[49m\u001b[43m)\u001b[49m\u001b[43m)\u001b[49m\n\u001b[1;32m    135\u001b[0m \u001b[38;5;28;01melse\u001b[39;00m:\n\u001b[1;32m    136\u001b[0m     \u001b[38;5;28;01mfor\u001b[39;00m outfile,url \u001b[38;5;129;01min\u001b[39;00m \u001b[38;5;28mzip\u001b[39m(outfiles,urls):\n",
      "File \u001b[0;32m~/anaconda3/lib/python3.9/multiprocessing/pool.py:372\u001b[0m, in \u001b[0;36mPool.starmap\u001b[0;34m(self, func, iterable, chunksize)\u001b[0m\n\u001b[1;32m    366\u001b[0m \u001b[38;5;28;01mdef\u001b[39;00m \u001b[38;5;21mstarmap\u001b[39m(\u001b[38;5;28mself\u001b[39m, func, iterable, chunksize\u001b[38;5;241m=\u001b[39m\u001b[38;5;28;01mNone\u001b[39;00m):\n\u001b[1;32m    367\u001b[0m     \u001b[38;5;124;03m'''\u001b[39;00m\n\u001b[1;32m    368\u001b[0m \u001b[38;5;124;03m    Like `map()` method but the elements of the `iterable` are expected to\u001b[39;00m\n\u001b[1;32m    369\u001b[0m \u001b[38;5;124;03m    be iterables as well and will be unpacked as arguments. Hence\u001b[39;00m\n\u001b[1;32m    370\u001b[0m \u001b[38;5;124;03m    `func` and (a, b) becomes func(a, b).\u001b[39;00m\n\u001b[1;32m    371\u001b[0m \u001b[38;5;124;03m    '''\u001b[39;00m\n\u001b[0;32m--> 372\u001b[0m     \u001b[38;5;28;01mreturn\u001b[39;00m \u001b[38;5;28;43mself\u001b[39;49m\u001b[38;5;241;43m.\u001b[39;49m\u001b[43m_map_async\u001b[49m\u001b[43m(\u001b[49m\u001b[43mfunc\u001b[49m\u001b[43m,\u001b[49m\u001b[43m \u001b[49m\u001b[43miterable\u001b[49m\u001b[43m,\u001b[49m\u001b[43m \u001b[49m\u001b[43mstarmapstar\u001b[49m\u001b[43m,\u001b[49m\u001b[43m \u001b[49m\u001b[43mchunksize\u001b[49m\u001b[43m)\u001b[49m\u001b[38;5;241;43m.\u001b[39;49m\u001b[43mget\u001b[49m\u001b[43m(\u001b[49m\u001b[43m)\u001b[49m\n",
      "File \u001b[0;32m~/anaconda3/lib/python3.9/multiprocessing/pool.py:765\u001b[0m, in \u001b[0;36mApplyResult.get\u001b[0;34m(self, timeout)\u001b[0m\n\u001b[1;32m    764\u001b[0m \u001b[38;5;28;01mdef\u001b[39;00m \u001b[38;5;21mget\u001b[39m(\u001b[38;5;28mself\u001b[39m, timeout\u001b[38;5;241m=\u001b[39m\u001b[38;5;28;01mNone\u001b[39;00m):\n\u001b[0;32m--> 765\u001b[0m     \u001b[38;5;28;43mself\u001b[39;49m\u001b[38;5;241;43m.\u001b[39;49m\u001b[43mwait\u001b[49m\u001b[43m(\u001b[49m\u001b[43mtimeout\u001b[49m\u001b[43m)\u001b[49m\n\u001b[1;32m    766\u001b[0m     \u001b[38;5;28;01mif\u001b[39;00m \u001b[38;5;129;01mnot\u001b[39;00m \u001b[38;5;28mself\u001b[39m\u001b[38;5;241m.\u001b[39mready():\n\u001b[1;32m    767\u001b[0m         \u001b[38;5;28;01mraise\u001b[39;00m \u001b[38;5;167;01mTimeoutError\u001b[39;00m\n",
      "File \u001b[0;32m~/anaconda3/lib/python3.9/multiprocessing/pool.py:762\u001b[0m, in \u001b[0;36mApplyResult.wait\u001b[0;34m(self, timeout)\u001b[0m\n\u001b[1;32m    761\u001b[0m \u001b[38;5;28;01mdef\u001b[39;00m \u001b[38;5;21mwait\u001b[39m(\u001b[38;5;28mself\u001b[39m, timeout\u001b[38;5;241m=\u001b[39m\u001b[38;5;28;01mNone\u001b[39;00m):\n\u001b[0;32m--> 762\u001b[0m     \u001b[38;5;28;43mself\u001b[39;49m\u001b[38;5;241;43m.\u001b[39;49m\u001b[43m_event\u001b[49m\u001b[38;5;241;43m.\u001b[39;49m\u001b[43mwait\u001b[49m\u001b[43m(\u001b[49m\u001b[43mtimeout\u001b[49m\u001b[43m)\u001b[49m\n",
      "File \u001b[0;32m~/anaconda3/lib/python3.9/threading.py:574\u001b[0m, in \u001b[0;36mEvent.wait\u001b[0;34m(self, timeout)\u001b[0m\n\u001b[1;32m    572\u001b[0m signaled \u001b[38;5;241m=\u001b[39m \u001b[38;5;28mself\u001b[39m\u001b[38;5;241m.\u001b[39m_flag\n\u001b[1;32m    573\u001b[0m \u001b[38;5;28;01mif\u001b[39;00m \u001b[38;5;129;01mnot\u001b[39;00m signaled:\n\u001b[0;32m--> 574\u001b[0m     signaled \u001b[38;5;241m=\u001b[39m \u001b[38;5;28;43mself\u001b[39;49m\u001b[38;5;241;43m.\u001b[39;49m\u001b[43m_cond\u001b[49m\u001b[38;5;241;43m.\u001b[39;49m\u001b[43mwait\u001b[49m\u001b[43m(\u001b[49m\u001b[43mtimeout\u001b[49m\u001b[43m)\u001b[49m\n\u001b[1;32m    575\u001b[0m \u001b[38;5;28;01mreturn\u001b[39;00m signaled\n",
      "File \u001b[0;32m~/anaconda3/lib/python3.9/threading.py:312\u001b[0m, in \u001b[0;36mCondition.wait\u001b[0;34m(self, timeout)\u001b[0m\n\u001b[1;32m    310\u001b[0m \u001b[38;5;28;01mtry\u001b[39;00m:    \u001b[38;5;66;03m# restore state no matter what (e.g., KeyboardInterrupt)\u001b[39;00m\n\u001b[1;32m    311\u001b[0m     \u001b[38;5;28;01mif\u001b[39;00m timeout \u001b[38;5;129;01mis\u001b[39;00m \u001b[38;5;28;01mNone\u001b[39;00m:\n\u001b[0;32m--> 312\u001b[0m         \u001b[43mwaiter\u001b[49m\u001b[38;5;241;43m.\u001b[39;49m\u001b[43macquire\u001b[49m\u001b[43m(\u001b[49m\u001b[43m)\u001b[49m\n\u001b[1;32m    313\u001b[0m         gotit \u001b[38;5;241m=\u001b[39m \u001b[38;5;28;01mTrue\u001b[39;00m\n\u001b[1;32m    314\u001b[0m     \u001b[38;5;28;01melse\u001b[39;00m:\n",
      "\u001b[0;31mKeyboardInterrupt\u001b[0m: "
     ]
    }
   ],
   "source": [
    "data_download.downloadData(\n",
    "    myQuery, start, end, ODIR, overwrite=overwrite, verbose=verbose, parallelProcess=True\n",
    ")"
   ]
  },
  {
   "cell_type": "code",
   "execution_count": null,
   "id": "ecb070fd-5c5d-4af0-b340-84490db6e102",
   "metadata": {},
   "outputs": [],
   "source": []
  },
  {
   "cell_type": "code",
   "execution_count": null,
   "id": "1b21f23e-bf10-4b8c-a52a-043e762cd67b",
   "metadata": {},
   "outputs": [],
   "source": []
  }
 ],
 "metadata": {
  "kernelspec": {
   "display_name": "Python 3 (ipykernel)",
   "language": "python",
   "name": "python3"
  },
  "language_info": {
   "codemirror_mode": {
    "name": "ipython",
    "version": 3
   },
   "file_extension": ".py",
   "mimetype": "text/x-python",
   "name": "python",
   "nbconvert_exporter": "python",
   "pygments_lexer": "ipython3",
   "version": "3.9.12"
  }
 },
 "nbformat": 4,
 "nbformat_minor": 5
}
