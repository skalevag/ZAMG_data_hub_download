{
 "cells": [
  {
   "cell_type": "markdown",
   "id": "66ac5bdc-6f44-4e13-89b1-a1966f344841",
   "metadata": {
    "tags": []
   },
   "source": [
    "# Introduction\n",
    "\n",
    "Example script for downloading INCA data.\n",
    "\n",
    "**Website only allows for 2-3 months worth of data to be downloaded at a time, depending on the size of the lat-lon box.**\n"
   ]
  },
  {
   "cell_type": "markdown",
   "id": "d2e92825-eeee-42e6-a6b3-d16a6ae00bf9",
   "metadata": {},
   "source": [
    "# Setup"
   ]
  },
  {
   "cell_type": "markdown",
   "id": "34f7871f-92e1-4745-863a-e072b8c2dc09",
   "metadata": {},
   "source": [
    "## Modules"
   ]
  },
  {
   "cell_type": "code",
   "execution_count": 14,
   "id": "209b25a0-a2b2-4d69-8c9a-9d913858efbc",
   "metadata": {},
   "outputs": [],
   "source": [
    "from pathlib import Path\n",
    "import datetime\n",
    "\n",
    "from ZAMGdatahub import data_download, query, utils"
   ]
  },
  {
   "cell_type": "markdown",
   "id": "abe9fec4-ef71-44e7-869f-bfccdef0a16b",
   "metadata": {},
   "source": [
    "## Global variables"
   ]
  },
  {
   "cell_type": "code",
   "execution_count": 10,
   "id": "bbc96da3-8551-4830-93a8-2e5ae8bed9b7",
   "metadata": {},
   "outputs": [],
   "source": [
    "ODIR = (\"/home/skalevag/Documents/NRC_P8_water_energy_and_sediment/data/snow/grids/SNOWGRID\")\n",
    "\n",
    "ODIR = Path(ODIR)\n",
    "\n",
    "if not ODIR.is_dir():\n",
    "    ODIR.mkdir(parents=True)\n",
    "\n",
    "overwrite = False\n",
    "overwriteMerge = False\n",
    "verbose = True\n",
    "\n",
    "startYear = 1961  # inclusive\n",
    "endYear = 2022  # inclusive\n",
    "\n",
    "datetimeformat = \"%Y-%m-%d %H:%M\""
   ]
  },
  {
   "cell_type": "markdown",
   "id": "198bd63e-822b-459b-9966-a01d6a6d9757",
   "metadata": {},
   "source": [
    "## Dataset variables"
   ]
  },
  {
   "cell_type": "code",
   "execution_count": 3,
   "id": "f22ce615-1544-46f8-aa41-c0f5f28a24f3",
   "metadata": {},
   "outputs": [
    {
     "name": "stdout",
     "output_type": "stream",
     "text": [
      "Failed to get JSON from URL. Maybe you need to log in? Try visiting the website:\n",
      "https://dataset.api.hub.zamg.ac.at/v1/grid/historical/snowgrid_cl-v1-1d-1km/metadata\n"
     ]
    },
    {
     "ename": "TypeError",
     "evalue": "'NoneType' object is not subscriptable",
     "output_type": "error",
     "traceback": [
      "\u001b[0;31m---------------------------------------------------------------------------\u001b[0m",
      "\u001b[0;31mTypeError\u001b[0m                                 Traceback (most recent call last)",
      "Input \u001b[0;32mIn [3]\u001b[0m, in \u001b[0;36m<cell line: 1>\u001b[0;34m()\u001b[0m\n\u001b[0;32m----> 1\u001b[0m \u001b[43mquery\u001b[49m\u001b[38;5;241;43m.\u001b[39;49m\u001b[43mDatasetType\u001b[49m\u001b[38;5;241;43m.\u001b[39;49m\u001b[43mSNOWGRID\u001b[49m\u001b[38;5;241;43m.\u001b[39;49m\u001b[43mgetMetadata\u001b[49m\u001b[43m(\u001b[49m\u001b[43m)\u001b[49m\u001b[43m[\u001b[49m\u001b[38;5;124;43m\"\u001b[39;49m\u001b[38;5;124;43mparameters\u001b[39;49m\u001b[38;5;124;43m\"\u001b[39;49m\u001b[43m]\u001b[49m\n",
      "\u001b[0;31mTypeError\u001b[0m: 'NoneType' object is not subscriptable"
     ]
    }
   ],
   "source": [
    "query.DatasetType.SNOWGRID.getMetadata()[\"parameters\"]"
   ]
  },
  {
   "cell_type": "code",
   "execution_count": 4,
   "id": "f5699b36-30a6-4ec1-ab8d-8c4230e35a68",
   "metadata": {},
   "outputs": [],
   "source": [
    "# variable\n",
    "params = [\"snow_depth\",\"swe_tot\"]"
   ]
  },
  {
   "cell_type": "markdown",
   "id": "3d31b078-a34a-4bd3-8354-e878551add33",
   "metadata": {},
   "source": [
    "# Query"
   ]
  },
  {
   "cell_type": "code",
   "execution_count": 5,
   "id": "3c0bf6a5-091c-4625-b668-4221b559b991",
   "metadata": {},
   "outputs": [
    {
     "name": "stdout",
     "output_type": "stream",
     "text": [
      "LOCATION: oetztal\n",
      "COORDINATES: latitude: 46.6 ... 47.3 ; longitude 10.5 ... 11.4\n",
      "\n",
      "LOCATION: obergurgl\n",
      "COORDINATES: latitude: 46.8703 ; longitude 11.0269\n",
      "\n",
      "DatasetType.SNOWGRID\n",
      "Failed to get JSON from URL. Maybe you need to log in? Try visiting the website:\n",
      "https://dataset.api.hub.zamg.ac.at/v1/grid/historical/snowgrid_cl-v1-1d-1km/metadata\n"
     ]
    }
   ],
   "source": [
    "# gridbox for Ötztal area\n",
    "gridbox_oetz = query.LatLonBox(\n",
    "    label=\"oetztal\", lat_min=46.6, lat_max=47.3, lon_min=10.5, lon_max=11.4\n",
    ")\n",
    "print(gridbox_oetz)\n",
    "print()\n",
    "\n",
    "# point location\n",
    "loc_obergurgl = query.LatLonLocation(\"obergurgl\", 46.8703, 11.0269)\n",
    "print(loc_obergurgl)\n",
    "print()\n",
    "\n",
    "# dataset type\n",
    "dataset = query.DatasetType.SNOWGRID\n",
    "print(dataset)\n",
    "\n",
    "# dataset metadata\n",
    "dataset.getMetadata()"
   ]
  },
  {
   "cell_type": "markdown",
   "id": "d9497d74-20a8-4683-841a-08e0cbc14233",
   "metadata": {},
   "source": [
    "## Make query"
   ]
  },
  {
   "cell_type": "code",
   "execution_count": 6,
   "id": "bab65e3e-bb04-4ba3-9eaa-8591a3c7df5b",
   "metadata": {},
   "outputs": [
    {
     "name": "stdout",
     "output_type": "stream",
     "text": [
      "ZAMGdatahubQuery for download of SNOWGRID with parameters snow_depth,swe_tot. \n",
      "params: ['snow_depth', 'swe_tot']\n",
      "dataset: DatasetType.SNOWGRID\n",
      "location_label: oetztal\n",
      "output_filename_head: snowgrid\n",
      "output_format: netcdf\n",
      "lat_min: 46.6\n",
      "lat_max: 47.3\n",
      "lon_min: 10.5\n",
      "lon_max: 11.4\n"
     ]
    }
   ],
   "source": [
    "myQuery = query.RasterQuery(dataset, params, gridbox=gridbox_oetz)\n",
    "\n",
    "print(myQuery)"
   ]
  },
  {
   "cell_type": "markdown",
   "id": "32a958e9-d5bc-400b-a377-bb6d4c521353",
   "metadata": {
    "tags": []
   },
   "source": [
    "## Save/Load query to/from file"
   ]
  },
  {
   "cell_type": "code",
   "execution_count": 7,
   "id": "bc7c1327-d87a-4ea0-9497-548d50e38c5f",
   "metadata": {},
   "outputs": [
    {
     "name": "stdout",
     "output_type": "stream",
     "text": [
      "Query saved to \"./SNOWGRID_query_oetztal.txt\"\n"
     ]
    }
   ],
   "source": [
    "myQuery.saveQuery()"
   ]
  },
  {
   "cell_type": "code",
   "execution_count": 8,
   "id": "c48a81b2-396c-4136-85bf-6cf36e9fadf1",
   "metadata": {},
   "outputs": [
    {
     "name": "stdout",
     "output_type": "stream",
     "text": [
      "ZAMGdatahubQuery for download of SNOWGRID with parameters snow_depth,swe_tot. \n",
      "params: ['snow_depth', 'swe_tot']\n",
      "dataset: DatasetType.SNOWGRID\n",
      "location_label: oetztal\n",
      "output_filename_head: snowgrid\n",
      "output_format: netcdf\n",
      "lat_min: 46.6\n",
      "lat_max: 47.3\n",
      "lon_min: 10.5\n",
      "lon_max: 11.4\n"
     ]
    }
   ],
   "source": [
    "print(query.loadQuery(\"./SNOWGRID_query_oetztal.txt\"))"
   ]
  },
  {
   "cell_type": "markdown",
   "id": "293fcdce-a3f1-4d04-b923-af1faad57305",
   "metadata": {},
   "source": [
    "# Download data"
   ]
  },
  {
   "cell_type": "markdown",
   "id": "a104c2af-6d05-4b0d-8b65-e13f46bf28bc",
   "metadata": {},
   "source": [
    "## Gridbox"
   ]
  },
  {
   "cell_type": "code",
   "execution_count": 15,
   "id": "9fbd0317-8d5b-4d89-a617-64684a911d46",
   "metadata": {},
   "outputs": [
    {
     "name": "stdout",
     "output_type": "stream",
     "text": [
      "Starting download of snowgrid_snow_depth,swe_tot_oetztal_196101010000-196201010000.nc\n",
      "snowgrid_snow_depth,swe_tot_oetztal_196101010000-196201010000.nc was downloaded.\n",
      "Starting download of snowgrid_snow_depth,swe_tot_oetztal_196201010000-196301010000.nc\n",
      "snowgrid_snow_depth,swe_tot_oetztal_196201010000-196301010000.nc was downloaded.\n",
      "Starting download of snowgrid_snow_depth,swe_tot_oetztal_196301010000-196401010000.nc\n",
      "snowgrid_snow_depth,swe_tot_oetztal_196301010000-196401010000.nc was downloaded.\n",
      "Starting download of snowgrid_snow_depth,swe_tot_oetztal_196401010000-196501010000.nc\n",
      "snowgrid_snow_depth,swe_tot_oetztal_196401010000-196501010000.nc was downloaded.\n",
      "Starting download of snowgrid_snow_depth,swe_tot_oetztal_196501010000-196601010000.nc\n",
      "snowgrid_snow_depth,swe_tot_oetztal_196501010000-196601010000.nc was downloaded.\n",
      "Starting download of snowgrid_snow_depth,swe_tot_oetztal_196601010000-196701010000.nc\n",
      "snowgrid_snow_depth,swe_tot_oetztal_196601010000-196701010000.nc was downloaded.\n",
      "Starting download of snowgrid_snow_depth,swe_tot_oetztal_196701010000-196801010000.nc\n",
      "snowgrid_snow_depth,swe_tot_oetztal_196701010000-196801010000.nc was downloaded.\n",
      "Starting download of snowgrid_snow_depth,swe_tot_oetztal_196801010000-196901010000.nc\n",
      "snowgrid_snow_depth,swe_tot_oetztal_196801010000-196901010000.nc was downloaded.\n",
      "Starting download of snowgrid_snow_depth,swe_tot_oetztal_196901010000-197001010000.nc\n",
      "snowgrid_snow_depth,swe_tot_oetztal_196901010000-197001010000.nc was downloaded.\n",
      "Starting download of snowgrid_snow_depth,swe_tot_oetztal_197001010000-197101010000.nc\n",
      "snowgrid_snow_depth,swe_tot_oetztal_197001010000-197101010000.nc was downloaded.\n",
      "Starting download of snowgrid_snow_depth,swe_tot_oetztal_197101010000-197201010000.nc\n",
      "snowgrid_snow_depth,swe_tot_oetztal_197101010000-197201010000.nc was downloaded.\n",
      "Starting download of snowgrid_snow_depth,swe_tot_oetztal_197201010000-197301010000.nc\n",
      "snowgrid_snow_depth,swe_tot_oetztal_197201010000-197301010000.nc was downloaded.\n",
      "Starting download of snowgrid_snow_depth,swe_tot_oetztal_197301010000-197401010000.nc\n",
      "snowgrid_snow_depth,swe_tot_oetztal_197301010000-197401010000.nc was downloaded.\n",
      "Starting download of snowgrid_snow_depth,swe_tot_oetztal_197401010000-197501010000.nc\n",
      "snowgrid_snow_depth,swe_tot_oetztal_197401010000-197501010000.nc was downloaded.\n",
      "Starting download of snowgrid_snow_depth,swe_tot_oetztal_197501010000-197601010000.nc\n",
      "snowgrid_snow_depth,swe_tot_oetztal_197501010000-197601010000.nc was downloaded.\n",
      "Starting download of snowgrid_snow_depth,swe_tot_oetztal_197601010000-197701010000.nc\n",
      "snowgrid_snow_depth,swe_tot_oetztal_197601010000-197701010000.nc was downloaded.\n",
      "Starting download of snowgrid_snow_depth,swe_tot_oetztal_197701010000-197801010000.nc\n",
      "snowgrid_snow_depth,swe_tot_oetztal_197701010000-197801010000.nc was downloaded.\n",
      "Starting download of snowgrid_snow_depth,swe_tot_oetztal_197801010000-197901010000.nc\n",
      "snowgrid_snow_depth,swe_tot_oetztal_197801010000-197901010000.nc was downloaded.\n",
      "Starting download of snowgrid_snow_depth,swe_tot_oetztal_197901010000-198001010000.nc\n",
      "snowgrid_snow_depth,swe_tot_oetztal_197901010000-198001010000.nc was downloaded.\n",
      "Starting download of snowgrid_snow_depth,swe_tot_oetztal_198001010000-198101010000.nc\n",
      "snowgrid_snow_depth,swe_tot_oetztal_198001010000-198101010000.nc was downloaded.\n",
      "Starting download of snowgrid_snow_depth,swe_tot_oetztal_198101010000-198201010000.nc\n",
      "snowgrid_snow_depth,swe_tot_oetztal_198101010000-198201010000.nc was downloaded.\n",
      "Starting download of snowgrid_snow_depth,swe_tot_oetztal_198201010000-198301010000.nc\n",
      "snowgrid_snow_depth,swe_tot_oetztal_198201010000-198301010000.nc was downloaded.\n",
      "Starting download of snowgrid_snow_depth,swe_tot_oetztal_198301010000-198401010000.nc\n",
      "snowgrid_snow_depth,swe_tot_oetztal_198301010000-198401010000.nc was downloaded.\n",
      "Starting download of snowgrid_snow_depth,swe_tot_oetztal_198401010000-198501010000.nc\n",
      "snowgrid_snow_depth,swe_tot_oetztal_198401010000-198501010000.nc was downloaded.\n",
      "Starting download of snowgrid_snow_depth,swe_tot_oetztal_198501010000-198601010000.nc\n",
      "snowgrid_snow_depth,swe_tot_oetztal_198501010000-198601010000.nc was downloaded.\n",
      "Starting download of snowgrid_snow_depth,swe_tot_oetztal_198601010000-198701010000.nc\n",
      "snowgrid_snow_depth,swe_tot_oetztal_198601010000-198701010000.nc was downloaded.\n",
      "Starting download of snowgrid_snow_depth,swe_tot_oetztal_198701010000-198801010000.nc\n",
      "snowgrid_snow_depth,swe_tot_oetztal_198701010000-198801010000.nc was downloaded.\n",
      "Starting download of snowgrid_snow_depth,swe_tot_oetztal_198801010000-198901010000.nc\n",
      "snowgrid_snow_depth,swe_tot_oetztal_198801010000-198901010000.nc was downloaded.\n",
      "Starting download of snowgrid_snow_depth,swe_tot_oetztal_198901010000-199001010000.nc\n",
      "snowgrid_snow_depth,swe_tot_oetztal_198901010000-199001010000.nc was downloaded.\n",
      "Starting download of snowgrid_snow_depth,swe_tot_oetztal_199001010000-199101010000.nc\n",
      "snowgrid_snow_depth,swe_tot_oetztal_199001010000-199101010000.nc was downloaded.\n",
      "Starting download of snowgrid_snow_depth,swe_tot_oetztal_199101010000-199201010000.nc\n",
      "snowgrid_snow_depth,swe_tot_oetztal_199101010000-199201010000.nc was downloaded.\n",
      "Starting download of snowgrid_snow_depth,swe_tot_oetztal_199201010000-199301010000.nc\n",
      "snowgrid_snow_depth,swe_tot_oetztal_199201010000-199301010000.nc was downloaded.\n",
      "Starting download of snowgrid_snow_depth,swe_tot_oetztal_199301010000-199401010000.nc\n",
      "snowgrid_snow_depth,swe_tot_oetztal_199301010000-199401010000.nc was downloaded.\n",
      "Starting download of snowgrid_snow_depth,swe_tot_oetztal_199401010000-199501010000.nc\n",
      "snowgrid_snow_depth,swe_tot_oetztal_199401010000-199501010000.nc was downloaded.\n",
      "Starting download of snowgrid_snow_depth,swe_tot_oetztal_199501010000-199601010000.nc\n",
      "snowgrid_snow_depth,swe_tot_oetztal_199501010000-199601010000.nc was downloaded.\n",
      "Starting download of snowgrid_snow_depth,swe_tot_oetztal_199601010000-199701010000.nc\n",
      "snowgrid_snow_depth,swe_tot_oetztal_199601010000-199701010000.nc was downloaded.\n",
      "Starting download of snowgrid_snow_depth,swe_tot_oetztal_199701010000-199801010000.nc\n",
      "snowgrid_snow_depth,swe_tot_oetztal_199701010000-199801010000.nc was downloaded.\n",
      "Starting download of snowgrid_snow_depth,swe_tot_oetztal_199801010000-199901010000.nc\n",
      "snowgrid_snow_depth,swe_tot_oetztal_199801010000-199901010000.nc was downloaded.\n",
      "Starting download of snowgrid_snow_depth,swe_tot_oetztal_199901010000-200001010000.nc\n",
      "snowgrid_snow_depth,swe_tot_oetztal_199901010000-200001010000.nc was downloaded.\n",
      "Starting download of snowgrid_snow_depth,swe_tot_oetztal_200001010000-200101010000.nc\n",
      "snowgrid_snow_depth,swe_tot_oetztal_200001010000-200101010000.nc was downloaded.\n",
      "Starting download of snowgrid_snow_depth,swe_tot_oetztal_200101010000-200201010000.nc\n",
      "snowgrid_snow_depth,swe_tot_oetztal_200101010000-200201010000.nc was downloaded.\n",
      "Starting download of snowgrid_snow_depth,swe_tot_oetztal_200201010000-200301010000.nc\n",
      "snowgrid_snow_depth,swe_tot_oetztal_200201010000-200301010000.nc was downloaded.\n",
      "Starting download of snowgrid_snow_depth,swe_tot_oetztal_200301010000-200401010000.nc\n",
      "snowgrid_snow_depth,swe_tot_oetztal_200301010000-200401010000.nc was downloaded.\n",
      "Starting download of snowgrid_snow_depth,swe_tot_oetztal_200401010000-200501010000.nc\n",
      "snowgrid_snow_depth,swe_tot_oetztal_200401010000-200501010000.nc was downloaded.\n",
      "Starting download of snowgrid_snow_depth,swe_tot_oetztal_200501010000-200601010000.nc\n",
      "snowgrid_snow_depth,swe_tot_oetztal_200501010000-200601010000.nc was downloaded.\n",
      "Starting download of snowgrid_snow_depth,swe_tot_oetztal_200601010000-200701010000.nc\n",
      "snowgrid_snow_depth,swe_tot_oetztal_200601010000-200701010000.nc was downloaded.\n",
      "Starting download of snowgrid_snow_depth,swe_tot_oetztal_200701010000-200801010000.nc\n",
      "snowgrid_snow_depth,swe_tot_oetztal_200701010000-200801010000.nc was downloaded.\n",
      "Starting download of snowgrid_snow_depth,swe_tot_oetztal_200801010000-200901010000.nc\n",
      "snowgrid_snow_depth,swe_tot_oetztal_200801010000-200901010000.nc was downloaded.\n",
      "Starting download of snowgrid_snow_depth,swe_tot_oetztal_200901010000-201001010000.nc\n",
      "snowgrid_snow_depth,swe_tot_oetztal_200901010000-201001010000.nc was downloaded.\n",
      "Starting download of snowgrid_snow_depth,swe_tot_oetztal_201001010000-201101010000.nc\n",
      "snowgrid_snow_depth,swe_tot_oetztal_201001010000-201101010000.nc was downloaded.\n",
      "Starting download of snowgrid_snow_depth,swe_tot_oetztal_201101010000-201201010000.nc\n",
      "snowgrid_snow_depth,swe_tot_oetztal_201101010000-201201010000.nc was downloaded.\n",
      "Starting download of snowgrid_snow_depth,swe_tot_oetztal_201201010000-201301010000.nc\n",
      "snowgrid_snow_depth,swe_tot_oetztal_201201010000-201301010000.nc was downloaded.\n",
      "Starting download of snowgrid_snow_depth,swe_tot_oetztal_201301010000-201401010000.nc\n",
      "snowgrid_snow_depth,swe_tot_oetztal_201301010000-201401010000.nc was downloaded.\n",
      "Starting download of snowgrid_snow_depth,swe_tot_oetztal_201401010000-201501010000.nc\n",
      "snowgrid_snow_depth,swe_tot_oetztal_201401010000-201501010000.nc was downloaded.\n",
      "Starting download of snowgrid_snow_depth,swe_tot_oetztal_201501010000-201601010000.nc\n",
      "snowgrid_snow_depth,swe_tot_oetztal_201501010000-201601010000.nc was downloaded.\n",
      "Starting download of snowgrid_snow_depth,swe_tot_oetztal_201601010000-201701010000.nc\n",
      "snowgrid_snow_depth,swe_tot_oetztal_201601010000-201701010000.nc was downloaded.\n",
      "Starting download of snowgrid_snow_depth,swe_tot_oetztal_201701010000-201801010000.nc\n",
      "snowgrid_snow_depth,swe_tot_oetztal_201701010000-201801010000.nc was downloaded.\n",
      "Starting download of snowgrid_snow_depth,swe_tot_oetztal_201801010000-201901010000.nc\n",
      "snowgrid_snow_depth,swe_tot_oetztal_201801010000-201901010000.nc was downloaded.\n",
      "Starting download of snowgrid_snow_depth,swe_tot_oetztal_201901010000-202001010000.nc\n",
      "snowgrid_snow_depth,swe_tot_oetztal_201901010000-202001010000.nc was downloaded.\n",
      "Starting download of snowgrid_snow_depth,swe_tot_oetztal_202001010000-202101010000.nc\n",
      "snowgrid_snow_depth,swe_tot_oetztal_202001010000-202101010000.nc was downloaded.\n",
      "Starting download of snowgrid_snow_depth,swe_tot_oetztal_202101010000-202201010000.nc\n",
      "snowgrid_snow_depth,swe_tot_oetztal_202101010000-202201010000.nc was downloaded.\n",
      "Starting download of snowgrid_snow_depth,swe_tot_oetztal_202201010000-202205311500.nc\n",
      "snowgrid_snow_depth,swe_tot_oetztal_202201010000-202205311500.nc was downloaded.\n"
     ]
    }
   ],
   "source": [
    "# get all in a year\n",
    "for year in range(startYear, endYear + 1):\n",
    "    slices = utils.makeTimeSlices(year,maxMonths=12,firstDOY=datetime.datetime(1961, 1, 1, 0, 0))\n",
    "    for start, end in slices:\n",
    "        data_download.downloadData(\n",
    "            myQuery, start, end, ODIR, overwrite=overwrite, verbose=verbose\n",
    "        )"
   ]
  },
  {
   "cell_type": "code",
   "execution_count": 12,
   "id": "87de9819-1a2a-4d32-87a4-5caa7e5045e7",
   "metadata": {},
   "outputs": [
    {
     "data": {
      "text/plain": [
       "[('2011-03-01 00:00', '1962-01-01 00:00')]"
      ]
     },
     "execution_count": 12,
     "metadata": {},
     "output_type": "execute_result"
    }
   ],
   "source": [
    "slices"
   ]
  },
  {
   "cell_type": "markdown",
   "id": "4b36c3d9-fc98-426b-a199-765c5b82186b",
   "metadata": {},
   "source": [
    "### Merge NetCDF files by year"
   ]
  },
  {
   "cell_type": "code",
   "execution_count": null,
   "id": "87a77bda-02e9-48c5-94e5-253008556f3e",
   "metadata": {},
   "outputs": [],
   "source": [
    "for year in range(startYear, endYear + 1):\n",
    "    data_download.mergeNetCDFfilesByYear(\n",
    "        year, ODIR, overwrite=overwriteMerge, verbose=verbose\n",
    "    )"
   ]
  },
  {
   "cell_type": "markdown",
   "id": "3887265d-8367-4914-ba1b-f8842d077d7d",
   "metadata": {},
   "source": [
    "## Point location"
   ]
  },
  {
   "cell_type": "code",
   "execution_count": null,
   "id": "95af994d-ae59-482e-8b96-46bec73818e6",
   "metadata": {},
   "outputs": [],
   "source": [
    "# select all the available INCA parameters\n",
    "params = [\"GL\", \"P0\", \"RH2M\", \"RR\", \"T2M\", \"TD2M\", \"UU\", \"VV\"]\n",
    "myQuery = query.rasterQuery(\n",
    "    query.DatasetType.INCA_POINT, params, point_location=loc_obergurgl\n",
    ")\n",
    "\n",
    "print(myQuery)"
   ]
  },
  {
   "cell_type": "code",
   "execution_count": null,
   "id": "6bad0d9a-da70-4408-bd60-03dd7e92ee6b",
   "metadata": {},
   "outputs": [],
   "source": [
    "start = \"2011-01-01 00:00\"\n",
    "end = \"2022-05-01 00:00\"\n",
    "url = data_download.makeURL(myQuery, start, end)\n",
    "print(url)"
   ]
  },
  {
   "cell_type": "code",
   "execution_count": null,
   "id": "1533d76e-1a0b-466b-af04-7e1ca6532051",
   "metadata": {},
   "outputs": [],
   "source": []
  }
 ],
 "metadata": {
  "kernelspec": {
   "display_name": "Python 3 (ipykernel)",
   "language": "python",
   "name": "python3"
  },
  "language_info": {
   "codemirror_mode": {
    "name": "ipython",
    "version": 3
   },
   "file_extension": ".py",
   "mimetype": "text/x-python",
   "name": "python",
   "nbconvert_exporter": "python",
   "pygments_lexer": "ipython3",
   "version": "3.8.12"
  }
 },
 "nbformat": 4,
 "nbformat_minor": 5
}
