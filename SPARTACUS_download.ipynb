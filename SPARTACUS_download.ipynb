{
 "cells": [
  {
   "cell_type": "markdown",
   "id": "8078ae04-0afd-4576-89d9-9207d738b280",
   "metadata": {},
   "source": [
    "# Introduction\n",
    "\n",
    "Example script for downloading SPARTACUS data.\n",
    "\n",
    "**Website only allows for 6 months to 1 year's worth of data to be downloaded at a time, depending on the size of the lat-lon box.**"
   ]
  },
  {
   "cell_type": "markdown",
   "id": "b3d7faaa-bcc1-43be-a3c5-c96efc35fee8",
   "metadata": {},
   "source": [
    "# Setup"
   ]
  },
  {
   "cell_type": "markdown",
   "id": "109eb99d-dc3f-4dcb-885f-fde6edc3adc1",
   "metadata": {},
   "source": [
    "## Modules"
   ]
  },
  {
   "cell_type": "code",
   "execution_count": 1,
   "id": "3ca8ae8c-bdc5-451c-82d6-97afc777dc58",
   "metadata": {},
   "outputs": [],
   "source": [
    "import datetime\n",
    "from pathlib import Path\n",
    "\n",
    "from ZAMGdatahub import data_download, query, utils"
   ]
  },
  {
   "cell_type": "markdown",
   "id": "fec3f4ac-c94e-462f-9190-17c371613f65",
   "metadata": {},
   "source": [
    "## Global variables"
   ]
  },
  {
   "cell_type": "code",
   "execution_count": 2,
   "id": "a31001cd-6695-476c-a642-fa7526452dac",
   "metadata": {},
   "outputs": [],
   "source": [
    "ODIR = \"/home/skalevag/Documents/NRC_P8_water_energy_and_sediment/data/air_temp/grids/SPARTACUS\"\n",
    "# ODIR = \"/home/skalevag/Documents/SPARTACUS_Tirol\"\n",
    "\n",
    "ODIR = Path(ODIR)\n",
    "\n",
    "if not ODIR.is_dir():\n",
    "    ODIR.mkdir(parents=True)\n",
    "\n",
    "# variable\n",
    "params = \"Tn\"  # minimum air temperature 2m above ground\n",
    "# params = \"Tx\" # maximum air temperature 2m above ground\n",
    "# params = \"RR\" # precipitation sum\n",
    "\n",
    "maxMonths = 12\n",
    "\n",
    "overwrite = False\n",
    "overwriteMerge = False\n",
    "verbose = True\n",
    "\n",
    "startYear = 1961  # inclusive\n",
    "endYear = 2021  # inclusive\n",
    "\n",
    "datetimeformat = \"%Y-%m-%d %H:%M\""
   ]
  },
  {
   "cell_type": "code",
   "execution_count": 3,
   "id": "ac3751d1-2c00-4523-b3f9-6b5320080928",
   "metadata": {},
   "outputs": [
    {
     "name": "stdout",
     "output_type": "stream",
     "text": [
      "LOCATION: oetztal\n",
      "COORDINATES: latitude: 46.6 ... 47.3 ; longitude 10.5 ... 11.4\n",
      "\n",
      "LOCATION: tirol\n",
      "COORDINATES: latitude: 46.77 ... 47.71 ; longitude 9.53 ... 13.51\n",
      "\n",
      "LOCATION: obergurgl\n",
      "COORDINATES: latitude: 46.8703 ; longitude 11.0269\n",
      "\n",
      "DatasetType.SPARTACUS\n"
     ]
    }
   ],
   "source": [
    "# gridbox for Ötztal area\n",
    "gridbox_oetz = query.LatLonBox(\n",
    "    label=\"oetztal\", lat_min=46.6, lat_max=47.3, lon_min=10.5, lon_max=11.4\n",
    ")\n",
    "print(gridbox_oetz)\n",
    "print()\n",
    "\n",
    "# gridbox for all Tirol\n",
    "gridbox_tirol = query.LatLonBox(\n",
    "    label=\"tirol\", lat_min=46.77, lat_max=47.71, lon_min=9.53, lon_max=13.51\n",
    ")\n",
    "print(gridbox_tirol)\n",
    "print()\n",
    "\n",
    "# point location\n",
    "loc_obergurgl = query.LatLonLocation(\"obergurgl\", 46.8703, 11.0269)\n",
    "print(loc_obergurgl)\n",
    "print()\n",
    "\n",
    "# dataset type\n",
    "dataset = query.DatasetType.SPARTACUS\n",
    "print(dataset)"
   ]
  },
  {
   "cell_type": "markdown",
   "id": "4a0556e1-be25-4ff9-9c77-f1699a9e109e",
   "metadata": {},
   "source": [
    "## Make query"
   ]
  },
  {
   "cell_type": "code",
   "execution_count": 4,
   "id": "ae5e2f3e-36ee-4ea3-8143-dfee990c7391",
   "metadata": {},
   "outputs": [
    {
     "name": "stdout",
     "output_type": "stream",
     "text": [
      "ZAMGdatahubQuery for download of SPARTACUS with parameters Tn. \n",
      "params: ['Tn']\n",
      "dataset: DatasetType.SPARTACUS\n",
      "location_label: oetztal\n",
      "output_filename_head: spartacus-daily\n",
      "output_format: netcdf\n",
      "lat_min: 46.6\n",
      "lat_max: 47.3\n",
      "lon_min: 10.5\n",
      "lon_max: 11.4\n"
     ]
    }
   ],
   "source": [
    "myQuery = query.rasterQuery(dataset, params, gridbox=gridbox_oetz)\n",
    "\n",
    "print(myQuery)"
   ]
  },
  {
   "cell_type": "markdown",
   "id": "a435c452-2cb1-49c8-b609-fd1257fbccfa",
   "metadata": {},
   "source": [
    "## Save/Load query to/from file"
   ]
  },
  {
   "cell_type": "code",
   "execution_count": 5,
   "id": "2e838567-d617-4b9e-a4c7-9cd84a53b87c",
   "metadata": {},
   "outputs": [
    {
     "name": "stdout",
     "output_type": "stream",
     "text": [
      "Query saved to \"./SPARTACUS_query_oetztal.txt\"\n"
     ]
    }
   ],
   "source": [
    "myQuery.saveQuery()"
   ]
  },
  {
   "cell_type": "code",
   "execution_count": 6,
   "id": "b8c4b6f8-ebaf-4b5a-a926-5ce7a932f44e",
   "metadata": {},
   "outputs": [
    {
     "name": "stdout",
     "output_type": "stream",
     "text": [
      "ZAMGdatahubQuery for download of SPARTACUS with parameters Tn. \n",
      "params: ['Tn']\n",
      "dataset: DatasetType.SPARTACUS\n",
      "location_label: oetztal\n",
      "output_filename_head: spartacus-daily\n",
      "output_format: netcdf\n",
      "lat_min: 46.6\n",
      "lat_max: 47.3\n",
      "lon_min: 10.5\n",
      "lon_max: 11.4\n"
     ]
    }
   ],
   "source": [
    "print(query.loadQuery(\"./SPARTACUS_query_oetztal.txt\"))"
   ]
  },
  {
   "cell_type": "markdown",
   "id": "233f91c0-1420-488b-8832-68a23c020ff0",
   "metadata": {},
   "source": [
    "# Download gridbox"
   ]
  },
  {
   "cell_type": "code",
   "execution_count": 7,
   "id": "69fbb109-6e73-4d04-8fbb-9fdb3887545e",
   "metadata": {},
   "outputs": [
    {
     "name": "stdout",
     "output_type": "stream",
     "text": [
      "spartacus-daily_Tn_oetztal_196101010000-196201010000.nc has already been downloaded: /home/skalevag/Documents/NRC_P8_water_energy_and_sediment/data/air_temp/grids/SPARTACUS/spartacus-daily_Tn_oetztal_196101010000-196201010000.nc\n",
      "spartacus-daily_Tn_oetztal_196201010000-196301010000.nc has already been downloaded: /home/skalevag/Documents/NRC_P8_water_energy_and_sediment/data/air_temp/grids/SPARTACUS/spartacus-daily_Tn_oetztal_196201010000-196301010000.nc\n",
      "spartacus-daily_Tn_oetztal_196301010000-196401010000.nc has already been downloaded: /home/skalevag/Documents/NRC_P8_water_energy_and_sediment/data/air_temp/grids/SPARTACUS/spartacus-daily_Tn_oetztal_196301010000-196401010000.nc\n",
      "spartacus-daily_Tn_oetztal_196401010000-196501010000.nc has already been downloaded: /home/skalevag/Documents/NRC_P8_water_energy_and_sediment/data/air_temp/grids/SPARTACUS/spartacus-daily_Tn_oetztal_196401010000-196501010000.nc\n",
      "spartacus-daily_Tn_oetztal_196501010000-196601010000.nc has already been downloaded: /home/skalevag/Documents/NRC_P8_water_energy_and_sediment/data/air_temp/grids/SPARTACUS/spartacus-daily_Tn_oetztal_196501010000-196601010000.nc\n",
      "spartacus-daily_Tn_oetztal_196601010000-196701010000.nc has already been downloaded: /home/skalevag/Documents/NRC_P8_water_energy_and_sediment/data/air_temp/grids/SPARTACUS/spartacus-daily_Tn_oetztal_196601010000-196701010000.nc\n",
      "spartacus-daily_Tn_oetztal_196701010000-196801010000.nc has already been downloaded: /home/skalevag/Documents/NRC_P8_water_energy_and_sediment/data/air_temp/grids/SPARTACUS/spartacus-daily_Tn_oetztal_196701010000-196801010000.nc\n",
      "spartacus-daily_Tn_oetztal_196801010000-196901010000.nc has already been downloaded: /home/skalevag/Documents/NRC_P8_water_energy_and_sediment/data/air_temp/grids/SPARTACUS/spartacus-daily_Tn_oetztal_196801010000-196901010000.nc\n",
      "spartacus-daily_Tn_oetztal_196901010000-197001010000.nc has already been downloaded: /home/skalevag/Documents/NRC_P8_water_energy_and_sediment/data/air_temp/grids/SPARTACUS/spartacus-daily_Tn_oetztal_196901010000-197001010000.nc\n",
      "spartacus-daily_Tn_oetztal_197001010000-197101010000.nc has already been downloaded: /home/skalevag/Documents/NRC_P8_water_energy_and_sediment/data/air_temp/grids/SPARTACUS/spartacus-daily_Tn_oetztal_197001010000-197101010000.nc\n",
      "spartacus-daily_Tn_oetztal_197101010000-197201010000.nc has already been downloaded: /home/skalevag/Documents/NRC_P8_water_energy_and_sediment/data/air_temp/grids/SPARTACUS/spartacus-daily_Tn_oetztal_197101010000-197201010000.nc\n",
      "spartacus-daily_Tn_oetztal_197201010000-197301010000.nc has already been downloaded: /home/skalevag/Documents/NRC_P8_water_energy_and_sediment/data/air_temp/grids/SPARTACUS/spartacus-daily_Tn_oetztal_197201010000-197301010000.nc\n",
      "spartacus-daily_Tn_oetztal_197301010000-197401010000.nc has already been downloaded: /home/skalevag/Documents/NRC_P8_water_energy_and_sediment/data/air_temp/grids/SPARTACUS/spartacus-daily_Tn_oetztal_197301010000-197401010000.nc\n",
      "spartacus-daily_Tn_oetztal_197401010000-197501010000.nc has already been downloaded: /home/skalevag/Documents/NRC_P8_water_energy_and_sediment/data/air_temp/grids/SPARTACUS/spartacus-daily_Tn_oetztal_197401010000-197501010000.nc\n",
      "spartacus-daily_Tn_oetztal_197501010000-197601010000.nc has already been downloaded: /home/skalevag/Documents/NRC_P8_water_energy_and_sediment/data/air_temp/grids/SPARTACUS/spartacus-daily_Tn_oetztal_197501010000-197601010000.nc\n",
      "spartacus-daily_Tn_oetztal_197601010000-197701010000.nc has already been downloaded: /home/skalevag/Documents/NRC_P8_water_energy_and_sediment/data/air_temp/grids/SPARTACUS/spartacus-daily_Tn_oetztal_197601010000-197701010000.nc\n",
      "spartacus-daily_Tn_oetztal_197701010000-197801010000.nc has already been downloaded: /home/skalevag/Documents/NRC_P8_water_energy_and_sediment/data/air_temp/grids/SPARTACUS/spartacus-daily_Tn_oetztal_197701010000-197801010000.nc\n",
      "spartacus-daily_Tn_oetztal_197801010000-197901010000.nc has already been downloaded: /home/skalevag/Documents/NRC_P8_water_energy_and_sediment/data/air_temp/grids/SPARTACUS/spartacus-daily_Tn_oetztal_197801010000-197901010000.nc\n",
      "spartacus-daily_Tn_oetztal_197901010000-198001010000.nc has already been downloaded: /home/skalevag/Documents/NRC_P8_water_energy_and_sediment/data/air_temp/grids/SPARTACUS/spartacus-daily_Tn_oetztal_197901010000-198001010000.nc\n",
      "spartacus-daily_Tn_oetztal_198001010000-198101010000.nc has already been downloaded: /home/skalevag/Documents/NRC_P8_water_energy_and_sediment/data/air_temp/grids/SPARTACUS/spartacus-daily_Tn_oetztal_198001010000-198101010000.nc\n",
      "spartacus-daily_Tn_oetztal_198101010000-198201010000.nc has already been downloaded: /home/skalevag/Documents/NRC_P8_water_energy_and_sediment/data/air_temp/grids/SPARTACUS/spartacus-daily_Tn_oetztal_198101010000-198201010000.nc\n",
      "spartacus-daily_Tn_oetztal_198201010000-198301010000.nc has already been downloaded: /home/skalevag/Documents/NRC_P8_water_energy_and_sediment/data/air_temp/grids/SPARTACUS/spartacus-daily_Tn_oetztal_198201010000-198301010000.nc\n",
      "spartacus-daily_Tn_oetztal_198301010000-198401010000.nc has already been downloaded: /home/skalevag/Documents/NRC_P8_water_energy_and_sediment/data/air_temp/grids/SPARTACUS/spartacus-daily_Tn_oetztal_198301010000-198401010000.nc\n",
      "spartacus-daily_Tn_oetztal_198401010000-198501010000.nc has already been downloaded: /home/skalevag/Documents/NRC_P8_water_energy_and_sediment/data/air_temp/grids/SPARTACUS/spartacus-daily_Tn_oetztal_198401010000-198501010000.nc\n",
      "spartacus-daily_Tn_oetztal_198501010000-198601010000.nc has already been downloaded: /home/skalevag/Documents/NRC_P8_water_energy_and_sediment/data/air_temp/grids/SPARTACUS/spartacus-daily_Tn_oetztal_198501010000-198601010000.nc\n",
      "spartacus-daily_Tn_oetztal_198601010000-198701010000.nc has already been downloaded: /home/skalevag/Documents/NRC_P8_water_energy_and_sediment/data/air_temp/grids/SPARTACUS/spartacus-daily_Tn_oetztal_198601010000-198701010000.nc\n",
      "spartacus-daily_Tn_oetztal_198701010000-198801010000.nc has already been downloaded: /home/skalevag/Documents/NRC_P8_water_energy_and_sediment/data/air_temp/grids/SPARTACUS/spartacus-daily_Tn_oetztal_198701010000-198801010000.nc\n",
      "spartacus-daily_Tn_oetztal_198801010000-198901010000.nc has already been downloaded: /home/skalevag/Documents/NRC_P8_water_energy_and_sediment/data/air_temp/grids/SPARTACUS/spartacus-daily_Tn_oetztal_198801010000-198901010000.nc\n",
      "spartacus-daily_Tn_oetztal_198901010000-199001010000.nc has already been downloaded: /home/skalevag/Documents/NRC_P8_water_energy_and_sediment/data/air_temp/grids/SPARTACUS/spartacus-daily_Tn_oetztal_198901010000-199001010000.nc\n",
      "spartacus-daily_Tn_oetztal_199001010000-199101010000.nc has already been downloaded: /home/skalevag/Documents/NRC_P8_water_energy_and_sediment/data/air_temp/grids/SPARTACUS/spartacus-daily_Tn_oetztal_199001010000-199101010000.nc\n",
      "spartacus-daily_Tn_oetztal_199101010000-199201010000.nc has already been downloaded: /home/skalevag/Documents/NRC_P8_water_energy_and_sediment/data/air_temp/grids/SPARTACUS/spartacus-daily_Tn_oetztal_199101010000-199201010000.nc\n",
      "spartacus-daily_Tn_oetztal_199201010000-199301010000.nc has already been downloaded: /home/skalevag/Documents/NRC_P8_water_energy_and_sediment/data/air_temp/grids/SPARTACUS/spartacus-daily_Tn_oetztal_199201010000-199301010000.nc\n",
      "spartacus-daily_Tn_oetztal_199301010000-199401010000.nc has already been downloaded: /home/skalevag/Documents/NRC_P8_water_energy_and_sediment/data/air_temp/grids/SPARTACUS/spartacus-daily_Tn_oetztal_199301010000-199401010000.nc\n",
      "spartacus-daily_Tn_oetztal_199401010000-199501010000.nc has already been downloaded: /home/skalevag/Documents/NRC_P8_water_energy_and_sediment/data/air_temp/grids/SPARTACUS/spartacus-daily_Tn_oetztal_199401010000-199501010000.nc\n",
      "spartacus-daily_Tn_oetztal_199501010000-199601010000.nc has already been downloaded: /home/skalevag/Documents/NRC_P8_water_energy_and_sediment/data/air_temp/grids/SPARTACUS/spartacus-daily_Tn_oetztal_199501010000-199601010000.nc\n",
      "spartacus-daily_Tn_oetztal_199601010000-199701010000.nc has already been downloaded: /home/skalevag/Documents/NRC_P8_water_energy_and_sediment/data/air_temp/grids/SPARTACUS/spartacus-daily_Tn_oetztal_199601010000-199701010000.nc\n",
      "spartacus-daily_Tn_oetztal_199701010000-199801010000.nc has already been downloaded: /home/skalevag/Documents/NRC_P8_water_energy_and_sediment/data/air_temp/grids/SPARTACUS/spartacus-daily_Tn_oetztal_199701010000-199801010000.nc\n",
      "spartacus-daily_Tn_oetztal_199801010000-199901010000.nc has already been downloaded: /home/skalevag/Documents/NRC_P8_water_energy_and_sediment/data/air_temp/grids/SPARTACUS/spartacus-daily_Tn_oetztal_199801010000-199901010000.nc\n",
      "spartacus-daily_Tn_oetztal_199901010000-200001010000.nc has already been downloaded: /home/skalevag/Documents/NRC_P8_water_energy_and_sediment/data/air_temp/grids/SPARTACUS/spartacus-daily_Tn_oetztal_199901010000-200001010000.nc\n",
      "spartacus-daily_Tn_oetztal_200001010000-200101010000.nc has already been downloaded: /home/skalevag/Documents/NRC_P8_water_energy_and_sediment/data/air_temp/grids/SPARTACUS/spartacus-daily_Tn_oetztal_200001010000-200101010000.nc\n",
      "spartacus-daily_Tn_oetztal_200101010000-200201010000.nc has already been downloaded: /home/skalevag/Documents/NRC_P8_water_energy_and_sediment/data/air_temp/grids/SPARTACUS/spartacus-daily_Tn_oetztal_200101010000-200201010000.nc\n",
      "spartacus-daily_Tn_oetztal_200201010000-200301010000.nc has already been downloaded: /home/skalevag/Documents/NRC_P8_water_energy_and_sediment/data/air_temp/grids/SPARTACUS/spartacus-daily_Tn_oetztal_200201010000-200301010000.nc\n",
      "spartacus-daily_Tn_oetztal_200301010000-200401010000.nc has already been downloaded: /home/skalevag/Documents/NRC_P8_water_energy_and_sediment/data/air_temp/grids/SPARTACUS/spartacus-daily_Tn_oetztal_200301010000-200401010000.nc\n",
      "spartacus-daily_Tn_oetztal_200401010000-200501010000.nc has already been downloaded: /home/skalevag/Documents/NRC_P8_water_energy_and_sediment/data/air_temp/grids/SPARTACUS/spartacus-daily_Tn_oetztal_200401010000-200501010000.nc\n",
      "spartacus-daily_Tn_oetztal_200501010000-200601010000.nc has already been downloaded: /home/skalevag/Documents/NRC_P8_water_energy_and_sediment/data/air_temp/grids/SPARTACUS/spartacus-daily_Tn_oetztal_200501010000-200601010000.nc\n",
      "spartacus-daily_Tn_oetztal_200601010000-200701010000.nc has already been downloaded: /home/skalevag/Documents/NRC_P8_water_energy_and_sediment/data/air_temp/grids/SPARTACUS/spartacus-daily_Tn_oetztal_200601010000-200701010000.nc\n",
      "spartacus-daily_Tn_oetztal_200701010000-200801010000.nc has already been downloaded: /home/skalevag/Documents/NRC_P8_water_energy_and_sediment/data/air_temp/grids/SPARTACUS/spartacus-daily_Tn_oetztal_200701010000-200801010000.nc\n",
      "spartacus-daily_Tn_oetztal_200801010000-200901010000.nc has already been downloaded: /home/skalevag/Documents/NRC_P8_water_energy_and_sediment/data/air_temp/grids/SPARTACUS/spartacus-daily_Tn_oetztal_200801010000-200901010000.nc\n",
      "spartacus-daily_Tn_oetztal_200901010000-201001010000.nc has already been downloaded: /home/skalevag/Documents/NRC_P8_water_energy_and_sediment/data/air_temp/grids/SPARTACUS/spartacus-daily_Tn_oetztal_200901010000-201001010000.nc\n",
      "spartacus-daily_Tn_oetztal_201001010000-201101010000.nc has already been downloaded: /home/skalevag/Documents/NRC_P8_water_energy_and_sediment/data/air_temp/grids/SPARTACUS/spartacus-daily_Tn_oetztal_201001010000-201101010000.nc\n",
      "spartacus-daily_Tn_oetztal_201101010000-201201010000.nc has already been downloaded: /home/skalevag/Documents/NRC_P8_water_energy_and_sediment/data/air_temp/grids/SPARTACUS/spartacus-daily_Tn_oetztal_201101010000-201201010000.nc\n",
      "spartacus-daily_Tn_oetztal_201201010000-201301010000.nc has already been downloaded: /home/skalevag/Documents/NRC_P8_water_energy_and_sediment/data/air_temp/grids/SPARTACUS/spartacus-daily_Tn_oetztal_201201010000-201301010000.nc\n",
      "spartacus-daily_Tn_oetztal_201301010000-201401010000.nc has already been downloaded: /home/skalevag/Documents/NRC_P8_water_energy_and_sediment/data/air_temp/grids/SPARTACUS/spartacus-daily_Tn_oetztal_201301010000-201401010000.nc\n",
      "spartacus-daily_Tn_oetztal_201401010000-201501010000.nc has already been downloaded: /home/skalevag/Documents/NRC_P8_water_energy_and_sediment/data/air_temp/grids/SPARTACUS/spartacus-daily_Tn_oetztal_201401010000-201501010000.nc\n",
      "spartacus-daily_Tn_oetztal_201501010000-201601010000.nc has already been downloaded: /home/skalevag/Documents/NRC_P8_water_energy_and_sediment/data/air_temp/grids/SPARTACUS/spartacus-daily_Tn_oetztal_201501010000-201601010000.nc\n",
      "spartacus-daily_Tn_oetztal_201601010000-201701010000.nc has already been downloaded: /home/skalevag/Documents/NRC_P8_water_energy_and_sediment/data/air_temp/grids/SPARTACUS/spartacus-daily_Tn_oetztal_201601010000-201701010000.nc\n",
      "spartacus-daily_Tn_oetztal_201701010000-201801010000.nc has already been downloaded: /home/skalevag/Documents/NRC_P8_water_energy_and_sediment/data/air_temp/grids/SPARTACUS/spartacus-daily_Tn_oetztal_201701010000-201801010000.nc\n",
      "spartacus-daily_Tn_oetztal_201801010000-201901010000.nc has already been downloaded: /home/skalevag/Documents/NRC_P8_water_energy_and_sediment/data/air_temp/grids/SPARTACUS/spartacus-daily_Tn_oetztal_201801010000-201901010000.nc\n",
      "spartacus-daily_Tn_oetztal_201901010000-202001010000.nc has already been downloaded: /home/skalevag/Documents/NRC_P8_water_energy_and_sediment/data/air_temp/grids/SPARTACUS/spartacus-daily_Tn_oetztal_201901010000-202001010000.nc\n",
      "spartacus-daily_Tn_oetztal_202001010000-202101010000.nc has already been downloaded: /home/skalevag/Documents/NRC_P8_water_energy_and_sediment/data/air_temp/grids/SPARTACUS/spartacus-daily_Tn_oetztal_202001010000-202101010000.nc\n",
      "spartacus-daily_Tn_oetztal_202101010000-202201010000.nc has already been downloaded: /home/skalevag/Documents/NRC_P8_water_energy_and_sediment/data/air_temp/grids/SPARTACUS/spartacus-daily_Tn_oetztal_202101010000-202201010000.nc\n"
     ]
    }
   ],
   "source": [
    "# get all in a year\n",
    "for year in range(startYear, endYear + 1):\n",
    "    slices = utils.makeTimeSlices(\n",
    "        year, maxMonths=maxMonths, firstDOY=datetime.datetime(1961, 1, 1, 0, 0)\n",
    "    )\n",
    "    for start, end in slices:\n",
    "        data_download.downloadData(\n",
    "            myQuery, start, end, ODIR, overwrite=overwrite, verbose=verbose\n",
    "        )"
   ]
  },
  {
   "cell_type": "markdown",
   "id": "c584980f-bcac-435b-8467-6e6ea36c5b56",
   "metadata": {},
   "source": [
    "## Merge NetCDF files by year\n",
    "Not really needed for the SPARTACUS data."
   ]
  },
  {
   "cell_type": "code",
   "execution_count": 8,
   "id": "6051a770-3be0-4533-861a-93ad3fcb25b5",
   "metadata": {},
   "outputs": [],
   "source": [
    "if maxMonths != 12:\n",
    "    for year in range(startYear, endYear + 1):\n",
    "        data_download.mergeNetCDFfilesByYear(\n",
    "            year, ODIR, overwrite=overwriteMerge, verbose=verbose\n",
    "        )"
   ]
  },
  {
   "cell_type": "markdown",
   "id": "64a06475-f9ce-4c6b-8c7e-3427875d7bea",
   "metadata": {},
   "source": [
    "# Download point location"
   ]
  },
  {
   "cell_type": "code",
   "execution_count": 9,
   "id": "1e88e51a-dab2-4229-b7b0-1ca5e3e7e44a",
   "metadata": {},
   "outputs": [
    {
     "name": "stdout",
     "output_type": "stream",
     "text": [
      "ZAMGdatahubQuery for download of SPARTACUS_POINT with parameters Tn,Tx,RR. \n",
      "params: ['Tn', 'Tx', 'RR']\n",
      "dataset: DatasetType.SPARTACUS_POINT\n",
      "location_label: obergurgl\n",
      "output_filename_head: spartacus-point\n",
      "output_format: csv\n",
      "lat: 46.8703\n",
      "lon: 11.0269\n"
     ]
    }
   ],
   "source": [
    "# select all the available INCA parameters\n",
    "params = [\"Tn\", \"Tx\", \"RR\"]\n",
    "myQuery = query.rasterQuery(\n",
    "    query.DatasetType.SPARTACUS_POINT, params, point_location=loc_obergurgl\n",
    ")\n",
    "\n",
    "print(myQuery)"
   ]
  },
  {
   "cell_type": "code",
   "execution_count": 10,
   "id": "425fecbe-519b-4fc2-9d2c-eb221c35917e",
   "metadata": {},
   "outputs": [
    {
     "name": "stdout",
     "output_type": "stream",
     "text": [
      "https://dataset.api.hub.zamg.ac.at/v1/timeseries/historical/spartacus-v1-1d-1km?anonymous=true&parameters=Tn,Tx,RR&start=1961-01-01T00:00&end=2022-05-01T00:00&lon=11.0269&lat=46.8703&output_format=csv\n"
     ]
    }
   ],
   "source": [
    "start = \"1961-01-01 00:00\"\n",
    "end = \"2022-05-01 00:00\"\n",
    "url = data_download.makeURL(myQuery, start, end)\n",
    "print(url)"
   ]
  },
  {
   "cell_type": "code",
   "execution_count": null,
   "id": "67d137c5-9fba-4985-a90e-41d3de005985",
   "metadata": {},
   "outputs": [],
   "source": []
  }
 ],
 "metadata": {
  "kernelspec": {
   "display_name": "Python 3 (ipykernel)",
   "language": "python",
   "name": "python3"
  },
  "language_info": {
   "codemirror_mode": {
    "name": "ipython",
    "version": 3
   },
   "file_extension": ".py",
   "mimetype": "text/x-python",
   "name": "python",
   "nbconvert_exporter": "python",
   "pygments_lexer": "ipython3",
   "version": "3.8.12"
  }
 },
 "nbformat": 4,
 "nbformat_minor": 5
}
