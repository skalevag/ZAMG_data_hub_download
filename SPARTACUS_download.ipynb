{
 "cells": [
  {
   "cell_type": "code",
   "execution_count": null,
   "id": "f2ba551c-fe6e-4e05-a8f0-ecff04647552",
   "metadata": {},
   "outputs": [],
   "source": []
  },
  {
   "cell_type": "code",
   "execution_count": null,
   "id": "b8306e6d-fafa-459f-92da-b120e07b9cb0",
   "metadata": {},
   "outputs": [],
   "source": []
  },
  {
   "cell_type": "markdown",
   "id": "8078ae04-0afd-4576-89d9-9207d738b280",
   "metadata": {},
   "source": [
    "## SPARTACUS\n",
    "\n",
    "Example query:\n",
    "\n",
    "https://dataset.api.hub.zamg.ac.at/v1/grid/historical/spartacus-v1-1d-1km?anonymous=true&parameters=RR&start=1961-01-01T00:00:00&end=2010-01-03T00:00:00&bbox=46.3,9.3,49.2,17.4&output_format=netcdf"
   ]
  },
  {
   "cell_type": "markdown",
   "id": "b3d7faaa-bcc1-43be-a3c5-c96efc35fee8",
   "metadata": {},
   "source": [
    "# Setup"
   ]
  },
  {
   "cell_type": "markdown",
   "id": "109eb99d-dc3f-4dcb-885f-fde6edc3adc1",
   "metadata": {},
   "source": [
    "## Modules"
   ]
  },
  {
   "cell_type": "code",
   "execution_count": 1,
   "id": "3ca8ae8c-bdc5-451c-82d6-97afc777dc58",
   "metadata": {},
   "outputs": [],
   "source": [
    "from pathlib import Path\n",
    "import datetime\n",
    "from ZAMGdatahub import query, raster_download, utils"
   ]
  },
  {
   "cell_type": "markdown",
   "id": "fec3f4ac-c94e-462f-9190-17c371613f65",
   "metadata": {},
   "source": [
    "## Global variables"
   ]
  },
  {
   "cell_type": "code",
   "execution_count": 2,
   "id": "a31001cd-6695-476c-a642-fa7526452dac",
   "metadata": {},
   "outputs": [],
   "source": [
    "#ODIR = \"/home/skalevag/Documents/NRC_P8_water_energy_and_sediment/data/air_temp/grids/SPARTACUS\"\n",
    "ODIR = \"/home/skalevag/Documents/NRC_P8_water_energy_and_sediment/data/precip/grids/SPARTACUS\"\n",
    "\n",
    "ODIR = Path(ODIR)\n",
    "\n",
    "if not ODIR.is_dir():\n",
    "    ODIR.mkdir(parents=True)\n",
    "    \n",
    "# variable\n",
    "#params = \"Tn\" # minimum air temperature 2m above ground\n",
    "#params = \"Tx\" # maximum air temperature 2m above ground\n",
    "params = \"RR\" # precipitation sum\n",
    "\n",
    "overwrite=False\n",
    "overwriteMerge=False\n",
    "verbose=True\n",
    "\n",
    "startYear = 1961 # inclusive\n",
    "endYear = 2021 # inclusive\n",
    "\n",
    "datetimeformat = \"%Y-%m-%d %H:%M\""
   ]
  },
  {
   "cell_type": "code",
   "execution_count": 3,
   "id": "391b7d89-6b95-4b93-88d6-6f820ecd6807",
   "metadata": {
    "tags": []
   },
   "outputs": [],
   "source": [
    "# gridbox for Ötztal area\n",
    "gridboxlabel = \"oetztal\"\n",
    "lat_min = 46.6\n",
    "lat_max = 47.3\n",
    "lon_min = 10.5\n",
    "lon_max = 11.4"
   ]
  },
  {
   "cell_type": "markdown",
   "id": "4a0556e1-be25-4ff9-9c77-f1699a9e109e",
   "metadata": {},
   "source": [
    "## Make query"
   ]
  },
  {
   "cell_type": "code",
   "execution_count": 4,
   "id": "ae5e2f3e-36ee-4ea3-8143-dfee990c7391",
   "metadata": {},
   "outputs": [
    {
     "name": "stdout",
     "output_type": "stream",
     "text": [
      "oetztal\n"
     ]
    },
    {
     "data": {
      "text/plain": [
       "{'params': 'RR',\n",
       " 'gridboxlabel': 'oetztal',\n",
       " 'lat_min': 46.6,\n",
       " 'lat_max': 47.3,\n",
       " 'lon_min': 10.5,\n",
       " 'lon_max': 11.4,\n",
       " 'output_format': 'netcdf',\n",
       " 'file_extention': 'nc'}"
      ]
     },
     "execution_count": 4,
     "metadata": {},
     "output_type": "execute_result"
    }
   ],
   "source": [
    "myQuery = query.ZAMGdatahubQuery(\"SPARTACUS\",params,gridboxlabel,lat_min,lat_max,lon_min,lon_max)\n",
    "print(myQuery.name)\n",
    "myQuery.query"
   ]
  },
  {
   "cell_type": "markdown",
   "id": "a435c452-2cb1-49c8-b609-fd1257fbccfa",
   "metadata": {},
   "source": [
    "## Save/Load query to/from file"
   ]
  },
  {
   "cell_type": "code",
   "execution_count": 5,
   "id": "2e838567-d617-4b9e-a4c7-9cd84a53b87c",
   "metadata": {},
   "outputs": [
    {
     "name": "stdout",
     "output_type": "stream",
     "text": [
      "Query saved to \"./SPARTACUS_query_oetztal.txt\"\n"
     ]
    }
   ],
   "source": [
    "myQuery.saveQuery()"
   ]
  },
  {
   "cell_type": "code",
   "execution_count": 6,
   "id": "b8c4b6f8-ebaf-4b5a-a926-5ce7a932f44e",
   "metadata": {},
   "outputs": [
    {
     "data": {
      "text/plain": [
       "{'params': 'RR',\n",
       " 'gridboxlabel': 'oetztal',\n",
       " 'lat_min': '46.6',\n",
       " 'lat_max': '47.3',\n",
       " 'lon_min': '10.5',\n",
       " 'lon_max': '11.4',\n",
       " 'output_format': 'netcdf',\n",
       " 'file_extention': 'nc'}"
      ]
     },
     "execution_count": 6,
     "metadata": {},
     "output_type": "execute_result"
    }
   ],
   "source": [
    "query.loadQuery(\"./SPARTACUS_query_oetztal.txt\")"
   ]
  },
  {
   "cell_type": "markdown",
   "id": "233f91c0-1420-488b-8832-68a23c020ff0",
   "metadata": {},
   "source": [
    "# Download data"
   ]
  },
  {
   "cell_type": "code",
   "execution_count": 7,
   "id": "69fbb109-6e73-4d04-8fbb-9fdb3887545e",
   "metadata": {},
   "outputs": [
    {
     "name": "stdout",
     "output_type": "stream",
     "text": [
      "spartacus-daily_RR_oetztal_196101010000-196201010000.nc was downloaded.\n",
      "spartacus-daily_RR_oetztal_196201010000-196301010000.nc was downloaded.\n",
      "spartacus-daily_RR_oetztal_196301010000-196401010000.nc was downloaded.\n",
      "spartacus-daily_RR_oetztal_196401010000-196501010000.nc was downloaded.\n",
      "spartacus-daily_RR_oetztal_196501010000-196601010000.nc was downloaded.\n",
      "spartacus-daily_RR_oetztal_196601010000-196701010000.nc was downloaded.\n",
      "spartacus-daily_RR_oetztal_196701010000-196801010000.nc was downloaded.\n",
      "spartacus-daily_RR_oetztal_196801010000-196901010000.nc was downloaded.\n",
      "spartacus-daily_RR_oetztal_196901010000-197001010000.nc was downloaded.\n",
      "spartacus-daily_RR_oetztal_197001010000-197101010000.nc was downloaded.\n",
      "spartacus-daily_RR_oetztal_197101010000-197201010000.nc was downloaded.\n",
      "spartacus-daily_RR_oetztal_197201010000-197301010000.nc was downloaded.\n",
      "spartacus-daily_RR_oetztal_197301010000-197401010000.nc was downloaded.\n",
      "spartacus-daily_RR_oetztal_197401010000-197501010000.nc was downloaded.\n",
      "spartacus-daily_RR_oetztal_197501010000-197601010000.nc was downloaded.\n",
      "spartacus-daily_RR_oetztal_197601010000-197701010000.nc was downloaded.\n",
      "spartacus-daily_RR_oetztal_197701010000-197801010000.nc was downloaded.\n",
      "spartacus-daily_RR_oetztal_197801010000-197901010000.nc was downloaded.\n",
      "spartacus-daily_RR_oetztal_197901010000-198001010000.nc was downloaded.\n",
      "spartacus-daily_RR_oetztal_198001010000-198101010000.nc was downloaded.\n",
      "spartacus-daily_RR_oetztal_198101010000-198201010000.nc was downloaded.\n",
      "spartacus-daily_RR_oetztal_198201010000-198301010000.nc was downloaded.\n",
      "spartacus-daily_RR_oetztal_198301010000-198401010000.nc was downloaded.\n",
      "spartacus-daily_RR_oetztal_198401010000-198501010000.nc was downloaded.\n",
      "spartacus-daily_RR_oetztal_198501010000-198601010000.nc was downloaded.\n",
      "spartacus-daily_RR_oetztal_198601010000-198701010000.nc was downloaded.\n",
      "spartacus-daily_RR_oetztal_198701010000-198801010000.nc was downloaded.\n",
      "spartacus-daily_RR_oetztal_198801010000-198901010000.nc was downloaded.\n",
      "spartacus-daily_RR_oetztal_198901010000-199001010000.nc was downloaded.\n",
      "spartacus-daily_RR_oetztal_199001010000-199101010000.nc was downloaded.\n",
      "spartacus-daily_RR_oetztal_199101010000-199201010000.nc was downloaded.\n",
      "spartacus-daily_RR_oetztal_199201010000-199301010000.nc was downloaded.\n",
      "spartacus-daily_RR_oetztal_199301010000-199401010000.nc was downloaded.\n",
      "spartacus-daily_RR_oetztal_199401010000-199501010000.nc was downloaded.\n",
      "spartacus-daily_RR_oetztal_199501010000-199601010000.nc was downloaded.\n",
      "spartacus-daily_RR_oetztal_199601010000-199701010000.nc was downloaded.\n",
      "spartacus-daily_RR_oetztal_199701010000-199801010000.nc was downloaded.\n",
      "spartacus-daily_RR_oetztal_199801010000-199901010000.nc was downloaded.\n",
      "spartacus-daily_RR_oetztal_199901010000-200001010000.nc was downloaded.\n",
      "spartacus-daily_RR_oetztal_200001010000-200101010000.nc was downloaded.\n",
      "spartacus-daily_RR_oetztal_200101010000-200201010000.nc was downloaded.\n",
      "spartacus-daily_RR_oetztal_200201010000-200301010000.nc was downloaded.\n",
      "spartacus-daily_RR_oetztal_200301010000-200401010000.nc was downloaded.\n",
      "spartacus-daily_RR_oetztal_200401010000-200501010000.nc was downloaded.\n",
      "spartacus-daily_RR_oetztal_200501010000-200601010000.nc was downloaded.\n",
      "spartacus-daily_RR_oetztal_200601010000-200701010000.nc was downloaded.\n",
      "spartacus-daily_RR_oetztal_200701010000-200801010000.nc was downloaded.\n",
      "spartacus-daily_RR_oetztal_200801010000-200901010000.nc was downloaded.\n",
      "spartacus-daily_RR_oetztal_200901010000-201001010000.nc was downloaded.\n",
      "spartacus-daily_RR_oetztal_201001010000-201101010000.nc was downloaded.\n",
      "spartacus-daily_RR_oetztal_201101010000-201201010000.nc was downloaded.\n",
      "spartacus-daily_RR_oetztal_201201010000-201301010000.nc was downloaded.\n",
      "spartacus-daily_RR_oetztal_201301010000-201401010000.nc was downloaded.\n",
      "spartacus-daily_RR_oetztal_201401010000-201501010000.nc was downloaded.\n",
      "spartacus-daily_RR_oetztal_201501010000-201601010000.nc was downloaded.\n",
      "spartacus-daily_RR_oetztal_201601010000-201701010000.nc was downloaded.\n",
      "spartacus-daily_RR_oetztal_201701010000-201801010000.nc was downloaded.\n",
      "spartacus-daily_RR_oetztal_201801010000-201901010000.nc was downloaded.\n",
      "spartacus-daily_RR_oetztal_201901010000-202001010000.nc was downloaded.\n",
      "spartacus-daily_RR_oetztal_202001010000-202101010000.nc was downloaded.\n",
      "spartacus-daily_RR_oetztal_202101010000-202201010000.nc was downloaded.\n"
     ]
    }
   ],
   "source": [
    "# get all in a year\n",
    "for year in range(startYear,endYear+1):\n",
    "    slices = utils.makeTimeSlices(year,maxMonths=12,firstDOY = datetime.datetime(1961,1,1,0,0))\n",
    "    for start,end in slices:\n",
    "        raster_download.downloadData(myQuery,start,end,ODIR,overwrite=overwrite,verbose=verbose)"
   ]
  },
  {
   "cell_type": "markdown",
   "id": "c584980f-bcac-435b-8467-6e6ea36c5b56",
   "metadata": {},
   "source": [
    "# Merge NetCDF files by year\n",
    "Not really needed for the SPARTACUS data."
   ]
  },
  {
   "cell_type": "markdown",
   "id": "21162523-5381-496f-8483-7942e173aeee",
   "metadata": {},
   "source": [
    "    for year in range(startYear,endYear+1):\n",
    "        raster_download.mergeNetCDFfilesByYear(year,ODIR,overwrite=overwriteMerge,verbose=verbose)"
   ]
  },
  {
   "cell_type": "code",
   "execution_count": null,
   "id": "16d529c5-3332-4ad6-940c-98b6f8a7cada",
   "metadata": {},
   "outputs": [],
   "source": []
  }
 ],
 "metadata": {
  "kernelspec": {
   "display_name": "Python 3 (ipykernel)",
   "language": "python",
   "name": "python3"
  },
  "language_info": {
   "codemirror_mode": {
    "name": "ipython",
    "version": 3
   },
   "file_extension": ".py",
   "mimetype": "text/x-python",
   "name": "python",
   "nbconvert_exporter": "python",
   "pygments_lexer": "ipython3",
   "version": "3.8.12"
  }
 },
 "nbformat": 4,
 "nbformat_minor": 5
}
