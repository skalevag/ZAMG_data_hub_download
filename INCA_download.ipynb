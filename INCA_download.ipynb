{
 "cells": [
  {
   "cell_type": "markdown",
   "id": "66ac5bdc-6f44-4e13-89b1-a1966f344841",
   "metadata": {},
   "source": [
    "# Introduction\n",
    "\n",
    "Example script for downloading INCA data.\n",
    "\n",
    "**Website only allows for 2-3 months worth of data to be downloaded at a time, depending on the size of the lat-lon box.**\n"
   ]
  },
  {
   "cell_type": "markdown",
   "id": "d2e92825-eeee-42e6-a6b3-d16a6ae00bf9",
   "metadata": {},
   "source": [
    "# Setup"
   ]
  },
  {
   "cell_type": "markdown",
   "id": "34f7871f-92e1-4745-863a-e072b8c2dc09",
   "metadata": {},
   "source": [
    "## Modules"
   ]
  },
  {
   "cell_type": "code",
   "execution_count": 1,
   "id": "209b25a0-a2b2-4d69-8c9a-9d913858efbc",
   "metadata": {},
   "outputs": [],
   "source": [
    "from pathlib import Path\n",
    "\n",
    "from ZAMGdatahub import data_download, query, utils"
   ]
  },
  {
   "cell_type": "markdown",
   "id": "abe9fec4-ef71-44e7-869f-bfccdef0a16b",
   "metadata": {},
   "source": [
    "## Global variables"
   ]
  },
  {
   "cell_type": "code",
   "execution_count": 2,
   "id": "bbc96da3-8551-4830-93a8-2e5ae8bed9b7",
   "metadata": {},
   "outputs": [],
   "source": [
    "ODIR = (\n",
    "    \"/home/skalevag/Documents/NRC_P8_water_energy_and_sediment/data/air_temp/grids/INCA\"\n",
    ")\n",
    "# ODIR = (\"/home/skalevag/Documents/NRC_P8_water_energy_and_sediment/data/precip/grids/INCA\")\n",
    "# ODIR = \"/home/skalevag/Documents/NRC_P8_water_energy_and_sediment/data/radiation/grids/INCA\"\n",
    "ODIR = Path(ODIR)\n",
    "\n",
    "if not ODIR.is_dir():\n",
    "    ODIR.mkdir(parents=True)\n",
    "\n",
    "# variable\n",
    "params = \"T2M\"  # air temperature 2m above ground\n",
    "# params = \"RR\"  # 1-hour precipitation sum\n",
    "# params = \"GL\"  # global radiation\n",
    "\n",
    "overwrite = False\n",
    "overwriteMerge = False\n",
    "verbose = True\n",
    "\n",
    "startYear = 2011  # inclusive\n",
    "endYear = 2022  # inclusive\n",
    "\n",
    "datetimeformat = \"%Y-%m-%d %H:%M\""
   ]
  },
  {
   "cell_type": "code",
   "execution_count": 3,
   "id": "3c0bf6a5-091c-4625-b668-4221b559b991",
   "metadata": {},
   "outputs": [
    {
     "name": "stdout",
     "output_type": "stream",
     "text": [
      "LOCATION: oetztal\n",
      "COORDINATES: latitude: 46.6 ... 47.3 ; longitude 10.5 ... 11.4\n",
      "\n",
      "LOCATION: obergurgl\n",
      "COORDINATES: latitude: 46.8703 ; longitude 11.0269\n",
      "\n",
      "DatasetType.INCA\n"
     ]
    }
   ],
   "source": [
    "# gridbox for Ötztal area\n",
    "gridbox_oetz = query.LatLonBox(\n",
    "    label=\"oetztal\", lat_min=46.6, lat_max=47.3, lon_min=10.5, lon_max=11.4\n",
    ")\n",
    "print(gridbox_oetz)\n",
    "print()\n",
    "\n",
    "# point location\n",
    "loc_obergurgl = query.LatLonLocation(\"obergurgl\", 46.8703, 11.0269)\n",
    "print(loc_obergurgl)\n",
    "print()\n",
    "\n",
    "# dataset type\n",
    "dataset = query.DatasetType.INCA\n",
    "print(dataset)"
   ]
  },
  {
   "cell_type": "markdown",
   "id": "d9497d74-20a8-4683-841a-08e0cbc14233",
   "metadata": {},
   "source": [
    "## Make query"
   ]
  },
  {
   "cell_type": "code",
   "execution_count": 4,
   "id": "bab65e3e-bb04-4ba3-9eaa-8591a3c7df5b",
   "metadata": {},
   "outputs": [
    {
     "name": "stdout",
     "output_type": "stream",
     "text": [
      "ZAMGdatahubQuery for download of INCA with parameters T2M. \n",
      "params: ['T2M']\n",
      "dataset: DatasetType.INCA\n",
      "location_label: oetztal\n",
      "output_filename_head: incal-hourly\n",
      "output_format: netcdf\n",
      "lat_min: 46.6\n",
      "lat_max: 47.3\n",
      "lon_min: 10.5\n",
      "lon_max: 11.4\n"
     ]
    }
   ],
   "source": [
    "myQuery = query.rasterQuery(dataset, params, gridbox=gridbox_oetz)\n",
    "\n",
    "print(myQuery)"
   ]
  },
  {
   "cell_type": "markdown",
   "id": "32a958e9-d5bc-400b-a377-bb6d4c521353",
   "metadata": {
    "tags": []
   },
   "source": [
    "## Save/Load query to/from file"
   ]
  },
  {
   "cell_type": "code",
   "execution_count": 5,
   "id": "bc7c1327-d87a-4ea0-9497-548d50e38c5f",
   "metadata": {},
   "outputs": [
    {
     "name": "stdout",
     "output_type": "stream",
     "text": [
      "Query saved to \"./INCA_query_oetztal.txt\"\n"
     ]
    }
   ],
   "source": [
    "myQuery.saveQuery()"
   ]
  },
  {
   "cell_type": "code",
   "execution_count": 6,
   "id": "c48a81b2-396c-4136-85bf-6cf36e9fadf1",
   "metadata": {},
   "outputs": [
    {
     "name": "stdout",
     "output_type": "stream",
     "text": [
      "ZAMGdatahubQuery for download of INCA with parameters T2M. \n",
      "params: ['T2M']\n",
      "dataset: DatasetType.INCA\n",
      "location_label: oetztal\n",
      "output_filename_head: incal-hourly\n",
      "output_format: netcdf\n",
      "lat_min: 46.6\n",
      "lat_max: 47.3\n",
      "lon_min: 10.5\n",
      "lon_max: 11.4\n"
     ]
    }
   ],
   "source": [
    "print(query.loadQuery(\"./INCA_query_oetztal.txt\"))"
   ]
  },
  {
   "cell_type": "markdown",
   "id": "293fcdce-a3f1-4d04-b923-af1faad57305",
   "metadata": {},
   "source": [
    "# Download data"
   ]
  },
  {
   "cell_type": "markdown",
   "id": "a104c2af-6d05-4b0d-8b65-e13f46bf28bc",
   "metadata": {},
   "source": [
    "## Gridbox"
   ]
  },
  {
   "cell_type": "code",
   "execution_count": 7,
   "id": "9fbd0317-8d5b-4d89-a617-64684a911d46",
   "metadata": {},
   "outputs": [
    {
     "name": "stdout",
     "output_type": "stream",
     "text": [
      "incal-hourly_T2M_oetztal_201103010000-201105010000.nc has already been downloaded: /home/skalevag/Documents/NRC_P8_water_energy_and_sediment/data/air_temp/grids/INCA/incal-hourly_T2M_oetztal_201103010000-201105010000.nc\n",
      "incal-hourly_T2M_oetztal_201103010000-201105010000.nc has already been downloaded: /home/skalevag/Documents/NRC_P8_water_energy_and_sediment/data/air_temp/grids/INCA/incal-hourly_T2M_oetztal_201103010000-201105010000.nc\n",
      "incal-hourly_T2M_oetztal_201105010000-201107010000.nc has already been downloaded: /home/skalevag/Documents/NRC_P8_water_energy_and_sediment/data/air_temp/grids/INCA/incal-hourly_T2M_oetztal_201105010000-201107010000.nc\n",
      "incal-hourly_T2M_oetztal_201107010000-201109010000.nc has already been downloaded: /home/skalevag/Documents/NRC_P8_water_energy_and_sediment/data/air_temp/grids/INCA/incal-hourly_T2M_oetztal_201107010000-201109010000.nc\n",
      "incal-hourly_T2M_oetztal_201109010000-201111010000.nc has already been downloaded: /home/skalevag/Documents/NRC_P8_water_energy_and_sediment/data/air_temp/grids/INCA/incal-hourly_T2M_oetztal_201109010000-201111010000.nc\n",
      "incal-hourly_T2M_oetztal_201111010000-201201010000.nc has already been downloaded: /home/skalevag/Documents/NRC_P8_water_energy_and_sediment/data/air_temp/grids/INCA/incal-hourly_T2M_oetztal_201111010000-201201010000.nc\n",
      "incal-hourly_T2M_oetztal_201201010000-201203010000.nc has already been downloaded: /home/skalevag/Documents/NRC_P8_water_energy_and_sediment/data/air_temp/grids/INCA/incal-hourly_T2M_oetztal_201201010000-201203010000.nc\n",
      "incal-hourly_T2M_oetztal_201203010000-201205010000.nc has already been downloaded: /home/skalevag/Documents/NRC_P8_water_energy_and_sediment/data/air_temp/grids/INCA/incal-hourly_T2M_oetztal_201203010000-201205010000.nc\n",
      "incal-hourly_T2M_oetztal_201205010000-201207010000.nc has already been downloaded: /home/skalevag/Documents/NRC_P8_water_energy_and_sediment/data/air_temp/grids/INCA/incal-hourly_T2M_oetztal_201205010000-201207010000.nc\n",
      "incal-hourly_T2M_oetztal_201207010000-201209010000.nc has already been downloaded: /home/skalevag/Documents/NRC_P8_water_energy_and_sediment/data/air_temp/grids/INCA/incal-hourly_T2M_oetztal_201207010000-201209010000.nc\n",
      "incal-hourly_T2M_oetztal_201209010000-201211010000.nc has already been downloaded: /home/skalevag/Documents/NRC_P8_water_energy_and_sediment/data/air_temp/grids/INCA/incal-hourly_T2M_oetztal_201209010000-201211010000.nc\n",
      "incal-hourly_T2M_oetztal_201211010000-201301010000.nc has already been downloaded: /home/skalevag/Documents/NRC_P8_water_energy_and_sediment/data/air_temp/grids/INCA/incal-hourly_T2M_oetztal_201211010000-201301010000.nc\n",
      "incal-hourly_T2M_oetztal_201301010000-201303010000.nc has already been downloaded: /home/skalevag/Documents/NRC_P8_water_energy_and_sediment/data/air_temp/grids/INCA/incal-hourly_T2M_oetztal_201301010000-201303010000.nc\n",
      "incal-hourly_T2M_oetztal_201303010000-201305010000.nc has already been downloaded: /home/skalevag/Documents/NRC_P8_water_energy_and_sediment/data/air_temp/grids/INCA/incal-hourly_T2M_oetztal_201303010000-201305010000.nc\n",
      "incal-hourly_T2M_oetztal_201305010000-201307010000.nc has already been downloaded: /home/skalevag/Documents/NRC_P8_water_energy_and_sediment/data/air_temp/grids/INCA/incal-hourly_T2M_oetztal_201305010000-201307010000.nc\n",
      "incal-hourly_T2M_oetztal_201307010000-201309010000.nc has already been downloaded: /home/skalevag/Documents/NRC_P8_water_energy_and_sediment/data/air_temp/grids/INCA/incal-hourly_T2M_oetztal_201307010000-201309010000.nc\n",
      "incal-hourly_T2M_oetztal_201309010000-201311010000.nc has already been downloaded: /home/skalevag/Documents/NRC_P8_water_energy_and_sediment/data/air_temp/grids/INCA/incal-hourly_T2M_oetztal_201309010000-201311010000.nc\n",
      "incal-hourly_T2M_oetztal_201311010000-201401010000.nc has already been downloaded: /home/skalevag/Documents/NRC_P8_water_energy_and_sediment/data/air_temp/grids/INCA/incal-hourly_T2M_oetztal_201311010000-201401010000.nc\n",
      "incal-hourly_T2M_oetztal_201401010000-201403010000.nc has already been downloaded: /home/skalevag/Documents/NRC_P8_water_energy_and_sediment/data/air_temp/grids/INCA/incal-hourly_T2M_oetztal_201401010000-201403010000.nc\n",
      "incal-hourly_T2M_oetztal_201403010000-201405010000.nc has already been downloaded: /home/skalevag/Documents/NRC_P8_water_energy_and_sediment/data/air_temp/grids/INCA/incal-hourly_T2M_oetztal_201403010000-201405010000.nc\n",
      "incal-hourly_T2M_oetztal_201405010000-201407010000.nc has already been downloaded: /home/skalevag/Documents/NRC_P8_water_energy_and_sediment/data/air_temp/grids/INCA/incal-hourly_T2M_oetztal_201405010000-201407010000.nc\n",
      "incal-hourly_T2M_oetztal_201407010000-201409010000.nc has already been downloaded: /home/skalevag/Documents/NRC_P8_water_energy_and_sediment/data/air_temp/grids/INCA/incal-hourly_T2M_oetztal_201407010000-201409010000.nc\n",
      "incal-hourly_T2M_oetztal_201409010000-201411010000.nc has already been downloaded: /home/skalevag/Documents/NRC_P8_water_energy_and_sediment/data/air_temp/grids/INCA/incal-hourly_T2M_oetztal_201409010000-201411010000.nc\n",
      "incal-hourly_T2M_oetztal_201411010000-201501010000.nc has already been downloaded: /home/skalevag/Documents/NRC_P8_water_energy_and_sediment/data/air_temp/grids/INCA/incal-hourly_T2M_oetztal_201411010000-201501010000.nc\n",
      "incal-hourly_T2M_oetztal_201501010000-201503010000.nc has already been downloaded: /home/skalevag/Documents/NRC_P8_water_energy_and_sediment/data/air_temp/grids/INCA/incal-hourly_T2M_oetztal_201501010000-201503010000.nc\n",
      "incal-hourly_T2M_oetztal_201503010000-201505010000.nc has already been downloaded: /home/skalevag/Documents/NRC_P8_water_energy_and_sediment/data/air_temp/grids/INCA/incal-hourly_T2M_oetztal_201503010000-201505010000.nc\n",
      "incal-hourly_T2M_oetztal_201505010000-201507010000.nc has already been downloaded: /home/skalevag/Documents/NRC_P8_water_energy_and_sediment/data/air_temp/grids/INCA/incal-hourly_T2M_oetztal_201505010000-201507010000.nc\n",
      "incal-hourly_T2M_oetztal_201507010000-201509010000.nc has already been downloaded: /home/skalevag/Documents/NRC_P8_water_energy_and_sediment/data/air_temp/grids/INCA/incal-hourly_T2M_oetztal_201507010000-201509010000.nc\n",
      "incal-hourly_T2M_oetztal_201509010000-201511010000.nc has already been downloaded: /home/skalevag/Documents/NRC_P8_water_energy_and_sediment/data/air_temp/grids/INCA/incal-hourly_T2M_oetztal_201509010000-201511010000.nc\n",
      "incal-hourly_T2M_oetztal_201511010000-201601010000.nc has already been downloaded: /home/skalevag/Documents/NRC_P8_water_energy_and_sediment/data/air_temp/grids/INCA/incal-hourly_T2M_oetztal_201511010000-201601010000.nc\n",
      "incal-hourly_T2M_oetztal_201601010000-201603010000.nc has already been downloaded: /home/skalevag/Documents/NRC_P8_water_energy_and_sediment/data/air_temp/grids/INCA/incal-hourly_T2M_oetztal_201601010000-201603010000.nc\n",
      "incal-hourly_T2M_oetztal_201603010000-201605010000.nc has already been downloaded: /home/skalevag/Documents/NRC_P8_water_energy_and_sediment/data/air_temp/grids/INCA/incal-hourly_T2M_oetztal_201603010000-201605010000.nc\n",
      "incal-hourly_T2M_oetztal_201605010000-201607010000.nc has already been downloaded: /home/skalevag/Documents/NRC_P8_water_energy_and_sediment/data/air_temp/grids/INCA/incal-hourly_T2M_oetztal_201605010000-201607010000.nc\n",
      "incal-hourly_T2M_oetztal_201607010000-201609010000.nc has already been downloaded: /home/skalevag/Documents/NRC_P8_water_energy_and_sediment/data/air_temp/grids/INCA/incal-hourly_T2M_oetztal_201607010000-201609010000.nc\n",
      "incal-hourly_T2M_oetztal_201609010000-201611010000.nc has already been downloaded: /home/skalevag/Documents/NRC_P8_water_energy_and_sediment/data/air_temp/grids/INCA/incal-hourly_T2M_oetztal_201609010000-201611010000.nc\n",
      "incal-hourly_T2M_oetztal_201611010000-201701010000.nc has already been downloaded: /home/skalevag/Documents/NRC_P8_water_energy_and_sediment/data/air_temp/grids/INCA/incal-hourly_T2M_oetztal_201611010000-201701010000.nc\n",
      "incal-hourly_T2M_oetztal_201701010000-201703010000.nc has already been downloaded: /home/skalevag/Documents/NRC_P8_water_energy_and_sediment/data/air_temp/grids/INCA/incal-hourly_T2M_oetztal_201701010000-201703010000.nc\n",
      "incal-hourly_T2M_oetztal_201703010000-201705010000.nc has already been downloaded: /home/skalevag/Documents/NRC_P8_water_energy_and_sediment/data/air_temp/grids/INCA/incal-hourly_T2M_oetztal_201703010000-201705010000.nc\n",
      "incal-hourly_T2M_oetztal_201705010000-201707010000.nc has already been downloaded: /home/skalevag/Documents/NRC_P8_water_energy_and_sediment/data/air_temp/grids/INCA/incal-hourly_T2M_oetztal_201705010000-201707010000.nc\n",
      "incal-hourly_T2M_oetztal_201707010000-201709010000.nc has already been downloaded: /home/skalevag/Documents/NRC_P8_water_energy_and_sediment/data/air_temp/grids/INCA/incal-hourly_T2M_oetztal_201707010000-201709010000.nc\n",
      "incal-hourly_T2M_oetztal_201709010000-201711010000.nc has already been downloaded: /home/skalevag/Documents/NRC_P8_water_energy_and_sediment/data/air_temp/grids/INCA/incal-hourly_T2M_oetztal_201709010000-201711010000.nc\n",
      "incal-hourly_T2M_oetztal_201711010000-201801010000.nc has already been downloaded: /home/skalevag/Documents/NRC_P8_water_energy_and_sediment/data/air_temp/grids/INCA/incal-hourly_T2M_oetztal_201711010000-201801010000.nc\n",
      "incal-hourly_T2M_oetztal_201801010000-201803010000.nc has already been downloaded: /home/skalevag/Documents/NRC_P8_water_energy_and_sediment/data/air_temp/grids/INCA/incal-hourly_T2M_oetztal_201801010000-201803010000.nc\n",
      "incal-hourly_T2M_oetztal_201803010000-201805010000.nc has already been downloaded: /home/skalevag/Documents/NRC_P8_water_energy_and_sediment/data/air_temp/grids/INCA/incal-hourly_T2M_oetztal_201803010000-201805010000.nc\n",
      "incal-hourly_T2M_oetztal_201805010000-201807010000.nc has already been downloaded: /home/skalevag/Documents/NRC_P8_water_energy_and_sediment/data/air_temp/grids/INCA/incal-hourly_T2M_oetztal_201805010000-201807010000.nc\n",
      "incal-hourly_T2M_oetztal_201807010000-201809010000.nc has already been downloaded: /home/skalevag/Documents/NRC_P8_water_energy_and_sediment/data/air_temp/grids/INCA/incal-hourly_T2M_oetztal_201807010000-201809010000.nc\n",
      "incal-hourly_T2M_oetztal_201809010000-201811010000.nc has already been downloaded: /home/skalevag/Documents/NRC_P8_water_energy_and_sediment/data/air_temp/grids/INCA/incal-hourly_T2M_oetztal_201809010000-201811010000.nc\n",
      "incal-hourly_T2M_oetztal_201811010000-201901010000.nc has already been downloaded: /home/skalevag/Documents/NRC_P8_water_energy_and_sediment/data/air_temp/grids/INCA/incal-hourly_T2M_oetztal_201811010000-201901010000.nc\n",
      "incal-hourly_T2M_oetztal_201901010000-201903010000.nc has already been downloaded: /home/skalevag/Documents/NRC_P8_water_energy_and_sediment/data/air_temp/grids/INCA/incal-hourly_T2M_oetztal_201901010000-201903010000.nc\n",
      "incal-hourly_T2M_oetztal_201903010000-201905010000.nc has already been downloaded: /home/skalevag/Documents/NRC_P8_water_energy_and_sediment/data/air_temp/grids/INCA/incal-hourly_T2M_oetztal_201903010000-201905010000.nc\n",
      "incal-hourly_T2M_oetztal_201905010000-201907010000.nc has already been downloaded: /home/skalevag/Documents/NRC_P8_water_energy_and_sediment/data/air_temp/grids/INCA/incal-hourly_T2M_oetztal_201905010000-201907010000.nc\n",
      "incal-hourly_T2M_oetztal_201907010000-201909010000.nc has already been downloaded: /home/skalevag/Documents/NRC_P8_water_energy_and_sediment/data/air_temp/grids/INCA/incal-hourly_T2M_oetztal_201907010000-201909010000.nc\n",
      "incal-hourly_T2M_oetztal_201909010000-201911010000.nc has already been downloaded: /home/skalevag/Documents/NRC_P8_water_energy_and_sediment/data/air_temp/grids/INCA/incal-hourly_T2M_oetztal_201909010000-201911010000.nc\n",
      "incal-hourly_T2M_oetztal_201911010000-202001010000.nc has already been downloaded: /home/skalevag/Documents/NRC_P8_water_energy_and_sediment/data/air_temp/grids/INCA/incal-hourly_T2M_oetztal_201911010000-202001010000.nc\n",
      "incal-hourly_T2M_oetztal_202001010000-202003010000.nc has already been downloaded: /home/skalevag/Documents/NRC_P8_water_energy_and_sediment/data/air_temp/grids/INCA/incal-hourly_T2M_oetztal_202001010000-202003010000.nc\n",
      "incal-hourly_T2M_oetztal_202003010000-202005010000.nc has already been downloaded: /home/skalevag/Documents/NRC_P8_water_energy_and_sediment/data/air_temp/grids/INCA/incal-hourly_T2M_oetztal_202003010000-202005010000.nc\n",
      "incal-hourly_T2M_oetztal_202005010000-202007010000.nc has already been downloaded: /home/skalevag/Documents/NRC_P8_water_energy_and_sediment/data/air_temp/grids/INCA/incal-hourly_T2M_oetztal_202005010000-202007010000.nc\n",
      "incal-hourly_T2M_oetztal_202007010000-202009010000.nc has already been downloaded: /home/skalevag/Documents/NRC_P8_water_energy_and_sediment/data/air_temp/grids/INCA/incal-hourly_T2M_oetztal_202007010000-202009010000.nc\n",
      "incal-hourly_T2M_oetztal_202009010000-202011010000.nc has already been downloaded: /home/skalevag/Documents/NRC_P8_water_energy_and_sediment/data/air_temp/grids/INCA/incal-hourly_T2M_oetztal_202009010000-202011010000.nc\n",
      "incal-hourly_T2M_oetztal_202011010000-202101010000.nc has already been downloaded: /home/skalevag/Documents/NRC_P8_water_energy_and_sediment/data/air_temp/grids/INCA/incal-hourly_T2M_oetztal_202011010000-202101010000.nc\n",
      "incal-hourly_T2M_oetztal_202101010000-202103010000.nc has already been downloaded: /home/skalevag/Documents/NRC_P8_water_energy_and_sediment/data/air_temp/grids/INCA/incal-hourly_T2M_oetztal_202101010000-202103010000.nc\n",
      "incal-hourly_T2M_oetztal_202103010000-202105010000.nc has already been downloaded: /home/skalevag/Documents/NRC_P8_water_energy_and_sediment/data/air_temp/grids/INCA/incal-hourly_T2M_oetztal_202103010000-202105010000.nc\n",
      "incal-hourly_T2M_oetztal_202105010000-202107010000.nc has already been downloaded: /home/skalevag/Documents/NRC_P8_water_energy_and_sediment/data/air_temp/grids/INCA/incal-hourly_T2M_oetztal_202105010000-202107010000.nc\n",
      "incal-hourly_T2M_oetztal_202107010000-202109010000.nc has already been downloaded: /home/skalevag/Documents/NRC_P8_water_energy_and_sediment/data/air_temp/grids/INCA/incal-hourly_T2M_oetztal_202107010000-202109010000.nc\n",
      "incal-hourly_T2M_oetztal_202109010000-202111010000.nc has already been downloaded: /home/skalevag/Documents/NRC_P8_water_energy_and_sediment/data/air_temp/grids/INCA/incal-hourly_T2M_oetztal_202109010000-202111010000.nc\n",
      "incal-hourly_T2M_oetztal_202111010000-202201010000.nc has already been downloaded: /home/skalevag/Documents/NRC_P8_water_energy_and_sediment/data/air_temp/grids/INCA/incal-hourly_T2M_oetztal_202111010000-202201010000.nc\n",
      "incal-hourly_T2M_oetztal_202201010000-202203010000.nc was downloaded.\n",
      "incal-hourly_T2M_oetztal_202203010000-202205010000.nc was downloaded.\n",
      "incal-hourly_T2M_oetztal_202205010000-202205241900.nc was downloaded.\n"
     ]
    }
   ],
   "source": [
    "# get all in a year\n",
    "for year in range(startYear, endYear + 1):\n",
    "    slices = utils.makeTimeSlices(year)\n",
    "    for start, end in slices:\n",
    "        data_download.downloadData(\n",
    "            myQuery, start, end, ODIR, overwrite=overwrite, verbose=verbose\n",
    "        )"
   ]
  },
  {
   "cell_type": "markdown",
   "id": "4b36c3d9-fc98-426b-a199-765c5b82186b",
   "metadata": {},
   "source": [
    "### Merge NetCDF files by year"
   ]
  },
  {
   "cell_type": "code",
   "execution_count": 8,
   "id": "87a77bda-02e9-48c5-94e5-253008556f3e",
   "metadata": {},
   "outputs": [
    {
     "name": "stdout",
     "output_type": "stream",
     "text": [
      ">>> export SKIP_SAME_TIME=1 ; cdo mergetime /home/skalevag/Documents/NRC_P8_water_energy_and_sediment/data/air_temp/grids/INCA/incal-hourly_T2M_oetztal_201105010000-201107010000.nc /home/skalevag/Documents/NRC_P8_water_energy_and_sediment/data/air_temp/grids/INCA/incal-hourly_T2M_oetztal_201111010000-201201010000.nc /home/skalevag/Documents/NRC_P8_water_energy_and_sediment/data/air_temp/grids/INCA/incal-hourly_T2M_oetztal_201109010000-201111010000.nc /home/skalevag/Documents/NRC_P8_water_energy_and_sediment/data/air_temp/grids/INCA/incal-hourly_T2M_oetztal_201107010000-201109010000.nc /home/skalevag/Documents/NRC_P8_water_energy_and_sediment/data/air_temp/grids/INCA/incal-hourly_T2M_oetztal_201103010000-201105010000.nc /home/skalevag/Documents/NRC_P8_water_energy_and_sediment/data/air_temp/grids/INCA/incal-hourly_T2M_oetztal_2011.nc\n",
      "\n",
      "Warning (cdfInqContents): Coordinates variable lambert_conformal_conic can't be assigned!\n",
      "Warning (cdfInqContents): Coordinates variable lambert_conformal_conic can't be assigned!\n",
      "Warning (cdfInqContents): Coordinates variable lambert_conformal_conic can't be assigned!\n",
      "Warning (cdfInqContents): Coordinates variable lambert_conformal_conic can't be assigned!\n",
      "Warning (cdfInqContents): Coordinates variable lambert_conformal_conic can't be assigned!\n",
      "\n",
      "cdo    mergetime (Abort): Outputfile /home/skalevag/Documents/NRC_P8_water_energy_and_sediment/data/air_temp/grids/INCA/incal-hourly_T2M_oetztal_2011.nc already exists!\n",
      "\n",
      ">>> export SKIP_SAME_TIME=1 ; cdo mergetime /home/skalevag/Documents/NRC_P8_water_energy_and_sediment/data/air_temp/grids/INCA/incal-hourly_T2M_oetztal_201207010000-201209010000.nc /home/skalevag/Documents/NRC_P8_water_energy_and_sediment/data/air_temp/grids/INCA/incal-hourly_T2M_oetztal_201211010000-201301010000.nc /home/skalevag/Documents/NRC_P8_water_energy_and_sediment/data/air_temp/grids/INCA/incal-hourly_T2M_oetztal_201203010000-201205010000.nc /home/skalevag/Documents/NRC_P8_water_energy_and_sediment/data/air_temp/grids/INCA/incal-hourly_T2M_oetztal_201209010000-201211010000.nc /home/skalevag/Documents/NRC_P8_water_energy_and_sediment/data/air_temp/grids/INCA/incal-hourly_T2M_oetztal_201205010000-201207010000.nc /home/skalevag/Documents/NRC_P8_water_energy_and_sediment/data/air_temp/grids/INCA/incal-hourly_T2M_oetztal_201201010000-201203010000.nc /home/skalevag/Documents/NRC_P8_water_energy_and_sediment/data/air_temp/grids/INCA/incal-hourly_T2M_oetztal_2012.nc\n",
      "\n",
      "Warning (cdfInqContents): Coordinates variable lambert_conformal_conic can't be assigned!\n",
      "Warning (cdfInqContents): Coordinates variable lambert_conformal_conic can't be assigned!\n",
      "Warning (cdfInqContents): Coordinates variable lambert_conformal_conic can't be assigned!\n",
      "Warning (cdfInqContents): Coordinates variable lambert_conformal_conic can't be assigned!\n",
      "Warning (cdfInqContents): Coordinates variable lambert_conformal_conic can't be assigned!\n",
      "Warning (cdfInqContents): Coordinates variable lambert_conformal_conic can't be assigned!\n",
      "\n",
      "cdo    mergetime (Abort): Outputfile /home/skalevag/Documents/NRC_P8_water_energy_and_sediment/data/air_temp/grids/INCA/incal-hourly_T2M_oetztal_2012.nc already exists!\n",
      "\n",
      ">>> export SKIP_SAME_TIME=1 ; cdo mergetime /home/skalevag/Documents/NRC_P8_water_energy_and_sediment/data/air_temp/grids/INCA/incal-hourly_T2M_oetztal_201307010000-201309010000.nc /home/skalevag/Documents/NRC_P8_water_energy_and_sediment/data/air_temp/grids/INCA/incal-hourly_T2M_oetztal_201309010000-201311010000.nc /home/skalevag/Documents/NRC_P8_water_energy_and_sediment/data/air_temp/grids/INCA/incal-hourly_T2M_oetztal_201301010000-201303010000.nc /home/skalevag/Documents/NRC_P8_water_energy_and_sediment/data/air_temp/grids/INCA/incal-hourly_T2M_oetztal_201305010000-201307010000.nc /home/skalevag/Documents/NRC_P8_water_energy_and_sediment/data/air_temp/grids/INCA/incal-hourly_T2M_oetztal_201311010000-201401010000.nc /home/skalevag/Documents/NRC_P8_water_energy_and_sediment/data/air_temp/grids/INCA/incal-hourly_T2M_oetztal_201303010000-201305010000.nc /home/skalevag/Documents/NRC_P8_water_energy_and_sediment/data/air_temp/grids/INCA/incal-hourly_T2M_oetztal_2013.nc\n",
      "\n",
      "Warning (cdfInqContents): Coordinates variable lambert_conformal_conic can't be assigned!\n",
      "Warning (cdfInqContents): Coordinates variable lambert_conformal_conic can't be assigned!\n",
      "Warning (cdfInqContents): Coordinates variable lambert_conformal_conic can't be assigned!\n",
      "Warning (cdfInqContents): Coordinates variable lambert_conformal_conic can't be assigned!\n",
      "Warning (cdfInqContents): Coordinates variable lambert_conformal_conic can't be assigned!\n",
      "Warning (cdfInqContents): Coordinates variable lambert_conformal_conic can't be assigned!\n",
      "\n",
      "cdo    mergetime (Abort): Outputfile /home/skalevag/Documents/NRC_P8_water_energy_and_sediment/data/air_temp/grids/INCA/incal-hourly_T2M_oetztal_2013.nc already exists!\n",
      "\n",
      ">>> export SKIP_SAME_TIME=1 ; cdo mergetime /home/skalevag/Documents/NRC_P8_water_energy_and_sediment/data/air_temp/grids/INCA/incal-hourly_T2M_oetztal_201405010000-201407010000.nc /home/skalevag/Documents/NRC_P8_water_energy_and_sediment/data/air_temp/grids/INCA/incal-hourly_T2M_oetztal_201401010000-201403010000.nc /home/skalevag/Documents/NRC_P8_water_energy_and_sediment/data/air_temp/grids/INCA/incal-hourly_T2M_oetztal_201409010000-201411010000.nc /home/skalevag/Documents/NRC_P8_water_energy_and_sediment/data/air_temp/grids/INCA/incal-hourly_T2M_oetztal_201411010000-201501010000.nc /home/skalevag/Documents/NRC_P8_water_energy_and_sediment/data/air_temp/grids/INCA/incal-hourly_T2M_oetztal_201403010000-201405010000.nc /home/skalevag/Documents/NRC_P8_water_energy_and_sediment/data/air_temp/grids/INCA/incal-hourly_T2M_oetztal_201407010000-201409010000.nc /home/skalevag/Documents/NRC_P8_water_energy_and_sediment/data/air_temp/grids/INCA/incal-hourly_T2M_oetztal_2014.nc\n",
      "\n",
      "Warning (cdfInqContents): Coordinates variable lambert_conformal_conic can't be assigned!\n",
      "Warning (cdfInqContents): Coordinates variable lambert_conformal_conic can't be assigned!\n",
      "Warning (cdfInqContents): Coordinates variable lambert_conformal_conic can't be assigned!\n",
      "Warning (cdfInqContents): Coordinates variable lambert_conformal_conic can't be assigned!\n",
      "Warning (cdfInqContents): Coordinates variable lambert_conformal_conic can't be assigned!\n",
      "Warning (cdfInqContents): Coordinates variable lambert_conformal_conic can't be assigned!\n",
      "\n",
      "cdo    mergetime (Abort): Outputfile /home/skalevag/Documents/NRC_P8_water_energy_and_sediment/data/air_temp/grids/INCA/incal-hourly_T2M_oetztal_2014.nc already exists!\n",
      "\n",
      ">>> export SKIP_SAME_TIME=1 ; cdo mergetime /home/skalevag/Documents/NRC_P8_water_energy_and_sediment/data/air_temp/grids/INCA/incal-hourly_T2M_oetztal_201501010000-201503010000.nc /home/skalevag/Documents/NRC_P8_water_energy_and_sediment/data/air_temp/grids/INCA/incal-hourly_T2M_oetztal_201505010000-201507010000.nc /home/skalevag/Documents/NRC_P8_water_energy_and_sediment/data/air_temp/grids/INCA/incal-hourly_T2M_oetztal_201503010000-201505010000.nc /home/skalevag/Documents/NRC_P8_water_energy_and_sediment/data/air_temp/grids/INCA/incal-hourly_T2M_oetztal_201507010000-201509010000.nc /home/skalevag/Documents/NRC_P8_water_energy_and_sediment/data/air_temp/grids/INCA/incal-hourly_T2M_oetztal_201509010000-201511010000.nc /home/skalevag/Documents/NRC_P8_water_energy_and_sediment/data/air_temp/grids/INCA/incal-hourly_T2M_oetztal_201511010000-201601010000.nc /home/skalevag/Documents/NRC_P8_water_energy_and_sediment/data/air_temp/grids/INCA/incal-hourly_T2M_oetztal_2015.nc\n",
      "\n",
      "Warning (cdfInqContents): Coordinates variable lambert_conformal_conic can't be assigned!\n",
      "Warning (cdfInqContents): Coordinates variable lambert_conformal_conic can't be assigned!\n",
      "Warning (cdfInqContents): Coordinates variable lambert_conformal_conic can't be assigned!\n",
      "Warning (cdfInqContents): Coordinates variable lambert_conformal_conic can't be assigned!\n",
      "Warning (cdfInqContents): Coordinates variable lambert_conformal_conic can't be assigned!\n",
      "Warning (cdfInqContents): Coordinates variable lambert_conformal_conic can't be assigned!\n",
      "\n",
      "cdo    mergetime (Abort): Outputfile /home/skalevag/Documents/NRC_P8_water_energy_and_sediment/data/air_temp/grids/INCA/incal-hourly_T2M_oetztal_2015.nc already exists!\n",
      "\n",
      ">>> export SKIP_SAME_TIME=1 ; cdo mergetime /home/skalevag/Documents/NRC_P8_water_energy_and_sediment/data/air_temp/grids/INCA/incal-hourly_T2M_oetztal_201611010000-201701010000.nc /home/skalevag/Documents/NRC_P8_water_energy_and_sediment/data/air_temp/grids/INCA/incal-hourly_T2M_oetztal_201607010000-201609010000.nc /home/skalevag/Documents/NRC_P8_water_energy_and_sediment/data/air_temp/grids/INCA/incal-hourly_T2M_oetztal_201603010000-201605010000.nc /home/skalevag/Documents/NRC_P8_water_energy_and_sediment/data/air_temp/grids/INCA/incal-hourly_T2M_oetztal_201609010000-201611010000.nc /home/skalevag/Documents/NRC_P8_water_energy_and_sediment/data/air_temp/grids/INCA/incal-hourly_T2M_oetztal_201605010000-201607010000.nc /home/skalevag/Documents/NRC_P8_water_energy_and_sediment/data/air_temp/grids/INCA/incal-hourly_T2M_oetztal_201601010000-201603010000.nc /home/skalevag/Documents/NRC_P8_water_energy_and_sediment/data/air_temp/grids/INCA/incal-hourly_T2M_oetztal_2016.nc\n",
      "\n",
      "Warning (cdfInqContents): Coordinates variable lambert_conformal_conic can't be assigned!\n",
      "Warning (cdfInqContents): Coordinates variable lambert_conformal_conic can't be assigned!\n",
      "Warning (cdfInqContents): Coordinates variable lambert_conformal_conic can't be assigned!\n",
      "Warning (cdfInqContents): Coordinates variable lambert_conformal_conic can't be assigned!\n",
      "Warning (cdfInqContents): Coordinates variable lambert_conformal_conic can't be assigned!\n",
      "Warning (cdfInqContents): Coordinates variable lambert_conformal_conic can't be assigned!\n",
      "\n",
      "cdo    mergetime (Abort): Outputfile /home/skalevag/Documents/NRC_P8_water_energy_and_sediment/data/air_temp/grids/INCA/incal-hourly_T2M_oetztal_2016.nc already exists!\n",
      "\n",
      ">>> export SKIP_SAME_TIME=1 ; cdo mergetime /home/skalevag/Documents/NRC_P8_water_energy_and_sediment/data/air_temp/grids/INCA/incal-hourly_T2M_oetztal_201707010000-201709010000.nc /home/skalevag/Documents/NRC_P8_water_energy_and_sediment/data/air_temp/grids/INCA/incal-hourly_T2M_oetztal_201709010000-201711010000.nc /home/skalevag/Documents/NRC_P8_water_energy_and_sediment/data/air_temp/grids/INCA/incal-hourly_T2M_oetztal_201705010000-201707010000.nc /home/skalevag/Documents/NRC_P8_water_energy_and_sediment/data/air_temp/grids/INCA/incal-hourly_T2M_oetztal_201711010000-201801010000.nc /home/skalevag/Documents/NRC_P8_water_energy_and_sediment/data/air_temp/grids/INCA/incal-hourly_T2M_oetztal_201701010000-201703010000.nc /home/skalevag/Documents/NRC_P8_water_energy_and_sediment/data/air_temp/grids/INCA/incal-hourly_T2M_oetztal_201703010000-201705010000.nc /home/skalevag/Documents/NRC_P8_water_energy_and_sediment/data/air_temp/grids/INCA/incal-hourly_T2M_oetztal_2017.nc\n",
      "\n",
      "Warning (cdfInqContents): Coordinates variable lambert_conformal_conic can't be assigned!\n",
      "Warning (cdfInqContents): Coordinates variable lambert_conformal_conic can't be assigned!\n",
      "Warning (cdfInqContents): Coordinates variable lambert_conformal_conic can't be assigned!\n",
      "Warning (cdfInqContents): Coordinates variable lambert_conformal_conic can't be assigned!\n",
      "Warning (cdfInqContents): Coordinates variable lambert_conformal_conic can't be assigned!\n",
      "Warning (cdfInqContents): Coordinates variable lambert_conformal_conic can't be assigned!\n",
      "\n",
      "cdo    mergetime (Abort): Outputfile /home/skalevag/Documents/NRC_P8_water_energy_and_sediment/data/air_temp/grids/INCA/incal-hourly_T2M_oetztal_2017.nc already exists!\n",
      "\n",
      ">>> export SKIP_SAME_TIME=1 ; cdo mergetime /home/skalevag/Documents/NRC_P8_water_energy_and_sediment/data/air_temp/grids/INCA/incal-hourly_T2M_oetztal_201811010000-201901010000.nc /home/skalevag/Documents/NRC_P8_water_energy_and_sediment/data/air_temp/grids/INCA/incal-hourly_T2M_oetztal_201809010000-201811010000.nc /home/skalevag/Documents/NRC_P8_water_energy_and_sediment/data/air_temp/grids/INCA/incal-hourly_T2M_oetztal_201801010000-201803010000.nc /home/skalevag/Documents/NRC_P8_water_energy_and_sediment/data/air_temp/grids/INCA/incal-hourly_T2M_oetztal_201803010000-201805010000.nc /home/skalevag/Documents/NRC_P8_water_energy_and_sediment/data/air_temp/grids/INCA/incal-hourly_T2M_oetztal_201805010000-201807010000.nc /home/skalevag/Documents/NRC_P8_water_energy_and_sediment/data/air_temp/grids/INCA/incal-hourly_T2M_oetztal_201807010000-201809010000.nc /home/skalevag/Documents/NRC_P8_water_energy_and_sediment/data/air_temp/grids/INCA/incal-hourly_T2M_oetztal_2018.nc\n",
      "\n",
      "Warning (cdfInqContents): Coordinates variable lambert_conformal_conic can't be assigned!\n",
      "Warning (cdfInqContents): Coordinates variable lambert_conformal_conic can't be assigned!\n",
      "Warning (cdfInqContents): Coordinates variable lambert_conformal_conic can't be assigned!\n",
      "Warning (cdfInqContents): Coordinates variable lambert_conformal_conic can't be assigned!\n",
      "Warning (cdfInqContents): Coordinates variable lambert_conformal_conic can't be assigned!\n",
      "Warning (cdfInqContents): Coordinates variable lambert_conformal_conic can't be assigned!\n",
      "\n",
      "cdo    mergetime (Abort): Outputfile /home/skalevag/Documents/NRC_P8_water_energy_and_sediment/data/air_temp/grids/INCA/incal-hourly_T2M_oetztal_2018.nc already exists!\n",
      "\n",
      ">>> export SKIP_SAME_TIME=1 ; cdo mergetime /home/skalevag/Documents/NRC_P8_water_energy_and_sediment/data/air_temp/grids/INCA/incal-hourly_T2M_oetztal_201903010000-201905010000.nc /home/skalevag/Documents/NRC_P8_water_energy_and_sediment/data/air_temp/grids/INCA/incal-hourly_T2M_oetztal_201905010000-201907010000.nc /home/skalevag/Documents/NRC_P8_water_energy_and_sediment/data/air_temp/grids/INCA/incal-hourly_T2M_oetztal_201907010000-201909010000.nc /home/skalevag/Documents/NRC_P8_water_energy_and_sediment/data/air_temp/grids/INCA/incal-hourly_T2M_oetztal_201901010000-201903010000.nc /home/skalevag/Documents/NRC_P8_water_energy_and_sediment/data/air_temp/grids/INCA/incal-hourly_T2M_oetztal_201909010000-201911010000.nc /home/skalevag/Documents/NRC_P8_water_energy_and_sediment/data/air_temp/grids/INCA/incal-hourly_T2M_oetztal_201911010000-202001010000.nc /home/skalevag/Documents/NRC_P8_water_energy_and_sediment/data/air_temp/grids/INCA/incal-hourly_T2M_oetztal_2019.nc\n",
      "\n",
      "Warning (cdfInqContents): Coordinates variable lambert_conformal_conic can't be assigned!\n",
      "Warning (cdfInqContents): Coordinates variable lambert_conformal_conic can't be assigned!\n",
      "Warning (cdfInqContents): Coordinates variable lambert_conformal_conic can't be assigned!\n",
      "Warning (cdfInqContents): Coordinates variable lambert_conformal_conic can't be assigned!\n",
      "Warning (cdfInqContents): Coordinates variable lambert_conformal_conic can't be assigned!\n",
      "Warning (cdfInqContents): Coordinates variable lambert_conformal_conic can't be assigned!\n",
      "\n",
      "cdo    mergetime (Abort): Outputfile /home/skalevag/Documents/NRC_P8_water_energy_and_sediment/data/air_temp/grids/INCA/incal-hourly_T2M_oetztal_2019.nc already exists!\n",
      "\n",
      ">>> export SKIP_SAME_TIME=1 ; cdo mergetime /home/skalevag/Documents/NRC_P8_water_energy_and_sediment/data/air_temp/grids/INCA/incal-hourly_T2M_oetztal_202003010000-202005010000.nc /home/skalevag/Documents/NRC_P8_water_energy_and_sediment/data/air_temp/grids/INCA/incal-hourly_T2M_oetztal_202005010000-202007010000.nc /home/skalevag/Documents/NRC_P8_water_energy_and_sediment/data/air_temp/grids/INCA/incal-hourly_T2M_oetztal_202001010000-202003010000.nc /home/skalevag/Documents/NRC_P8_water_energy_and_sediment/data/air_temp/grids/INCA/incal-hourly_T2M_oetztal_202007010000-202009010000.nc /home/skalevag/Documents/NRC_P8_water_energy_and_sediment/data/air_temp/grids/INCA/incal-hourly_T2M_oetztal_202011010000-202101010000.nc /home/skalevag/Documents/NRC_P8_water_energy_and_sediment/data/air_temp/grids/INCA/incal-hourly_T2M_oetztal_202009010000-202011010000.nc /home/skalevag/Documents/NRC_P8_water_energy_and_sediment/data/air_temp/grids/INCA/incal-hourly_T2M_oetztal_2020.nc\n",
      "\n",
      "Warning (cdfInqContents): Coordinates variable lambert_conformal_conic can't be assigned!\n",
      "Warning (cdfInqContents): Coordinates variable lambert_conformal_conic can't be assigned!\n",
      "Warning (cdfInqContents): Coordinates variable lambert_conformal_conic can't be assigned!\n",
      "Warning (cdfInqContents): Coordinates variable lambert_conformal_conic can't be assigned!\n",
      "Warning (cdfInqContents): Coordinates variable lambert_conformal_conic can't be assigned!\n",
      "Warning (cdfInqContents): Coordinates variable lambert_conformal_conic can't be assigned!\n",
      "\n",
      "cdo    mergetime (Abort): Outputfile /home/skalevag/Documents/NRC_P8_water_energy_and_sediment/data/air_temp/grids/INCA/incal-hourly_T2M_oetztal_2020.nc already exists!\n",
      "\n",
      ">>> export SKIP_SAME_TIME=1 ; cdo mergetime /home/skalevag/Documents/NRC_P8_water_energy_and_sediment/data/air_temp/grids/INCA/incal-hourly_T2M_oetztal_202109010000-202111010000.nc /home/skalevag/Documents/NRC_P8_water_energy_and_sediment/data/air_temp/grids/INCA/incal-hourly_T2M_oetztal_202101010000-202103010000.nc /home/skalevag/Documents/NRC_P8_water_energy_and_sediment/data/air_temp/grids/INCA/incal-hourly_T2M_oetztal_202105010000-202107010000.nc /home/skalevag/Documents/NRC_P8_water_energy_and_sediment/data/air_temp/grids/INCA/incal-hourly_T2M_oetztal_202107010000-202109010000.nc /home/skalevag/Documents/NRC_P8_water_energy_and_sediment/data/air_temp/grids/INCA/incal-hourly_T2M_oetztal_202111010000-202201010000.nc /home/skalevag/Documents/NRC_P8_water_energy_and_sediment/data/air_temp/grids/INCA/incal-hourly_T2M_oetztal_202103010000-202105010000.nc /home/skalevag/Documents/NRC_P8_water_energy_and_sediment/data/air_temp/grids/INCA/incal-hourly_T2M_oetztal_2021.nc\n",
      "\n",
      "Warning (cdfInqContents): Coordinates variable lambert_conformal_conic can't be assigned!\n",
      "Warning (cdfInqContents): Coordinates variable lambert_conformal_conic can't be assigned!\n",
      "Warning (cdfInqContents): Coordinates variable lambert_conformal_conic can't be assigned!\n",
      "Warning (cdfInqContents): Coordinates variable lambert_conformal_conic can't be assigned!\n",
      "Warning (cdfInqContents): Coordinates variable lambert_conformal_conic can't be assigned!\n",
      "Warning (cdfInqContents): Coordinates variable lambert_conformal_conic can't be assigned!\n",
      "\n",
      "cdo    mergetime (Abort): Outputfile /home/skalevag/Documents/NRC_P8_water_energy_and_sediment/data/air_temp/grids/INCA/incal-hourly_T2M_oetztal_2021.nc already exists!\n",
      "\n",
      ">>> export SKIP_SAME_TIME=1 ; cdo mergetime /home/skalevag/Documents/NRC_P8_water_energy_and_sediment/data/air_temp/grids/INCA/incal-hourly_T2M_oetztal_202205010000-202205241900.nc /home/skalevag/Documents/NRC_P8_water_energy_and_sediment/data/air_temp/grids/INCA/incal-hourly_T2M_oetztal_202203010000-202205010000.nc /home/skalevag/Documents/NRC_P8_water_energy_and_sediment/data/air_temp/grids/INCA/incal-hourly_T2M_oetztal_202201010000-202203010000.nc /home/skalevag/Documents/NRC_P8_water_energy_and_sediment/data/air_temp/grids/INCA/incal-hourly_T2M_oetztal_2022.nc\n",
      "\n",
      "Warning (cdfInqContents): Coordinates variable lambert_conformal_conic can't be assigned!\n",
      "Warning (cdfInqContents): Coordinates variable lambert_conformal_conic can't be assigned!\n",
      "Warning (cdfInqContents): Coordinates variable lambert_conformal_conic can't be assigned!\n",
      "cdo    mergetime: Timestep 1417 in stream 4 ( 2022-03-01 00:00:00) already exists, skipped!\n",
      "cdo    mergetime: Timestep 1465 in stream 3 ( 2022-05-01 00:00:00) already exists, skipped!\n",
      "cdo    mergetime: Processed 3 variables over 3451 timesteps [44.26s 75MB].\n",
      "\n"
     ]
    }
   ],
   "source": [
    "for year in range(startYear, endYear + 1):\n",
    "    data_download.mergeNetCDFfilesByYear(\n",
    "        year, ODIR, overwrite=overwriteMerge, verbose=verbose\n",
    "    )"
   ]
  },
  {
   "cell_type": "markdown",
   "id": "3887265d-8367-4914-ba1b-f8842d077d7d",
   "metadata": {},
   "source": [
    "## Point location"
   ]
  },
  {
   "cell_type": "code",
   "execution_count": 9,
   "id": "95af994d-ae59-482e-8b96-46bec73818e6",
   "metadata": {},
   "outputs": [
    {
     "name": "stdout",
     "output_type": "stream",
     "text": [
      "ZAMGdatahubQuery for download of INCA_POINT with parameters GL,P0,RH2M,RR,T2M,TD2M,UU,VV. \n",
      "params: ['GL', 'P0', 'RH2M', 'RR', 'T2M', 'TD2M', 'UU', 'VV']\n",
      "dataset: DatasetType.INCA_POINT\n",
      "location_label: obergurgl\n",
      "output_filename_head: inca-point\n",
      "output_format: csv\n",
      "lat: 46.8703\n",
      "lon: 11.0269\n"
     ]
    }
   ],
   "source": [
    "# select all the available INCA parameters\n",
    "params = [\"GL\", \"P0\", \"RH2M\", \"RR\", \"T2M\", \"TD2M\", \"UU\", \"VV\"]\n",
    "myQuery = query.rasterQuery(\n",
    "    query.DatasetType.INCA_POINT, params, point_location=loc_obergurgl\n",
    ")\n",
    "\n",
    "print(myQuery)"
   ]
  },
  {
   "cell_type": "code",
   "execution_count": 10,
   "id": "6bad0d9a-da70-4408-bd60-03dd7e92ee6b",
   "metadata": {},
   "outputs": [
    {
     "name": "stdout",
     "output_type": "stream",
     "text": [
      "https://dataset.api.hub.zamg.ac.at/v1/timeseries/historical/inca-v1-1h-1km?anonymous=true&parameters=GL,P0,RH2M,RR,T2M,TD2M,UU,VV&start=2011-01-01T00:00&end=2022-05-01T00:00&lon=11.0269&lat=46.8703&output_format=csv\n"
     ]
    }
   ],
   "source": [
    "start = \"2011-01-01 00:00\"\n",
    "end = \"2022-05-01 00:00\"\n",
    "url = data_download.makeURL(myQuery, start, end)\n",
    "print(url)"
   ]
  },
  {
   "cell_type": "code",
   "execution_count": null,
   "id": "1533d76e-1a0b-466b-af04-7e1ca6532051",
   "metadata": {},
   "outputs": [],
   "source": []
  }
 ],
 "metadata": {
  "kernelspec": {
   "display_name": "Python 3 (ipykernel)",
   "language": "python",
   "name": "python3"
  },
  "language_info": {
   "codemirror_mode": {
    "name": "ipython",
    "version": 3
   },
   "file_extension": ".py",
   "mimetype": "text/x-python",
   "name": "python",
   "nbconvert_exporter": "python",
   "pygments_lexer": "ipython3",
   "version": "3.8.12"
  }
 },
 "nbformat": 4,
 "nbformat_minor": 5
}
