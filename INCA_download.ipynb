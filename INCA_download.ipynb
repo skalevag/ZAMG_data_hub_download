{
 "cells": [
  {
   "cell_type": "markdown",
   "id": "66ac5bdc-6f44-4e13-89b1-a1966f344841",
   "metadata": {
    "tags": []
   },
   "source": [
    "# Introduction\n",
    "\n",
    "Example script for downloading INCA data.\n",
    "\n",
    "**Website only allows for 2-3 months worth of data to be downloaded at a time, depending on the size of the lat-lon box.**\n"
   ]
  },
  {
   "cell_type": "markdown",
   "id": "d2e92825-eeee-42e6-a6b3-d16a6ae00bf9",
   "metadata": {},
   "source": [
    "# Setup"
   ]
  },
  {
   "cell_type": "markdown",
   "id": "34f7871f-92e1-4745-863a-e072b8c2dc09",
   "metadata": {},
   "source": [
    "## Modules"
   ]
  },
  {
   "cell_type": "code",
   "execution_count": 2,
   "id": "209b25a0-a2b2-4d69-8c9a-9d913858efbc",
   "metadata": {},
   "outputs": [],
   "source": [
    "from pathlib import Path\n",
    "\n",
    "from ZAMGdatahub import data_download, query, utils"
   ]
  },
  {
   "cell_type": "markdown",
   "id": "abe9fec4-ef71-44e7-869f-bfccdef0a16b",
   "metadata": {},
   "source": [
    "## Global variables"
   ]
  },
  {
   "cell_type": "code",
   "execution_count": 3,
   "id": "bbc96da3-8551-4830-93a8-2e5ae8bed9b7",
   "metadata": {},
   "outputs": [],
   "source": [
    "ODIR = (\"/home/skalevag/Documents/NRC_P8_water_energy_and_sediment/data/air_temp/grids/INCA\")\n",
    "#ODIR = (\"/home/skalevag/Documents/NRC_P8_water_energy_and_sediment/data/precip/grids/INCA_15min_test\")\n",
    "# ODIR = \"/home/skalevag/Documents/NRC_P8_water_energy_and_sediment/data/radiation/grids/INCA\"\n",
    "ODIR = Path(ODIR)\n",
    "\n",
    "if not ODIR.is_dir():\n",
    "    ODIR.mkdir(parents=True)\n",
    "\n",
    "overwrite = False\n",
    "overwriteMerge = False\n",
    "verbose = True\n",
    "\n",
    "startYear = 2011  # inclusive\n",
    "endYear = 2022  # inclusive\n",
    "\n",
    "datetimeformat = \"%Y-%m-%d %H:%M\""
   ]
  },
  {
   "cell_type": "markdown",
   "id": "198bd63e-822b-459b-9966-a01d6a6d9757",
   "metadata": {},
   "source": [
    "## Dataset variables"
   ]
  },
  {
   "cell_type": "code",
   "execution_count": 4,
   "id": "f22ce615-1544-46f8-aa41-c0f5f28a24f3",
   "metadata": {},
   "outputs": [
    {
     "data": {
      "text/plain": [
       "[{'name': 'GL',\n",
       "  'long_name': 'global radiation',\n",
       "  'desc': 'global radiation',\n",
       "  'unit': 'W m-2'},\n",
       " {'name': 'P0',\n",
       "  'long_name': 'mean sea level pressure',\n",
       "  'desc': 'mean sea level pressure',\n",
       "  'unit': 'Pa'},\n",
       " {'name': 'RH2M',\n",
       "  'long_name': 'relative humidity',\n",
       "  'desc': 'relative humidity 2m above ground',\n",
       "  'unit': 'percent'},\n",
       " {'name': 'RR',\n",
       "  'long_name': '1-hour precipitation sum',\n",
       "  'desc': '1-hour precipitation sum',\n",
       "  'unit': 'kg m-2'},\n",
       " {'name': 'T2M',\n",
       "  'long_name': 'air temperature',\n",
       "  'desc': 'air temperature 2m above ground',\n",
       "  'unit': 'degree_Celsius'},\n",
       " {'name': 'TD2M',\n",
       "  'long_name': 'dew point temperature',\n",
       "  'desc': 'dew point temperature 2m above ground',\n",
       "  'unit': 'degree_Celsius'},\n",
       " {'name': 'UU',\n",
       "  'long_name': 'wind speed in eastward direction',\n",
       "  'desc': 'wind speed in eastward direction',\n",
       "  'unit': 'm s-1'},\n",
       " {'name': 'VV',\n",
       "  'long_name': 'wind speed in northward direction',\n",
       "  'desc': 'wind speed in northward direction',\n",
       "  'unit': 'm s-1'}]"
      ]
     },
     "execution_count": 4,
     "metadata": {},
     "output_type": "execute_result"
    }
   ],
   "source": [
    "query.DatasetType.INCA.getMetadata()[\"parameters\"]"
   ]
  },
  {
   "cell_type": "code",
   "execution_count": 5,
   "id": "bdfcc7a5-1c6c-49de-b5ca-1f5c885b0dd9",
   "metadata": {},
   "outputs": [
    {
     "data": {
      "text/plain": [
       "[{'name': 'GL',\n",
       "  'long_name': 'global radiation',\n",
       "  'desc': 'global radiation',\n",
       "  'unit': 'W m-2'},\n",
       " {'name': 'P0',\n",
       "  'long_name': 'mean sea level pressure',\n",
       "  'desc': 'mean sea level pressure',\n",
       "  'unit': 'Pa'},\n",
       " {'name': 'RH2M',\n",
       "  'long_name': 'relative humidity',\n",
       "  'desc': 'relative humidity 2m above ground',\n",
       "  'unit': 'percent'},\n",
       " {'name': 'RR',\n",
       "  'long_name': '1-hour precipitation sum',\n",
       "  'desc': '1-hour precipitation sum',\n",
       "  'unit': 'kg m-2'},\n",
       " {'name': 'T2M',\n",
       "  'long_name': 'air temperature',\n",
       "  'desc': 'air temperature 2m above ground',\n",
       "  'unit': 'degree_Celsius'},\n",
       " {'name': 'TD2M',\n",
       "  'long_name': 'dew point temperature',\n",
       "  'desc': 'dew point temperature 2m above ground',\n",
       "  'unit': 'degree_Celsius'},\n",
       " {'name': 'UU',\n",
       "  'long_name': 'wind speed in eastward direction',\n",
       "  'desc': 'wind speed in eastward direction',\n",
       "  'unit': 'm s-1'},\n",
       " {'name': 'VV',\n",
       "  'long_name': 'wind speed in northward direction',\n",
       "  'desc': 'wind speed in northward direction',\n",
       "  'unit': 'm s-1'}]"
      ]
     },
     "execution_count": 5,
     "metadata": {},
     "output_type": "execute_result"
    }
   ],
   "source": [
    "query.DatasetType.INCA_POINT.getMetadata()[\"parameters\"]"
   ]
  },
  {
   "cell_type": "code",
   "execution_count": 6,
   "id": "ff384a8f-a6dc-42e1-92f6-c80bf161aeb5",
   "metadata": {},
   "outputs": [
    {
     "name": "stdout",
     "output_type": "stream",
     "text": [
      "Failed to get JSON from URL. Maybe you need to log in? Try visiting the website:\n",
      "https://dataset.api.hub.zamg.ac.at/v1/grid/historical/inca-v1-15min-1km/metadata\n"
     ]
    },
    {
     "ename": "TypeError",
     "evalue": "'NoneType' object is not subscriptable",
     "output_type": "error",
     "traceback": [
      "\u001b[0;31m---------------------------------------------------------------------------\u001b[0m",
      "\u001b[0;31mTypeError\u001b[0m                                 Traceback (most recent call last)",
      "Input \u001b[0;32mIn [6]\u001b[0m, in \u001b[0;36m<cell line: 1>\u001b[0;34m()\u001b[0m\n\u001b[0;32m----> 1\u001b[0m \u001b[43mquery\u001b[49m\u001b[38;5;241;43m.\u001b[39;49m\u001b[43mDatasetType\u001b[49m\u001b[38;5;241;43m.\u001b[39;49m\u001b[43mINCA_15min\u001b[49m\u001b[38;5;241;43m.\u001b[39;49m\u001b[43mgetMetadata\u001b[49m\u001b[43m(\u001b[49m\u001b[43m)\u001b[49m\u001b[43m[\u001b[49m\u001b[38;5;124;43m\"\u001b[39;49m\u001b[38;5;124;43mparameters\u001b[39;49m\u001b[38;5;124;43m\"\u001b[39;49m\u001b[43m]\u001b[49m\n",
      "\u001b[0;31mTypeError\u001b[0m: 'NoneType' object is not subscriptable"
     ]
    }
   ],
   "source": [
    "query.DatasetType.INCA_15min.getMetadata()[\"parameters\"]"
   ]
  },
  {
   "cell_type": "code",
   "execution_count": 7,
   "id": "f5699b36-30a6-4ec1-ab8d-8c4230e35a68",
   "metadata": {},
   "outputs": [],
   "source": [
    "# variable\n",
    "#params = \"PT\"  # precipitation type\n",
    "#params = \"RR\"  # precipitation sum\n",
    "params = \"T2M\""
   ]
  },
  {
   "cell_type": "markdown",
   "id": "3d31b078-a34a-4bd3-8354-e878551add33",
   "metadata": {},
   "source": [
    "# Query"
   ]
  },
  {
   "cell_type": "code",
   "execution_count": 8,
   "id": "3c0bf6a5-091c-4625-b668-4221b559b991",
   "metadata": {},
   "outputs": [
    {
     "name": "stdout",
     "output_type": "stream",
     "text": [
      "LOCATION: oetztal\n",
      "COORDINATES: latitude: 46.6 ... 47.3 ; longitude 10.5 ... 11.4\n",
      "\n",
      "LOCATION: obergurgl\n",
      "COORDINATES: latitude: 46.8703 ; longitude 11.0269\n",
      "\n",
      "DatasetType.INCA\n"
     ]
    },
    {
     "data": {
      "text/plain": [
       "{'title': 'INCA analysis - large domain',\n",
       " 'parameters': [{'name': 'GL',\n",
       "   'long_name': 'global radiation',\n",
       "   'desc': 'global radiation',\n",
       "   'unit': 'W m-2'},\n",
       "  {'name': 'P0',\n",
       "   'long_name': 'mean sea level pressure',\n",
       "   'desc': 'mean sea level pressure',\n",
       "   'unit': 'Pa'},\n",
       "  {'name': 'RH2M',\n",
       "   'long_name': 'relative humidity',\n",
       "   'desc': 'relative humidity 2m above ground',\n",
       "   'unit': 'percent'},\n",
       "  {'name': 'RR',\n",
       "   'long_name': '1-hour precipitation sum',\n",
       "   'desc': '1-hour precipitation sum',\n",
       "   'unit': 'kg m-2'},\n",
       "  {'name': 'T2M',\n",
       "   'long_name': 'air temperature',\n",
       "   'desc': 'air temperature 2m above ground',\n",
       "   'unit': 'degree_Celsius'},\n",
       "  {'name': 'TD2M',\n",
       "   'long_name': 'dew point temperature',\n",
       "   'desc': 'dew point temperature 2m above ground',\n",
       "   'unit': 'degree_Celsius'},\n",
       "  {'name': 'UU',\n",
       "   'long_name': 'wind speed in eastward direction',\n",
       "   'desc': 'wind speed in eastward direction',\n",
       "   'unit': 'm s-1'},\n",
       "  {'name': 'VV',\n",
       "   'long_name': 'wind speed in northward direction',\n",
       "   'desc': 'wind speed in northward direction',\n",
       "   'unit': 'm s-1'}],\n",
       " 'frequency': '1H',\n",
       " 'type': 'grid',\n",
       " 'mode': 'historical',\n",
       " 'response_formats': ['geojson', 'netcdf'],\n",
       " 'start_time': '2011-03-15T00:00:00+00:00',\n",
       " 'end_time': '2022-09-23T14:00:00+00:00',\n",
       " 'bbox': [45.77222010581118,\n",
       "  8.098133748352293,\n",
       "  49.478175684609575,\n",
       "  17.742270413233744],\n",
       " 'spatial_resolution_m': 1000}"
      ]
     },
     "execution_count": 8,
     "metadata": {},
     "output_type": "execute_result"
    }
   ],
   "source": [
    "# gridbox for Ötztal area\n",
    "gridbox_oetz = query.LatLonBox(\n",
    "    label=\"oetztal\", lat_min=46.6, lat_max=47.3, lon_min=10.5, lon_max=11.4\n",
    ")\n",
    "print(gridbox_oetz)\n",
    "print()\n",
    "\n",
    "# point location\n",
    "loc_obergurgl = query.LatLonLocation(\"obergurgl\", 46.8703, 11.0269)\n",
    "print(loc_obergurgl)\n",
    "print()\n",
    "\n",
    "# dataset type\n",
    "dataset = query.DatasetType.INCA\n",
    "print(dataset)\n",
    "\n",
    "# dataset metadata\n",
    "dataset.getMetadata()"
   ]
  },
  {
   "cell_type": "markdown",
   "id": "d9497d74-20a8-4683-841a-08e0cbc14233",
   "metadata": {},
   "source": [
    "## Make query"
   ]
  },
  {
   "cell_type": "code",
   "execution_count": 9,
   "id": "bab65e3e-bb04-4ba3-9eaa-8591a3c7df5b",
   "metadata": {},
   "outputs": [
    {
     "name": "stdout",
     "output_type": "stream",
     "text": [
      "ZAMGdatahubQuery for download of INCA with parameters T2M. \n",
      "params: ['T2M']\n",
      "dataset: DatasetType.INCA\n",
      "location_label: oetztal\n",
      "output_filename_head: incal-hourly\n",
      "output_format: netcdf\n",
      "lat_min: 46.6\n",
      "lat_max: 47.3\n",
      "lon_min: 10.5\n",
      "lon_max: 11.4\n"
     ]
    }
   ],
   "source": [
    "myQuery = query.RasterQuery(dataset, params, gridbox=gridbox_oetz)\n",
    "\n",
    "print(myQuery)"
   ]
  },
  {
   "cell_type": "markdown",
   "id": "32a958e9-d5bc-400b-a377-bb6d4c521353",
   "metadata": {
    "tags": []
   },
   "source": [
    "## Save/Load query to/from file"
   ]
  },
  {
   "cell_type": "code",
   "execution_count": 10,
   "id": "bc7c1327-d87a-4ea0-9497-548d50e38c5f",
   "metadata": {},
   "outputs": [
    {
     "name": "stdout",
     "output_type": "stream",
     "text": [
      "Query saved to \"./INCA_query_oetztal.txt\"\n"
     ]
    }
   ],
   "source": [
    "myQuery.saveQuery()"
   ]
  },
  {
   "cell_type": "code",
   "execution_count": 11,
   "id": "c48a81b2-396c-4136-85bf-6cf36e9fadf1",
   "metadata": {},
   "outputs": [
    {
     "name": "stdout",
     "output_type": "stream",
     "text": [
      "ZAMGdatahubQuery for download of INCA_15min with parameters PT. \n",
      "params: ['PT']\n",
      "dataset: DatasetType.INCA_15min\n",
      "location_label: oetztal\n",
      "output_filename_head: incal-15min\n",
      "output_format: netcdf\n",
      "lat_min: 46.6\n",
      "lat_max: 47.3\n",
      "lon_min: 10.5\n",
      "lon_max: 11.4\n"
     ]
    }
   ],
   "source": [
    "print(query.loadQuery(\"./INCA_15min_query_oetztal.txt\"))"
   ]
  },
  {
   "cell_type": "markdown",
   "id": "293fcdce-a3f1-4d04-b923-af1faad57305",
   "metadata": {},
   "source": [
    "# Download data"
   ]
  },
  {
   "cell_type": "markdown",
   "id": "a104c2af-6d05-4b0d-8b65-e13f46bf28bc",
   "metadata": {},
   "source": [
    "## Gridbox"
   ]
  },
  {
   "cell_type": "code",
   "execution_count": 14,
   "id": "9fbd0317-8d5b-4d89-a617-64684a911d46",
   "metadata": {},
   "outputs": [
    {
     "name": "stdout",
     "output_type": "stream",
     "text": [
      "Starting download of incal-hourly_T2M_oetztal_201103010000-201105010000.nc\n",
      "incal-hourly_T2M_oetztal_201103010000-201105010000.nc was downloaded.\n",
      "incal-hourly_T2M_oetztal_201103010000-201105010000.nc has already been downloaded: /home/skalevag/Documents/NRC_P8_water_energy_and_sediment/data/air_temp/grids/INCA/incal-hourly_T2M_oetztal_201103010000-201105010000.nc\n",
      "Starting download of incal-hourly_T2M_oetztal_201105010000-201107010000.nc\n",
      "incal-hourly_T2M_oetztal_201105010000-201107010000.nc was downloaded.\n",
      "Starting download of incal-hourly_T2M_oetztal_201107010000-201109010000.nc\n",
      "incal-hourly_T2M_oetztal_201107010000-201109010000.nc was downloaded.\n",
      "Starting download of incal-hourly_T2M_oetztal_201109010000-201111010000.nc\n",
      "incal-hourly_T2M_oetztal_201109010000-201111010000.nc was downloaded.\n",
      "Starting download of incal-hourly_T2M_oetztal_201111010000-201201010000.nc\n",
      "incal-hourly_T2M_oetztal_201111010000-201201010000.nc was downloaded.\n",
      "Starting download of incal-hourly_T2M_oetztal_201201010000-201203010000.nc\n",
      "incal-hourly_T2M_oetztal_201201010000-201203010000.nc was downloaded.\n",
      "Starting download of incal-hourly_T2M_oetztal_201203010000-201205010000.nc\n",
      "incal-hourly_T2M_oetztal_201203010000-201205010000.nc was downloaded.\n",
      "Starting download of incal-hourly_T2M_oetztal_201205010000-201207010000.nc\n",
      "incal-hourly_T2M_oetztal_201205010000-201207010000.nc was downloaded.\n",
      "Starting download of incal-hourly_T2M_oetztal_201207010000-201209010000.nc\n",
      "incal-hourly_T2M_oetztal_201207010000-201209010000.nc was downloaded.\n",
      "Starting download of incal-hourly_T2M_oetztal_201209010000-201211010000.nc\n",
      "incal-hourly_T2M_oetztal_201209010000-201211010000.nc was downloaded.\n",
      "Starting download of incal-hourly_T2M_oetztal_201211010000-201301010000.nc\n",
      "incal-hourly_T2M_oetztal_201211010000-201301010000.nc was downloaded.\n",
      "Starting download of incal-hourly_T2M_oetztal_201301010000-201303010000.nc\n",
      "incal-hourly_T2M_oetztal_201301010000-201303010000.nc was downloaded.\n",
      "Starting download of incal-hourly_T2M_oetztal_201303010000-201305010000.nc\n",
      "incal-hourly_T2M_oetztal_201303010000-201305010000.nc was downloaded.\n",
      "Starting download of incal-hourly_T2M_oetztal_201305010000-201307010000.nc\n",
      "incal-hourly_T2M_oetztal_201305010000-201307010000.nc was downloaded.\n",
      "Starting download of incal-hourly_T2M_oetztal_201307010000-201309010000.nc\n",
      "incal-hourly_T2M_oetztal_201307010000-201309010000.nc was downloaded.\n",
      "Starting download of incal-hourly_T2M_oetztal_201309010000-201311010000.nc\n",
      "incal-hourly_T2M_oetztal_201309010000-201311010000.nc was downloaded.\n",
      "Starting download of incal-hourly_T2M_oetztal_201311010000-201401010000.nc\n",
      "incal-hourly_T2M_oetztal_201311010000-201401010000.nc was downloaded.\n",
      "Starting download of incal-hourly_T2M_oetztal_201401010000-201403010000.nc\n",
      "incal-hourly_T2M_oetztal_201401010000-201403010000.nc was downloaded.\n",
      "Starting download of incal-hourly_T2M_oetztal_201403010000-201405010000.nc\n",
      "incal-hourly_T2M_oetztal_201403010000-201405010000.nc was downloaded.\n",
      "Starting download of incal-hourly_T2M_oetztal_201405010000-201407010000.nc\n",
      "incal-hourly_T2M_oetztal_201405010000-201407010000.nc was downloaded.\n",
      "Starting download of incal-hourly_T2M_oetztal_201407010000-201409010000.nc\n",
      "incal-hourly_T2M_oetztal_201407010000-201409010000.nc was downloaded.\n",
      "Starting download of incal-hourly_T2M_oetztal_201409010000-201411010000.nc\n",
      "incal-hourly_T2M_oetztal_201409010000-201411010000.nc was downloaded.\n",
      "Starting download of incal-hourly_T2M_oetztal_201411010000-201501010000.nc\n",
      "incal-hourly_T2M_oetztal_201411010000-201501010000.nc was downloaded.\n",
      "Starting download of incal-hourly_T2M_oetztal_201501010000-201503010000.nc\n",
      "incal-hourly_T2M_oetztal_201501010000-201503010000.nc was downloaded.\n",
      "Starting download of incal-hourly_T2M_oetztal_201503010000-201505010000.nc\n",
      "incal-hourly_T2M_oetztal_201503010000-201505010000.nc was downloaded.\n",
      "Starting download of incal-hourly_T2M_oetztal_201505010000-201507010000.nc\n",
      "incal-hourly_T2M_oetztal_201505010000-201507010000.nc was downloaded.\n",
      "Starting download of incal-hourly_T2M_oetztal_201507010000-201509010000.nc\n",
      "incal-hourly_T2M_oetztal_201507010000-201509010000.nc was downloaded.\n",
      "Starting download of incal-hourly_T2M_oetztal_201509010000-201511010000.nc\n",
      "incal-hourly_T2M_oetztal_201509010000-201511010000.nc was downloaded.\n",
      "Starting download of incal-hourly_T2M_oetztal_201511010000-201601010000.nc\n",
      "incal-hourly_T2M_oetztal_201511010000-201601010000.nc was downloaded.\n",
      "Starting download of incal-hourly_T2M_oetztal_201601010000-201603010000.nc\n",
      "incal-hourly_T2M_oetztal_201601010000-201603010000.nc was downloaded.\n",
      "Starting download of incal-hourly_T2M_oetztal_201603010000-201605010000.nc\n",
      "incal-hourly_T2M_oetztal_201603010000-201605010000.nc was downloaded.\n",
      "Starting download of incal-hourly_T2M_oetztal_201605010000-201607010000.nc\n",
      "incal-hourly_T2M_oetztal_201605010000-201607010000.nc was downloaded.\n",
      "Starting download of incal-hourly_T2M_oetztal_201607010000-201609010000.nc\n",
      "incal-hourly_T2M_oetztal_201607010000-201609010000.nc was downloaded.\n",
      "Starting download of incal-hourly_T2M_oetztal_201609010000-201611010000.nc\n",
      "incal-hourly_T2M_oetztal_201609010000-201611010000.nc was downloaded.\n",
      "Starting download of incal-hourly_T2M_oetztal_201611010000-201701010000.nc\n",
      "incal-hourly_T2M_oetztal_201611010000-201701010000.nc was downloaded.\n",
      "Starting download of incal-hourly_T2M_oetztal_201701010000-201703010000.nc\n",
      "incal-hourly_T2M_oetztal_201701010000-201703010000.nc was downloaded.\n",
      "Starting download of incal-hourly_T2M_oetztal_201703010000-201705010000.nc\n",
      "incal-hourly_T2M_oetztal_201703010000-201705010000.nc was downloaded.\n",
      "Starting download of incal-hourly_T2M_oetztal_201705010000-201707010000.nc\n",
      "incal-hourly_T2M_oetztal_201705010000-201707010000.nc was downloaded.\n",
      "Starting download of incal-hourly_T2M_oetztal_201707010000-201709010000.nc\n",
      "incal-hourly_T2M_oetztal_201707010000-201709010000.nc was downloaded.\n",
      "Starting download of incal-hourly_T2M_oetztal_201709010000-201711010000.nc\n",
      "incal-hourly_T2M_oetztal_201709010000-201711010000.nc was downloaded.\n",
      "Starting download of incal-hourly_T2M_oetztal_201711010000-201801010000.nc\n",
      "incal-hourly_T2M_oetztal_201711010000-201801010000.nc was downloaded.\n",
      "Starting download of incal-hourly_T2M_oetztal_201801010000-201803010000.nc\n",
      "incal-hourly_T2M_oetztal_201801010000-201803010000.nc was downloaded.\n",
      "Starting download of incal-hourly_T2M_oetztal_201803010000-201805010000.nc\n",
      "incal-hourly_T2M_oetztal_201803010000-201805010000.nc was downloaded.\n",
      "Starting download of incal-hourly_T2M_oetztal_201805010000-201807010000.nc\n",
      "incal-hourly_T2M_oetztal_201805010000-201807010000.nc was downloaded.\n",
      "Starting download of incal-hourly_T2M_oetztal_201807010000-201809010000.nc\n",
      "incal-hourly_T2M_oetztal_201807010000-201809010000.nc was downloaded.\n",
      "Starting download of incal-hourly_T2M_oetztal_201809010000-201811010000.nc\n",
      "incal-hourly_T2M_oetztal_201809010000-201811010000.nc was downloaded.\n",
      "Starting download of incal-hourly_T2M_oetztal_201811010000-201901010000.nc\n",
      "incal-hourly_T2M_oetztal_201811010000-201901010000.nc was downloaded.\n",
      "Starting download of incal-hourly_T2M_oetztal_201901010000-201903010000.nc\n",
      "incal-hourly_T2M_oetztal_201901010000-201903010000.nc was downloaded.\n",
      "Starting download of incal-hourly_T2M_oetztal_201903010000-201905010000.nc\n",
      "incal-hourly_T2M_oetztal_201903010000-201905010000.nc was downloaded.\n",
      "Starting download of incal-hourly_T2M_oetztal_201905010000-201907010000.nc\n",
      "incal-hourly_T2M_oetztal_201905010000-201907010000.nc was downloaded.\n",
      "Starting download of incal-hourly_T2M_oetztal_201907010000-201909010000.nc\n",
      "incal-hourly_T2M_oetztal_201907010000-201909010000.nc was downloaded.\n",
      "Starting download of incal-hourly_T2M_oetztal_201909010000-201911010000.nc\n",
      "incal-hourly_T2M_oetztal_201909010000-201911010000.nc was downloaded.\n",
      "Starting download of incal-hourly_T2M_oetztal_201911010000-202001010000.nc\n",
      "incal-hourly_T2M_oetztal_201911010000-202001010000.nc was downloaded.\n",
      "Starting download of incal-hourly_T2M_oetztal_202001010000-202003010000.nc\n",
      "incal-hourly_T2M_oetztal_202001010000-202003010000.nc was downloaded.\n",
      "Starting download of incal-hourly_T2M_oetztal_202003010000-202005010000.nc\n",
      "incal-hourly_T2M_oetztal_202003010000-202005010000.nc was downloaded.\n",
      "Starting download of incal-hourly_T2M_oetztal_202005010000-202007010000.nc\n",
      "incal-hourly_T2M_oetztal_202005010000-202007010000.nc was downloaded.\n",
      "Starting download of incal-hourly_T2M_oetztal_202007010000-202009010000.nc\n",
      "incal-hourly_T2M_oetztal_202007010000-202009010000.nc was downloaded.\n",
      "Starting download of incal-hourly_T2M_oetztal_202009010000-202011010000.nc\n",
      "incal-hourly_T2M_oetztal_202009010000-202011010000.nc was downloaded.\n",
      "Starting download of incal-hourly_T2M_oetztal_202011010000-202101010000.nc\n",
      "incal-hourly_T2M_oetztal_202011010000-202101010000.nc was downloaded.\n",
      "Starting download of incal-hourly_T2M_oetztal_202101010000-202103010000.nc\n",
      "incal-hourly_T2M_oetztal_202101010000-202103010000.nc was downloaded.\n",
      "Starting download of incal-hourly_T2M_oetztal_202103010000-202105010000.nc\n",
      "incal-hourly_T2M_oetztal_202103010000-202105010000.nc was downloaded.\n",
      "Starting download of incal-hourly_T2M_oetztal_202105010000-202107010000.nc\n",
      "incal-hourly_T2M_oetztal_202105010000-202107010000.nc was downloaded.\n",
      "Starting download of incal-hourly_T2M_oetztal_202107010000-202109010000.nc\n",
      "incal-hourly_T2M_oetztal_202107010000-202109010000.nc was downloaded.\n",
      "Starting download of incal-hourly_T2M_oetztal_202109010000-202111010000.nc\n",
      "incal-hourly_T2M_oetztal_202109010000-202111010000.nc was downloaded.\n",
      "Starting download of incal-hourly_T2M_oetztal_202111010000-202201010000.nc\n",
      "incal-hourly_T2M_oetztal_202111010000-202201010000.nc was downloaded.\n",
      "Starting download of incal-hourly_T2M_oetztal_202201010000-202203010000.nc\n",
      "incal-hourly_T2M_oetztal_202201010000-202203010000.nc was downloaded.\n",
      "Starting download of incal-hourly_T2M_oetztal_202203010000-202205010000.nc\n",
      "incal-hourly_T2M_oetztal_202203010000-202205010000.nc was downloaded.\n",
      "Starting download of incal-hourly_T2M_oetztal_202205010000-202207010000.nc\n",
      "incal-hourly_T2M_oetztal_202205010000-202207010000.nc was downloaded.\n",
      "Starting download of incal-hourly_T2M_oetztal_202207010000-202209010000.nc\n",
      "incal-hourly_T2M_oetztal_202207010000-202209010000.nc was downloaded.\n",
      "Starting download of incal-hourly_T2M_oetztal_202209010000-202209231700.nc\n",
      "incal-hourly_T2M_oetztal_202209010000-202209231700.nc was downloaded.\n"
     ]
    }
   ],
   "source": [
    "# get all in a year\n",
    "for year in range(startYear, endYear + 1):\n",
    "    slices = utils.makeTimeSlices(year,maxMonths=2)\n",
    "    for start, end in slices:\n",
    "        data_download.downloadData(\n",
    "            myQuery, start, end, ODIR, overwrite=overwrite, verbose=verbose\n",
    "        )"
   ]
  },
  {
   "cell_type": "markdown",
   "id": "4b36c3d9-fc98-426b-a199-765c5b82186b",
   "metadata": {},
   "source": [
    "### Merge NetCDF files by year"
   ]
  },
  {
   "cell_type": "code",
   "execution_count": 15,
   "id": "87a77bda-02e9-48c5-94e5-253008556f3e",
   "metadata": {},
   "outputs": [
    {
     "name": "stdout",
     "output_type": "stream",
     "text": [
      ">>> export SKIP_SAME_TIME=1 ; cdo mergetime /home/skalevag/Documents/NRC_P8_water_energy_and_sediment/data/air_temp/grids/INCA/incal-hourly_T2M_oetztal_201105010000-201107010000.nc /home/skalevag/Documents/NRC_P8_water_energy_and_sediment/data/air_temp/grids/INCA/incal-hourly_T2M_oetztal_201111010000-201201010000.nc /home/skalevag/Documents/NRC_P8_water_energy_and_sediment/data/air_temp/grids/INCA/incal-hourly_T2M_oetztal_201109010000-201111010000.nc /home/skalevag/Documents/NRC_P8_water_energy_and_sediment/data/air_temp/grids/INCA/incal-hourly_T2M_oetztal_201107010000-201109010000.nc /home/skalevag/Documents/NRC_P8_water_energy_and_sediment/data/air_temp/grids/INCA/incal-hourly_T2M_oetztal_201103010000-201105010000.nc /home/skalevag/Documents/NRC_P8_water_energy_and_sediment/data/air_temp/grids/INCA/incal-hourly_T2M_oetztal_2011.nc\n",
      "cdo    mergetime: Timestep 1129 in stream 6 ( 2011-05-01 00:00:00) already exists, skipped!\n",
      "cdo    mergetime: Timestep    1 in stream 5 ( 2011-07-01 00:00:00) already exists, skipped!\n",
      "cdo    mergetime: Timestep 1489 in stream 5 ( 2011-09-01 00:00:00) already exists, skipped!\n",
      "cdo    mergetime: Timestep 1465 in stream 4 ( 2011-11-01 00:00:00) already exists, skipped!\n",
      "cdo    mergetime: Processed 39250400 values from 5 variables over 7013 timesteps [0.82s 103MB].\n",
      "\n",
      "Warning (cdfInqContents): Coordinates variable lambert_conformal_conic can't be assigned!\n",
      "Warning (cdfInqContents): Coordinates variable lambert_conformal_conic can't be assigned!\n",
      "Warning (cdfInqContents): Coordinates variable lambert_conformal_conic can't be assigned!\n",
      "Warning (cdfInqContents): Coordinates variable lambert_conformal_conic can't be assigned!\n",
      "Warning (cdfInqContents): Coordinates variable lambert_conformal_conic can't be assigned!\n",
      "\n",
      ">>> export SKIP_SAME_TIME=1 ; cdo mergetime /home/skalevag/Documents/NRC_P8_water_energy_and_sediment/data/air_temp/grids/INCA/incal-hourly_T2M_oetztal_201207010000-201209010000.nc /home/skalevag/Documents/NRC_P8_water_energy_and_sediment/data/air_temp/grids/INCA/incal-hourly_T2M_oetztal_201211010000-201301010000.nc /home/skalevag/Documents/NRC_P8_water_energy_and_sediment/data/air_temp/grids/INCA/incal-hourly_T2M_oetztal_201203010000-201205010000.nc /home/skalevag/Documents/NRC_P8_water_energy_and_sediment/data/air_temp/grids/INCA/incal-hourly_T2M_oetztal_201209010000-201211010000.nc /home/skalevag/Documents/NRC_P8_water_energy_and_sediment/data/air_temp/grids/INCA/incal-hourly_T2M_oetztal_201205010000-201207010000.nc /home/skalevag/Documents/NRC_P8_water_energy_and_sediment/data/air_temp/grids/INCA/incal-hourly_T2M_oetztal_201201010000-201203010000.nc /home/skalevag/Documents/NRC_P8_water_energy_and_sediment/data/air_temp/grids/INCA/incal-hourly_T2M_oetztal_2012.nc\n",
      "cdo    mergetime: Timestep 1441 in stream 7 ( 2012-03-01 00:00:00) already exists, skipped!\n",
      "cdo    mergetime: Timestep    1 in stream 6 ( 2012-05-01 00:00:00) already exists, skipped!\n",
      "cdo    mergetime: Timestep 1465 in stream 6 ( 2012-07-01 00:00:00) already exists, skipped!\n",
      "cdo    mergetime: Timestep    1 in stream 5 ( 2012-09-01 00:00:00) already exists, skipped!\n",
      "cdo    mergetime: Timestep 1465 in stream 5 ( 2012-11-01 00:00:00) already exists, skipped!\n",
      "cdo    mergetime: Processed 49196000 values from 6 variables over 8790 timesteps [1.00s 103MB].\n",
      "\n",
      "Warning (cdfInqContents): Coordinates variable lambert_conformal_conic can't be assigned!\n",
      "Warning (cdfInqContents): Coordinates variable lambert_conformal_conic can't be assigned!\n",
      "Warning (cdfInqContents): Coordinates variable lambert_conformal_conic can't be assigned!\n",
      "Warning (cdfInqContents): Coordinates variable lambert_conformal_conic can't be assigned!\n",
      "Warning (cdfInqContents): Coordinates variable lambert_conformal_conic can't be assigned!\n",
      "Warning (cdfInqContents): Coordinates variable lambert_conformal_conic can't be assigned!\n",
      "\n",
      ">>> export SKIP_SAME_TIME=1 ; cdo mergetime /home/skalevag/Documents/NRC_P8_water_energy_and_sediment/data/air_temp/grids/INCA/incal-hourly_T2M_oetztal_201307010000-201309010000.nc /home/skalevag/Documents/NRC_P8_water_energy_and_sediment/data/air_temp/grids/INCA/incal-hourly_T2M_oetztal_201309010000-201311010000.nc /home/skalevag/Documents/NRC_P8_water_energy_and_sediment/data/air_temp/grids/INCA/incal-hourly_T2M_oetztal_201301010000-201303010000.nc /home/skalevag/Documents/NRC_P8_water_energy_and_sediment/data/air_temp/grids/INCA/incal-hourly_T2M_oetztal_201305010000-201307010000.nc /home/skalevag/Documents/NRC_P8_water_energy_and_sediment/data/air_temp/grids/INCA/incal-hourly_T2M_oetztal_201311010000-201401010000.nc /home/skalevag/Documents/NRC_P8_water_energy_and_sediment/data/air_temp/grids/INCA/incal-hourly_T2M_oetztal_201303010000-201305010000.nc /home/skalevag/Documents/NRC_P8_water_energy_and_sediment/data/air_temp/grids/INCA/incal-hourly_T2M_oetztal_2013.nc\n",
      "cdo    mergetime: Timestep    1 in stream 7 ( 2013-03-01 00:00:00) already exists, skipped!\n",
      "cdo    mergetime: Timestep 1465 in stream 7 ( 2013-05-01 00:00:00) already exists, skipped!\n",
      "cdo    mergetime: Timestep 1465 in stream 5 ( 2013-07-01 00:00:00) already exists, skipped!\n",
      "cdo    mergetime: Timestep    1 in stream 3 ( 2013-09-01 00:00:00) already exists, skipped!\n",
      "cdo    mergetime: Timestep    1 in stream 6 ( 2013-11-01 00:00:00) already exists, skipped!\n",
      "cdo    mergetime: Processed 49061600 values from 6 variables over 8766 timesteps [1.01s 106MB].\n",
      "\n",
      "Warning (cdfInqContents): Coordinates variable lambert_conformal_conic can't be assigned!\n",
      "Warning (cdfInqContents): Coordinates variable lambert_conformal_conic can't be assigned!\n",
      "Warning (cdfInqContents): Coordinates variable lambert_conformal_conic can't be assigned!\n",
      "Warning (cdfInqContents): Coordinates variable lambert_conformal_conic can't be assigned!\n",
      "Warning (cdfInqContents): Coordinates variable lambert_conformal_conic can't be assigned!\n",
      "Warning (cdfInqContents): Coordinates variable lambert_conformal_conic can't be assigned!\n",
      "\n",
      ">>> export SKIP_SAME_TIME=1 ; cdo mergetime /home/skalevag/Documents/NRC_P8_water_energy_and_sediment/data/air_temp/grids/INCA/incal-hourly_T2M_oetztal_201405010000-201407010000.nc /home/skalevag/Documents/NRC_P8_water_energy_and_sediment/data/air_temp/grids/INCA/incal-hourly_T2M_oetztal_201401010000-201403010000.nc /home/skalevag/Documents/NRC_P8_water_energy_and_sediment/data/air_temp/grids/INCA/incal-hourly_T2M_oetztal_201409010000-201411010000.nc /home/skalevag/Documents/NRC_P8_water_energy_and_sediment/data/air_temp/grids/INCA/incal-hourly_T2M_oetztal_201411010000-201501010000.nc /home/skalevag/Documents/NRC_P8_water_energy_and_sediment/data/air_temp/grids/INCA/incal-hourly_T2M_oetztal_201403010000-201405010000.nc /home/skalevag/Documents/NRC_P8_water_energy_and_sediment/data/air_temp/grids/INCA/incal-hourly_T2M_oetztal_201407010000-201409010000.nc /home/skalevag/Documents/NRC_P8_water_energy_and_sediment/data/air_temp/grids/INCA/incal-hourly_T2M_oetztal_2014.nc\n",
      "cdo    mergetime: Timestep    1 in stream 6 ( 2014-03-01 00:00:00) already exists, skipped!\n",
      "cdo    mergetime: Timestep 1465 in stream 6 ( 2014-05-01 00:00:00) already exists, skipped!\n",
      "cdo    mergetime: Timestep    1 in stream 7 ( 2014-07-01 00:00:00) already exists, skipped!\n",
      "cdo    mergetime: Timestep 1489 in stream 7 ( 2014-09-01 00:00:00) already exists, skipped!\n",
      "cdo    mergetime: Timestep    1 in stream 5 ( 2014-11-01 00:00:00) already exists, skipped!\n",
      "cdo    mergetime: Processed 49061600 values from 6 variables over 8766 timesteps [1.00s 107MB].\n",
      "\n",
      "Warning (cdfInqContents): Coordinates variable lambert_conformal_conic can't be assigned!\n",
      "Warning (cdfInqContents): Coordinates variable lambert_conformal_conic can't be assigned!\n",
      "Warning (cdfInqContents): Coordinates variable lambert_conformal_conic can't be assigned!\n",
      "Warning (cdfInqContents): Coordinates variable lambert_conformal_conic can't be assigned!\n",
      "Warning (cdfInqContents): Coordinates variable lambert_conformal_conic can't be assigned!\n",
      "Warning (cdfInqContents): Coordinates variable lambert_conformal_conic can't be assigned!\n",
      "\n",
      ">>> export SKIP_SAME_TIME=1 ; cdo mergetime /home/skalevag/Documents/NRC_P8_water_energy_and_sediment/data/air_temp/grids/INCA/incal-hourly_T2M_oetztal_201501010000-201503010000.nc /home/skalevag/Documents/NRC_P8_water_energy_and_sediment/data/air_temp/grids/INCA/incal-hourly_T2M_oetztal_201505010000-201507010000.nc /home/skalevag/Documents/NRC_P8_water_energy_and_sediment/data/air_temp/grids/INCA/incal-hourly_T2M_oetztal_201503010000-201505010000.nc /home/skalevag/Documents/NRC_P8_water_energy_and_sediment/data/air_temp/grids/INCA/incal-hourly_T2M_oetztal_201507010000-201509010000.nc /home/skalevag/Documents/NRC_P8_water_energy_and_sediment/data/air_temp/grids/INCA/incal-hourly_T2M_oetztal_201509010000-201511010000.nc /home/skalevag/Documents/NRC_P8_water_energy_and_sediment/data/air_temp/grids/INCA/incal-hourly_T2M_oetztal_201511010000-201601010000.nc /home/skalevag/Documents/NRC_P8_water_energy_and_sediment/data/air_temp/grids/INCA/incal-hourly_T2M_oetztal_2015.nc\n",
      "cdo    mergetime: Timestep    1 in stream 4 ( 2015-03-01 00:00:00) already exists, skipped!\n",
      "cdo    mergetime: Timestep 1465 in stream 4 ( 2015-05-01 00:00:00) already exists, skipped!\n",
      "cdo    mergetime: Timestep    1 in stream 5 ( 2015-07-01 00:00:00) already exists, skipped!\n",
      "cdo    mergetime: Timestep    1 in stream 6 ( 2015-09-01 00:00:00) already exists, skipped!\n",
      "cdo    mergetime: Timestep    1 in stream 7 ( 2015-11-01 00:00:00) already exists, skipped!\n",
      "cdo    mergetime: Processed 49061600 values from 6 variables over 8766 timesteps [1.01s 107MB].\n",
      "\n",
      "Warning (cdfInqContents): Coordinates variable lambert_conformal_conic can't be assigned!\n",
      "Warning (cdfInqContents): Coordinates variable lambert_conformal_conic can't be assigned!\n",
      "Warning (cdfInqContents): Coordinates variable lambert_conformal_conic can't be assigned!\n",
      "Warning (cdfInqContents): Coordinates variable lambert_conformal_conic can't be assigned!\n",
      "Warning (cdfInqContents): Coordinates variable lambert_conformal_conic can't be assigned!\n",
      "Warning (cdfInqContents): Coordinates variable lambert_conformal_conic can't be assigned!\n",
      "\n",
      ">>> export SKIP_SAME_TIME=1 ; cdo mergetime /home/skalevag/Documents/NRC_P8_water_energy_and_sediment/data/air_temp/grids/INCA/incal-hourly_T2M_oetztal_201611010000-201701010000.nc /home/skalevag/Documents/NRC_P8_water_energy_and_sediment/data/air_temp/grids/INCA/incal-hourly_T2M_oetztal_201607010000-201609010000.nc /home/skalevag/Documents/NRC_P8_water_energy_and_sediment/data/air_temp/grids/INCA/incal-hourly_T2M_oetztal_201603010000-201605010000.nc /home/skalevag/Documents/NRC_P8_water_energy_and_sediment/data/air_temp/grids/INCA/incal-hourly_T2M_oetztal_201609010000-201611010000.nc /home/skalevag/Documents/NRC_P8_water_energy_and_sediment/data/air_temp/grids/INCA/incal-hourly_T2M_oetztal_201605010000-201607010000.nc /home/skalevag/Documents/NRC_P8_water_energy_and_sediment/data/air_temp/grids/INCA/incal-hourly_T2M_oetztal_201601010000-201603010000.nc /home/skalevag/Documents/NRC_P8_water_energy_and_sediment/data/air_temp/grids/INCA/incal-hourly_T2M_oetztal_2016.nc\n",
      "cdo    mergetime: Timestep 1441 in stream 7 ( 2016-03-01 00:00:00) already exists, skipped!\n",
      "cdo    mergetime: Timestep    1 in stream 6 ( 2016-05-01 00:00:00) already exists, skipped!\n",
      "cdo    mergetime: Timestep 1465 in stream 6 ( 2016-07-01 00:00:00) already exists, skipped!\n",
      "cdo    mergetime: Timestep    1 in stream 5 ( 2016-09-01 00:00:00) already exists, skipped!\n",
      "cdo    mergetime: Timestep 1465 in stream 5 ( 2016-11-01 00:00:00) already exists, skipped!\n",
      "cdo    mergetime: Processed 49196000 values from 6 variables over 8790 timesteps [1.01s 107MB].\n",
      "\n",
      "Warning (cdfInqContents): Coordinates variable lambert_conformal_conic can't be assigned!\n",
      "Warning (cdfInqContents): Coordinates variable lambert_conformal_conic can't be assigned!\n",
      "Warning (cdfInqContents): Coordinates variable lambert_conformal_conic can't be assigned!\n",
      "Warning (cdfInqContents): Coordinates variable lambert_conformal_conic can't be assigned!\n",
      "Warning (cdfInqContents): Coordinates variable lambert_conformal_conic can't be assigned!\n",
      "Warning (cdfInqContents): Coordinates variable lambert_conformal_conic can't be assigned!\n",
      "\n",
      ">>> export SKIP_SAME_TIME=1 ; cdo mergetime /home/skalevag/Documents/NRC_P8_water_energy_and_sediment/data/air_temp/grids/INCA/incal-hourly_T2M_oetztal_201707010000-201709010000.nc /home/skalevag/Documents/NRC_P8_water_energy_and_sediment/data/air_temp/grids/INCA/incal-hourly_T2M_oetztal_201709010000-201711010000.nc /home/skalevag/Documents/NRC_P8_water_energy_and_sediment/data/air_temp/grids/INCA/incal-hourly_T2M_oetztal_201705010000-201707010000.nc /home/skalevag/Documents/NRC_P8_water_energy_and_sediment/data/air_temp/grids/INCA/incal-hourly_T2M_oetztal_201711010000-201801010000.nc /home/skalevag/Documents/NRC_P8_water_energy_and_sediment/data/air_temp/grids/INCA/incal-hourly_T2M_oetztal_201701010000-201703010000.nc /home/skalevag/Documents/NRC_P8_water_energy_and_sediment/data/air_temp/grids/INCA/incal-hourly_T2M_oetztal_201703010000-201705010000.nc /home/skalevag/Documents/NRC_P8_water_energy_and_sediment/data/air_temp/grids/INCA/incal-hourly_T2M_oetztal_2017.nc\n",
      "cdo    mergetime: Timestep    1 in stream 7 ( 2017-03-01 00:00:00) already exists, skipped!\n",
      "cdo    mergetime: Timestep 1465 in stream 7 ( 2017-05-01 00:00:00) already exists, skipped!\n",
      "cdo    mergetime: Timestep 1465 in stream 4 ( 2017-07-01 00:00:00) already exists, skipped!\n",
      "cdo    mergetime: Timestep    1 in stream 3 ( 2017-09-01 00:00:00) already exists, skipped!\n",
      "cdo    mergetime: Timestep    1 in stream 5 ( 2017-11-01 00:00:00) already exists, skipped!\n",
      "cdo    mergetime: Processed 49061600 values from 6 variables over 8766 timesteps [1.01s 107MB].\n",
      "\n",
      "Warning (cdfInqContents): Coordinates variable lambert_conformal_conic can't be assigned!\n",
      "Warning (cdfInqContents): Coordinates variable lambert_conformal_conic can't be assigned!\n",
      "Warning (cdfInqContents): Coordinates variable lambert_conformal_conic can't be assigned!\n",
      "Warning (cdfInqContents): Coordinates variable lambert_conformal_conic can't be assigned!\n",
      "Warning (cdfInqContents): Coordinates variable lambert_conformal_conic can't be assigned!\n",
      "Warning (cdfInqContents): Coordinates variable lambert_conformal_conic can't be assigned!\n",
      "\n",
      ">>> export SKIP_SAME_TIME=1 ; cdo mergetime /home/skalevag/Documents/NRC_P8_water_energy_and_sediment/data/air_temp/grids/INCA/incal-hourly_T2M_oetztal_201811010000-201901010000.nc /home/skalevag/Documents/NRC_P8_water_energy_and_sediment/data/air_temp/grids/INCA/incal-hourly_T2M_oetztal_201809010000-201811010000.nc /home/skalevag/Documents/NRC_P8_water_energy_and_sediment/data/air_temp/grids/INCA/incal-hourly_T2M_oetztal_201801010000-201803010000.nc /home/skalevag/Documents/NRC_P8_water_energy_and_sediment/data/air_temp/grids/INCA/incal-hourly_T2M_oetztal_201803010000-201805010000.nc /home/skalevag/Documents/NRC_P8_water_energy_and_sediment/data/air_temp/grids/INCA/incal-hourly_T2M_oetztal_201805010000-201807010000.nc /home/skalevag/Documents/NRC_P8_water_energy_and_sediment/data/air_temp/grids/INCA/incal-hourly_T2M_oetztal_201807010000-201809010000.nc /home/skalevag/Documents/NRC_P8_water_energy_and_sediment/data/air_temp/grids/INCA/incal-hourly_T2M_oetztal_2018.nc\n",
      "cdo    mergetime: Timestep    1 in stream 5 ( 2018-03-01 00:00:00) already exists, skipped!\n",
      "cdo    mergetime: Timestep    1 in stream 6 ( 2018-05-01 00:00:00) already exists, skipped!\n",
      "cdo    mergetime: Timestep    1 in stream 7 ( 2018-07-01 00:00:00) already exists, skipped!\n",
      "cdo    mergetime: Timestep 1489 in stream 7 ( 2018-09-01 00:00:00) already exists, skipped!\n",
      "cdo    mergetime: Timestep 1465 in stream 3 ( 2018-11-01 00:00:00) already exists, skipped!\n",
      "cdo    mergetime: Processed 49061600 values from 6 variables over 8766 timesteps [1.03s 104MB].\n",
      "\n",
      "Warning (cdfInqContents): Coordinates variable lambert_conformal_conic can't be assigned!\n",
      "Warning (cdfInqContents): Coordinates variable lambert_conformal_conic can't be assigned!\n",
      "Warning (cdfInqContents): Coordinates variable lambert_conformal_conic can't be assigned!\n",
      "Warning (cdfInqContents): Coordinates variable lambert_conformal_conic can't be assigned!\n",
      "Warning (cdfInqContents): Coordinates variable lambert_conformal_conic can't be assigned!\n",
      "Warning (cdfInqContents): Coordinates variable lambert_conformal_conic can't be assigned!\n",
      "\n",
      ">>> export SKIP_SAME_TIME=1 ; cdo mergetime /home/skalevag/Documents/NRC_P8_water_energy_and_sediment/data/air_temp/grids/INCA/incal-hourly_T2M_oetztal_201903010000-201905010000.nc /home/skalevag/Documents/NRC_P8_water_energy_and_sediment/data/air_temp/grids/INCA/incal-hourly_T2M_oetztal_201905010000-201907010000.nc /home/skalevag/Documents/NRC_P8_water_energy_and_sediment/data/air_temp/grids/INCA/incal-hourly_T2M_oetztal_201907010000-201909010000.nc /home/skalevag/Documents/NRC_P8_water_energy_and_sediment/data/air_temp/grids/INCA/incal-hourly_T2M_oetztal_201901010000-201903010000.nc /home/skalevag/Documents/NRC_P8_water_energy_and_sediment/data/air_temp/grids/INCA/incal-hourly_T2M_oetztal_201909010000-201911010000.nc /home/skalevag/Documents/NRC_P8_water_energy_and_sediment/data/air_temp/grids/INCA/incal-hourly_T2M_oetztal_201911010000-202001010000.nc /home/skalevag/Documents/NRC_P8_water_energy_and_sediment/data/air_temp/grids/INCA/incal-hourly_T2M_oetztal_2019.nc\n",
      "cdo    mergetime: Timestep 1417 in stream 5 ( 2019-03-01 00:00:00) already exists, skipped!\n",
      "cdo    mergetime: Timestep    1 in stream 3 ( 2019-05-01 00:00:00) already exists, skipped!\n",
      "cdo    mergetime: Timestep    1 in stream 4 ( 2019-07-01 00:00:00) already exists, skipped!\n",
      "cdo    mergetime: Timestep    1 in stream 6 ( 2019-09-01 00:00:00) already exists, skipped!\n",
      "cdo    mergetime: Timestep    1 in stream 7 ( 2019-11-01 00:00:00) already exists, skipped!\n",
      "cdo    mergetime: Processed 49061600 values from 6 variables over 8766 timesteps [1.01s 97MB].\n",
      "\n",
      "Warning (cdfInqContents): Coordinates variable lambert_conformal_conic can't be assigned!\n",
      "Warning (cdfInqContents): Coordinates variable lambert_conformal_conic can't be assigned!\n",
      "Warning (cdfInqContents): Coordinates variable lambert_conformal_conic can't be assigned!\n",
      "Warning (cdfInqContents): Coordinates variable lambert_conformal_conic can't be assigned!\n",
      "Warning (cdfInqContents): Coordinates variable lambert_conformal_conic can't be assigned!\n",
      "Warning (cdfInqContents): Coordinates variable lambert_conformal_conic can't be assigned!\n",
      "\n",
      ">>> export SKIP_SAME_TIME=1 ; cdo mergetime /home/skalevag/Documents/NRC_P8_water_energy_and_sediment/data/air_temp/grids/INCA/incal-hourly_T2M_oetztal_202003010000-202005010000.nc /home/skalevag/Documents/NRC_P8_water_energy_and_sediment/data/air_temp/grids/INCA/incal-hourly_T2M_oetztal_202005010000-202007010000.nc /home/skalevag/Documents/NRC_P8_water_energy_and_sediment/data/air_temp/grids/INCA/incal-hourly_T2M_oetztal_202001010000-202003010000.nc /home/skalevag/Documents/NRC_P8_water_energy_and_sediment/data/air_temp/grids/INCA/incal-hourly_T2M_oetztal_202007010000-202009010000.nc /home/skalevag/Documents/NRC_P8_water_energy_and_sediment/data/air_temp/grids/INCA/incal-hourly_T2M_oetztal_202011010000-202101010000.nc /home/skalevag/Documents/NRC_P8_water_energy_and_sediment/data/air_temp/grids/INCA/incal-hourly_T2M_oetztal_202009010000-202011010000.nc /home/skalevag/Documents/NRC_P8_water_energy_and_sediment/data/air_temp/grids/INCA/incal-hourly_T2M_oetztal_2020.nc\n",
      "cdo    mergetime: Timestep 1441 in stream 4 ( 2020-03-01 00:00:00) already exists, skipped!\n",
      "cdo    mergetime: Timestep    1 in stream 3 ( 2020-05-01 00:00:00) already exists, skipped!\n",
      "cdo    mergetime: Timestep    1 in stream 5 ( 2020-07-01 00:00:00) already exists, skipped!\n",
      "cdo    mergetime: Timestep    1 in stream 7 ( 2020-09-01 00:00:00) already exists, skipped!\n",
      "cdo    mergetime: Timestep 1465 in stream 7 ( 2020-11-01 00:00:00) already exists, skipped!\n",
      "cdo    mergetime: Processed 49196000 values from 6 variables over 8790 timesteps [1.03s 105MB].\n",
      "\n",
      "Warning (cdfInqContents): Coordinates variable lambert_conformal_conic can't be assigned!\n",
      "Warning (cdfInqContents): Coordinates variable lambert_conformal_conic can't be assigned!\n",
      "Warning (cdfInqContents): Coordinates variable lambert_conformal_conic can't be assigned!\n",
      "Warning (cdfInqContents): Coordinates variable lambert_conformal_conic can't be assigned!\n",
      "Warning (cdfInqContents): Coordinates variable lambert_conformal_conic can't be assigned!\n",
      "Warning (cdfInqContents): Coordinates variable lambert_conformal_conic can't be assigned!\n",
      "\n",
      ">>> export SKIP_SAME_TIME=1 ; cdo mergetime /home/skalevag/Documents/NRC_P8_water_energy_and_sediment/data/air_temp/grids/INCA/incal-hourly_T2M_oetztal_202109010000-202111010000.nc /home/skalevag/Documents/NRC_P8_water_energy_and_sediment/data/air_temp/grids/INCA/incal-hourly_T2M_oetztal_202101010000-202103010000.nc /home/skalevag/Documents/NRC_P8_water_energy_and_sediment/data/air_temp/grids/INCA/incal-hourly_T2M_oetztal_202105010000-202107010000.nc /home/skalevag/Documents/NRC_P8_water_energy_and_sediment/data/air_temp/grids/INCA/incal-hourly_T2M_oetztal_202107010000-202109010000.nc /home/skalevag/Documents/NRC_P8_water_energy_and_sediment/data/air_temp/grids/INCA/incal-hourly_T2M_oetztal_202111010000-202201010000.nc /home/skalevag/Documents/NRC_P8_water_energy_and_sediment/data/air_temp/grids/INCA/incal-hourly_T2M_oetztal_202103010000-202105010000.nc /home/skalevag/Documents/NRC_P8_water_energy_and_sediment/data/air_temp/grids/INCA/incal-hourly_T2M_oetztal_2021.nc\n",
      "cdo    mergetime: Timestep    1 in stream 7 ( 2021-03-01 00:00:00) already exists, skipped!\n",
      "cdo    mergetime: Timestep 1465 in stream 7 ( 2021-05-01 00:00:00) already exists, skipped!\n",
      "cdo    mergetime: Timestep    1 in stream 5 ( 2021-07-01 00:00:00) already exists, skipped!\n",
      "cdo    mergetime: Timestep 1489 in stream 5 ( 2021-09-01 00:00:00) already exists, skipped!\n",
      "cdo    mergetime: Timestep    1 in stream 6 ( 2021-11-01 00:00:00) already exists, skipped!\n",
      "cdo    mergetime: Processed 49061600 values from 6 variables over 8766 timesteps [1.01s 105MB].\n",
      "\n",
      "Warning (cdfInqContents): Coordinates variable lambert_conformal_conic can't be assigned!\n",
      "Warning (cdfInqContents): Coordinates variable lambert_conformal_conic can't be assigned!\n",
      "Warning (cdfInqContents): Coordinates variable lambert_conformal_conic can't be assigned!\n",
      "Warning (cdfInqContents): Coordinates variable lambert_conformal_conic can't be assigned!\n",
      "Warning (cdfInqContents): Coordinates variable lambert_conformal_conic can't be assigned!\n",
      "Warning (cdfInqContents): Coordinates variable lambert_conformal_conic can't be assigned!\n",
      "\n",
      ">>> export SKIP_SAME_TIME=1 ; cdo mergetime /home/skalevag/Documents/NRC_P8_water_energy_and_sediment/data/air_temp/grids/INCA/incal-hourly_T2M_oetztal_202205010000-202207010000.nc /home/skalevag/Documents/NRC_P8_water_energy_and_sediment/data/air_temp/grids/INCA/incal-hourly_T2M_oetztal_202203010000-202205010000.nc /home/skalevag/Documents/NRC_P8_water_energy_and_sediment/data/air_temp/grids/INCA/incal-hourly_T2M_oetztal_202207010000-202209010000.nc /home/skalevag/Documents/NRC_P8_water_energy_and_sediment/data/air_temp/grids/INCA/incal-hourly_T2M_oetztal_202201010000-202203010000.nc /home/skalevag/Documents/NRC_P8_water_energy_and_sediment/data/air_temp/grids/INCA/incal-hourly_T2M_oetztal_202209010000-202209231700.nc /home/skalevag/Documents/NRC_P8_water_energy_and_sediment/data/air_temp/grids/INCA/incal-hourly_T2M_oetztal_2022.nc\n",
      "cdo    mergetime: Timestep 1417 in stream 5 ( 2022-03-01 00:00:00) already exists, skipped!\n",
      "cdo    mergetime: Timestep 1465 in stream 3 ( 2022-05-01 00:00:00) already exists, skipped!\n",
      "cdo    mergetime: Timestep    1 in stream 4 ( 2022-07-01 00:00:00) already exists, skipped!\n",
      "cdo    mergetime: Timestep    1 in stream 6 ( 2022-09-01 00:00:00) already exists, skipped!\n",
      "cdo    mergetime: Processed 35705600 values from 5 variables over 6380 timesteps [0.75s 105MB].\n",
      "\n",
      "Warning (cdfInqContents): Coordinates variable lambert_conformal_conic can't be assigned!\n",
      "Warning (cdfInqContents): Coordinates variable lambert_conformal_conic can't be assigned!\n",
      "Warning (cdfInqContents): Coordinates variable lambert_conformal_conic can't be assigned!\n",
      "Warning (cdfInqContents): Coordinates variable lambert_conformal_conic can't be assigned!\n",
      "Warning (cdfInqContents): Coordinates variable lambert_conformal_conic can't be assigned!\n",
      "\n"
     ]
    }
   ],
   "source": [
    "for year in range(startYear, endYear + 1):\n",
    "    data_download.mergeNetCDFfilesByYear(\n",
    "        year, ODIR, overwrite=overwriteMerge, verbose=verbose\n",
    "    )"
   ]
  },
  {
   "cell_type": "markdown",
   "id": "3887265d-8367-4914-ba1b-f8842d077d7d",
   "metadata": {},
   "source": [
    "## Point location"
   ]
  },
  {
   "cell_type": "code",
   "execution_count": null,
   "id": "95af994d-ae59-482e-8b96-46bec73818e6",
   "metadata": {},
   "outputs": [],
   "source": [
    "# select all the available INCA parameters\n",
    "params = [\"GL\", \"P0\", \"RH2M\", \"RR\", \"T2M\", \"TD2M\", \"UU\", \"VV\"]\n",
    "myQuery = query.rasterQuery(\n",
    "    query.DatasetType.INCA_POINT, params, point_location=loc_obergurgl\n",
    ")\n",
    "\n",
    "print(myQuery)"
   ]
  },
  {
   "cell_type": "code",
   "execution_count": null,
   "id": "6bad0d9a-da70-4408-bd60-03dd7e92ee6b",
   "metadata": {},
   "outputs": [],
   "source": [
    "start = \"2011-01-01 00:00\"\n",
    "end = \"2022-05-01 00:00\"\n",
    "url = data_download.makeURL(myQuery, start, end)\n",
    "print(url)"
   ]
  },
  {
   "cell_type": "code",
   "execution_count": null,
   "id": "1533d76e-1a0b-466b-af04-7e1ca6532051",
   "metadata": {},
   "outputs": [],
   "source": []
  }
 ],
 "metadata": {
  "kernelspec": {
   "display_name": "Python 3 (ipykernel)",
   "language": "python",
   "name": "python3"
  },
  "language_info": {
   "codemirror_mode": {
    "name": "ipython",
    "version": 3
   },
   "file_extension": ".py",
   "mimetype": "text/x-python",
   "name": "python",
   "nbconvert_exporter": "python",
   "pygments_lexer": "ipython3",
   "version": "3.8.12"
  }
 },
 "nbformat": 4,
 "nbformat_minor": 5
}
