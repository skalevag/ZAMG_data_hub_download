{
 "cells": [
  {
   "cell_type": "markdown",
   "id": "66ac5bdc-6f44-4e13-89b1-a1966f344841",
   "metadata": {},
   "source": [
    "# Introduction\n",
    "\n",
    "Create a script for downloading INCA data.\n",
    "\n",
    "* Website only allows for 3 months worth of data to be downloaded at a time."
   ]
  },
  {
   "cell_type": "code",
   "execution_count": 1,
   "id": "209b25a0-a2b2-4d69-8c9a-9d913858efbc",
   "metadata": {},
   "outputs": [],
   "source": [
    "import requests\n",
    "import urllib\n",
    "from pathlib2 import Path\n",
    "import os.path\n",
    "import datetime\n",
    "from dateutil.relativedelta import relativedelta"
   ]
  },
  {
   "cell_type": "code",
   "execution_count": 2,
   "id": "bbc96da3-8551-4830-93a8-2e5ae8bed9b7",
   "metadata": {},
   "outputs": [],
   "source": [
    "#ODIR = \"/home/skalevag/Documents/NRC P8 water energy and sediment/data/temperature/INCA\"\n",
    "#ODIR = \"/home/skalevag/Documents/NRC P8 water energy and sediment/data/precip/INCA\"\n",
    "ODIR = \"/home/skalevag/Documents/NRC P8 water energy and sediment/data/radiation/INCA\"\n",
    "ODIR = Path(ODIR)\n",
    "\n",
    "if not os.path.isdir(ODIR):\n",
    "    os.makedirs(ODIR)"
   ]
  },
  {
   "cell_type": "code",
   "execution_count": 3,
   "id": "c0a39d3d-0624-4bfa-a864-0d2383047af8",
   "metadata": {
    "tags": []
   },
   "outputs": [],
   "source": [
    "datetimeformat = \"%Y-%m-%d %H:%M\"\n",
    "\n",
    "# variable\n",
    "#params = \"T2M\" # air temperature 2m above ground\n",
    "#params = \"RR\" # 1-hour precipitation sum\n",
    "params = \"GL\" # global radiation \n",
    "\n",
    "# gridbox for Ötztal area\n",
    "gridboxlabel = \"oetztal\"\n",
    "lat_min = \"46.7\"\n",
    "lat_max = \"47.2\"\n",
    "lon_min = \"10.5\"\n",
    "lon_max = \"11.4\""
   ]
  },
  {
   "cell_type": "code",
   "execution_count": 4,
   "id": "61f12512-f96b-423d-96cd-2c29cb526772",
   "metadata": {},
   "outputs": [],
   "source": [
    "def makeFilename(start,end):\n",
    "    filenameHead,filenameEnd = (\"incal-hourly\",\"nc\")\n",
    "    s = start.replace(\"-\",\"\").replace(\" \",\"\").replace(\":\",\"\")\n",
    "    e = end.replace(\"-\",\"\").replace(\" \",\"\").replace(\":\",\"\")\n",
    "    timeslice = f\"{s}-{e}\"\n",
    "    filename = \"_\".join([filenameHead,params,gridboxlabel,timeslice])+f\".{filenameEnd}\"\n",
    "    return filename\n",
    "\n",
    "def makeURL(start,end,lat_min,lat_max,lon_min,lon_max):\n",
    "    # make start- and endtime strings\n",
    "    sd = start.replace(\" \",\"%20\")\n",
    "    ed = end.replace(\" \",\"%20\")\n",
    "\n",
    "    # make gridbox string\n",
    "    bbox = f\"{lat_min},{lon_min},{lat_max},{lon_max}\"\n",
    "\n",
    "    url = f\"https://forms.hub.zamg.ac.at/v1/grid/d512d5b5-4e9f-4954-98b9-806acbf754f6/historical?anonymous=true&parameters={params}&start={sd}&end={ed}&bbox={bbox}&output_format=netcdf\"\n",
    "\n",
    "    return url\n",
    "\n",
    "def makeTimeSlices(year):\n",
    "    \"\"\"\n",
    "    Makes a list of start and end times for a specified year.\n",
    "    \"\"\"\n",
    "    #TODO: make more flexible so that appropriate 3 month timeslices between two dates are made\n",
    "    #TODO: test if desired start and end are smaller than 3 months (then return only that slice)\n",
    "    month = 1\n",
    "    maxMonths = 3\n",
    "\n",
    "    slices = []\n",
    "    while month<12:\n",
    "        dtStart = datetime.datetime(year,month,1,0,0)\n",
    "        dtEnd = dtStart + relativedelta(months=+maxMonths)\n",
    "\n",
    "        start = dtStart.strftime(datetimeformat)\n",
    "        end = dtEnd.strftime(datetimeformat)\n",
    "\n",
    "        slices.append((start,end))\n",
    "\n",
    "        month = month + maxMonths\n",
    "    \n",
    "    return slices\n",
    "\n",
    "def downloadData(start,end,lat_min,lat_max,lon_min,lon_max,ODIR):\n",
    "    # check whether file already exists\n",
    "    filename = makeFilename(start,end)\n",
    "    outfile = ODIR.joinpath(filename)\n",
    "\n",
    "    if not os.path.isfile(outfile):\n",
    "        url = makeURL(start,end,lat_min,lat_max,lon_min,lon_max)\n",
    "        r = requests.get(url)\n",
    "        if str(r) == \"<Response [400]>\":\n",
    "            raise requests.HTTPError(f\"{r}: The data slice that you requested is too big! ZAMG hub only allows for 3 months data download at a time.\")\n",
    "        ff,html = urllib.request.urlretrieve(url, outfile)\n",
    "        print(filename, \"was downloaded.\")\n",
    "    else:\n",
    "        print(filename, \"has already been downloaded:\",outfile)\n",
    "        \n",
    "    return outfile"
   ]
  },
  {
   "cell_type": "code",
   "execution_count": 5,
   "id": "9fbd0317-8d5b-4d89-a617-64684a911d46",
   "metadata": {},
   "outputs": [
    {
     "name": "stdout",
     "output_type": "stream",
     "text": [
      "incal-hourly_GL_oetztal_201101010000-201104010000.nc has already been downloaded: /home/skalevag/Documents/NRC P8 water energy and sediment/data/radiation/INCA/incal-hourly_GL_oetztal_201101010000-201104010000.nc\n",
      "incal-hourly_GL_oetztal_201104010000-201107010000.nc has already been downloaded: /home/skalevag/Documents/NRC P8 water energy and sediment/data/radiation/INCA/incal-hourly_GL_oetztal_201104010000-201107010000.nc\n",
      "incal-hourly_GL_oetztal_201107010000-201110010000.nc has already been downloaded: /home/skalevag/Documents/NRC P8 water energy and sediment/data/radiation/INCA/incal-hourly_GL_oetztal_201107010000-201110010000.nc\n",
      "incal-hourly_GL_oetztal_201110010000-201201010000.nc has already been downloaded: /home/skalevag/Documents/NRC P8 water energy and sediment/data/radiation/INCA/incal-hourly_GL_oetztal_201110010000-201201010000.nc\n",
      "incal-hourly_GL_oetztal_201201010000-201204010000.nc has already been downloaded: /home/skalevag/Documents/NRC P8 water energy and sediment/data/radiation/INCA/incal-hourly_GL_oetztal_201201010000-201204010000.nc\n",
      "incal-hourly_GL_oetztal_201204010000-201207010000.nc has already been downloaded: /home/skalevag/Documents/NRC P8 water energy and sediment/data/radiation/INCA/incal-hourly_GL_oetztal_201204010000-201207010000.nc\n",
      "incal-hourly_GL_oetztal_201207010000-201210010000.nc has already been downloaded: /home/skalevag/Documents/NRC P8 water energy and sediment/data/radiation/INCA/incal-hourly_GL_oetztal_201207010000-201210010000.nc\n",
      "incal-hourly_GL_oetztal_201210010000-201301010000.nc has already been downloaded: /home/skalevag/Documents/NRC P8 water energy and sediment/data/radiation/INCA/incal-hourly_GL_oetztal_201210010000-201301010000.nc\n",
      "incal-hourly_GL_oetztal_201301010000-201304010000.nc has already been downloaded: /home/skalevag/Documents/NRC P8 water energy and sediment/data/radiation/INCA/incal-hourly_GL_oetztal_201301010000-201304010000.nc\n",
      "incal-hourly_GL_oetztal_201304010000-201307010000.nc has already been downloaded: /home/skalevag/Documents/NRC P8 water energy and sediment/data/radiation/INCA/incal-hourly_GL_oetztal_201304010000-201307010000.nc\n",
      "incal-hourly_GL_oetztal_201307010000-201310010000.nc has already been downloaded: /home/skalevag/Documents/NRC P8 water energy and sediment/data/radiation/INCA/incal-hourly_GL_oetztal_201307010000-201310010000.nc\n",
      "incal-hourly_GL_oetztal_201310010000-201401010000.nc has already been downloaded: /home/skalevag/Documents/NRC P8 water energy and sediment/data/radiation/INCA/incal-hourly_GL_oetztal_201310010000-201401010000.nc\n",
      "incal-hourly_GL_oetztal_201401010000-201404010000.nc has already been downloaded: /home/skalevag/Documents/NRC P8 water energy and sediment/data/radiation/INCA/incal-hourly_GL_oetztal_201401010000-201404010000.nc\n",
      "incal-hourly_GL_oetztal_201404010000-201407010000.nc has already been downloaded: /home/skalevag/Documents/NRC P8 water energy and sediment/data/radiation/INCA/incal-hourly_GL_oetztal_201404010000-201407010000.nc\n",
      "incal-hourly_GL_oetztal_201407010000-201410010000.nc has already been downloaded: /home/skalevag/Documents/NRC P8 water energy and sediment/data/radiation/INCA/incal-hourly_GL_oetztal_201407010000-201410010000.nc\n",
      "incal-hourly_GL_oetztal_201410010000-201501010000.nc has already been downloaded: /home/skalevag/Documents/NRC P8 water energy and sediment/data/radiation/INCA/incal-hourly_GL_oetztal_201410010000-201501010000.nc\n",
      "incal-hourly_GL_oetztal_201501010000-201504010000.nc has already been downloaded: /home/skalevag/Documents/NRC P8 water energy and sediment/data/radiation/INCA/incal-hourly_GL_oetztal_201501010000-201504010000.nc\n",
      "incal-hourly_GL_oetztal_201504010000-201507010000.nc has already been downloaded: /home/skalevag/Documents/NRC P8 water energy and sediment/data/radiation/INCA/incal-hourly_GL_oetztal_201504010000-201507010000.nc\n",
      "incal-hourly_GL_oetztal_201507010000-201510010000.nc has already been downloaded: /home/skalevag/Documents/NRC P8 water energy and sediment/data/radiation/INCA/incal-hourly_GL_oetztal_201507010000-201510010000.nc\n",
      "incal-hourly_GL_oetztal_201510010000-201601010000.nc has already been downloaded: /home/skalevag/Documents/NRC P8 water energy and sediment/data/radiation/INCA/incal-hourly_GL_oetztal_201510010000-201601010000.nc\n",
      "incal-hourly_GL_oetztal_201601010000-201604010000.nc has already been downloaded: /home/skalevag/Documents/NRC P8 water energy and sediment/data/radiation/INCA/incal-hourly_GL_oetztal_201601010000-201604010000.nc\n",
      "incal-hourly_GL_oetztal_201604010000-201607010000.nc has already been downloaded: /home/skalevag/Documents/NRC P8 water energy and sediment/data/radiation/INCA/incal-hourly_GL_oetztal_201604010000-201607010000.nc\n",
      "incal-hourly_GL_oetztal_201607010000-201610010000.nc has already been downloaded: /home/skalevag/Documents/NRC P8 water energy and sediment/data/radiation/INCA/incal-hourly_GL_oetztal_201607010000-201610010000.nc\n",
      "incal-hourly_GL_oetztal_201610010000-201701010000.nc has already been downloaded: /home/skalevag/Documents/NRC P8 water energy and sediment/data/radiation/INCA/incal-hourly_GL_oetztal_201610010000-201701010000.nc\n",
      "incal-hourly_GL_oetztal_201701010000-201704010000.nc has already been downloaded: /home/skalevag/Documents/NRC P8 water energy and sediment/data/radiation/INCA/incal-hourly_GL_oetztal_201701010000-201704010000.nc\n",
      "incal-hourly_GL_oetztal_201704010000-201707010000.nc has already been downloaded: /home/skalevag/Documents/NRC P8 water energy and sediment/data/radiation/INCA/incal-hourly_GL_oetztal_201704010000-201707010000.nc\n",
      "incal-hourly_GL_oetztal_201707010000-201710010000.nc has already been downloaded: /home/skalevag/Documents/NRC P8 water energy and sediment/data/radiation/INCA/incal-hourly_GL_oetztal_201707010000-201710010000.nc\n",
      "incal-hourly_GL_oetztal_201710010000-201801010000.nc has already been downloaded: /home/skalevag/Documents/NRC P8 water energy and sediment/data/radiation/INCA/incal-hourly_GL_oetztal_201710010000-201801010000.nc\n",
      "incal-hourly_GL_oetztal_201801010000-201804010000.nc has already been downloaded: /home/skalevag/Documents/NRC P8 water energy and sediment/data/radiation/INCA/incal-hourly_GL_oetztal_201801010000-201804010000.nc\n",
      "incal-hourly_GL_oetztal_201804010000-201807010000.nc has already been downloaded: /home/skalevag/Documents/NRC P8 water energy and sediment/data/radiation/INCA/incal-hourly_GL_oetztal_201804010000-201807010000.nc\n",
      "incal-hourly_GL_oetztal_201807010000-201810010000.nc has already been downloaded: /home/skalevag/Documents/NRC P8 water energy and sediment/data/radiation/INCA/incal-hourly_GL_oetztal_201807010000-201810010000.nc\n",
      "incal-hourly_GL_oetztal_201810010000-201901010000.nc has already been downloaded: /home/skalevag/Documents/NRC P8 water energy and sediment/data/radiation/INCA/incal-hourly_GL_oetztal_201810010000-201901010000.nc\n",
      "incal-hourly_GL_oetztal_201901010000-201904010000.nc has already been downloaded: /home/skalevag/Documents/NRC P8 water energy and sediment/data/radiation/INCA/incal-hourly_GL_oetztal_201901010000-201904010000.nc\n",
      "incal-hourly_GL_oetztal_201904010000-201907010000.nc has already been downloaded: /home/skalevag/Documents/NRC P8 water energy and sediment/data/radiation/INCA/incal-hourly_GL_oetztal_201904010000-201907010000.nc\n",
      "incal-hourly_GL_oetztal_201907010000-201910010000.nc has already been downloaded: /home/skalevag/Documents/NRC P8 water energy and sediment/data/radiation/INCA/incal-hourly_GL_oetztal_201907010000-201910010000.nc\n",
      "incal-hourly_GL_oetztal_201910010000-202001010000.nc has already been downloaded: /home/skalevag/Documents/NRC P8 water energy and sediment/data/radiation/INCA/incal-hourly_GL_oetztal_201910010000-202001010000.nc\n",
      "incal-hourly_GL_oetztal_202001010000-202004010000.nc has already been downloaded: /home/skalevag/Documents/NRC P8 water energy and sediment/data/radiation/INCA/incal-hourly_GL_oetztal_202001010000-202004010000.nc\n",
      "incal-hourly_GL_oetztal_202004010000-202007010000.nc has already been downloaded: /home/skalevag/Documents/NRC P8 water energy and sediment/data/radiation/INCA/incal-hourly_GL_oetztal_202004010000-202007010000.nc\n",
      "incal-hourly_GL_oetztal_202007010000-202010010000.nc has already been downloaded: /home/skalevag/Documents/NRC P8 water energy and sediment/data/radiation/INCA/incal-hourly_GL_oetztal_202007010000-202010010000.nc\n",
      "incal-hourly_GL_oetztal_202010010000-202101010000.nc has already been downloaded: /home/skalevag/Documents/NRC P8 water energy and sediment/data/radiation/INCA/incal-hourly_GL_oetztal_202010010000-202101010000.nc\n",
      "incal-hourly_GL_oetztal_202101010000-202104010000.nc has already been downloaded: /home/skalevag/Documents/NRC P8 water energy and sediment/data/radiation/INCA/incal-hourly_GL_oetztal_202101010000-202104010000.nc\n",
      "incal-hourly_GL_oetztal_202104010000-202107010000.nc has already been downloaded: /home/skalevag/Documents/NRC P8 water energy and sediment/data/radiation/INCA/incal-hourly_GL_oetztal_202104010000-202107010000.nc\n",
      "incal-hourly_GL_oetztal_202107010000-202110010000.nc has already been downloaded: /home/skalevag/Documents/NRC P8 water energy and sediment/data/radiation/INCA/incal-hourly_GL_oetztal_202107010000-202110010000.nc\n",
      "incal-hourly_GL_oetztal_202110010000-202201010000.nc has already been downloaded: /home/skalevag/Documents/NRC P8 water energy and sediment/data/radiation/INCA/incal-hourly_GL_oetztal_202110010000-202201010000.nc\n"
     ]
    }
   ],
   "source": [
    "#TODO: make function that can be passed dates, and then makes appropriate slices to be downloaded\n",
    "\n",
    "# get all in a year\n",
    "for year in range(2011,2022):\n",
    "\n",
    "    slices = makeTimeSlices(year)\n",
    "\n",
    "    for start,end in slices:\n",
    "        downloadData(start,end,lat_min,lat_max,lon_min,lon_max,ODIR)"
   ]
  },
  {
   "cell_type": "code",
   "execution_count": 6,
   "id": "367b1c93-e73f-4550-b362-488544556b0e",
   "metadata": {},
   "outputs": [],
   "source": [
    "#TODO: merge all files from same year\n",
    "# use cdo?"
   ]
  }
 ],
 "metadata": {
  "kernelspec": {
   "display_name": "Python 3",
   "language": "python",
   "name": "python3"
  },
  "language_info": {
   "codemirror_mode": {
    "name": "ipython",
    "version": 3
   },
   "file_extension": ".py",
   "mimetype": "text/x-python",
   "name": "python",
   "nbconvert_exporter": "python",
   "pygments_lexer": "ipython3",
   "version": "3.8.8"
  }
 },
 "nbformat": 4,
 "nbformat_minor": 5
}
